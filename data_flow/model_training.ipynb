{
 "cells": [
  {
   "cell_type": "code",
   "execution_count": null,
   "id": "ff1cd210",
   "metadata": {},
   "outputs": [],
   "source": [
    "import os, random\n",
    "import numpy as np\n",
    "import torch\n",
    "from transformers import set_seed as hf_set_seed\n",
    "\n",
    "SEED = 42\n",
    "# стабильные словари/хеши Python\n",
    "os.environ[\"PYTHONHASHSEED\"] = str(SEED)\n",
    "\n",
    "# детерминизм в линейной алгебре (PyTorch>=1.8/2.x)\n",
    "os.environ[\"CUBLAS_WORKSPACE_CONFIG\"] = \":16:8\"   # или \":4096:8\" на некоторых GPU\n",
    "\n",
    "# отключаем подбор «самого быстрого» алгоритма cuDNN (он недетерминирует)\n",
    "torch.backends.cudnn.benchmark = False\n",
    "\n",
    "# включаем строго детерминированные алгоритмы (может замедлить обучение)\n",
    "try:\n",
    "    torch.use_deterministic_algorithms(True)\n",
    "except Exception:\n",
    "    # для старых версий PyTorch\n",
    "    torch.backends.cudnn.deterministic = True\n",
    "\n",
    "# сидим всё подряд\n",
    "random.seed(SEED)\n",
    "np.random.seed(SEED)\n",
    "torch.manual_seed(SEED)\n",
    "torch.cuda.manual_seed_all(SEED)\n",
    "hf_set_seed(SEED)  # сидит random/numpy/torch; есть флаг deterministic у новых версий\n"
   ]
  },
  {
   "cell_type": "code",
   "execution_count": null,
   "id": "cebaef7b",
   "metadata": {},
   "outputs": [],
   "source": [
    "from deeppavlov import train_model, build_model \n",
    "from deeppavlov.core.commands.utils import parse_config\n",
    "\n",
    "PROJECT_DIR = '..'\n",
    "MODEL_NAME = 'model'\n",
    "\n",
    "model_config = parse_config('ner_collection3_bert')\n",
    "\n",
    "# dataset that the model was trained on\n",
    "print(model_config['dataset_reader']['data_path'])\n",
    "\n",
    "model_config['dataset_reader']['data_path'] = PROJECT_DIR + '/datasets/conll/'\n",
    "\n",
    "del model_config['metadata']['download']\n",
    "\n",
    "model_config['dataset_reader']['iobes'] = False\n",
    "model_config['metadata']['variables']['MODEL_PATH'] = PROJECT_DIR + '/models/' + MODEL_NAME\n",
    "\n",
    "model_config['chainer']['pipe'][0]['max_seq_length'] = 128\n",
    "model_config['chainer']['pipe'][0]['max_subword_length'] = 20\n",
    "\n",
    "\n",
    "model_config['chainer']['pipe'][1]['save_path'] = PROJECT_DIR + '/models/tag.dict'\n",
    "model_config['chainer']['pipe'][1]['load_path'] = PROJECT_DIR + '/models/tag.dict'\n",
    "\n",
    "model_config['chainer']['pipe'][2]['save_path'] = PROJECT_DIR + '/models/' + MODEL_NAME\n",
    "model_config['chainer']['pipe'][2]['load_path'] = PROJECT_DIR + '/models/' + MODEL_NAME\n",
    "model_config['chainer']['pipe'][2]['learning_rate_drop_patience'] = 25\n",
    "\n",
    "\n",
    "\n",
    "model_config['dataset_iterator'] = {\n",
    "  \"class_name\": \"data_learning_iterator\",\n",
    "  \"seed\": SEED,\n",
    "  \"shuffle\": True\n",
    "}\n",
    "\n",
    "model_config['train']['batch_size'] = 550\n",
    "\n",
    "model_config['train']['log_every_n_batches'] = 10\n",
    "model_config['train']['val_every_n_batches'] = 10\n"
   ]
  },
  {
   "cell_type": "code",
   "execution_count": null,
   "id": "9f1a155a",
   "metadata": {},
   "outputs": [],
   "source": [
    "model_config"
   ]
  },
  {
   "cell_type": "code",
   "execution_count": null,
   "id": "ecd27e03",
   "metadata": {},
   "outputs": [],
   "source": [
    "\n",
    "ner_model = train_model(model_config, download=True)"
   ]
  }
 ],
 "metadata": {
  "kernelspec": {
   "display_name": "dp310",
   "language": "python",
   "name": "python3"
  },
  "language_info": {
   "codemirror_mode": {
    "name": "ipython",
    "version": 3
   },
   "file_extension": ".py",
   "mimetype": "text/x-python",
   "name": "python",
   "nbconvert_exporter": "python",
   "pygments_lexer": "ipython3",
   "version": "3.10.18"
  }
 },
 "nbformat": 4,
 "nbformat_minor": 5
}
