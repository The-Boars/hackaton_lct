{
 "cells": [
  {
   "cell_type": "code",
   "execution_count": 4,
   "id": "57024b6b",
   "metadata": {},
   "outputs": [
    {
     "name": "stderr",
     "output_type": "stream",
     "text": [
      "2025-09-23 17:21:53.233 INFO in 'deeppavlov.core.data.utils'['utils'] at line 97: Downloading from http://files.deeppavlov.ai/v1/ner/ner_rus_bert_coll3_torch.tar.gz to C:\\Users\\lexan\\.deeppavlov\\models\\ner_rus_bert_coll3_torch.tar.gz\n",
      "100%|██████████| 1.44G/1.44G [02:20<00:00, 10.2MB/s]\n",
      "2025-09-23 17:24:14.675 INFO in 'deeppavlov.core.data.utils'['utils'] at line 284: Extracting C:\\Users\\lexan\\.deeppavlov\\models\\ner_rus_bert_coll3_torch.tar.gz archive into C:\\Users\\lexan\\.deeppavlov\\models\\ner_rus_bert_coll3_torch\n",
      "c:\\Users\\lexan\\miniconda3\\envs\\dp310\\lib\\site-packages\\huggingface_hub\\file_download.py:945: FutureWarning: `resume_download` is deprecated and will be removed in version 1.0.0. Downloads always resume when possible. If you want to force a new download, use `force_download=True`.\n",
      "  warnings.warn(\n",
      "Some weights of the model checkpoint at DeepPavlov/rubert-base-cased were not used when initializing BertForTokenClassification: ['cls.predictions.decoder.weight', 'cls.seq_relationship.weight', 'cls.predictions.transform.LayerNorm.bias', 'cls.predictions.transform.dense.weight', 'cls.predictions.decoder.bias', 'cls.seq_relationship.bias', 'cls.predictions.transform.dense.bias', 'cls.predictions.bias', 'cls.predictions.transform.LayerNorm.weight']\n",
      "- This IS expected if you are initializing BertForTokenClassification from the checkpoint of a model trained on another task or with another architecture (e.g. initializing a BertForSequenceClassification model from a BertForPreTraining model).\n",
      "- This IS NOT expected if you are initializing BertForTokenClassification from the checkpoint of a model that you expect to be exactly identical (initializing a BertForSequenceClassification model from a BertForSequenceClassification model).\n",
      "Some weights of BertForTokenClassification were not initialized from the model checkpoint at DeepPavlov/rubert-base-cased and are newly initialized: ['classifier.weight', 'classifier.bias']\n",
      "You should probably TRAIN this model on a down-stream task to be able to use it for predictions and inference.\n"
     ]
    }
   ],
   "source": [
    "from deeppavlov import build_model\n",
    "\n",
    "ner_model = build_model('ner_collection3_bert', download=True, install=True)\n"
   ]
  },
  {
   "cell_type": "code",
   "execution_count": 1,
   "id": "cebaef7b",
   "metadata": {},
   "outputs": [
    {
     "name": "stdout",
     "output_type": "stream",
     "text": [
      "~/.deeppavlov/downloads/collection3/\n"
     ]
    }
   ],
   "source": [
    "from deeppavlov import train_model, build_model \n",
    "from deeppavlov.core.commands.utils import parse_config\n",
    "\n",
    "PROJECT_DIR = '..'\n",
    "MODEL_NAME = 'model-ofd'\n",
    "\n",
    "model_config = parse_config('ner_collection3_bert')\n",
    "\n",
    "# dataset that the model was trained on\n",
    "print(model_config['dataset_reader']['data_path'])\n",
    "\n",
    "model_config['dataset_reader']['data_path'] = PROJECT_DIR + '/datasets/conll/'\n",
    "\n",
    "del model_config['metadata']['download']\n",
    "\n",
    "model_config['metadata']['variables']['MODEL_PATH'] = PROJECT_DIR + '/models/' + MODEL_NAME\n",
    "\n",
    "model_config['chainer']['pipe'][1]['save_path'] = PROJECT_DIR + '/models/tag.dict'\n",
    "model_config['chainer']['pipe'][1]['load_path'] = PROJECT_DIR + '/models/tag.dict'\n",
    "\n",
    "model_config['chainer']['pipe'][2]['save_path'] = PROJECT_DIR + '/models/' + MODEL_NAME\n",
    "model_config['chainer']['pipe'][2]['load_path'] = PROJECT_DIR + '/models/' + MODEL_NAME\n",
    "\n",
    "model_config['train']['batch_size'] = 400\n",
    "\n",
    "model_config['train']['log_every_n_batches'] = 10\n",
    "model_config['train']['val_every_n_batches'] = 10\n",
    "\n"
   ]
  },
  {
   "cell_type": "code",
   "execution_count": 2,
   "id": "ecd27e03",
   "metadata": {},
   "outputs": [
    {
     "name": "stderr",
     "output_type": "stream",
     "text": [
      "2025-09-27 15:48:21.871 WARNING in 'deeppavlov.core.trainers.fit_trainer'['fit_trainer'] at line 66: TorchTrainer got additional init parameters ['pytest_max_batches', 'pytest_batch_size'] that will be ignored:\n",
      "c:\\Users\\lexan\\miniconda3\\envs\\dp310\\lib\\site-packages\\tqdm\\auto.py:22: TqdmWarning: IProgress not found. Please update jupyter and ipywidgets. See https://ipywidgets.readthedocs.io/en/stable/user_install.html\n",
      "  from .autonotebook import tqdm as notebook_tqdm\n",
      "c:\\Users\\lexan\\miniconda3\\envs\\dp310\\lib\\site-packages\\huggingface_hub\\file_download.py:945: FutureWarning: `resume_download` is deprecated and will be removed in version 1.0.0. Downloads always resume when possible. If you want to force a new download, use `force_download=True`.\n",
      "  warnings.warn(\n",
      "2025-09-27 15:48:42.192 INFO in 'deeppavlov.core.data.simple_vocab'['simple_vocab'] at line 104: [saving vocabulary to C:\\Users\\lexan\\OneDrive\\Documents\\hackaton_lct\\models\\tag.dict]\n",
      "Some weights of the model checkpoint at DeepPavlov/rubert-base-cased were not used when initializing BertForTokenClassification: ['cls.predictions.bias', 'cls.predictions.transform.LayerNorm.weight', 'cls.predictions.decoder.weight', 'cls.predictions.transform.dense.bias', 'cls.seq_relationship.bias', 'cls.predictions.decoder.bias', 'cls.predictions.transform.dense.weight', 'cls.seq_relationship.weight', 'cls.predictions.transform.LayerNorm.bias']\n",
      "- This IS expected if you are initializing BertForTokenClassification from the checkpoint of a model trained on another task or with another architecture (e.g. initializing a BertForSequenceClassification model from a BertForPreTraining model).\n",
      "- This IS NOT expected if you are initializing BertForTokenClassification from the checkpoint of a model that you expect to be exactly identical (initializing a BertForSequenceClassification model from a BertForSequenceClassification model).\n",
      "Some weights of BertForTokenClassification were not initialized from the model checkpoint at DeepPavlov/rubert-base-cased and are newly initialized: ['classifier.weight', 'classifier.bias']\n",
      "You should probably TRAIN this model on a down-stream task to be able to use it for predictions and inference.\n",
      "58it [00:04, 11.61it/s]\n",
      "2025-09-27 15:48:50.184 INFO in 'deeppavlov.core.trainers.nn_trainer'['nn_trainer'] at line 198: Initial best ner_f1 of 75.48\n"
     ]
    },
    {
     "name": "stdout",
     "output_type": "stream",
     "text": [
      "{\"valid\": {\"eval_examples_count\": 23152, \"metrics\": {\"ner_f1\": 75.48, \"ner_token_f1\": 82.2342}, \"time_spent\": \"0:00:06\", \"epochs_done\": 0, \"batches_seen\": 0, \"train_examples_seen\": 0, \"impatience\": 0, \"patience_limit\": 100}}\n"
     ]
    },
    {
     "name": "stderr",
     "output_type": "stream",
     "text": [
      "1it [00:00,  5.27it/s]"
     ]
    },
    {
     "name": "stdout",
     "output_type": "stream",
     "text": [
      "{\"train\": {\"eval_examples_count\": 400, \"metrics\": {\"ner_f1\": 95.2715, \"ner_token_f1\": 97.6494}, \"time_spent\": \"0:00:09\", \"epochs_done\": 0, \"batches_seen\": 10, \"train_examples_seen\": 4000, \"loss\": 0.0639301847666502}}\n"
     ]
    },
    {
     "name": "stderr",
     "output_type": "stream",
     "text": [
      "\n",
      "58it [00:04, 11.69it/s]\n",
      "2025-09-27 15:48:58.600 INFO in 'deeppavlov.core.trainers.nn_trainer'['nn_trainer'] at line 206: Improved best ner_f1 from 75.48 to 75.5157\n",
      "2025-09-27 15:48:58.601 INFO in 'deeppavlov.core.trainers.nn_trainer'['nn_trainer'] at line 208: Saving model\n",
      "2025-09-27 15:48:58.601 INFO in 'deeppavlov.core.models.torch_model'['torch_model'] at line 175: Saving model to C:\\Users\\lexan\\OneDrive\\Documents\\hackaton_lct\\models\\model-ofd.pth.tar.\n"
     ]
    },
    {
     "name": "stdout",
     "output_type": "stream",
     "text": [
      "{\"valid\": {\"eval_examples_count\": 23152, \"metrics\": {\"ner_f1\": 75.5157, \"ner_token_f1\": 82.2342}, \"time_spent\": \"0:00:14\", \"epochs_done\": 0, \"batches_seen\": 10, \"train_examples_seen\": 4000, \"impatience\": 0, \"patience_limit\": 100}}\n"
     ]
    },
    {
     "name": "stderr",
     "output_type": "stream",
     "text": [
      "1it [00:00,  4.92it/s]]"
     ]
    },
    {
     "name": "stdout",
     "output_type": "stream",
     "text": [
      "{\"train\": {\"eval_examples_count\": 400, \"metrics\": {\"ner_f1\": 95.3028, \"ner_token_f1\": 97.7906}, \"time_spent\": \"0:00:20\", \"epochs_done\": 0, \"batches_seen\": 20, \"train_examples_seen\": 8000, \"loss\": 0.06462337635457516}}\n"
     ]
    },
    {
     "name": "stderr",
     "output_type": "stream",
     "text": [
      "\n",
      "58it [00:04, 11.85it/s]\n",
      "2025-09-27 15:49:09.499 INFO in 'deeppavlov.core.trainers.nn_trainer'['nn_trainer'] at line 211: Did not improve on the ner_f1 of 75.5157\n"
     ]
    },
    {
     "name": "stdout",
     "output_type": "stream",
     "text": [
      "{\"valid\": {\"eval_examples_count\": 23152, \"metrics\": {\"ner_f1\": 74.5786, \"ner_token_f1\": 81.3724}, \"time_spent\": \"0:00:25\", \"epochs_done\": 0, \"batches_seen\": 20, \"train_examples_seen\": 8000, \"impatience\": 1, \"patience_limit\": 100}}\n"
     ]
    },
    {
     "name": "stderr",
     "output_type": "stream",
     "text": [
      "1it [00:00,  4.81it/s]]"
     ]
    },
    {
     "name": "stdout",
     "output_type": "stream",
     "text": [
      "{\"train\": {\"eval_examples_count\": 400, \"metrics\": {\"ner_f1\": 96.0907, \"ner_token_f1\": 98.4096}, \"time_spent\": \"0:00:28\", \"epochs_done\": 0, \"batches_seen\": 30, \"train_examples_seen\": 12000, \"loss\": 0.06380941495299339}}\n"
     ]
    },
    {
     "name": "stderr",
     "output_type": "stream",
     "text": [
      "\n",
      "58it [00:05, 11.42it/s]\n",
      "2025-09-27 15:49:17.897 INFO in 'deeppavlov.core.trainers.nn_trainer'['nn_trainer'] at line 211: Did not improve on the ner_f1 of 75.5157\n"
     ]
    },
    {
     "name": "stdout",
     "output_type": "stream",
     "text": [
      "{\"valid\": {\"eval_examples_count\": 23152, \"metrics\": {\"ner_f1\": 74.4631, \"ner_token_f1\": 80.6989}, \"time_spent\": \"0:00:33\", \"epochs_done\": 0, \"batches_seen\": 30, \"train_examples_seen\": 12000, \"impatience\": 2, \"patience_limit\": 100}}\n"
     ]
    },
    {
     "name": "stderr",
     "output_type": "stream",
     "text": [
      "1it [00:00,  4.23it/s]]"
     ]
    },
    {
     "name": "stdout",
     "output_type": "stream",
     "text": [
      "{\"train\": {\"eval_examples_count\": 400, \"metrics\": {\"ner_f1\": 97.0774, \"ner_token_f1\": 98.8247}, \"time_spent\": \"0:00:36\", \"epochs_done\": 0, \"batches_seen\": 40, \"train_examples_seen\": 16000, \"loss\": 0.06406673491001129}}\n"
     ]
    },
    {
     "name": "stderr",
     "output_type": "stream",
     "text": [
      "\n",
      "58it [00:05, 11.28it/s]\n",
      "2025-09-27 15:49:26.354 INFO in 'deeppavlov.core.trainers.nn_trainer'['nn_trainer'] at line 206: Improved best ner_f1 from 75.5157 to 76.0479\n",
      "2025-09-27 15:49:26.355 INFO in 'deeppavlov.core.trainers.nn_trainer'['nn_trainer'] at line 208: Saving model\n",
      "2025-09-27 15:49:26.356 INFO in 'deeppavlov.core.models.torch_model'['torch_model'] at line 175: Saving model to C:\\Users\\lexan\\OneDrive\\Documents\\hackaton_lct\\models\\model-ofd.pth.tar.\n"
     ]
    },
    {
     "name": "stdout",
     "output_type": "stream",
     "text": [
      "{\"valid\": {\"eval_examples_count\": 23152, \"metrics\": {\"ner_f1\": 76.0479, \"ner_token_f1\": 82.4196}, \"time_spent\": \"0:00:42\", \"epochs_done\": 0, \"batches_seen\": 40, \"train_examples_seen\": 16000, \"impatience\": 0, \"patience_limit\": 100}}\n"
     ]
    },
    {
     "name": "stderr",
     "output_type": "stream",
     "text": [
      "1it [00:00,  5.13it/s]]"
     ]
    },
    {
     "name": "stdout",
     "output_type": "stream",
     "text": [
      "{\"train\": {\"eval_examples_count\": 400, \"metrics\": {\"ner_f1\": 97.6244, \"ner_token_f1\": 98.7305}, \"time_spent\": \"0:00:48\", \"epochs_done\": 0, \"batches_seen\": 50, \"train_examples_seen\": 20000, \"loss\": 0.05746309347450733}}\n"
     ]
    },
    {
     "name": "stderr",
     "output_type": "stream",
     "text": [
      "\n",
      "58it [00:05, 11.26it/s]\n",
      "2025-09-27 15:49:37.522 INFO in 'deeppavlov.core.trainers.nn_trainer'['nn_trainer'] at line 211: Did not improve on the ner_f1 of 76.0479\n"
     ]
    },
    {
     "name": "stdout",
     "output_type": "stream",
     "text": [
      "{\"valid\": {\"eval_examples_count\": 23152, \"metrics\": {\"ner_f1\": 75.5966, \"ner_token_f1\": 82.5372}, \"time_spent\": \"0:00:53\", \"epochs_done\": 0, \"batches_seen\": 50, \"train_examples_seen\": 20000, \"impatience\": 1, \"patience_limit\": 100}}\n"
     ]
    },
    {
     "name": "stderr",
     "output_type": "stream",
     "text": [
      "1it [00:00,  5.11it/s]]"
     ]
    },
    {
     "name": "stdout",
     "output_type": "stream",
     "text": [
      "{\"train\": {\"eval_examples_count\": 400, \"metrics\": {\"ner_f1\": 96.4841, \"ner_token_f1\": 98.0431}, \"time_spent\": \"0:00:56\", \"epochs_done\": 0, \"batches_seen\": 60, \"train_examples_seen\": 24000, \"loss\": 0.054657431319355965}}\n"
     ]
    },
    {
     "name": "stderr",
     "output_type": "stream",
     "text": [
      "\n",
      "58it [00:04, 12.31it/s]\n",
      "2025-09-27 15:49:45.512 INFO in 'deeppavlov.core.trainers.nn_trainer'['nn_trainer'] at line 206: Improved best ner_f1 from 76.0479 to 76.6235\n",
      "2025-09-27 15:49:45.513 INFO in 'deeppavlov.core.trainers.nn_trainer'['nn_trainer'] at line 208: Saving model\n",
      "2025-09-27 15:49:45.514 INFO in 'deeppavlov.core.models.torch_model'['torch_model'] at line 175: Saving model to C:\\Users\\lexan\\OneDrive\\Documents\\hackaton_lct\\models\\model-ofd.pth.tar.\n"
     ]
    },
    {
     "name": "stdout",
     "output_type": "stream",
     "text": [
      "{\"valid\": {\"eval_examples_count\": 23152, \"metrics\": {\"ner_f1\": 76.6235, \"ner_token_f1\": 82.8931}, \"time_spent\": \"0:01:01\", \"epochs_done\": 0, \"batches_seen\": 60, \"train_examples_seen\": 24000, \"impatience\": 0, \"patience_limit\": 100}}\n"
     ]
    },
    {
     "name": "stderr",
     "output_type": "stream",
     "text": [
      "1it [00:00,  5.09it/s]]"
     ]
    },
    {
     "name": "stdout",
     "output_type": "stream",
     "text": [
      "{\"train\": {\"eval_examples_count\": 400, \"metrics\": {\"ner_f1\": 97.1397, \"ner_token_f1\": 98.6538}, \"time_spent\": \"0:01:07\", \"epochs_done\": 0, \"batches_seen\": 70, \"train_examples_seen\": 28000, \"loss\": 0.060457616299390796}}\n"
     ]
    },
    {
     "name": "stderr",
     "output_type": "stream",
     "text": [
      "\n",
      "58it [00:04, 12.46it/s]\n",
      "2025-09-27 15:49:56.189 INFO in 'deeppavlov.core.trainers.nn_trainer'['nn_trainer'] at line 211: Did not improve on the ner_f1 of 76.6235\n"
     ]
    },
    {
     "name": "stdout",
     "output_type": "stream",
     "text": [
      "{\"valid\": {\"eval_examples_count\": 23152, \"metrics\": {\"ner_f1\": 75.0376, \"ner_token_f1\": 82.2137}, \"time_spent\": \"0:01:12\", \"epochs_done\": 0, \"batches_seen\": 70, \"train_examples_seen\": 28000, \"impatience\": 1, \"patience_limit\": 100}}\n"
     ]
    },
    {
     "name": "stderr",
     "output_type": "stream",
     "text": [
      "1it [00:00,  4.80it/s]]"
     ]
    },
    {
     "name": "stdout",
     "output_type": "stream",
     "text": [
      "{\"train\": {\"eval_examples_count\": 400, \"metrics\": {\"ner_f1\": 97.6531, \"ner_token_f1\": 98.9721}, \"time_spent\": \"0:01:15\", \"epochs_done\": 0, \"batches_seen\": 80, \"train_examples_seen\": 32000, \"loss\": 0.05833469144999981}}\n"
     ]
    },
    {
     "name": "stderr",
     "output_type": "stream",
     "text": [
      "\n",
      "58it [00:04, 12.38it/s]\n",
      "2025-09-27 15:50:04.58 INFO in 'deeppavlov.core.trainers.nn_trainer'['nn_trainer'] at line 211: Did not improve on the ner_f1 of 76.6235\n"
     ]
    },
    {
     "name": "stdout",
     "output_type": "stream",
     "text": [
      "{\"valid\": {\"eval_examples_count\": 23152, \"metrics\": {\"ner_f1\": 75.1966, \"ner_token_f1\": 81.7872}, \"time_spent\": \"0:01:20\", \"epochs_done\": 0, \"batches_seen\": 80, \"train_examples_seen\": 32000, \"impatience\": 2, \"patience_limit\": 100}}\n"
     ]
    },
    {
     "name": "stderr",
     "output_type": "stream",
     "text": [
      "1it [00:00,  4.87it/s]]"
     ]
    },
    {
     "name": "stdout",
     "output_type": "stream",
     "text": [
      "{\"train\": {\"eval_examples_count\": 400, \"metrics\": {\"ner_f1\": 97.7159, \"ner_token_f1\": 98.7452}, \"time_spent\": \"0:01:23\", \"epochs_done\": 0, \"batches_seen\": 90, \"train_examples_seen\": 36000, \"loss\": 0.05643269307911396}}\n"
     ]
    },
    {
     "name": "stderr",
     "output_type": "stream",
     "text": [
      "\n",
      "58it [00:05, 10.90it/s]\n",
      "2025-09-27 15:50:12.544 INFO in 'deeppavlov.core.trainers.nn_trainer'['nn_trainer'] at line 211: Did not improve on the ner_f1 of 76.6235\n"
     ]
    },
    {
     "name": "stdout",
     "output_type": "stream",
     "text": [
      "{\"valid\": {\"eval_examples_count\": 23152, \"metrics\": {\"ner_f1\": 76.1458, \"ner_token_f1\": 82.4843}, \"time_spent\": \"0:01:28\", \"epochs_done\": 0, \"batches_seen\": 90, \"train_examples_seen\": 36000, \"impatience\": 3, \"patience_limit\": 100}}\n"
     ]
    },
    {
     "name": "stderr",
     "output_type": "stream",
     "text": [
      "1it [00:00,  4.94it/s]]"
     ]
    },
    {
     "name": "stdout",
     "output_type": "stream",
     "text": [
      "{\"train\": {\"eval_examples_count\": 400, \"metrics\": {\"ner_f1\": 97.3004, \"ner_token_f1\": 98.503}, \"time_spent\": \"0:01:31\", \"epochs_done\": 0, \"batches_seen\": 100, \"train_examples_seen\": 40000, \"loss\": 0.05297231487929821}}\n"
     ]
    },
    {
     "name": "stderr",
     "output_type": "stream",
     "text": [
      "\n",
      "58it [00:04, 12.38it/s]\n",
      "2025-09-27 15:50:20.502 INFO in 'deeppavlov.core.trainers.nn_trainer'['nn_trainer'] at line 206: Improved best ner_f1 from 76.6235 to 77.7938\n",
      "2025-09-27 15:50:20.503 INFO in 'deeppavlov.core.trainers.nn_trainer'['nn_trainer'] at line 208: Saving model\n",
      "2025-09-27 15:50:20.503 INFO in 'deeppavlov.core.models.torch_model'['torch_model'] at line 175: Saving model to C:\\Users\\lexan\\OneDrive\\Documents\\hackaton_lct\\models\\model-ofd.pth.tar.\n"
     ]
    },
    {
     "name": "stdout",
     "output_type": "stream",
     "text": [
      "{\"valid\": {\"eval_examples_count\": 23152, \"metrics\": {\"ner_f1\": 77.7938, \"ner_token_f1\": 83.9314}, \"time_spent\": \"0:01:36\", \"epochs_done\": 0, \"batches_seen\": 100, \"train_examples_seen\": 40000, \"impatience\": 0, \"patience_limit\": 100}}\n"
     ]
    },
    {
     "name": "stderr",
     "output_type": "stream",
     "text": [
      "1it [00:00,  5.05it/s]s]"
     ]
    },
    {
     "name": "stdout",
     "output_type": "stream",
     "text": [
      "{\"train\": {\"eval_examples_count\": 400, \"metrics\": {\"ner_f1\": 96.7595, \"ner_token_f1\": 98.0732}, \"time_spent\": \"0:01:41\", \"epochs_done\": 0, \"batches_seen\": 110, \"train_examples_seen\": 44000, \"loss\": 0.05254651866853237}}\n"
     ]
    },
    {
     "name": "stderr",
     "output_type": "stream",
     "text": [
      "\n",
      "58it [00:04, 12.64it/s]\n",
      "2025-09-27 15:50:30.682 INFO in 'deeppavlov.core.trainers.nn_trainer'['nn_trainer'] at line 211: Did not improve on the ner_f1 of 77.7938\n"
     ]
    },
    {
     "name": "stdout",
     "output_type": "stream",
     "text": [
      "{\"valid\": {\"eval_examples_count\": 23152, \"metrics\": {\"ner_f1\": 74.8656, \"ner_token_f1\": 82.5343}, \"time_spent\": \"0:01:46\", \"epochs_done\": 0, \"batches_seen\": 110, \"train_examples_seen\": 44000, \"impatience\": 1, \"patience_limit\": 100}}\n"
     ]
    },
    {
     "name": "stderr",
     "output_type": "stream",
     "text": [
      "1it [00:00,  4.93it/s]s]"
     ]
    },
    {
     "name": "stdout",
     "output_type": "stream",
     "text": [
      "{\"train\": {\"eval_examples_count\": 400, \"metrics\": {\"ner_f1\": 98.434, \"ner_token_f1\": 98.756}, \"time_spent\": \"0:01:49\", \"epochs_done\": 0, \"batches_seen\": 120, \"train_examples_seen\": 48000, \"loss\": 0.047404028475284576}}\n"
     ]
    },
    {
     "name": "stderr",
     "output_type": "stream",
     "text": [
      "\n",
      "58it [00:05, 11.53it/s]\n",
      "2025-09-27 15:50:38.815 INFO in 'deeppavlov.core.trainers.nn_trainer'['nn_trainer'] at line 211: Did not improve on the ner_f1 of 77.7938\n"
     ]
    },
    {
     "name": "stdout",
     "output_type": "stream",
     "text": [
      "{\"valid\": {\"eval_examples_count\": 23152, \"metrics\": {\"ner_f1\": 75.6063, \"ner_token_f1\": 82.0078}, \"time_spent\": \"0:01:54\", \"epochs_done\": 0, \"batches_seen\": 120, \"train_examples_seen\": 48000, \"impatience\": 2, \"patience_limit\": 100}}\n"
     ]
    },
    {
     "name": "stderr",
     "output_type": "stream",
     "text": [
      "1it [00:00,  4.50it/s]s]"
     ]
    },
    {
     "name": "stdout",
     "output_type": "stream",
     "text": [
      "{\"train\": {\"eval_examples_count\": 400, \"metrics\": {\"ner_f1\": 97.2641, \"ner_token_f1\": 98.756}, \"time_spent\": \"0:01:57\", \"epochs_done\": 0, \"batches_seen\": 130, \"train_examples_seen\": 52000, \"loss\": 0.054502949491143225}}\n"
     ]
    },
    {
     "name": "stderr",
     "output_type": "stream",
     "text": [
      "\n",
      "58it [00:04, 12.13it/s]\n",
      "2025-09-27 15:50:46.759 INFO in 'deeppavlov.core.trainers.nn_trainer'['nn_trainer'] at line 211: Did not improve on the ner_f1 of 77.7938\n"
     ]
    },
    {
     "name": "stdout",
     "output_type": "stream",
     "text": [
      "{\"valid\": {\"eval_examples_count\": 23152, \"metrics\": {\"ner_f1\": 77.1577, \"ner_token_f1\": 83.3314}, \"time_spent\": \"0:02:02\", \"epochs_done\": 0, \"batches_seen\": 130, \"train_examples_seen\": 52000, \"impatience\": 3, \"patience_limit\": 100}}\n"
     ]
    },
    {
     "name": "stderr",
     "output_type": "stream",
     "text": [
      "1it [00:00,  4.91it/s]s]"
     ]
    },
    {
     "name": "stdout",
     "output_type": "stream",
     "text": [
      "{\"train\": {\"eval_examples_count\": 400, \"metrics\": {\"ner_f1\": 98.861, \"ner_token_f1\": 99.6128}, \"time_spent\": \"0:02:05\", \"epochs_done\": 0, \"batches_seen\": 140, \"train_examples_seen\": 56000, \"loss\": 0.060173175111413}}\n"
     ]
    },
    {
     "name": "stderr",
     "output_type": "stream",
     "text": [
      "\n",
      "58it [00:04, 12.54it/s]\n",
      "2025-09-27 15:50:54.501 INFO in 'deeppavlov.core.trainers.nn_trainer'['nn_trainer'] at line 211: Did not improve on the ner_f1 of 77.7938\n"
     ]
    },
    {
     "name": "stdout",
     "output_type": "stream",
     "text": [
      "{\"valid\": {\"eval_examples_count\": 23152, \"metrics\": {\"ner_f1\": 75.993, \"ner_token_f1\": 82.0931}, \"time_spent\": \"0:02:10\", \"epochs_done\": 0, \"batches_seen\": 140, \"train_examples_seen\": 56000, \"impatience\": 4, \"patience_limit\": 100}}\n"
     ]
    },
    {
     "name": "stderr",
     "output_type": "stream",
     "text": [
      "1it [00:00,  4.75it/s]s]"
     ]
    },
    {
     "name": "stdout",
     "output_type": "stream",
     "text": [
      "{\"train\": {\"eval_examples_count\": 400, \"metrics\": {\"ner_f1\": 98.0813, \"ner_token_f1\": 98.9247}, \"time_spent\": \"0:02:13\", \"epochs_done\": 0, \"batches_seen\": 150, \"train_examples_seen\": 60000, \"loss\": 0.04736663475632667}}\n"
     ]
    },
    {
     "name": "stderr",
     "output_type": "stream",
     "text": [
      "\n",
      "58it [00:04, 12.45it/s]\n",
      "2025-09-27 15:51:02.412 INFO in 'deeppavlov.core.trainers.nn_trainer'['nn_trainer'] at line 211: Did not improve on the ner_f1 of 77.7938\n"
     ]
    },
    {
     "name": "stdout",
     "output_type": "stream",
     "text": [
      "{\"valid\": {\"eval_examples_count\": 23152, \"metrics\": {\"ner_f1\": 76.8208, \"ner_token_f1\": 83.249}, \"time_spent\": \"0:02:18\", \"epochs_done\": 0, \"batches_seen\": 150, \"train_examples_seen\": 60000, \"impatience\": 5, \"patience_limit\": 100}}\n"
     ]
    },
    {
     "name": "stderr",
     "output_type": "stream",
     "text": [
      "1it [00:00,  5.82it/s]s]"
     ]
    },
    {
     "name": "stdout",
     "output_type": "stream",
     "text": [
      "{\"train\": {\"eval_examples_count\": 400, \"metrics\": {\"ner_f1\": 98.5092, \"ner_token_f1\": 99.3097}, \"time_spent\": \"0:02:21\", \"epochs_done\": 0, \"batches_seen\": 160, \"train_examples_seen\": 64000, \"loss\": 0.04843743816018105}}\n"
     ]
    },
    {
     "name": "stderr",
     "output_type": "stream",
     "text": [
      "\n",
      "58it [00:05, 11.55it/s]\n",
      "2025-09-27 15:51:10.576 INFO in 'deeppavlov.core.trainers.nn_trainer'['nn_trainer'] at line 211: Did not improve on the ner_f1 of 77.7938\n"
     ]
    },
    {
     "name": "stdout",
     "output_type": "stream",
     "text": [
      "{\"valid\": {\"eval_examples_count\": 23152, \"metrics\": {\"ner_f1\": 76.1096, \"ner_token_f1\": 82.8637}, \"time_spent\": \"0:02:26\", \"epochs_done\": 0, \"batches_seen\": 160, \"train_examples_seen\": 64000, \"impatience\": 6, \"patience_limit\": 100}}\n"
     ]
    },
    {
     "name": "stderr",
     "output_type": "stream",
     "text": [
      "1it [00:00,  4.95it/s]s]"
     ]
    },
    {
     "name": "stdout",
     "output_type": "stream",
     "text": [
      "{\"train\": {\"eval_examples_count\": 400, \"metrics\": {\"ner_f1\": 97.1526, \"ner_token_f1\": 98.5741}, \"time_spent\": \"0:02:29\", \"epochs_done\": 0, \"batches_seen\": 170, \"train_examples_seen\": 68000, \"loss\": 0.05413288585841656}}\n"
     ]
    },
    {
     "name": "stderr",
     "output_type": "stream",
     "text": [
      "\n",
      "58it [00:04, 11.95it/s]\n",
      "2025-09-27 15:51:18.595 INFO in 'deeppavlov.core.trainers.nn_trainer'['nn_trainer'] at line 211: Did not improve on the ner_f1 of 77.7938\n"
     ]
    },
    {
     "name": "stdout",
     "output_type": "stream",
     "text": [
      "{\"valid\": {\"eval_examples_count\": 23152, \"metrics\": {\"ner_f1\": 77.1933, \"ner_token_f1\": 84.4814}, \"time_spent\": \"0:02:34\", \"epochs_done\": 0, \"batches_seen\": 170, \"train_examples_seen\": 68000, \"impatience\": 7, \"patience_limit\": 100}}\n"
     ]
    },
    {
     "name": "stderr",
     "output_type": "stream",
     "text": [
      "1it [00:00,  4.93it/s]s]"
     ]
    },
    {
     "name": "stdout",
     "output_type": "stream",
     "text": [
      "{\"train\": {\"eval_examples_count\": 400, \"metrics\": {\"ner_f1\": 98.5612, \"ner_token_f1\": 99.0161}, \"time_spent\": \"0:02:37\", \"epochs_done\": 0, \"batches_seen\": 180, \"train_examples_seen\": 72000, \"loss\": 0.056939851492643356}}\n"
     ]
    },
    {
     "name": "stderr",
     "output_type": "stream",
     "text": [
      "\n",
      "58it [00:04, 12.59it/s]\n",
      "2025-09-27 15:51:26.378 INFO in 'deeppavlov.core.trainers.nn_trainer'['nn_trainer'] at line 211: Did not improve on the ner_f1 of 77.7938\n"
     ]
    },
    {
     "name": "stdout",
     "output_type": "stream",
     "text": [
      "{\"valid\": {\"eval_examples_count\": 23152, \"metrics\": {\"ner_f1\": 76.102, \"ner_token_f1\": 81.8636}, \"time_spent\": \"0:02:42\", \"epochs_done\": 0, \"batches_seen\": 180, \"train_examples_seen\": 72000, \"impatience\": 8, \"patience_limit\": 100}}\n"
     ]
    },
    {
     "name": "stderr",
     "output_type": "stream",
     "text": [
      "1it [00:00,  5.32it/s]s]"
     ]
    },
    {
     "name": "stdout",
     "output_type": "stream",
     "text": [
      "{\"train\": {\"eval_examples_count\": 400, \"metrics\": {\"ner_f1\": 96.4972, \"ner_token_f1\": 98.0076}, \"time_spent\": \"0:02:45\", \"epochs_done\": 0, \"batches_seen\": 190, \"train_examples_seen\": 76000, \"loss\": 0.04756216779351234}}\n"
     ]
    },
    {
     "name": "stderr",
     "output_type": "stream",
     "text": [
      "\n",
      "58it [00:04, 12.59it/s]\n",
      "2025-09-27 15:51:34.70 INFO in 'deeppavlov.core.trainers.nn_trainer'['nn_trainer'] at line 211: Did not improve on the ner_f1 of 77.7938\n"
     ]
    },
    {
     "name": "stdout",
     "output_type": "stream",
     "text": [
      "{\"valid\": {\"eval_examples_count\": 23152, \"metrics\": {\"ner_f1\": 77.4115, \"ner_token_f1\": 82.7666}, \"time_spent\": \"0:02:50\", \"epochs_done\": 0, \"batches_seen\": 190, \"train_examples_seen\": 76000, \"impatience\": 9, \"patience_limit\": 100}}\n"
     ]
    },
    {
     "name": "stderr",
     "output_type": "stream",
     "text": [
      "1it [00:00,  5.08it/s]s]"
     ]
    },
    {
     "name": "stdout",
     "output_type": "stream",
     "text": [
      "{\"train\": {\"eval_examples_count\": 400, \"metrics\": {\"ner_f1\": 98.4392, \"ner_token_f1\": 98.7536}, \"time_spent\": \"0:02:53\", \"epochs_done\": 0, \"batches_seen\": 200, \"train_examples_seen\": 80000, \"loss\": 0.04840337485074997}}\n"
     ]
    },
    {
     "name": "stderr",
     "output_type": "stream",
     "text": [
      "\n",
      "58it [00:04, 11.65it/s]\n",
      "2025-09-27 15:51:42.228 INFO in 'deeppavlov.core.trainers.nn_trainer'['nn_trainer'] at line 211: Did not improve on the ner_f1 of 77.7938\n"
     ]
    },
    {
     "name": "stdout",
     "output_type": "stream",
     "text": [
      "{\"valid\": {\"eval_examples_count\": 23152, \"metrics\": {\"ner_f1\": 76.5292, \"ner_token_f1\": 81.5754}, \"time_spent\": \"0:02:58\", \"epochs_done\": 0, \"batches_seen\": 200, \"train_examples_seen\": 80000, \"impatience\": 10, \"patience_limit\": 100}}\n"
     ]
    },
    {
     "name": "stderr",
     "output_type": "stream",
     "text": [
      "1it [00:00,  5.19it/s]s]"
     ]
    },
    {
     "name": "stdout",
     "output_type": "stream",
     "text": [
      "{\"train\": {\"eval_examples_count\": 400, \"metrics\": {\"ner_f1\": 98.7104, \"ner_token_f1\": 99.1045}, \"time_spent\": \"0:03:01\", \"epochs_done\": 0, \"batches_seen\": 210, \"train_examples_seen\": 84000, \"loss\": 0.04482296630740166}}\n"
     ]
    },
    {
     "name": "stderr",
     "output_type": "stream",
     "text": [
      "\n",
      "58it [00:04, 12.31it/s]\n",
      "2025-09-27 15:51:50.133 INFO in 'deeppavlov.core.trainers.nn_trainer'['nn_trainer'] at line 211: Did not improve on the ner_f1 of 77.7938\n"
     ]
    },
    {
     "name": "stdout",
     "output_type": "stream",
     "text": [
      "{\"valid\": {\"eval_examples_count\": 23152, \"metrics\": {\"ner_f1\": 77.6549, \"ner_token_f1\": 83.3931}, \"time_spent\": \"0:03:06\", \"epochs_done\": 0, \"batches_seen\": 210, \"train_examples_seen\": 84000, \"impatience\": 11, \"patience_limit\": 100}}\n"
     ]
    },
    {
     "name": "stderr",
     "output_type": "stream",
     "text": [
      "1it [00:00,  5.13it/s]s]"
     ]
    },
    {
     "name": "stdout",
     "output_type": "stream",
     "text": [
      "{\"train\": {\"eval_examples_count\": 400, \"metrics\": {\"ner_f1\": 98.0011, \"ner_token_f1\": 98.8383}, \"time_spent\": \"0:03:09\", \"epochs_done\": 0, \"batches_seen\": 220, \"train_examples_seen\": 88000, \"loss\": 0.04337003640830517}}\n"
     ]
    },
    {
     "name": "stderr",
     "output_type": "stream",
     "text": [
      "\n",
      "58it [00:04, 12.63it/s]\n",
      "2025-09-27 15:51:57.964 INFO in 'deeppavlov.core.trainers.nn_trainer'['nn_trainer'] at line 211: Did not improve on the ner_f1 of 77.7938\n"
     ]
    },
    {
     "name": "stdout",
     "output_type": "stream",
     "text": [
      "{\"valid\": {\"eval_examples_count\": 23152, \"metrics\": {\"ner_f1\": 77.2726, \"ner_token_f1\": 83.0343}, \"time_spent\": \"0:03:13\", \"epochs_done\": 0, \"batches_seen\": 220, \"train_examples_seen\": 88000, \"impatience\": 12, \"patience_limit\": 100}}\n"
     ]
    },
    {
     "name": "stderr",
     "output_type": "stream",
     "text": [
      "1it [00:00,  5.29it/s]s]"
     ]
    },
    {
     "name": "stdout",
     "output_type": "stream",
     "text": [
      "{\"train\": {\"eval_examples_count\": 400, \"metrics\": {\"ner_f1\": 98.484, \"ner_token_f1\": 99.2771}, \"time_spent\": \"0:03:16\", \"epochs_done\": 0, \"batches_seen\": 230, \"train_examples_seen\": 92000, \"loss\": 0.047942675091326235}}\n"
     ]
    },
    {
     "name": "stderr",
     "output_type": "stream",
     "text": [
      "\n",
      "58it [00:05, 11.45it/s]\n",
      "2025-09-27 15:52:06.172 INFO in 'deeppavlov.core.trainers.nn_trainer'['nn_trainer'] at line 211: Did not improve on the ner_f1 of 77.7938\n"
     ]
    },
    {
     "name": "stdout",
     "output_type": "stream",
     "text": [
      "{\"valid\": {\"eval_examples_count\": 23152, \"metrics\": {\"ner_f1\": 76.1199, \"ner_token_f1\": 82.7019}, \"time_spent\": \"0:03:22\", \"epochs_done\": 0, \"batches_seen\": 230, \"train_examples_seen\": 92000, \"impatience\": 13, \"patience_limit\": 100}}\n"
     ]
    },
    {
     "name": "stderr",
     "output_type": "stream",
     "text": [
      "1it [00:00,  4.90it/s]s]"
     ]
    },
    {
     "name": "stdout",
     "output_type": "stream",
     "text": [
      "{\"train\": {\"eval_examples_count\": 400, \"metrics\": {\"ner_f1\": 98.2301, \"ner_token_f1\": 98.9544}, \"time_spent\": \"0:03:25\", \"epochs_done\": 0, \"batches_seen\": 240, \"train_examples_seen\": 96000, \"loss\": 0.04726894553750753}}\n"
     ]
    },
    {
     "name": "stderr",
     "output_type": "stream",
     "text": [
      "\n",
      "58it [00:04, 12.70it/s]\n",
      "2025-09-27 15:52:13.907 INFO in 'deeppavlov.core.trainers.nn_trainer'['nn_trainer'] at line 211: Did not improve on the ner_f1 of 77.7938\n"
     ]
    },
    {
     "name": "stdout",
     "output_type": "stream",
     "text": [
      "{\"valid\": {\"eval_examples_count\": 23152, \"metrics\": {\"ner_f1\": 76.1394, \"ner_token_f1\": 82.2931}, \"time_spent\": \"0:03:29\", \"epochs_done\": 0, \"batches_seen\": 240, \"train_examples_seen\": 96000, \"impatience\": 14, \"patience_limit\": 100}}\n"
     ]
    },
    {
     "name": "stderr",
     "output_type": "stream",
     "text": [
      "1it [00:00,  4.82it/s]s]"
     ]
    },
    {
     "name": "stdout",
     "output_type": "stream",
     "text": [
      "{\"train\": {\"eval_examples_count\": 400, \"metrics\": {\"ner_f1\": 97.8161, \"ner_token_f1\": 98.8166}, \"time_spent\": \"0:03:32\", \"epochs_done\": 0, \"batches_seen\": 250, \"train_examples_seen\": 100000, \"loss\": 0.04511848390102387}}\n"
     ]
    },
    {
     "name": "stderr",
     "output_type": "stream",
     "text": [
      "\n",
      "58it [00:04, 12.39it/s]\n",
      "2025-09-27 15:52:21.796 INFO in 'deeppavlov.core.trainers.nn_trainer'['nn_trainer'] at line 206: Improved best ner_f1 from 77.7938 to 78.4555\n",
      "2025-09-27 15:52:21.796 INFO in 'deeppavlov.core.trainers.nn_trainer'['nn_trainer'] at line 208: Saving model\n",
      "2025-09-27 15:52:21.797 INFO in 'deeppavlov.core.models.torch_model'['torch_model'] at line 175: Saving model to C:\\Users\\lexan\\OneDrive\\Documents\\hackaton_lct\\models\\model-ofd.pth.tar.\n"
     ]
    },
    {
     "name": "stdout",
     "output_type": "stream",
     "text": [
      "{\"valid\": {\"eval_examples_count\": 23152, \"metrics\": {\"ner_f1\": 78.4555, \"ner_token_f1\": 83.9902}, \"time_spent\": \"0:03:37\", \"epochs_done\": 0, \"batches_seen\": 250, \"train_examples_seen\": 100000, \"impatience\": 0, \"patience_limit\": 100}}\n"
     ]
    },
    {
     "name": "stderr",
     "output_type": "stream",
     "text": [
      "1it [00:00,  4.63it/s]s]"
     ]
    },
    {
     "name": "stdout",
     "output_type": "stream",
     "text": [
      "{\"train\": {\"eval_examples_count\": 400, \"metrics\": {\"ner_f1\": 96.8531, \"ner_token_f1\": 98.4}, \"time_spent\": \"0:03:43\", \"epochs_done\": 0, \"batches_seen\": 260, \"train_examples_seen\": 104000, \"loss\": 0.04352292977273464}}\n"
     ]
    },
    {
     "name": "stderr",
     "output_type": "stream",
     "text": [
      "\n",
      "58it [00:04, 12.54it/s]\n",
      "2025-09-27 15:52:32.327 INFO in 'deeppavlov.core.trainers.nn_trainer'['nn_trainer'] at line 211: Did not improve on the ner_f1 of 78.4555\n"
     ]
    },
    {
     "name": "stdout",
     "output_type": "stream",
     "text": [
      "{\"valid\": {\"eval_examples_count\": 23152, \"metrics\": {\"ner_f1\": 76.0954, \"ner_token_f1\": 81.9136}, \"time_spent\": \"0:03:48\", \"epochs_done\": 0, \"batches_seen\": 260, \"train_examples_seen\": 104000, \"impatience\": 1, \"patience_limit\": 100}}\n"
     ]
    },
    {
     "name": "stderr",
     "output_type": "stream",
     "text": [
      "1it [00:00,  5.17it/s]s]"
     ]
    },
    {
     "name": "stdout",
     "output_type": "stream",
     "text": [
      "{\"train\": {\"eval_examples_count\": 400, \"metrics\": {\"ner_f1\": 98.569, \"ner_token_f1\": 99.1799}, \"time_spent\": \"0:03:51\", \"epochs_done\": 0, \"batches_seen\": 270, \"train_examples_seen\": 108000, \"loss\": 0.047132916375994684}}\n"
     ]
    },
    {
     "name": "stderr",
     "output_type": "stream",
     "text": [
      "\n",
      "58it [00:05, 11.47it/s]\n",
      "2025-09-27 15:52:40.492 INFO in 'deeppavlov.core.trainers.nn_trainer'['nn_trainer'] at line 206: Improved best ner_f1 from 78.4555 to 78.6137\n",
      "2025-09-27 15:52:40.493 INFO in 'deeppavlov.core.trainers.nn_trainer'['nn_trainer'] at line 208: Saving model\n",
      "2025-09-27 15:52:40.494 INFO in 'deeppavlov.core.models.torch_model'['torch_model'] at line 175: Saving model to C:\\Users\\lexan\\OneDrive\\Documents\\hackaton_lct\\models\\model-ofd.pth.tar.\n"
     ]
    },
    {
     "name": "stdout",
     "output_type": "stream",
     "text": [
      "{\"valid\": {\"eval_examples_count\": 23152, \"metrics\": {\"ner_f1\": 78.6137, \"ner_token_f1\": 83.8638}, \"time_spent\": \"0:03:56\", \"epochs_done\": 0, \"batches_seen\": 270, \"train_examples_seen\": 108000, \"impatience\": 0, \"patience_limit\": 100}}\n"
     ]
    },
    {
     "name": "stderr",
     "output_type": "stream",
     "text": [
      "1it [00:00,  4.91it/s]s]"
     ]
    },
    {
     "name": "stdout",
     "output_type": "stream",
     "text": [
      "{\"train\": {\"eval_examples_count\": 400, \"metrics\": {\"ner_f1\": 98.311, \"ner_token_f1\": 98.9022}, \"time_spent\": \"0:04:02\", \"epochs_done\": 0, \"batches_seen\": 280, \"train_examples_seen\": 112000, \"loss\": 0.04513229038566351}}\n"
     ]
    },
    {
     "name": "stderr",
     "output_type": "stream",
     "text": [
      "\n",
      "58it [00:04, 12.45it/s]\n",
      "2025-09-27 15:52:51.6 INFO in 'deeppavlov.core.trainers.nn_trainer'['nn_trainer'] at line 211: Did not improve on the ner_f1 of 78.6137\n"
     ]
    },
    {
     "name": "stdout",
     "output_type": "stream",
     "text": [
      "{\"valid\": {\"eval_examples_count\": 23152, \"metrics\": {\"ner_f1\": 78.0566, \"ner_token_f1\": 83.552}, \"time_spent\": \"0:04:07\", \"epochs_done\": 0, \"batches_seen\": 280, \"train_examples_seen\": 112000, \"impatience\": 1, \"patience_limit\": 100}}\n"
     ]
    },
    {
     "name": "stderr",
     "output_type": "stream",
     "text": [
      "1it [00:00,  4.95it/s]s]"
     ]
    },
    {
     "name": "stdout",
     "output_type": "stream",
     "text": [
      "{\"train\": {\"eval_examples_count\": 400, \"metrics\": {\"ner_f1\": 98.2699, \"ner_token_f1\": 98.8247}, \"time_spent\": \"0:04:10\", \"epochs_done\": 0, \"batches_seen\": 290, \"train_examples_seen\": 116000, \"loss\": 0.052015433087944984}}\n"
     ]
    },
    {
     "name": "stderr",
     "output_type": "stream",
     "text": [
      "\n",
      "58it [00:04, 12.28it/s]\n",
      "2025-09-27 15:52:58.953 INFO in 'deeppavlov.core.trainers.nn_trainer'['nn_trainer'] at line 206: Improved best ner_f1 from 78.6137 to 78.9127\n",
      "2025-09-27 15:52:58.954 INFO in 'deeppavlov.core.trainers.nn_trainer'['nn_trainer'] at line 208: Saving model\n",
      "2025-09-27 15:52:58.955 INFO in 'deeppavlov.core.models.torch_model'['torch_model'] at line 175: Saving model to C:\\Users\\lexan\\OneDrive\\Documents\\hackaton_lct\\models\\model-ofd.pth.tar.\n"
     ]
    },
    {
     "name": "stdout",
     "output_type": "stream",
     "text": [
      "{\"valid\": {\"eval_examples_count\": 23152, \"metrics\": {\"ner_f1\": 78.9127, \"ner_token_f1\": 83.7373}, \"time_spent\": \"0:04:14\", \"epochs_done\": 0, \"batches_seen\": 290, \"train_examples_seen\": 116000, \"impatience\": 0, \"patience_limit\": 100}}\n"
     ]
    },
    {
     "name": "stderr",
     "output_type": "stream",
     "text": [
      "1it [00:00,  4.41it/s]s]"
     ]
    },
    {
     "name": "stdout",
     "output_type": "stream",
     "text": [
      "{\"train\": {\"eval_examples_count\": 400, \"metrics\": {\"ner_f1\": 96.9168, \"ner_token_f1\": 98.4885}, \"time_spent\": \"0:04:20\", \"epochs_done\": 0, \"batches_seen\": 300, \"train_examples_seen\": 120000, \"loss\": 0.04257747307419777}}\n"
     ]
    },
    {
     "name": "stderr",
     "output_type": "stream",
     "text": [
      "\n",
      "58it [00:04, 11.69it/s]\n",
      "2025-09-27 15:53:09.949 INFO in 'deeppavlov.core.trainers.nn_trainer'['nn_trainer'] at line 211: Did not improve on the ner_f1 of 78.9127\n"
     ]
    },
    {
     "name": "stdout",
     "output_type": "stream",
     "text": [
      "{\"valid\": {\"eval_examples_count\": 23152, \"metrics\": {\"ner_f1\": 77.3441, \"ner_token_f1\": 82.8255}, \"time_spent\": \"0:04:25\", \"epochs_done\": 0, \"batches_seen\": 300, \"train_examples_seen\": 120000, \"impatience\": 1, \"patience_limit\": 100}}\n"
     ]
    },
    {
     "name": "stderr",
     "output_type": "stream",
     "text": [
      "1it [00:00,  4.20it/s]s]"
     ]
    },
    {
     "name": "stdout",
     "output_type": "stream",
     "text": [
      "{\"train\": {\"eval_examples_count\": 400, \"metrics\": {\"ner_f1\": 98.5832, \"ner_token_f1\": 99.3391}, \"time_spent\": \"0:04:29\", \"epochs_done\": 0, \"batches_seen\": 310, \"train_examples_seen\": 124000, \"loss\": 0.042961332574486734}}\n"
     ]
    },
    {
     "name": "stderr",
     "output_type": "stream",
     "text": [
      "\n",
      "58it [00:05, 10.60it/s]\n",
      "2025-09-27 15:53:19.342 INFO in 'deeppavlov.core.trainers.nn_trainer'['nn_trainer'] at line 211: Did not improve on the ner_f1 of 78.9127\n"
     ]
    },
    {
     "name": "stdout",
     "output_type": "stream",
     "text": [
      "{\"valid\": {\"eval_examples_count\": 23152, \"metrics\": {\"ner_f1\": 78.1747, \"ner_token_f1\": 84.0991}, \"time_spent\": \"0:04:35\", \"epochs_done\": 0, \"batches_seen\": 310, \"train_examples_seen\": 124000, \"impatience\": 2, \"patience_limit\": 100}}\n"
     ]
    },
    {
     "name": "stderr",
     "output_type": "stream",
     "text": [
      "1it [00:00,  4.53it/s]s]"
     ]
    },
    {
     "name": "stdout",
     "output_type": "stream",
     "text": [
      "{\"train\": {\"eval_examples_count\": 400, \"metrics\": {\"ner_f1\": 97.7676, \"ner_token_f1\": 98.9}, \"time_spent\": \"0:04:38\", \"epochs_done\": 0, \"batches_seen\": 320, \"train_examples_seen\": 128000, \"loss\": 0.04695178158581257}}\n"
     ]
    },
    {
     "name": "stderr",
     "output_type": "stream",
     "text": [
      "\n",
      "58it [00:04, 11.82it/s]\n",
      "2025-09-27 15:53:27.561 INFO in 'deeppavlov.core.trainers.nn_trainer'['nn_trainer'] at line 211: Did not improve on the ner_f1 of 78.9127\n"
     ]
    },
    {
     "name": "stdout",
     "output_type": "stream",
     "text": [
      "{\"valid\": {\"eval_examples_count\": 23152, \"metrics\": {\"ner_f1\": 77.1769, \"ner_token_f1\": 82.9666}, \"time_spent\": \"0:04:43\", \"epochs_done\": 0, \"batches_seen\": 320, \"train_examples_seen\": 128000, \"impatience\": 3, \"patience_limit\": 100}}\n"
     ]
    },
    {
     "name": "stderr",
     "output_type": "stream",
     "text": [
      "1it [00:00,  4.57it/s]s]"
     ]
    },
    {
     "name": "stdout",
     "output_type": "stream",
     "text": [
      "{\"train\": {\"eval_examples_count\": 400, \"metrics\": {\"ner_f1\": 97.9045, \"ner_token_f1\": 99.2504}, \"time_spent\": \"0:04:46\", \"epochs_done\": 0, \"batches_seen\": 330, \"train_examples_seen\": 132000, \"loss\": 0.04052821658551693}}\n"
     ]
    },
    {
     "name": "stderr",
     "output_type": "stream",
     "text": [
      "\n",
      "58it [00:04, 12.38it/s]\n",
      "2025-09-27 15:53:35.523 INFO in 'deeppavlov.core.trainers.nn_trainer'['nn_trainer'] at line 211: Did not improve on the ner_f1 of 78.9127\n"
     ]
    },
    {
     "name": "stdout",
     "output_type": "stream",
     "text": [
      "{\"valid\": {\"eval_examples_count\": 23152, \"metrics\": {\"ner_f1\": 77.5382, \"ner_token_f1\": 83.0696}, \"time_spent\": \"0:04:51\", \"epochs_done\": 0, \"batches_seen\": 330, \"train_examples_seen\": 132000, \"impatience\": 4, \"patience_limit\": 100}}\n"
     ]
    },
    {
     "name": "stderr",
     "output_type": "stream",
     "text": [
      "1it [00:00,  4.71it/s]s]"
     ]
    },
    {
     "name": "stdout",
     "output_type": "stream",
     "text": [
      "{\"train\": {\"eval_examples_count\": 400, \"metrics\": {\"ner_f1\": 98.1045, \"ner_token_f1\": 98.9791}, \"time_spent\": \"0:04:54\", \"epochs_done\": 0, \"batches_seen\": 340, \"train_examples_seen\": 136000, \"loss\": 0.038370343297719954}}\n"
     ]
    },
    {
     "name": "stderr",
     "output_type": "stream",
     "text": [
      "\n",
      "58it [00:05, 11.56it/s]\n",
      "2025-09-27 15:53:43.869 INFO in 'deeppavlov.core.trainers.nn_trainer'['nn_trainer'] at line 211: Did not improve on the ner_f1 of 78.9127\n"
     ]
    },
    {
     "name": "stdout",
     "output_type": "stream",
     "text": [
      "{\"valid\": {\"eval_examples_count\": 23152, \"metrics\": {\"ner_f1\": 77.8121, \"ner_token_f1\": 83.1902}, \"time_spent\": \"0:04:59\", \"epochs_done\": 0, \"batches_seen\": 340, \"train_examples_seen\": 136000, \"impatience\": 5, \"patience_limit\": 100}}\n"
     ]
    },
    {
     "name": "stderr",
     "output_type": "stream",
     "text": [
      "1it [00:00,  5.14it/s]s]"
     ]
    },
    {
     "name": "stdout",
     "output_type": "stream",
     "text": [
      "{\"train\": {\"eval_examples_count\": 400, \"metrics\": {\"ner_f1\": 98.3419, \"ner_token_f1\": 99.1388}, \"time_spent\": \"0:05:02\", \"epochs_done\": 0, \"batches_seen\": 350, \"train_examples_seen\": 140000, \"loss\": 0.042388121411204335}}\n"
     ]
    },
    {
     "name": "stderr",
     "output_type": "stream",
     "text": [
      "\n",
      "58it [00:04, 12.55it/s]\n",
      "2025-09-27 15:53:51.655 INFO in 'deeppavlov.core.trainers.nn_trainer'['nn_trainer'] at line 211: Did not improve on the ner_f1 of 78.9127\n"
     ]
    },
    {
     "name": "stdout",
     "output_type": "stream",
     "text": [
      "{\"valid\": {\"eval_examples_count\": 23152, \"metrics\": {\"ner_f1\": 77.2206, \"ner_token_f1\": 82.599}, \"time_spent\": \"0:05:07\", \"epochs_done\": 0, \"batches_seen\": 350, \"train_examples_seen\": 140000, \"impatience\": 6, \"patience_limit\": 100}}\n"
     ]
    },
    {
     "name": "stderr",
     "output_type": "stream",
     "text": [
      "1it [00:00,  4.62it/s]s]"
     ]
    },
    {
     "name": "stdout",
     "output_type": "stream",
     "text": [
      "{\"train\": {\"eval_examples_count\": 400, \"metrics\": {\"ner_f1\": 98.8623, \"ner_token_f1\": 99.2263}, \"time_spent\": \"0:05:10\", \"epochs_done\": 0, \"batches_seen\": 360, \"train_examples_seen\": 144000, \"loss\": 0.04309777542948723}}\n"
     ]
    },
    {
     "name": "stderr",
     "output_type": "stream",
     "text": [
      "\n",
      "58it [00:04, 12.27it/s]\n",
      "2025-09-27 15:53:59.587 INFO in 'deeppavlov.core.trainers.nn_trainer'['nn_trainer'] at line 211: Did not improve on the ner_f1 of 78.9127\n"
     ]
    },
    {
     "name": "stdout",
     "output_type": "stream",
     "text": [
      "{\"valid\": {\"eval_examples_count\": 23152, \"metrics\": {\"ner_f1\": 78.1479, \"ner_token_f1\": 83.6284}, \"time_spent\": \"0:05:15\", \"epochs_done\": 0, \"batches_seen\": 360, \"train_examples_seen\": 144000, \"impatience\": 7, \"patience_limit\": 100}}\n"
     ]
    },
    {
     "name": "stderr",
     "output_type": "stream",
     "text": [
      "1it [00:00,  5.13it/s]s]"
     ]
    },
    {
     "name": "stdout",
     "output_type": "stream",
     "text": [
      "{\"train\": {\"eval_examples_count\": 400, \"metrics\": {\"ner_f1\": 98.5337, \"ner_token_f1\": 99.2886}, \"time_spent\": \"0:05:18\", \"epochs_done\": 0, \"batches_seen\": 370, \"train_examples_seen\": 148000, \"loss\": 0.041329193860292435}}\n"
     ]
    },
    {
     "name": "stderr",
     "output_type": "stream",
     "text": [
      "\n",
      "58it [00:04, 12.41it/s]\n",
      "2025-09-27 15:54:07.457 INFO in 'deeppavlov.core.trainers.nn_trainer'['nn_trainer'] at line 211: Did not improve on the ner_f1 of 78.9127\n"
     ]
    },
    {
     "name": "stdout",
     "output_type": "stream",
     "text": [
      "{\"valid\": {\"eval_examples_count\": 23152, \"metrics\": {\"ner_f1\": 77.3073, \"ner_token_f1\": 82.9343}, \"time_spent\": \"0:05:23\", \"epochs_done\": 0, \"batches_seen\": 370, \"train_examples_seen\": 148000, \"impatience\": 8, \"patience_limit\": 100}}\n"
     ]
    },
    {
     "name": "stderr",
     "output_type": "stream",
     "text": [
      "1it [00:00,  5.35it/s]s]"
     ]
    },
    {
     "name": "stdout",
     "output_type": "stream",
     "text": [
      "{\"train\": {\"eval_examples_count\": 400, \"metrics\": {\"ner_f1\": 98.896, \"ner_token_f1\": 99.2541}, \"time_spent\": \"0:05:26\", \"epochs_done\": 0, \"batches_seen\": 380, \"train_examples_seen\": 152000, \"loss\": 0.04386293031275272}}\n"
     ]
    },
    {
     "name": "stderr",
     "output_type": "stream",
     "text": [
      "\n",
      "58it [00:05, 11.56it/s]\n",
      "2025-09-27 15:54:15.632 INFO in 'deeppavlov.core.trainers.nn_trainer'['nn_trainer'] at line 211: Did not improve on the ner_f1 of 78.9127\n"
     ]
    },
    {
     "name": "stdout",
     "output_type": "stream",
     "text": [
      "{\"valid\": {\"eval_examples_count\": 23152, \"metrics\": {\"ner_f1\": 78.8968, \"ner_token_f1\": 84.5814}, \"time_spent\": \"0:05:31\", \"epochs_done\": 0, \"batches_seen\": 380, \"train_examples_seen\": 152000, \"impatience\": 9, \"patience_limit\": 100}}\n"
     ]
    },
    {
     "name": "stderr",
     "output_type": "stream",
     "text": [
      "1it [00:00,  5.05it/s]s]"
     ]
    },
    {
     "name": "stdout",
     "output_type": "stream",
     "text": [
      "{\"train\": {\"eval_examples_count\": 400, \"metrics\": {\"ner_f1\": 98.021, \"ner_token_f1\": 99.1513}, \"time_spent\": \"0:05:34\", \"epochs_done\": 0, \"batches_seen\": 390, \"train_examples_seen\": 156000, \"loss\": 0.046385128237307074}}\n"
     ]
    },
    {
     "name": "stderr",
     "output_type": "stream",
     "text": [
      "\n",
      "58it [00:04, 12.52it/s]\n",
      "2025-09-27 15:54:23.449 INFO in 'deeppavlov.core.trainers.nn_trainer'['nn_trainer'] at line 211: Did not improve on the ner_f1 of 78.9127\n"
     ]
    },
    {
     "name": "stdout",
     "output_type": "stream",
     "text": [
      "{\"valid\": {\"eval_examples_count\": 23152, \"metrics\": {\"ner_f1\": 78.0485, \"ner_token_f1\": 84.0344}, \"time_spent\": \"0:05:39\", \"epochs_done\": 0, \"batches_seen\": 390, \"train_examples_seen\": 156000, \"impatience\": 10, \"patience_limit\": 100}}\n"
     ]
    },
    {
     "name": "stderr",
     "output_type": "stream",
     "text": [
      "1it [00:00,  4.88it/s]s]"
     ]
    },
    {
     "name": "stdout",
     "output_type": "stream",
     "text": [
      "{\"train\": {\"eval_examples_count\": 400, \"metrics\": {\"ner_f1\": 98.1987, \"ner_token_f1\": 98.7506}, \"time_spent\": \"0:05:42\", \"epochs_done\": 0, \"batches_seen\": 400, \"train_examples_seen\": 160000, \"loss\": 0.041230584308505056}}\n"
     ]
    },
    {
     "name": "stderr",
     "output_type": "stream",
     "text": [
      "\n",
      "58it [00:04, 12.54it/s]\n",
      "2025-09-27 15:54:31.269 INFO in 'deeppavlov.core.trainers.nn_trainer'['nn_trainer'] at line 206: Improved best ner_f1 from 78.9127 to 78.9213\n",
      "2025-09-27 15:54:31.270 INFO in 'deeppavlov.core.trainers.nn_trainer'['nn_trainer'] at line 208: Saving model\n",
      "2025-09-27 15:54:31.271 INFO in 'deeppavlov.core.models.torch_model'['torch_model'] at line 175: Saving model to C:\\Users\\lexan\\OneDrive\\Documents\\hackaton_lct\\models\\model-ofd.pth.tar.\n"
     ]
    },
    {
     "name": "stdout",
     "output_type": "stream",
     "text": [
      "{\"valid\": {\"eval_examples_count\": 23152, \"metrics\": {\"ner_f1\": 78.9213, \"ner_token_f1\": 84.155}, \"time_spent\": \"0:05:47\", \"epochs_done\": 0, \"batches_seen\": 400, \"train_examples_seen\": 160000, \"impatience\": 0, \"patience_limit\": 100}}\n"
     ]
    },
    {
     "name": "stderr",
     "output_type": "stream",
     "text": [
      "1it [00:00,  4.18it/s]s]"
     ]
    },
    {
     "name": "stdout",
     "output_type": "stream",
     "text": [
      "{\"train\": {\"eval_examples_count\": 400, \"metrics\": {\"ner_f1\": 98.4513, \"ner_token_f1\": 99.2015}, \"time_spent\": \"0:05:52\", \"epochs_done\": 0, \"batches_seen\": 410, \"train_examples_seen\": 164000, \"loss\": 0.04073032643646002}}\n"
     ]
    },
    {
     "name": "stderr",
     "output_type": "stream",
     "text": [
      "\n",
      "58it [00:05, 11.10it/s]\n",
      "2025-09-27 15:54:42.316 INFO in 'deeppavlov.core.trainers.nn_trainer'['nn_trainer'] at line 211: Did not improve on the ner_f1 of 78.9213\n"
     ]
    },
    {
     "name": "stdout",
     "output_type": "stream",
     "text": [
      "{\"valid\": {\"eval_examples_count\": 23152, \"metrics\": {\"ner_f1\": 78.2965, \"ner_token_f1\": 83.6726}, \"time_spent\": \"0:05:58\", \"epochs_done\": 0, \"batches_seen\": 410, \"train_examples_seen\": 164000, \"impatience\": 1, \"patience_limit\": 100}}\n"
     ]
    },
    {
     "name": "stderr",
     "output_type": "stream",
     "text": [
      "1it [00:00,  5.16it/s]s]"
     ]
    },
    {
     "name": "stdout",
     "output_type": "stream",
     "text": [
      "{\"train\": {\"eval_examples_count\": 400, \"metrics\": {\"ner_f1\": 99.0847, \"ner_token_f1\": 99.4089}, \"time_spent\": \"0:06:01\", \"epochs_done\": 0, \"batches_seen\": 420, \"train_examples_seen\": 168000, \"loss\": 0.04032200034707785}}\n"
     ]
    },
    {
     "name": "stderr",
     "output_type": "stream",
     "text": [
      "\n",
      "58it [00:04, 12.44it/s]\n",
      "2025-09-27 15:54:50.211 INFO in 'deeppavlov.core.trainers.nn_trainer'['nn_trainer'] at line 211: Did not improve on the ner_f1 of 78.9213\n"
     ]
    },
    {
     "name": "stdout",
     "output_type": "stream",
     "text": [
      "{\"valid\": {\"eval_examples_count\": 23152, \"metrics\": {\"ner_f1\": 78.5053, \"ner_token_f1\": 83.502}, \"time_spent\": \"0:06:06\", \"epochs_done\": 0, \"batches_seen\": 420, \"train_examples_seen\": 168000, \"impatience\": 2, \"patience_limit\": 100}}\n"
     ]
    },
    {
     "name": "stderr",
     "output_type": "stream",
     "text": [
      "1it [00:00,  4.64it/s]s]"
     ]
    },
    {
     "name": "stdout",
     "output_type": "stream",
     "text": [
      "{\"train\": {\"eval_examples_count\": 400, \"metrics\": {\"ner_f1\": 98.6759, \"ner_token_f1\": 99.2636}, \"time_spent\": \"0:06:09\", \"epochs_done\": 0, \"batches_seen\": 430, \"train_examples_seen\": 172000, \"loss\": 0.04186845738440752}}\n"
     ]
    },
    {
     "name": "stderr",
     "output_type": "stream",
     "text": [
      "\n",
      "58it [00:04, 12.39it/s]\n",
      "2025-09-27 15:54:58.131 INFO in 'deeppavlov.core.trainers.nn_trainer'['nn_trainer'] at line 211: Did not improve on the ner_f1 of 78.9213\n"
     ]
    },
    {
     "name": "stdout",
     "output_type": "stream",
     "text": [
      "{\"valid\": {\"eval_examples_count\": 23152, \"metrics\": {\"ner_f1\": 77.2654, \"ner_token_f1\": 82.3107}, \"time_spent\": \"0:06:14\", \"epochs_done\": 0, \"batches_seen\": 430, \"train_examples_seen\": 172000, \"impatience\": 3, \"patience_limit\": 100}}\n"
     ]
    },
    {
     "name": "stderr",
     "output_type": "stream",
     "text": [
      "1it [00:00,  5.14it/s]s]"
     ]
    },
    {
     "name": "stdout",
     "output_type": "stream",
     "text": [
      "{\"train\": {\"eval_examples_count\": 400, \"metrics\": {\"ner_f1\": 98.8399, \"ner_token_f1\": 99.2459}, \"time_spent\": \"0:06:17\", \"epochs_done\": 0, \"batches_seen\": 440, \"train_examples_seen\": 176000, \"loss\": 0.04012767840176821}}\n"
     ]
    },
    {
     "name": "stderr",
     "output_type": "stream",
     "text": [
      "\n",
      "58it [00:04, 12.40it/s]\n",
      "2025-09-27 15:55:05.939 INFO in 'deeppavlov.core.trainers.nn_trainer'['nn_trainer'] at line 211: Did not improve on the ner_f1 of 78.9213\n"
     ]
    },
    {
     "name": "stdout",
     "output_type": "stream",
     "text": [
      "{\"valid\": {\"eval_examples_count\": 23152, \"metrics\": {\"ner_f1\": 77.5947, \"ner_token_f1\": 82.6755}, \"time_spent\": \"0:06:21\", \"epochs_done\": 0, \"batches_seen\": 440, \"train_examples_seen\": 176000, \"impatience\": 4, \"patience_limit\": 100}}\n"
     ]
    },
    {
     "name": "stderr",
     "output_type": "stream",
     "text": [
      "1it [00:00,  5.25it/s]s]"
     ]
    },
    {
     "name": "stdout",
     "output_type": "stream",
     "text": [
      "{\"train\": {\"eval_examples_count\": 400, \"metrics\": {\"ner_f1\": 97.9966, \"ner_token_f1\": 99.0215}, \"time_spent\": \"0:06:24\", \"epochs_done\": 0, \"batches_seen\": 450, \"train_examples_seen\": 180000, \"loss\": 0.04309695921838284}}\n"
     ]
    },
    {
     "name": "stderr",
     "output_type": "stream",
     "text": [
      "\n",
      "58it [00:05, 10.92it/s]\n",
      "2025-09-27 15:55:14.494 INFO in 'deeppavlov.core.trainers.nn_trainer'['nn_trainer'] at line 211: Did not improve on the ner_f1 of 78.9213\n"
     ]
    },
    {
     "name": "stdout",
     "output_type": "stream",
     "text": [
      "{\"valid\": {\"eval_examples_count\": 23152, \"metrics\": {\"ner_f1\": 77.3099, \"ner_token_f1\": 82.9225}, \"time_spent\": \"0:06:30\", \"epochs_done\": 0, \"batches_seen\": 450, \"train_examples_seen\": 180000, \"impatience\": 5, \"patience_limit\": 100}}\n"
     ]
    },
    {
     "name": "stderr",
     "output_type": "stream",
     "text": [
      "1it [00:00,  5.44it/s]s]"
     ]
    },
    {
     "name": "stdout",
     "output_type": "stream",
     "text": [
      "{\"train\": {\"eval_examples_count\": 400, \"metrics\": {\"ner_f1\": 99.0076, \"ner_token_f1\": 99.4402}, \"time_spent\": \"0:06:33\", \"epochs_done\": 0, \"batches_seen\": 460, \"train_examples_seen\": 184000, \"loss\": 0.04127601385116577}}\n"
     ]
    },
    {
     "name": "stderr",
     "output_type": "stream",
     "text": [
      "\n",
      "58it [00:04, 12.52it/s]\n",
      "2025-09-27 15:55:22.251 INFO in 'deeppavlov.core.trainers.nn_trainer'['nn_trainer'] at line 211: Did not improve on the ner_f1 of 78.9213\n"
     ]
    },
    {
     "name": "stdout",
     "output_type": "stream",
     "text": [
      "{\"valid\": {\"eval_examples_count\": 23152, \"metrics\": {\"ner_f1\": 77.9407, \"ner_token_f1\": 83.7255}, \"time_spent\": \"0:06:38\", \"epochs_done\": 0, \"batches_seen\": 460, \"train_examples_seen\": 184000, \"impatience\": 6, \"patience_limit\": 100}}\n"
     ]
    },
    {
     "name": "stderr",
     "output_type": "stream",
     "text": [
      "1it [00:00,  4.75it/s]s]"
     ]
    },
    {
     "name": "stdout",
     "output_type": "stream",
     "text": [
      "{\"train\": {\"eval_examples_count\": 400, \"metrics\": {\"ner_f1\": 98.5126, \"ner_token_f1\": 99.1605}, \"time_spent\": \"0:06:41\", \"epochs_done\": 0, \"batches_seen\": 470, \"train_examples_seen\": 188000, \"loss\": 0.03994365781545639}}\n"
     ]
    },
    {
     "name": "stderr",
     "output_type": "stream",
     "text": [
      "\n",
      "58it [00:04, 12.32it/s]\n",
      "2025-09-27 15:55:30.194 INFO in 'deeppavlov.core.trainers.nn_trainer'['nn_trainer'] at line 211: Did not improve on the ner_f1 of 78.9213\n"
     ]
    },
    {
     "name": "stdout",
     "output_type": "stream",
     "text": [
      "{\"valid\": {\"eval_examples_count\": 23152, \"metrics\": {\"ner_f1\": 76.7143, \"ner_token_f1\": 82.3696}, \"time_spent\": \"0:06:46\", \"epochs_done\": 0, \"batches_seen\": 470, \"train_examples_seen\": 188000, \"impatience\": 7, \"patience_limit\": 100}}\n"
     ]
    },
    {
     "name": "stderr",
     "output_type": "stream",
     "text": [
      "1it [00:00,  5.21it/s]s]"
     ]
    },
    {
     "name": "stdout",
     "output_type": "stream",
     "text": [
      "{\"train\": {\"eval_examples_count\": 400, \"metrics\": {\"ner_f1\": 98.7457, \"ner_token_f1\": 99.3269}, \"time_spent\": \"0:06:49\", \"epochs_done\": 0, \"batches_seen\": 480, \"train_examples_seen\": 192000, \"loss\": 0.04007490370422602}}\n"
     ]
    },
    {
     "name": "stderr",
     "output_type": "stream",
     "text": [
      "\n",
      "58it [00:05, 11.27it/s]\n",
      "2025-09-27 15:55:38.617 INFO in 'deeppavlov.core.trainers.nn_trainer'['nn_trainer'] at line 211: Did not improve on the ner_f1 of 78.9213\n"
     ]
    },
    {
     "name": "stdout",
     "output_type": "stream",
     "text": [
      "{\"valid\": {\"eval_examples_count\": 23152, \"metrics\": {\"ner_f1\": 76.722, \"ner_token_f1\": 82.0607}, \"time_spent\": \"0:06:54\", \"epochs_done\": 0, \"batches_seen\": 480, \"train_examples_seen\": 192000, \"impatience\": 8, \"patience_limit\": 100}}\n"
     ]
    },
    {
     "name": "stderr",
     "output_type": "stream",
     "text": [
      "1it [00:00,  5.05it/s]s]"
     ]
    },
    {
     "name": "stdout",
     "output_type": "stream",
     "text": [
      "{\"train\": {\"eval_examples_count\": 400, \"metrics\": {\"ner_f1\": 98.6835, \"ner_token_f1\": 99.3631}, \"time_spent\": \"0:06:57\", \"epochs_done\": 0, \"batches_seen\": 490, \"train_examples_seen\": 196000, \"loss\": 0.04193117190152407}}\n"
     ]
    },
    {
     "name": "stderr",
     "output_type": "stream",
     "text": [
      "\n",
      "58it [00:04, 12.37it/s]\n",
      "2025-09-27 15:55:46.571 INFO in 'deeppavlov.core.trainers.nn_trainer'['nn_trainer'] at line 211: Did not improve on the ner_f1 of 78.9213\n"
     ]
    },
    {
     "name": "stdout",
     "output_type": "stream",
     "text": [
      "{\"valid\": {\"eval_examples_count\": 23152, \"metrics\": {\"ner_f1\": 78.0165, \"ner_token_f1\": 83.3726}, \"time_spent\": \"0:07:02\", \"epochs_done\": 0, \"batches_seen\": 490, \"train_examples_seen\": 196000, \"impatience\": 9, \"patience_limit\": 100}}\n"
     ]
    },
    {
     "name": "stderr",
     "output_type": "stream",
     "text": [
      "1it [00:00,  5.04it/s]s]"
     ]
    },
    {
     "name": "stdout",
     "output_type": "stream",
     "text": [
      "{\"train\": {\"eval_examples_count\": 400, \"metrics\": {\"ner_f1\": 98.6317, \"ner_token_f1\": 99.2757}, \"time_spent\": \"0:07:05\", \"epochs_done\": 0, \"batches_seen\": 500, \"train_examples_seen\": 200000, \"loss\": 0.04402623735368252}}\n"
     ]
    },
    {
     "name": "stderr",
     "output_type": "stream",
     "text": [
      "\n",
      "58it [00:04, 12.49it/s]\n",
      "2025-09-27 15:55:54.326 INFO in 'deeppavlov.core.trainers.nn_trainer'['nn_trainer'] at line 211: Did not improve on the ner_f1 of 78.9213\n"
     ]
    },
    {
     "name": "stdout",
     "output_type": "stream",
     "text": [
      "{\"valid\": {\"eval_examples_count\": 23152, \"metrics\": {\"ner_f1\": 76.8105, \"ner_token_f1\": 82.9078}, \"time_spent\": \"0:07:10\", \"epochs_done\": 0, \"batches_seen\": 500, \"train_examples_seen\": 200000, \"impatience\": 10, \"patience_limit\": 100}}\n"
     ]
    },
    {
     "name": "stderr",
     "output_type": "stream",
     "text": [
      "1it [00:00,  4.96it/s]s]"
     ]
    },
    {
     "name": "stdout",
     "output_type": "stream",
     "text": [
      "{\"train\": {\"eval_examples_count\": 400, \"metrics\": {\"ner_f1\": 98.2517, \"ner_token_f1\": 98.9087}, \"time_spent\": \"0:07:13\", \"epochs_done\": 0, \"batches_seen\": 510, \"train_examples_seen\": 204000, \"loss\": 0.04117961283773184}}\n"
     ]
    },
    {
     "name": "stderr",
     "output_type": "stream",
     "text": [
      "\n",
      "58it [00:04, 12.10it/s]\n",
      "2025-09-27 15:56:02.368 INFO in 'deeppavlov.core.trainers.nn_trainer'['nn_trainer'] at line 211: Did not improve on the ner_f1 of 78.9213\n"
     ]
    },
    {
     "name": "stdout",
     "output_type": "stream",
     "text": [
      "{\"valid\": {\"eval_examples_count\": 23152, \"metrics\": {\"ner_f1\": 77.3882, \"ner_token_f1\": 82.4607}, \"time_spent\": \"0:07:18\", \"epochs_done\": 0, \"batches_seen\": 510, \"train_examples_seen\": 204000, \"impatience\": 11, \"patience_limit\": 100}}\n"
     ]
    },
    {
     "name": "stderr",
     "output_type": "stream",
     "text": [
      "1it [00:00,  4.77it/s]s]"
     ]
    },
    {
     "name": "stdout",
     "output_type": "stream",
     "text": [
      "{\"train\": {\"eval_examples_count\": 400, \"metrics\": {\"ner_f1\": 97.6082, \"ner_token_f1\": 98.7811}, \"time_spent\": \"0:07:21\", \"epochs_done\": 0, \"batches_seen\": 520, \"train_examples_seen\": 208000, \"loss\": 0.036012503691017626}}\n"
     ]
    },
    {
     "name": "stderr",
     "output_type": "stream",
     "text": [
      "\n",
      "58it [00:05, 11.50it/s]\n",
      "2025-09-27 15:56:10.737 INFO in 'deeppavlov.core.trainers.nn_trainer'['nn_trainer'] at line 211: Did not improve on the ner_f1 of 78.9213\n"
     ]
    },
    {
     "name": "stdout",
     "output_type": "stream",
     "text": [
      "{\"valid\": {\"eval_examples_count\": 23152, \"metrics\": {\"ner_f1\": 77.9805, \"ner_token_f1\": 83.549}, \"time_spent\": \"0:07:26\", \"epochs_done\": 0, \"batches_seen\": 520, \"train_examples_seen\": 208000, \"impatience\": 12, \"patience_limit\": 100}}\n"
     ]
    },
    {
     "name": "stderr",
     "output_type": "stream",
     "text": [
      "1it [00:00,  4.72it/s]s]"
     ]
    },
    {
     "name": "stdout",
     "output_type": "stream",
     "text": [
      "{\"train\": {\"eval_examples_count\": 400, \"metrics\": {\"ner_f1\": 98.4073, \"ner_token_f1\": 99.07}, \"time_spent\": \"0:07:29\", \"epochs_done\": 0, \"batches_seen\": 530, \"train_examples_seen\": 212000, \"loss\": 0.039491294883191586}}\n"
     ]
    },
    {
     "name": "stderr",
     "output_type": "stream",
     "text": [
      "\n",
      "58it [00:04, 12.42it/s]\n",
      "2025-09-27 15:56:18.746 INFO in 'deeppavlov.core.trainers.nn_trainer'['nn_trainer'] at line 206: Improved best ner_f1 from 78.9213 to 79.0901\n",
      "2025-09-27 15:56:18.747 INFO in 'deeppavlov.core.trainers.nn_trainer'['nn_trainer'] at line 208: Saving model\n",
      "2025-09-27 15:56:18.748 INFO in 'deeppavlov.core.models.torch_model'['torch_model'] at line 175: Saving model to C:\\Users\\lexan\\OneDrive\\Documents\\hackaton_lct\\models\\model-ofd.pth.tar.\n"
     ]
    },
    {
     "name": "stdout",
     "output_type": "stream",
     "text": [
      "{\"valid\": {\"eval_examples_count\": 23152, \"metrics\": {\"ner_f1\": 79.0901, \"ner_token_f1\": 83.9814}, \"time_spent\": \"0:07:34\", \"epochs_done\": 0, \"batches_seen\": 530, \"train_examples_seen\": 212000, \"impatience\": 0, \"patience_limit\": 100}}\n"
     ]
    },
    {
     "name": "stderr",
     "output_type": "stream",
     "text": [
      "1it [00:00,  5.19it/s]s]"
     ]
    },
    {
     "name": "stdout",
     "output_type": "stream",
     "text": [
      "{\"train\": {\"eval_examples_count\": 400, \"metrics\": {\"ner_f1\": 99.5485, \"ner_token_f1\": 99.8527}, \"time_spent\": \"0:07:40\", \"epochs_done\": 0, \"batches_seen\": 540, \"train_examples_seen\": 216000, \"loss\": 0.040363038517534734}}\n"
     ]
    },
    {
     "name": "stderr",
     "output_type": "stream",
     "text": [
      "\n",
      "58it [00:04, 12.64it/s]\n",
      "2025-09-27 15:56:29.11 INFO in 'deeppavlov.core.trainers.nn_trainer'['nn_trainer'] at line 211: Did not improve on the ner_f1 of 79.0901\n"
     ]
    },
    {
     "name": "stdout",
     "output_type": "stream",
     "text": [
      "{\"valid\": {\"eval_examples_count\": 23152, \"metrics\": {\"ner_f1\": 78.9174, \"ner_token_f1\": 84.0873}, \"time_spent\": \"0:07:45\", \"epochs_done\": 0, \"batches_seen\": 540, \"train_examples_seen\": 216000, \"impatience\": 1, \"patience_limit\": 100}}\n"
     ]
    },
    {
     "name": "stderr",
     "output_type": "stream",
     "text": [
      "1it [00:00,  5.31it/s]s]"
     ]
    },
    {
     "name": "stdout",
     "output_type": "stream",
     "text": [
      "{\"train\": {\"eval_examples_count\": 400, \"metrics\": {\"ner_f1\": 97.6717, \"ner_token_f1\": 98.4111}, \"time_spent\": \"0:07:47\", \"epochs_done\": 0, \"batches_seen\": 550, \"train_examples_seen\": 220000, \"loss\": 0.04123791828751564}}\n"
     ]
    },
    {
     "name": "stderr",
     "output_type": "stream",
     "text": [
      "\n",
      "58it [00:04, 11.85it/s]\n",
      "2025-09-27 15:56:37.112 INFO in 'deeppavlov.core.trainers.nn_trainer'['nn_trainer'] at line 211: Did not improve on the ner_f1 of 79.0901\n"
     ]
    },
    {
     "name": "stdout",
     "output_type": "stream",
     "text": [
      "{\"valid\": {\"eval_examples_count\": 23152, \"metrics\": {\"ner_f1\": 78.9984, \"ner_token_f1\": 84.6109}, \"time_spent\": \"0:07:53\", \"epochs_done\": 0, \"batches_seen\": 550, \"train_examples_seen\": 220000, \"impatience\": 2, \"patience_limit\": 100}}\n"
     ]
    },
    {
     "name": "stderr",
     "output_type": "stream",
     "text": [
      "1it [00:00,  4.78it/s]s]"
     ]
    },
    {
     "name": "stdout",
     "output_type": "stream",
     "text": [
      "{\"train\": {\"eval_examples_count\": 400, \"metrics\": {\"ner_f1\": 98.5541, \"ner_token_f1\": 99.5612}, \"time_spent\": \"0:07:56\", \"epochs_done\": 0, \"batches_seen\": 560, \"train_examples_seen\": 224000, \"loss\": 0.038656933791935445}}\n"
     ]
    },
    {
     "name": "stderr",
     "output_type": "stream",
     "text": [
      "\n",
      "58it [00:05, 11.52it/s]\n",
      "2025-09-27 15:56:45.388 INFO in 'deeppavlov.core.trainers.nn_trainer'['nn_trainer'] at line 211: Did not improve on the ner_f1 of 79.0901\n"
     ]
    },
    {
     "name": "stdout",
     "output_type": "stream",
     "text": [
      "{\"valid\": {\"eval_examples_count\": 23152, \"metrics\": {\"ner_f1\": 78.8972, \"ner_token_f1\": 84.2255}, \"time_spent\": \"0:08:01\", \"epochs_done\": 0, \"batches_seen\": 560, \"train_examples_seen\": 224000, \"impatience\": 3, \"patience_limit\": 100}}\n"
     ]
    },
    {
     "name": "stderr",
     "output_type": "stream",
     "text": [
      "1it [00:00,  5.44it/s]s]"
     ]
    },
    {
     "name": "stdout",
     "output_type": "stream",
     "text": [
      "{\"train\": {\"eval_examples_count\": 400, \"metrics\": {\"ner_f1\": 98.3815, \"ner_token_f1\": 99.1211}, \"time_spent\": \"0:08:04\", \"epochs_done\": 0, \"batches_seen\": 570, \"train_examples_seen\": 228000, \"loss\": 0.041232969239354135}}\n"
     ]
    },
    {
     "name": "stderr",
     "output_type": "stream",
     "text": [
      "\n",
      "58it [00:04, 12.48it/s]\n",
      "2025-09-27 15:56:53.229 INFO in 'deeppavlov.core.trainers.nn_trainer'['nn_trainer'] at line 211: Did not improve on the ner_f1 of 79.0901\n"
     ]
    },
    {
     "name": "stdout",
     "output_type": "stream",
     "text": [
      "{\"valid\": {\"eval_examples_count\": 23152, \"metrics\": {\"ner_f1\": 76.1692, \"ner_token_f1\": 81.0195}, \"time_spent\": \"0:08:09\", \"epochs_done\": 0, \"batches_seen\": 570, \"train_examples_seen\": 228000, \"impatience\": 4, \"patience_limit\": 100}}\n"
     ]
    },
    {
     "name": "stderr",
     "output_type": "stream",
     "text": [
      "1it [00:00,  4.99it/s]s]"
     ]
    },
    {
     "name": "stdout",
     "output_type": "stream",
     "text": [
      "{\"train\": {\"eval_examples_count\": 400, \"metrics\": {\"ner_f1\": 99.3228, \"ner_token_f1\": 99.5211}, \"time_spent\": \"0:08:12\", \"epochs_done\": 0, \"batches_seen\": 580, \"train_examples_seen\": 232000, \"loss\": 0.04033681619912386}}\n"
     ]
    },
    {
     "name": "stderr",
     "output_type": "stream",
     "text": [
      "\n",
      "58it [00:04, 12.55it/s]\n",
      "2025-09-27 15:57:00.975 INFO in 'deeppavlov.core.trainers.nn_trainer'['nn_trainer'] at line 211: Did not improve on the ner_f1 of 79.0901\n"
     ]
    },
    {
     "name": "stdout",
     "output_type": "stream",
     "text": [
      "{\"valid\": {\"eval_examples_count\": 23152, \"metrics\": {\"ner_f1\": 77.8893, \"ner_token_f1\": 82.9431}, \"time_spent\": \"0:08:16\", \"epochs_done\": 0, \"batches_seen\": 580, \"train_examples_seen\": 232000, \"impatience\": 5, \"patience_limit\": 100}}\n"
     ]
    },
    {
     "name": "stderr",
     "output_type": "stream",
     "text": [
      "1it [00:00,  4.82it/s]s]"
     ]
    },
    {
     "name": "stdout",
     "output_type": "stream",
     "text": [
      "{\"train\": {\"eval_examples_count\": 400, \"metrics\": {\"ner_f1\": 98.1282, \"ner_token_f1\": 98.7691}, \"time_spent\": \"0:08:20\", \"epochs_done\": 0, \"batches_seen\": 590, \"train_examples_seen\": 236000, \"loss\": 0.03772536143660545}}\n"
     ]
    },
    {
     "name": "stderr",
     "output_type": "stream",
     "text": [
      "\n",
      "58it [00:05, 10.96it/s]\n",
      "2025-09-27 15:57:09.570 INFO in 'deeppavlov.core.trainers.nn_trainer'['nn_trainer'] at line 211: Did not improve on the ner_f1 of 79.0901\n"
     ]
    },
    {
     "name": "stdout",
     "output_type": "stream",
     "text": [
      "{\"valid\": {\"eval_examples_count\": 23152, \"metrics\": {\"ner_f1\": 77.4717, \"ner_token_f1\": 82.196}, \"time_spent\": \"0:08:25\", \"epochs_done\": 0, \"batches_seen\": 590, \"train_examples_seen\": 236000, \"impatience\": 6, \"patience_limit\": 100}}\n"
     ]
    },
    {
     "name": "stderr",
     "output_type": "stream",
     "text": [
      "1it [00:00,  4.45it/s]s]"
     ]
    },
    {
     "name": "stdout",
     "output_type": "stream",
     "text": [
      "{\"train\": {\"eval_examples_count\": 400, \"metrics\": {\"ner_f1\": 99.4344, \"ner_token_f1\": 99.7553}, \"time_spent\": \"0:08:28\", \"epochs_done\": 0, \"batches_seen\": 600, \"train_examples_seen\": 240000, \"loss\": 0.038572659343481065}}\n"
     ]
    },
    {
     "name": "stderr",
     "output_type": "stream",
     "text": [
      "\n",
      "58it [00:04, 12.17it/s]\n",
      "2025-09-27 15:57:17.761 INFO in 'deeppavlov.core.trainers.nn_trainer'['nn_trainer'] at line 211: Did not improve on the ner_f1 of 79.0901\n"
     ]
    },
    {
     "name": "stdout",
     "output_type": "stream",
     "text": [
      "{\"valid\": {\"eval_examples_count\": 23152, \"metrics\": {\"ner_f1\": 78.9648, \"ner_token_f1\": 84.3756}, \"time_spent\": \"0:08:33\", \"epochs_done\": 0, \"batches_seen\": 600, \"train_examples_seen\": 240000, \"impatience\": 7, \"patience_limit\": 100}}\n"
     ]
    },
    {
     "name": "stderr",
     "output_type": "stream",
     "text": [
      "1it [00:00,  4.84it/s]s]"
     ]
    },
    {
     "name": "stdout",
     "output_type": "stream",
     "text": [
      "{\"train\": {\"eval_examples_count\": 400, \"metrics\": {\"ner_f1\": 99.019, \"ner_token_f1\": 99.4106}, \"time_spent\": \"0:08:36\", \"epochs_done\": 0, \"batches_seen\": 610, \"train_examples_seen\": 244000, \"loss\": 0.04404327683150768}}\n"
     ]
    },
    {
     "name": "stderr",
     "output_type": "stream",
     "text": [
      "\n",
      "58it [00:04, 12.32it/s]\n",
      "2025-09-27 15:57:25.679 INFO in 'deeppavlov.core.trainers.nn_trainer'['nn_trainer'] at line 211: Did not improve on the ner_f1 of 79.0901\n"
     ]
    },
    {
     "name": "stdout",
     "output_type": "stream",
     "text": [
      "{\"valid\": {\"eval_examples_count\": 23152, \"metrics\": {\"ner_f1\": 76.2721, \"ner_token_f1\": 82.1813}, \"time_spent\": \"0:08:41\", \"epochs_done\": 0, \"batches_seen\": 610, \"train_examples_seen\": 244000, \"impatience\": 8, \"patience_limit\": 100}}\n"
     ]
    },
    {
     "name": "stderr",
     "output_type": "stream",
     "text": [
      "1it [00:00,  4.99it/s]s]"
     ]
    },
    {
     "name": "stdout",
     "output_type": "stream",
     "text": [
      "{\"train\": {\"eval_examples_count\": 400, \"metrics\": {\"ner_f1\": 98.7769, \"ner_token_f1\": 99.2548}, \"time_spent\": \"0:08:44\", \"epochs_done\": 0, \"batches_seen\": 620, \"train_examples_seen\": 248000, \"loss\": 0.03812516164034605}}\n"
     ]
    },
    {
     "name": "stderr",
     "output_type": "stream",
     "text": [
      "\n",
      "58it [00:04, 12.18it/s]\n",
      "2025-09-27 15:57:33.700 INFO in 'deeppavlov.core.trainers.nn_trainer'['nn_trainer'] at line 211: Did not improve on the ner_f1 of 79.0901\n"
     ]
    },
    {
     "name": "stdout",
     "output_type": "stream",
     "text": [
      "{\"valid\": {\"eval_examples_count\": 23152, \"metrics\": {\"ner_f1\": 77.989, \"ner_token_f1\": 83.0049}, \"time_spent\": \"0:08:49\", \"epochs_done\": 0, \"batches_seen\": 620, \"train_examples_seen\": 248000, \"impatience\": 9, \"patience_limit\": 100}}\n"
     ]
    },
    {
     "name": "stderr",
     "output_type": "stream",
     "text": [
      "1it [00:00,  4.96it/s]s]"
     ]
    },
    {
     "name": "stdout",
     "output_type": "stream",
     "text": [
      "{\"train\": {\"eval_examples_count\": 400, \"metrics\": {\"ner_f1\": 99.1615, \"ner_token_f1\": 99.3807}, \"time_spent\": \"0:08:52\", \"epochs_done\": 0, \"batches_seen\": 630, \"train_examples_seen\": 252000, \"loss\": 0.035162409953773024}}\n"
     ]
    },
    {
     "name": "stderr",
     "output_type": "stream",
     "text": [
      "\n",
      "58it [00:05, 11.36it/s]\n",
      "2025-09-27 15:57:41.981 INFO in 'deeppavlov.core.trainers.nn_trainer'['nn_trainer'] at line 211: Did not improve on the ner_f1 of 79.0901\n"
     ]
    },
    {
     "name": "stdout",
     "output_type": "stream",
     "text": [
      "{\"valid\": {\"eval_examples_count\": 23152, \"metrics\": {\"ner_f1\": 77.209, \"ner_token_f1\": 82.1284}, \"time_spent\": \"0:08:57\", \"epochs_done\": 0, \"batches_seen\": 630, \"train_examples_seen\": 252000, \"impatience\": 10, \"patience_limit\": 100}}\n"
     ]
    },
    {
     "name": "stderr",
     "output_type": "stream",
     "text": [
      "1it [00:00,  4.53it/s]s]"
     ]
    },
    {
     "name": "stdout",
     "output_type": "stream",
     "text": [
      "{\"train\": {\"eval_examples_count\": 400, \"metrics\": {\"ner_f1\": 98.5706, \"ner_token_f1\": 98.884}, \"time_spent\": \"0:09:01\", \"epochs_done\": 0, \"batches_seen\": 640, \"train_examples_seen\": 256000, \"loss\": 0.0385031895712018}}\n"
     ]
    },
    {
     "name": "stderr",
     "output_type": "stream",
     "text": [
      "\n",
      "58it [00:04, 12.19it/s]\n",
      "2025-09-27 15:57:50.125 INFO in 'deeppavlov.core.trainers.nn_trainer'['nn_trainer'] at line 211: Did not improve on the ner_f1 of 79.0901\n"
     ]
    },
    {
     "name": "stdout",
     "output_type": "stream",
     "text": [
      "{\"valid\": {\"eval_examples_count\": 23152, \"metrics\": {\"ner_f1\": 78.4135, \"ner_token_f1\": 83.1843}, \"time_spent\": \"0:09:06\", \"epochs_done\": 0, \"batches_seen\": 640, \"train_examples_seen\": 256000, \"impatience\": 11, \"patience_limit\": 100}}\n"
     ]
    },
    {
     "name": "stderr",
     "output_type": "stream",
     "text": [
      "1it [00:00,  5.03it/s]s]"
     ]
    },
    {
     "name": "stdout",
     "output_type": "stream",
     "text": [
      "{\"train\": {\"eval_examples_count\": 400, \"metrics\": {\"ner_f1\": 98.6744, \"ner_token_f1\": 98.9547}, \"time_spent\": \"0:09:09\", \"epochs_done\": 0, \"batches_seen\": 650, \"train_examples_seen\": 260000, \"loss\": 0.04209901038557291}}\n"
     ]
    },
    {
     "name": "stderr",
     "output_type": "stream",
     "text": [
      "\n",
      "58it [00:04, 12.17it/s]\n",
      "2025-09-27 15:57:58.139 INFO in 'deeppavlov.core.trainers.nn_trainer'['nn_trainer'] at line 211: Did not improve on the ner_f1 of 79.0901\n"
     ]
    },
    {
     "name": "stdout",
     "output_type": "stream",
     "text": [
      "{\"valid\": {\"eval_examples_count\": 23152, \"metrics\": {\"ner_f1\": 78.4295, \"ner_token_f1\": 83.6932}, \"time_spent\": \"0:09:14\", \"epochs_done\": 0, \"batches_seen\": 650, \"train_examples_seen\": 260000, \"impatience\": 12, \"patience_limit\": 100}}\n"
     ]
    },
    {
     "name": "stderr",
     "output_type": "stream",
     "text": [
      "1it [00:00,  5.01it/s]s]"
     ]
    },
    {
     "name": "stdout",
     "output_type": "stream",
     "text": [
      "{\"train\": {\"eval_examples_count\": 400, \"metrics\": {\"ner_f1\": 99.2593, \"ner_token_f1\": 99.5045}, \"time_spent\": \"0:09:17\", \"epochs_done\": 0, \"batches_seen\": 660, \"train_examples_seen\": 264000, \"loss\": 0.03809701446443796}}\n"
     ]
    },
    {
     "name": "stderr",
     "output_type": "stream",
     "text": [
      "\n",
      "58it [00:04, 12.32it/s]\n",
      "2025-09-27 15:58:06.69 INFO in 'deeppavlov.core.trainers.nn_trainer'['nn_trainer'] at line 211: Did not improve on the ner_f1 of 79.0901\n"
     ]
    },
    {
     "name": "stdout",
     "output_type": "stream",
     "text": [
      "{\"valid\": {\"eval_examples_count\": 23152, \"metrics\": {\"ner_f1\": 77.9182, \"ner_token_f1\": 83.3549}, \"time_spent\": \"0:09:22\", \"epochs_done\": 0, \"batches_seen\": 660, \"train_examples_seen\": 264000, \"impatience\": 13, \"patience_limit\": 100}}\n"
     ]
    },
    {
     "name": "stderr",
     "output_type": "stream",
     "text": [
      "662it [09:16,  1.19it/s]\n",
      "1it [00:00,  4.57it/s]"
     ]
    },
    {
     "name": "stdout",
     "output_type": "stream",
     "text": [
      "{\"train\": {\"eval_examples_count\": 400, \"metrics\": {\"ner_f1\": 98.6954, \"ner_token_f1\": 99.4668}, \"time_spent\": \"0:09:25\", \"epochs_done\": 1, \"batches_seen\": 670, \"train_examples_seen\": 267733, \"loss\": 0.0325859222561121}}\n"
     ]
    },
    {
     "name": "stderr",
     "output_type": "stream",
     "text": [
      "\n",
      "58it [00:05, 10.66it/s]\n",
      "2025-09-27 15:58:14.771 INFO in 'deeppavlov.core.trainers.nn_trainer'['nn_trainer'] at line 211: Did not improve on the ner_f1 of 79.0901\n"
     ]
    },
    {
     "name": "stdout",
     "output_type": "stream",
     "text": [
      "{\"valid\": {\"eval_examples_count\": 23152, \"metrics\": {\"ner_f1\": 77.1726, \"ner_token_f1\": 82.4549}, \"time_spent\": \"0:09:30\", \"epochs_done\": 1, \"batches_seen\": 670, \"train_examples_seen\": 267733, \"impatience\": 14, \"patience_limit\": 100}}\n"
     ]
    },
    {
     "name": "stderr",
     "output_type": "stream",
     "text": [
      "1it [00:00,  5.35it/s]]"
     ]
    },
    {
     "name": "stdout",
     "output_type": "stream",
     "text": [
      "{\"train\": {\"eval_examples_count\": 400, \"metrics\": {\"ner_f1\": 99.1568, \"ner_token_f1\": 99.4258}, \"time_spent\": \"0:09:33\", \"epochs_done\": 1, \"batches_seen\": 680, \"train_examples_seen\": 271733, \"loss\": 0.03261537756770849}}\n"
     ]
    },
    {
     "name": "stderr",
     "output_type": "stream",
     "text": [
      "\n",
      "58it [00:04, 12.31it/s]\n",
      "2025-09-27 15:58:22.639 INFO in 'deeppavlov.core.trainers.nn_trainer'['nn_trainer'] at line 211: Did not improve on the ner_f1 of 79.0901\n"
     ]
    },
    {
     "name": "stdout",
     "output_type": "stream",
     "text": [
      "{\"valid\": {\"eval_examples_count\": 23152, \"metrics\": {\"ner_f1\": 78.1796, \"ner_token_f1\": 83.2873}, \"time_spent\": \"0:09:38\", \"epochs_done\": 1, \"batches_seen\": 680, \"train_examples_seen\": 271733, \"impatience\": 15, \"patience_limit\": 100}}\n"
     ]
    },
    {
     "name": "stderr",
     "output_type": "stream",
     "text": [
      "1it [00:00,  4.78it/s]]"
     ]
    },
    {
     "name": "stdout",
     "output_type": "stream",
     "text": [
      "{\"train\": {\"eval_examples_count\": 400, \"metrics\": {\"ner_f1\": 99.3725, \"ner_token_f1\": 99.8081}, \"time_spent\": \"0:09:41\", \"epochs_done\": 1, \"batches_seen\": 690, \"train_examples_seen\": 275733, \"loss\": 0.03657693658024073}}\n"
     ]
    },
    {
     "name": "stderr",
     "output_type": "stream",
     "text": [
      "\n",
      "58it [00:04, 12.29it/s]\n",
      "2025-09-27 15:58:30.475 INFO in 'deeppavlov.core.trainers.nn_trainer'['nn_trainer'] at line 211: Did not improve on the ner_f1 of 79.0901\n"
     ]
    },
    {
     "name": "stdout",
     "output_type": "stream",
     "text": [
      "{\"valid\": {\"eval_examples_count\": 23152, \"metrics\": {\"ner_f1\": 78.6505, \"ner_token_f1\": 83.7608}, \"time_spent\": \"0:09:46\", \"epochs_done\": 1, \"batches_seen\": 690, \"train_examples_seen\": 275733, \"impatience\": 16, \"patience_limit\": 100}}\n"
     ]
    },
    {
     "name": "stderr",
     "output_type": "stream",
     "text": [
      "1it [00:00,  4.93it/s]]"
     ]
    },
    {
     "name": "stdout",
     "output_type": "stream",
     "text": [
      "{\"train\": {\"eval_examples_count\": 400, \"metrics\": {\"ner_f1\": 99.5899, \"ner_token_f1\": 99.5935}, \"time_spent\": \"0:09:49\", \"epochs_done\": 1, \"batches_seen\": 700, \"train_examples_seen\": 279733, \"loss\": 0.031990569271147254}}\n"
     ]
    },
    {
     "name": "stderr",
     "output_type": "stream",
     "text": [
      "\n",
      "58it [00:05, 11.42it/s]\n",
      "2025-09-27 15:58:38.861 INFO in 'deeppavlov.core.trainers.nn_trainer'['nn_trainer'] at line 211: Did not improve on the ner_f1 of 79.0901\n"
     ]
    },
    {
     "name": "stdout",
     "output_type": "stream",
     "text": [
      "{\"valid\": {\"eval_examples_count\": 23152, \"metrics\": {\"ner_f1\": 78.2613, \"ner_token_f1\": 83.6314}, \"time_spent\": \"0:09:54\", \"epochs_done\": 1, \"batches_seen\": 700, \"train_examples_seen\": 279733, \"impatience\": 17, \"patience_limit\": 100}}\n"
     ]
    },
    {
     "name": "stderr",
     "output_type": "stream",
     "text": [
      "1it [00:00,  4.84it/s]]"
     ]
    },
    {
     "name": "stdout",
     "output_type": "stream",
     "text": [
      "{\"train\": {\"eval_examples_count\": 400, \"metrics\": {\"ner_f1\": 99.3541, \"ner_token_f1\": 99.656}, \"time_spent\": \"0:09:57\", \"epochs_done\": 1, \"batches_seen\": 710, \"train_examples_seen\": 283733, \"loss\": 0.038088930398225786}}\n"
     ]
    },
    {
     "name": "stderr",
     "output_type": "stream",
     "text": [
      "\n",
      "57it [00:04, 11.83it/s]\n",
      "47it [00:40,  1.17it/s]\n",
      "2025-09-27 15:58:46.564 INFO in 'deeppavlov.core.trainers.nn_trainer'['nn_trainer'] at line 336: Stopped training\n",
      "Some weights of the model checkpoint at DeepPavlov/rubert-base-cased were not used when initializing BertForTokenClassification: ['cls.predictions.bias', 'cls.predictions.transform.LayerNorm.weight', 'cls.predictions.decoder.weight', 'cls.predictions.transform.dense.bias', 'cls.seq_relationship.bias', 'cls.predictions.decoder.bias', 'cls.predictions.transform.dense.weight', 'cls.seq_relationship.weight', 'cls.predictions.transform.LayerNorm.bias']\n",
      "- This IS expected if you are initializing BertForTokenClassification from the checkpoint of a model trained on another task or with another architecture (e.g. initializing a BertForSequenceClassification model from a BertForPreTraining model).\n",
      "- This IS NOT expected if you are initializing BertForTokenClassification from the checkpoint of a model that you expect to be exactly identical (initializing a BertForSequenceClassification model from a BertForSequenceClassification model).\n",
      "Some weights of BertForTokenClassification were not initialized from the model checkpoint at DeepPavlov/rubert-base-cased and are newly initialized: ['classifier.weight', 'classifier.bias']\n",
      "You should probably TRAIN this model on a down-stream task to be able to use it for predictions and inference.\n",
      "58it [00:04, 12.61it/s]\n"
     ]
    },
    {
     "name": "stdout",
     "output_type": "stream",
     "text": [
      "{\"valid\": {\"eval_examples_count\": 23152, \"metrics\": {\"ner_f1\": 79.0901, \"ner_token_f1\": 83.9814}, \"time_spent\": \"0:00:05\"}}\n"
     ]
    },
    {
     "name": "stderr",
     "output_type": "stream",
     "text": [
      "7it [00:00, 14.49it/s]"
     ]
    },
    {
     "name": "stdout",
     "output_type": "stream",
     "text": [
      "{\"test\": {\"eval_examples_count\": 2572, \"metrics\": {\"ner_f1\": 78.0488, \"ner_token_f1\": 83.511}, \"time_spent\": \"0:00:01\"}}\n"
     ]
    },
    {
     "name": "stderr",
     "output_type": "stream",
     "text": [
      "\n",
      "Some weights of the model checkpoint at DeepPavlov/rubert-base-cased were not used when initializing BertForTokenClassification: ['cls.predictions.bias', 'cls.predictions.transform.LayerNorm.weight', 'cls.predictions.decoder.weight', 'cls.predictions.transform.dense.bias', 'cls.seq_relationship.bias', 'cls.predictions.decoder.bias', 'cls.predictions.transform.dense.weight', 'cls.seq_relationship.weight', 'cls.predictions.transform.LayerNorm.bias']\n",
      "- This IS expected if you are initializing BertForTokenClassification from the checkpoint of a model trained on another task or with another architecture (e.g. initializing a BertForSequenceClassification model from a BertForPreTraining model).\n",
      "- This IS NOT expected if you are initializing BertForTokenClassification from the checkpoint of a model that you expect to be exactly identical (initializing a BertForSequenceClassification model from a BertForSequenceClassification model).\n",
      "Some weights of BertForTokenClassification were not initialized from the model checkpoint at DeepPavlov/rubert-base-cased and are newly initialized: ['classifier.weight', 'classifier.bias']\n",
      "You should probably TRAIN this model on a down-stream task to be able to use it for predictions and inference.\n"
     ]
    }
   ],
   "source": [
    "\n",
    "ner_model = train_model(model_config, download=True)"
   ]
  },
  {
   "cell_type": "code",
   "execution_count": 10,
   "id": "c25a8b85",
   "metadata": {},
   "outputs": [
    {
     "data": {
      "text/plain": [
       "{'dataset_reader': {'class_name': 'conll2003_reader',\n",
       "  'data_path': '../datasets/conll/',\n",
       "  'dataset_name': 'collection3',\n",
       "  'provide_pos': False,\n",
       "  'provide_chunk': False,\n",
       "  'iobes': True},\n",
       " 'dataset_iterator': {'class_name': 'data_learning_iterator'},\n",
       " 'chainer': {'in': ['x'],\n",
       "  'in_y': ['y'],\n",
       "  'pipe': [{'class_name': 'torch_transformers_ner_preprocessor',\n",
       "    'vocab_file': 'DeepPavlov/rubert-base-cased',\n",
       "    'do_lower_case': False,\n",
       "    'max_seq_length': 512,\n",
       "    'max_subword_length': 15,\n",
       "    'token_masking_prob': 0.0,\n",
       "    'in': ['x'],\n",
       "    'out': ['x_tokens',\n",
       "     'x_subword_tokens',\n",
       "     'x_subword_tok_ids',\n",
       "     'startofword_markers',\n",
       "     'attention_mask',\n",
       "     'tokens_offsets']},\n",
       "   {'id': 'tag_vocab',\n",
       "    'class_name': 'simple_vocab',\n",
       "    'unk_token': ['O'],\n",
       "    'pad_with_zeros': True,\n",
       "    'save_path': '../models/tag.dict',\n",
       "    'load_path': '../models/tag.dict',\n",
       "    'fit_on': ['y'],\n",
       "    'in': ['y'],\n",
       "    'out': ['y_ind']},\n",
       "   {'class_name': 'torch_transformers_sequence_tagger',\n",
       "    'n_tags': '#tag_vocab.len',\n",
       "    'pretrained_bert': 'DeepPavlov/rubert-base-cased',\n",
       "    'attention_probs_keep_prob': 0.5,\n",
       "    'encoder_layer_ids': [-1],\n",
       "    'optimizer': 'AdamW',\n",
       "    'optimizer_parameters': {'lr': 2e-05,\n",
       "     'weight_decay': 1e-06,\n",
       "     'betas': [0.9, 0.999],\n",
       "     'eps': 1e-06},\n",
       "    'clip_norm': 1.0,\n",
       "    'min_learning_rate': 1e-07,\n",
       "    'learning_rate_drop_patience': 30,\n",
       "    'learning_rate_drop_div': 1.5,\n",
       "    'load_before_drop': True,\n",
       "    'save_path': '../models',\n",
       "    'load_path': '../models',\n",
       "    'in': ['x_subword_tok_ids', 'attention_mask', 'startofword_markers'],\n",
       "    'in_y': ['y_ind'],\n",
       "    'out': ['y_pred_ind', 'probas']},\n",
       "   {'ref': 'tag_vocab', 'in': ['y_pred_ind'], 'out': ['y_pred']}],\n",
       "  'out': ['x_tokens', 'y_pred']},\n",
       " 'train': {'epochs': 30,\n",
       "  'batch_size': 14,\n",
       "  'metrics': [{'name': 'ner_f1', 'inputs': ['y', 'y_pred']},\n",
       "   {'name': 'ner_token_f1', 'inputs': ['y', 'y_pred']}],\n",
       "  'validation_patience': 100,\n",
       "  'val_every_n_batches': 20,\n",
       "  'log_every_n_batches': 20,\n",
       "  'show_examples': False,\n",
       "  'pytest_max_batches': 2,\n",
       "  'pytest_batch_size': 8,\n",
       "  'evaluation_targets': ['valid', 'test'],\n",
       "  'class_name': 'torch_trainer'},\n",
       " 'metadata': {'variables': {'ROOT_PATH': '~/.deeppavlov',\n",
       "   'DOWNLOADS_PATH': '~/.deeppavlov/downloads',\n",
       "   'MODELS_PATH': '~/.deeppavlov/models',\n",
       "   'TRANSFORMER': 'DeepPavlov/rubert-base-cased',\n",
       "   'MODEL_PATH': '../models'},\n",
       "  'requirements': ['c:\\\\Users\\\\lexan\\\\miniconda3\\\\envs\\\\dp310\\\\lib\\\\site-packages\\\\deeppavlov/requirements/transformers.txt',\n",
       "   'c:\\\\Users\\\\lexan\\\\miniconda3\\\\envs\\\\dp310\\\\lib\\\\site-packages\\\\deeppavlov/requirements/pytorch.txt',\n",
       "   'c:\\\\Users\\\\lexan\\\\miniconda3\\\\envs\\\\dp310\\\\lib\\\\site-packages\\\\deeppavlov/requirements/torchcrf.txt',\n",
       "   'c:\\\\Users\\\\lexan\\\\miniconda3\\\\envs\\\\dp310\\\\lib\\\\site-packages\\\\deeppavlov/requirements/sentencepiece.txt',\n",
       "   'c:\\\\Users\\\\lexan\\\\miniconda3\\\\envs\\\\dp310\\\\lib\\\\site-packages\\\\deeppavlov/requirements/protobuf.txt']}}"
      ]
     },
     "execution_count": 10,
     "metadata": {},
     "output_type": "execute_result"
    }
   ],
   "source": [
    "model_config"
   ]
  },
  {
   "cell_type": "code",
   "execution_count": null,
   "id": "d5e399f2",
   "metadata": {},
   "outputs": [],
   "source": []
  },
  {
   "cell_type": "code",
   "execution_count": 3,
   "id": "ca8fc0e0",
   "metadata": {},
   "outputs": [
    {
     "name": "stderr",
     "output_type": "stream",
     "text": [
      "c:\\Users\\lexan\\miniconda3\\envs\\dp310\\lib\\site-packages\\tqdm\\auto.py:22: TqdmWarning: IProgress not found. Please update jupyter and ipywidgets. See https://ipywidgets.readthedocs.io/en/stable/user_install.html\n",
      "  from .autonotebook import tqdm as notebook_tqdm\n",
      "c:\\Users\\lexan\\miniconda3\\envs\\dp310\\lib\\site-packages\\huggingface_hub\\file_download.py:945: FutureWarning: `resume_download` is deprecated and will be removed in version 1.0.0. Downloads always resume when possible. If you want to force a new download, use `force_download=True`.\n",
      "  warnings.warn(\n",
      "Some weights of the model checkpoint at DeepPavlov/rubert-base-cased were not used when initializing BertForTokenClassification: ['cls.seq_relationship.bias', 'cls.seq_relationship.weight', 'cls.predictions.decoder.bias', 'cls.predictions.decoder.weight', 'cls.predictions.transform.dense.weight', 'cls.predictions.bias', 'cls.predictions.transform.dense.bias', 'cls.predictions.transform.LayerNorm.weight', 'cls.predictions.transform.LayerNorm.bias']\n",
      "- This IS expected if you are initializing BertForTokenClassification from the checkpoint of a model trained on another task or with another architecture (e.g. initializing a BertForSequenceClassification model from a BertForPreTraining model).\n",
      "- This IS NOT expected if you are initializing BertForTokenClassification from the checkpoint of a model that you expect to be exactly identical (initializing a BertForSequenceClassification model from a BertForSequenceClassification model).\n",
      "Some weights of BertForTokenClassification were not initialized from the model checkpoint at DeepPavlov/rubert-base-cased and are newly initialized: ['classifier.weight', 'classifier.bias']\n",
      "You should probably TRAIN this model on a down-stream task to be able to use it for predictions and inference.\n"
     ]
    }
   ],
   "source": [
    "from deeppavlov import build_model\n",
    "\n",
    "ner_model = build_model(model_config, download=False)"
   ]
  },
  {
   "cell_type": "code",
   "execution_count": 19,
   "id": "e346a202",
   "metadata": {},
   "outputs": [
    {
     "data": {
      "text/plain": [
       "[[['artfruit', 'нектари']], [['S-BRAND', 'S-TYPE']]]"
      ]
     },
     "execution_count": 19,
     "metadata": {},
     "output_type": "execute_result"
    }
   ],
   "source": [
    "ner_model(['artfruit нектари'])"
   ]
  },
  {
   "cell_type": "code",
   "execution_count": null,
   "id": "3d4d8fee",
   "metadata": {},
   "outputs": [],
   "source": []
  }
 ],
 "metadata": {
  "kernelspec": {
   "display_name": "dp310",
   "language": "python",
   "name": "python3"
  },
  "language_info": {
   "codemirror_mode": {
    "name": "ipython",
    "version": 3
   },
   "file_extension": ".py",
   "mimetype": "text/x-python",
   "name": "python",
   "nbconvert_exporter": "python",
   "pygments_lexer": "ipython3",
   "version": "3.10.18"
  }
 },
 "nbformat": 4,
 "nbformat_minor": 5
}
