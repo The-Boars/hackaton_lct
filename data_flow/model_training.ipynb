{
 "cells": [
  {
   "cell_type": "code",
   "execution_count": 4,
   "id": "57024b6b",
   "metadata": {},
   "outputs": [
    {
     "name": "stderr",
     "output_type": "stream",
     "text": [
      "2025-09-23 17:21:53.233 INFO in 'deeppavlov.core.data.utils'['utils'] at line 97: Downloading from http://files.deeppavlov.ai/v1/ner/ner_rus_bert_coll3_torch.tar.gz to C:\\Users\\lexan\\.deeppavlov\\models\\ner_rus_bert_coll3_torch.tar.gz\n",
      "100%|██████████| 1.44G/1.44G [02:20<00:00, 10.2MB/s]\n",
      "2025-09-23 17:24:14.675 INFO in 'deeppavlov.core.data.utils'['utils'] at line 284: Extracting C:\\Users\\lexan\\.deeppavlov\\models\\ner_rus_bert_coll3_torch.tar.gz archive into C:\\Users\\lexan\\.deeppavlov\\models\\ner_rus_bert_coll3_torch\n",
      "c:\\Users\\lexan\\miniconda3\\envs\\dp310\\lib\\site-packages\\huggingface_hub\\file_download.py:945: FutureWarning: `resume_download` is deprecated and will be removed in version 1.0.0. Downloads always resume when possible. If you want to force a new download, use `force_download=True`.\n",
      "  warnings.warn(\n",
      "Some weights of the model checkpoint at DeepPavlov/rubert-base-cased were not used when initializing BertForTokenClassification: ['cls.predictions.decoder.weight', 'cls.seq_relationship.weight', 'cls.predictions.transform.LayerNorm.bias', 'cls.predictions.transform.dense.weight', 'cls.predictions.decoder.bias', 'cls.seq_relationship.bias', 'cls.predictions.transform.dense.bias', 'cls.predictions.bias', 'cls.predictions.transform.LayerNorm.weight']\n",
      "- This IS expected if you are initializing BertForTokenClassification from the checkpoint of a model trained on another task or with another architecture (e.g. initializing a BertForSequenceClassification model from a BertForPreTraining model).\n",
      "- This IS NOT expected if you are initializing BertForTokenClassification from the checkpoint of a model that you expect to be exactly identical (initializing a BertForSequenceClassification model from a BertForSequenceClassification model).\n",
      "Some weights of BertForTokenClassification were not initialized from the model checkpoint at DeepPavlov/rubert-base-cased and are newly initialized: ['classifier.weight', 'classifier.bias']\n",
      "You should probably TRAIN this model on a down-stream task to be able to use it for predictions and inference.\n"
     ]
    }
   ],
   "source": [
    "from deeppavlov import build_model\n",
    "\n",
    "ner_model = build_model('ner_collection3_bert', download=True, install=True)\n"
   ]
  },
  {
   "cell_type": "code",
   "execution_count": 1,
   "id": "cebaef7b",
   "metadata": {},
   "outputs": [
    {
     "name": "stdout",
     "output_type": "stream",
     "text": [
      "~/.deeppavlov/downloads/collection3/\n"
     ]
    }
   ],
   "source": [
    "from deeppavlov import train_model, build_model \n",
    "from deeppavlov.core.commands.utils import parse_config\n",
    "\n",
    "PROJECT_DIR = '..'\n",
    "MODEL_NAME = 'model'\n",
    "\n",
    "model_config = parse_config('ner_collection3_bert')\n",
    "\n",
    "# dataset that the model was trained on\n",
    "print(model_config['dataset_reader']['data_path'])\n",
    "\n",
    "model_config['dataset_reader']['data_path'] = PROJECT_DIR + '/datasets/conll/'\n",
    "\n",
    "del model_config['metadata']['download']\n",
    "\n",
    "model_config['metadata']['variables']['MODEL_PATH'] = PROJECT_DIR + '/models/' + MODEL_NAME\n",
    "\n",
    "model_config['chainer']['pipe'][1]['save_path'] = PROJECT_DIR + '/models/tag.dict'\n",
    "model_config['chainer']['pipe'][1]['load_path'] = PROJECT_DIR + '/models/tag.dict'\n",
    "\n",
    "model_config['chainer']['pipe'][2]['save_path'] = PROJECT_DIR + '/models/' + MODEL_NAME\n",
    "model_config['chainer']['pipe'][2]['load_path'] = PROJECT_DIR + '/models/' + MODEL_NAME\n",
    "\n",
    "model_config['train']['batch_size'] = 500\n",
    "\n",
    "model_config['train']['log_every_n_batches'] = 10\n",
    "model_config['train']['val_every_n_batches'] = 10\n",
    "\n"
   ]
  },
  {
   "cell_type": "code",
   "execution_count": 3,
   "id": "ecd27e03",
   "metadata": {},
   "outputs": [
    {
     "name": "stderr",
     "output_type": "stream",
     "text": [
      "2025-09-25 20:47:47.554 WARNING in 'deeppavlov.core.trainers.fit_trainer'['fit_trainer'] at line 66: TorchTrainer got additional init parameters ['pytest_max_batches', 'pytest_batch_size'] that will be ignored:\n",
      "2025-09-25 20:47:57.802 INFO in 'deeppavlov.core.data.simple_vocab'['simple_vocab'] at line 104: [saving vocabulary to C:\\Users\\lexan\\OneDrive\\Documents\\hackaton_lct\\models\\tag.dict]\n",
      "Some weights of the model checkpoint at DeepPavlov/rubert-base-cased were not used when initializing BertForTokenClassification: ['cls.seq_relationship.bias', 'cls.seq_relationship.weight', 'cls.predictions.transform.LayerNorm.bias', 'cls.predictions.transform.LayerNorm.weight', 'cls.predictions.transform.dense.bias', 'cls.predictions.transform.dense.weight', 'cls.predictions.decoder.weight', 'cls.predictions.bias', 'cls.predictions.decoder.bias']\n",
      "- This IS expected if you are initializing BertForTokenClassification from the checkpoint of a model trained on another task or with another architecture (e.g. initializing a BertForSequenceClassification model from a BertForPreTraining model).\n",
      "- This IS NOT expected if you are initializing BertForTokenClassification from the checkpoint of a model that you expect to be exactly identical (initializing a BertForSequenceClassification model from a BertForSequenceClassification model).\n",
      "Some weights of BertForTokenClassification were not initialized from the model checkpoint at DeepPavlov/rubert-base-cased and are newly initialized: ['classifier.bias', 'classifier.weight']\n",
      "You should probably TRAIN this model on a down-stream task to be able to use it for predictions and inference.\n",
      "8it [00:00, 14.09it/s]\n",
      "2025-09-25 20:48:02.198 INFO in 'deeppavlov.core.trainers.nn_trainer'['nn_trainer'] at line 198: Initial best ner_f1 of 85.8226\n"
     ]
    },
    {
     "name": "stdout",
     "output_type": "stream",
     "text": [
      "{\"valid\": {\"eval_examples_count\": 3544, \"metrics\": {\"ner_f1\": 85.8226, \"ner_token_f1\": 85.961}, \"time_spent\": \"0:00:01\", \"epochs_done\": 0, \"batches_seen\": 0, \"train_examples_seen\": 0, \"impatience\": 0, \"patience_limit\": 100}}\n"
     ]
    },
    {
     "name": "stderr",
     "output_type": "stream",
     "text": [
      "1it [00:00, 11.25it/s]"
     ]
    },
    {
     "name": "stdout",
     "output_type": "stream",
     "text": [
      "{\"train\": {\"eval_examples_count\": 500, \"metrics\": {\"ner_f1\": 99.7455, \"ner_token_f1\": 99.8559}, \"time_spent\": \"0:00:03\", \"epochs_done\": 0, \"batches_seen\": 10, \"train_examples_seen\": 5000, \"loss\": 0.014400786440819501}}\n"
     ]
    },
    {
     "name": "stderr",
     "output_type": "stream",
     "text": [
      "\n",
      "8it [00:00, 14.01it/s]\n",
      "2025-09-25 20:48:05.122 INFO in 'deeppavlov.core.trainers.nn_trainer'['nn_trainer'] at line 211: Did not improve on the ner_f1 of 85.8226\n"
     ]
    },
    {
     "name": "stdout",
     "output_type": "stream",
     "text": [
      "{\"valid\": {\"eval_examples_count\": 3544, \"metrics\": {\"ner_f1\": 85.6522, \"ner_token_f1\": 85.9082}, \"time_spent\": \"0:00:04\", \"epochs_done\": 0, \"batches_seen\": 10, \"train_examples_seen\": 5000, \"impatience\": 1, \"patience_limit\": 100}}\n"
     ]
    },
    {
     "name": "stderr",
     "output_type": "stream",
     "text": [
      "1it [00:00, 11.17it/s]]"
     ]
    },
    {
     "name": "stdout",
     "output_type": "stream",
     "text": [
      "{\"train\": {\"eval_examples_count\": 500, \"metrics\": {\"ner_f1\": 98.719, \"ner_token_f1\": 99.7859}, \"time_spent\": \"0:00:06\", \"epochs_done\": 0, \"batches_seen\": 20, \"train_examples_seen\": 10000, \"loss\": 0.014495344087481498}}\n"
     ]
    },
    {
     "name": "stderr",
     "output_type": "stream",
     "text": [
      "\n",
      "8it [00:00, 13.55it/s]\n",
      "2025-09-25 20:48:08.84 INFO in 'deeppavlov.core.trainers.nn_trainer'['nn_trainer'] at line 211: Did not improve on the ner_f1 of 85.8226\n"
     ]
    },
    {
     "name": "stdout",
     "output_type": "stream",
     "text": [
      "{\"valid\": {\"eval_examples_count\": 3544, \"metrics\": {\"ner_f1\": 85.6369, \"ner_token_f1\": 85.7939}, \"time_spent\": \"0:00:07\", \"epochs_done\": 0, \"batches_seen\": 20, \"train_examples_seen\": 10000, \"impatience\": 2, \"patience_limit\": 100}}\n"
     ]
    },
    {
     "name": "stderr",
     "output_type": "stream",
     "text": [
      "1it [00:00,  9.94it/s]]"
     ]
    },
    {
     "name": "stdout",
     "output_type": "stream",
     "text": [
      "{\"train\": {\"eval_examples_count\": 500, \"metrics\": {\"ner_f1\": 99.3232, \"ner_token_f1\": 99.6466}, \"time_spent\": \"0:00:09\", \"epochs_done\": 0, \"batches_seen\": 30, \"train_examples_seen\": 15000, \"loss\": 0.015175881329923868}}\n"
     ]
    },
    {
     "name": "stderr",
     "output_type": "stream",
     "text": [
      "\n",
      "8it [00:00, 13.86it/s]\n",
      "2025-09-25 20:48:11.32 INFO in 'deeppavlov.core.trainers.nn_trainer'['nn_trainer'] at line 211: Did not improve on the ner_f1 of 85.8226\n"
     ]
    },
    {
     "name": "stdout",
     "output_type": "stream",
     "text": [
      "{\"valid\": {\"eval_examples_count\": 3544, \"metrics\": {\"ner_f1\": 85.3616, \"ner_token_f1\": 85.5094}, \"time_spent\": \"0:00:10\", \"epochs_done\": 0, \"batches_seen\": 30, \"train_examples_seen\": 15000, \"impatience\": 3, \"patience_limit\": 100}}\n"
     ]
    },
    {
     "name": "stderr",
     "output_type": "stream",
     "text": [
      "1it [00:00, 11.35it/s]]"
     ]
    },
    {
     "name": "stdout",
     "output_type": "stream",
     "text": [
      "{\"train\": {\"eval_examples_count\": 500, \"metrics\": {\"ner_f1\": 99.1708, \"ner_token_f1\": 99.5162}, \"time_spent\": \"0:00:12\", \"epochs_done\": 0, \"batches_seen\": 40, \"train_examples_seen\": 20000, \"loss\": 0.015492152888327837}}\n"
     ]
    },
    {
     "name": "stderr",
     "output_type": "stream",
     "text": [
      "\n",
      "8it [00:00, 14.03it/s]\n",
      "2025-09-25 20:48:13.986 INFO in 'deeppavlov.core.trainers.nn_trainer'['nn_trainer'] at line 211: Did not improve on the ner_f1 of 85.8226\n"
     ]
    },
    {
     "name": "stdout",
     "output_type": "stream",
     "text": [
      "{\"valid\": {\"eval_examples_count\": 3544, \"metrics\": {\"ner_f1\": 85.0773, \"ner_token_f1\": 85.2591}, \"time_spent\": \"0:00:13\", \"epochs_done\": 0, \"batches_seen\": 40, \"train_examples_seen\": 20000, \"impatience\": 4, \"patience_limit\": 100}}\n"
     ]
    },
    {
     "name": "stderr",
     "output_type": "stream",
     "text": [
      "47it [00:13,  3.50it/s]\n",
      "1it [00:00, 11.65it/s]"
     ]
    },
    {
     "name": "stdout",
     "output_type": "stream",
     "text": [
      "{\"train\": {\"eval_examples_count\": 500, \"metrics\": {\"ner_f1\": 99.1497, \"ner_token_f1\": 99.5652}, \"time_spent\": \"0:00:15\", \"epochs_done\": 1, \"batches_seen\": 50, \"train_examples_seen\": 24814, \"loss\": 0.015126547776162624}}\n"
     ]
    },
    {
     "name": "stderr",
     "output_type": "stream",
     "text": [
      "\n",
      "8it [00:00, 13.68it/s]\n",
      "2025-09-25 20:48:16.957 INFO in 'deeppavlov.core.trainers.nn_trainer'['nn_trainer'] at line 211: Did not improve on the ner_f1 of 85.8226\n"
     ]
    },
    {
     "name": "stdout",
     "output_type": "stream",
     "text": [
      "{\"valid\": {\"eval_examples_count\": 3544, \"metrics\": {\"ner_f1\": 85.5286, \"ner_token_f1\": 85.6687}, \"time_spent\": \"0:00:16\", \"epochs_done\": 1, \"batches_seen\": 50, \"train_examples_seen\": 24814, \"impatience\": 5, \"patience_limit\": 100}}\n"
     ]
    },
    {
     "name": "stderr",
     "output_type": "stream",
     "text": [
      "1it [00:00,  9.39it/s]]"
     ]
    },
    {
     "name": "stdout",
     "output_type": "stream",
     "text": [
      "{\"train\": {\"eval_examples_count\": 500, \"metrics\": {\"ner_f1\": 99.2759, \"ner_token_f1\": 99.3898}, \"time_spent\": \"0:00:18\", \"epochs_done\": 1, \"batches_seen\": 60, \"train_examples_seen\": 29814, \"loss\": 0.012791097071021796}}\n"
     ]
    },
    {
     "name": "stderr",
     "output_type": "stream",
     "text": [
      "\n",
      "8it [00:00, 12.47it/s]\n",
      "2025-09-25 20:48:20.34 INFO in 'deeppavlov.core.trainers.nn_trainer'['nn_trainer'] at line 211: Did not improve on the ner_f1 of 85.8226\n"
     ]
    },
    {
     "name": "stdout",
     "output_type": "stream",
     "text": [
      "{\"valid\": {\"eval_examples_count\": 3544, \"metrics\": {\"ner_f1\": 85.4235, \"ner_token_f1\": 85.551}, \"time_spent\": \"0:00:19\", \"epochs_done\": 1, \"batches_seen\": 60, \"train_examples_seen\": 29814, \"impatience\": 6, \"patience_limit\": 100}}\n"
     ]
    },
    {
     "name": "stderr",
     "output_type": "stream",
     "text": [
      "1it [00:00, 11.05it/s]]"
     ]
    },
    {
     "name": "stdout",
     "output_type": "stream",
     "text": [
      "{\"train\": {\"eval_examples_count\": 500, \"metrics\": {\"ner_f1\": 99.4958, \"ner_token_f1\": 99.7892}, \"time_spent\": \"0:00:21\", \"epochs_done\": 1, \"batches_seen\": 70, \"train_examples_seen\": 34814, \"loss\": 0.013854802399873734}}\n"
     ]
    },
    {
     "name": "stderr",
     "output_type": "stream",
     "text": [
      "\n",
      "8it [00:00, 13.73it/s]\n",
      "2025-09-25 20:48:23.30 INFO in 'deeppavlov.core.trainers.nn_trainer'['nn_trainer'] at line 211: Did not improve on the ner_f1 of 85.8226\n"
     ]
    },
    {
     "name": "stdout",
     "output_type": "stream",
     "text": [
      "{\"valid\": {\"eval_examples_count\": 3544, \"metrics\": {\"ner_f1\": 85.6326, \"ner_token_f1\": 85.7181}, \"time_spent\": \"0:00:22\", \"epochs_done\": 1, \"batches_seen\": 70, \"train_examples_seen\": 34814, \"impatience\": 7, \"patience_limit\": 100}}\n"
     ]
    },
    {
     "name": "stderr",
     "output_type": "stream",
     "text": [
      "1it [00:00, 10.81it/s]]"
     ]
    },
    {
     "name": "stdout",
     "output_type": "stream",
     "text": [
      "{\"train\": {\"eval_examples_count\": 500, \"metrics\": {\"ner_f1\": 99.3377, \"ner_token_f1\": 99.8573}, \"time_spent\": \"0:00:24\", \"epochs_done\": 1, \"batches_seen\": 80, \"train_examples_seen\": 39814, \"loss\": 0.01563777020201087}}\n"
     ]
    },
    {
     "name": "stderr",
     "output_type": "stream",
     "text": [
      "\n",
      "8it [00:00, 13.68it/s]\n",
      "2025-09-25 20:48:26.3 INFO in 'deeppavlov.core.trainers.nn_trainer'['nn_trainer'] at line 211: Did not improve on the ner_f1 of 85.8226\n"
     ]
    },
    {
     "name": "stdout",
     "output_type": "stream",
     "text": [
      "{\"valid\": {\"eval_examples_count\": 3544, \"metrics\": {\"ner_f1\": 85.4232, \"ner_token_f1\": 85.4864}, \"time_spent\": \"0:00:25\", \"epochs_done\": 1, \"batches_seen\": 80, \"train_examples_seen\": 39814, \"impatience\": 8, \"patience_limit\": 100}}\n"
     ]
    },
    {
     "name": "stderr",
     "output_type": "stream",
     "text": [
      "1it [00:00, 10.98it/s]]"
     ]
    },
    {
     "name": "stdout",
     "output_type": "stream",
     "text": [
      "{\"train\": {\"eval_examples_count\": 500, \"metrics\": {\"ner_f1\": 99.746, \"ner_token_f1\": 99.7815}, \"time_spent\": \"0:00:27\", \"epochs_done\": 1, \"batches_seen\": 90, \"train_examples_seen\": 44814, \"loss\": 0.015666563343256713}}\n"
     ]
    },
    {
     "name": "stderr",
     "output_type": "stream",
     "text": [
      "\n",
      "8it [00:00, 13.31it/s]\n",
      "2025-09-25 20:48:28.982 INFO in 'deeppavlov.core.trainers.nn_trainer'['nn_trainer'] at line 211: Did not improve on the ner_f1 of 85.8226\n"
     ]
    },
    {
     "name": "stdout",
     "output_type": "stream",
     "text": [
      "{\"valid\": {\"eval_examples_count\": 3544, \"metrics\": {\"ner_f1\": 85.4896, \"ner_token_f1\": 85.5511}, \"time_spent\": \"0:00:28\", \"epochs_done\": 1, \"batches_seen\": 90, \"train_examples_seen\": 44814, \"impatience\": 9, \"patience_limit\": 100}}\n"
     ]
    },
    {
     "name": "stderr",
     "output_type": "stream",
     "text": [
      "47it [00:14,  3.30it/s]\n",
      "1it [00:00, 11.30it/s]"
     ]
    },
    {
     "name": "stdout",
     "output_type": "stream",
     "text": [
      "{\"train\": {\"eval_examples_count\": 500, \"metrics\": {\"ner_f1\": 99.1064, \"ner_token_f1\": 99.6535}, \"time_spent\": \"0:00:30\", \"epochs_done\": 2, \"batches_seen\": 100, \"train_examples_seen\": 49628, \"loss\": 0.014206699980422854}}\n"
     ]
    },
    {
     "name": "stderr",
     "output_type": "stream",
     "text": [
      "\n",
      "8it [00:00, 14.11it/s]\n",
      "2025-09-25 20:48:31.847 INFO in 'deeppavlov.core.trainers.nn_trainer'['nn_trainer'] at line 211: Did not improve on the ner_f1 of 85.8226\n"
     ]
    },
    {
     "name": "stdout",
     "output_type": "stream",
     "text": [
      "{\"valid\": {\"eval_examples_count\": 3544, \"metrics\": {\"ner_f1\": 85.2065, \"ner_token_f1\": 85.2858}, \"time_spent\": \"0:00:31\", \"epochs_done\": 2, \"batches_seen\": 100, \"train_examples_seen\": 49628, \"impatience\": 10, \"patience_limit\": 100}}\n"
     ]
    },
    {
     "name": "stderr",
     "output_type": "stream",
     "text": [
      "1it [00:00,  4.78it/s]]"
     ]
    },
    {
     "name": "stdout",
     "output_type": "stream",
     "text": [
      "{\"train\": {\"eval_examples_count\": 500, \"metrics\": {\"ner_f1\": 98.9916, \"ner_token_f1\": 99.6451}, \"time_spent\": \"0:00:33\", \"epochs_done\": 2, \"batches_seen\": 110, \"train_examples_seen\": 54628, \"loss\": 0.012302485946565866}}\n"
     ]
    },
    {
     "name": "stderr",
     "output_type": "stream",
     "text": [
      "\n",
      "8it [00:00, 13.93it/s]\n",
      "2025-09-25 20:48:34.895 INFO in 'deeppavlov.core.trainers.nn_trainer'['nn_trainer'] at line 211: Did not improve on the ner_f1 of 85.8226\n"
     ]
    },
    {
     "name": "stdout",
     "output_type": "stream",
     "text": [
      "{\"valid\": {\"eval_examples_count\": 3544, \"metrics\": {\"ner_f1\": 85.6214, \"ner_token_f1\": 85.6271}, \"time_spent\": \"0:00:34\", \"epochs_done\": 2, \"batches_seen\": 110, \"train_examples_seen\": 54628, \"impatience\": 11, \"patience_limit\": 100}}\n"
     ]
    },
    {
     "name": "stderr",
     "output_type": "stream",
     "text": [
      "1it [00:00, 11.36it/s]]"
     ]
    },
    {
     "name": "stdout",
     "output_type": "stream",
     "text": [
      "{\"train\": {\"eval_examples_count\": 500, \"metrics\": {\"ner_f1\": 99.5857, \"ner_token_f1\": 99.7191}, \"time_spent\": \"0:00:36\", \"epochs_done\": 2, \"batches_seen\": 120, \"train_examples_seen\": 59628, \"loss\": 0.012514564208686352}}\n"
     ]
    },
    {
     "name": "stderr",
     "output_type": "stream",
     "text": [
      "\n",
      "8it [00:00, 13.81it/s]\n",
      "2025-09-25 20:48:37.794 INFO in 'deeppavlov.core.trainers.nn_trainer'['nn_trainer'] at line 211: Did not improve on the ner_f1 of 85.8226\n"
     ]
    },
    {
     "name": "stdout",
     "output_type": "stream",
     "text": [
      "{\"valid\": {\"eval_examples_count\": 3544, \"metrics\": {\"ner_f1\": 85.5057, \"ner_token_f1\": 85.5819}, \"time_spent\": \"0:00:37\", \"epochs_done\": 2, \"batches_seen\": 120, \"train_examples_seen\": 59628, \"impatience\": 12, \"patience_limit\": 100}}\n"
     ]
    },
    {
     "name": "stderr",
     "output_type": "stream",
     "text": [
      "1it [00:00, 11.02it/s]]"
     ]
    },
    {
     "name": "stdout",
     "output_type": "stream",
     "text": [
      "{\"train\": {\"eval_examples_count\": 500, \"metrics\": {\"ner_f1\": 99.7523, \"ner_token_f1\": 100.0}, \"time_spent\": \"0:00:39\", \"epochs_done\": 2, \"batches_seen\": 130, \"train_examples_seen\": 64628, \"loss\": 0.012563182273879647}}\n"
     ]
    },
    {
     "name": "stderr",
     "output_type": "stream",
     "text": [
      "\n",
      "8it [00:00, 13.32it/s]\n",
      "2025-09-25 20:48:40.822 INFO in 'deeppavlov.core.trainers.nn_trainer'['nn_trainer'] at line 211: Did not improve on the ner_f1 of 85.8226\n"
     ]
    },
    {
     "name": "stdout",
     "output_type": "stream",
     "text": [
      "{\"valid\": {\"eval_examples_count\": 3544, \"metrics\": {\"ner_f1\": 85.5045, \"ner_token_f1\": 85.6307}, \"time_spent\": \"0:00:40\", \"epochs_done\": 2, \"batches_seen\": 130, \"train_examples_seen\": 64628, \"impatience\": 13, \"patience_limit\": 100}}\n"
     ]
    },
    {
     "name": "stderr",
     "output_type": "stream",
     "text": [
      "1it [00:00, 11.46it/s]]"
     ]
    },
    {
     "name": "stdout",
     "output_type": "stream",
     "text": [
      "{\"train\": {\"eval_examples_count\": 500, \"metrics\": {\"ner_f1\": 99.5033, \"ner_token_f1\": 99.5053}, \"time_spent\": \"0:00:42\", \"epochs_done\": 2, \"batches_seen\": 140, \"train_examples_seen\": 69628, \"loss\": 0.01196716339327395}}\n"
     ]
    },
    {
     "name": "stderr",
     "output_type": "stream",
     "text": [
      "\n",
      "8it [00:00, 13.95it/s]\n",
      "2025-09-25 20:48:43.790 INFO in 'deeppavlov.core.trainers.nn_trainer'['nn_trainer'] at line 211: Did not improve on the ner_f1 of 85.8226\n"
     ]
    },
    {
     "name": "stdout",
     "output_type": "stream",
     "text": [
      "{\"valid\": {\"eval_examples_count\": 3544, \"metrics\": {\"ner_f1\": 85.5601, \"ner_token_f1\": 85.7861}, \"time_spent\": \"0:00:43\", \"epochs_done\": 2, \"batches_seen\": 140, \"train_examples_seen\": 69628, \"impatience\": 14, \"patience_limit\": 100}}\n"
     ]
    },
    {
     "name": "stderr",
     "output_type": "stream",
     "text": [
      "47it [00:14,  3.33it/s]\n",
      "1it [00:00, 11.36it/s]"
     ]
    },
    {
     "name": "stdout",
     "output_type": "stream",
     "text": [
      "{\"train\": {\"eval_examples_count\": 500, \"metrics\": {\"ner_f1\": 99.1511, \"ner_token_f1\": 99.564}, \"time_spent\": \"0:00:45\", \"epochs_done\": 3, \"batches_seen\": 150, \"train_examples_seen\": 74442, \"loss\": 0.010914332419633865}}\n"
     ]
    },
    {
     "name": "stderr",
     "output_type": "stream",
     "text": [
      "\n",
      "8it [00:00, 13.86it/s]\n",
      "2025-09-25 20:48:46.674 INFO in 'deeppavlov.core.trainers.nn_trainer'['nn_trainer'] at line 211: Did not improve on the ner_f1 of 85.8226\n"
     ]
    },
    {
     "name": "stdout",
     "output_type": "stream",
     "text": [
      "{\"valid\": {\"eval_examples_count\": 3544, \"metrics\": {\"ner_f1\": 85.4701, \"ner_token_f1\": 85.5891}, \"time_spent\": \"0:00:46\", \"epochs_done\": 3, \"batches_seen\": 150, \"train_examples_seen\": 74442, \"impatience\": 15, \"patience_limit\": 100}}\n"
     ]
    },
    {
     "name": "stderr",
     "output_type": "stream",
     "text": [
      "1it [00:00, 10.54it/s]]"
     ]
    },
    {
     "name": "stdout",
     "output_type": "stream",
     "text": [
      "{\"train\": {\"eval_examples_count\": 500, \"metrics\": {\"ner_f1\": 99.3854, \"ner_token_f1\": 99.7746}, \"time_spent\": \"0:00:48\", \"epochs_done\": 3, \"batches_seen\": 160, \"train_examples_seen\": 79442, \"loss\": 0.011263593845069409}}\n"
     ]
    },
    {
     "name": "stderr",
     "output_type": "stream",
     "text": [
      "\n",
      "8it [00:00, 14.12it/s]\n",
      "2025-09-25 20:48:49.579 INFO in 'deeppavlov.core.trainers.nn_trainer'['nn_trainer'] at line 211: Did not improve on the ner_f1 of 85.8226\n"
     ]
    },
    {
     "name": "stdout",
     "output_type": "stream",
     "text": [
      "{\"valid\": {\"eval_examples_count\": 3544, \"metrics\": {\"ner_f1\": 85.4867, \"ner_token_f1\": 85.552}, \"time_spent\": \"0:00:48\", \"epochs_done\": 3, \"batches_seen\": 160, \"train_examples_seen\": 79442, \"impatience\": 16, \"patience_limit\": 100}}\n"
     ]
    },
    {
     "name": "stderr",
     "output_type": "stream",
     "text": [
      "1it [00:00, 10.93it/s]]"
     ]
    },
    {
     "name": "stdout",
     "output_type": "stream",
     "text": [
      "{\"train\": {\"eval_examples_count\": 500, \"metrics\": {\"ner_f1\": 99.7447, \"ner_token_f1\": 99.7831}, \"time_spent\": \"0:00:51\", \"epochs_done\": 3, \"batches_seen\": 170, \"train_examples_seen\": 84442, \"loss\": 0.011057045543566346}}\n"
     ]
    },
    {
     "name": "stderr",
     "output_type": "stream",
     "text": [
      "\n",
      "8it [00:00, 10.08it/s]\n",
      "2025-09-25 20:48:52.732 INFO in 'deeppavlov.core.trainers.nn_trainer'['nn_trainer'] at line 211: Did not improve on the ner_f1 of 85.8226\n"
     ]
    },
    {
     "name": "stdout",
     "output_type": "stream",
     "text": [
      "{\"valid\": {\"eval_examples_count\": 3544, \"metrics\": {\"ner_f1\": 85.6483, \"ner_token_f1\": 85.8626}, \"time_spent\": \"0:00:52\", \"epochs_done\": 3, \"batches_seen\": 170, \"train_examples_seen\": 84442, \"impatience\": 17, \"patience_limit\": 100}}\n"
     ]
    },
    {
     "name": "stderr",
     "output_type": "stream",
     "text": [
      "1it [00:00, 10.33it/s]]"
     ]
    },
    {
     "name": "stdout",
     "output_type": "stream",
     "text": [
      "{\"train\": {\"eval_examples_count\": 500, \"metrics\": {\"ner_f1\": 99.3344, \"ner_token_f1\": 99.7175}, \"time_spent\": \"0:00:54\", \"epochs_done\": 3, \"batches_seen\": 180, \"train_examples_seen\": 89442, \"loss\": 0.009935864247381687}}\n"
     ]
    },
    {
     "name": "stderr",
     "output_type": "stream",
     "text": [
      "\n",
      "8it [00:00, 13.18it/s]\n",
      "2025-09-25 20:48:55.792 INFO in 'deeppavlov.core.trainers.nn_trainer'['nn_trainer'] at line 211: Did not improve on the ner_f1 of 85.8226\n"
     ]
    },
    {
     "name": "stdout",
     "output_type": "stream",
     "text": [
      "{\"valid\": {\"eval_examples_count\": 3544, \"metrics\": {\"ner_f1\": 85.4771, \"ner_token_f1\": 85.5963}, \"time_spent\": \"0:00:55\", \"epochs_done\": 3, \"batches_seen\": 180, \"train_examples_seen\": 89442, \"impatience\": 18, \"patience_limit\": 100}}\n"
     ]
    },
    {
     "name": "stderr",
     "output_type": "stream",
     "text": [
      "47it [00:13,  3.45it/s]\n",
      "1it [00:00, 11.70it/s]"
     ]
    },
    {
     "name": "stdout",
     "output_type": "stream",
     "text": [
      "{\"train\": {\"eval_examples_count\": 500, \"metrics\": {\"ner_f1\": 99.0795, \"ner_token_f1\": 99.5646}, \"time_spent\": \"0:00:57\", \"epochs_done\": 4, \"batches_seen\": 190, \"train_examples_seen\": 94256, \"loss\": 0.014166776183992624}}\n"
     ]
    },
    {
     "name": "stderr",
     "output_type": "stream",
     "text": [
      "\n",
      "8it [00:00, 13.90it/s]\n",
      "2025-09-25 20:48:58.712 INFO in 'deeppavlov.core.trainers.nn_trainer'['nn_trainer'] at line 211: Did not improve on the ner_f1 of 85.8226\n"
     ]
    },
    {
     "name": "stdout",
     "output_type": "stream",
     "text": [
      "{\"valid\": {\"eval_examples_count\": 3544, \"metrics\": {\"ner_f1\": 85.4747, \"ner_token_f1\": 85.4456}, \"time_spent\": \"0:00:58\", \"epochs_done\": 4, \"batches_seen\": 190, \"train_examples_seen\": 94256, \"impatience\": 19, \"patience_limit\": 100}}\n"
     ]
    },
    {
     "name": "stderr",
     "output_type": "stream",
     "text": [
      "1it [00:00, 11.17it/s]]"
     ]
    },
    {
     "name": "stdout",
     "output_type": "stream",
     "text": [
      "{\"train\": {\"eval_examples_count\": 500, \"metrics\": {\"ner_f1\": 99.1424, \"ner_token_f1\": 99.6405}, \"time_spent\": \"0:01:00\", \"epochs_done\": 4, \"batches_seen\": 200, \"train_examples_seen\": 99256, \"loss\": 0.012728704744949937}}\n"
     ]
    },
    {
     "name": "stderr",
     "output_type": "stream",
     "text": [
      "\n",
      "8it [00:00, 13.76it/s]\n",
      "2025-09-25 20:49:01.689 INFO in 'deeppavlov.core.trainers.nn_trainer'['nn_trainer'] at line 211: Did not improve on the ner_f1 of 85.8226\n"
     ]
    },
    {
     "name": "stdout",
     "output_type": "stream",
     "text": [
      "{\"valid\": {\"eval_examples_count\": 3544, \"metrics\": {\"ner_f1\": 85.1197, \"ner_token_f1\": 85.1279}, \"time_spent\": \"0:01:01\", \"epochs_done\": 4, \"batches_seen\": 200, \"train_examples_seen\": 99256, \"impatience\": 20, \"patience_limit\": 100}}\n"
     ]
    },
    {
     "name": "stderr",
     "output_type": "stream",
     "text": [
      "1it [00:00, 10.69it/s]]"
     ]
    },
    {
     "name": "stdout",
     "output_type": "stream",
     "text": [
      "{\"train\": {\"eval_examples_count\": 500, \"metrics\": {\"ner_f1\": 99.4992, \"ner_token_f1\": 99.859}, \"time_spent\": \"0:01:03\", \"epochs_done\": 4, \"batches_seen\": 210, \"train_examples_seen\": 104256, \"loss\": 0.01082988092675805}}\n"
     ]
    },
    {
     "name": "stderr",
     "output_type": "stream",
     "text": [
      "\n",
      "8it [00:00, 13.27it/s]\n",
      "2025-09-25 20:49:04.731 INFO in 'deeppavlov.core.trainers.nn_trainer'['nn_trainer'] at line 211: Did not improve on the ner_f1 of 85.8226\n"
     ]
    },
    {
     "name": "stdout",
     "output_type": "stream",
     "text": [
      "{\"valid\": {\"eval_examples_count\": 3544, \"metrics\": {\"ner_f1\": 85.3337, \"ner_token_f1\": 85.3678}, \"time_spent\": \"0:01:04\", \"epochs_done\": 4, \"batches_seen\": 210, \"train_examples_seen\": 104256, \"impatience\": 21, \"patience_limit\": 100}}\n"
     ]
    },
    {
     "name": "stderr",
     "output_type": "stream",
     "text": [
      "1it [00:00, 11.49it/s]]"
     ]
    },
    {
     "name": "stdout",
     "output_type": "stream",
     "text": [
      "{\"train\": {\"eval_examples_count\": 500, \"metrics\": {\"ner_f1\": 99.4992, \"ner_token_f1\": 99.7843}, \"time_spent\": \"0:01:06\", \"epochs_done\": 4, \"batches_seen\": 220, \"train_examples_seen\": 109256, \"loss\": 0.010895860707387328}}\n"
     ]
    },
    {
     "name": "stderr",
     "output_type": "stream",
     "text": [
      "\n",
      "8it [00:00, 13.84it/s]\n",
      "2025-09-25 20:49:07.726 INFO in 'deeppavlov.core.trainers.nn_trainer'['nn_trainer'] at line 211: Did not improve on the ner_f1 of 85.8226\n"
     ]
    },
    {
     "name": "stdout",
     "output_type": "stream",
     "text": [
      "{\"valid\": {\"eval_examples_count\": 3544, \"metrics\": {\"ner_f1\": 85.2821, \"ner_token_f1\": 85.3486}, \"time_spent\": \"0:01:07\", \"epochs_done\": 4, \"batches_seen\": 220, \"train_examples_seen\": 109256, \"impatience\": 22, \"patience_limit\": 100}}\n"
     ]
    },
    {
     "name": "stderr",
     "output_type": "stream",
     "text": [
      "1it [00:00, 10.15it/s]]"
     ]
    },
    {
     "name": "stdout",
     "output_type": "stream",
     "text": [
      "{\"train\": {\"eval_examples_count\": 500, \"metrics\": {\"ner_f1\": 99.3266, \"ner_token_f1\": 99.4203}, \"time_spent\": \"0:01:09\", \"epochs_done\": 4, \"batches_seen\": 230, \"train_examples_seen\": 114256, \"loss\": 0.010088497260585427}}\n"
     ]
    },
    {
     "name": "stderr",
     "output_type": "stream",
     "text": [
      "\n",
      "8it [00:00, 10.60it/s]\n",
      "2025-09-25 20:49:10.850 INFO in 'deeppavlov.core.trainers.nn_trainer'['nn_trainer'] at line 211: Did not improve on the ner_f1 of 85.8226\n"
     ]
    },
    {
     "name": "stdout",
     "output_type": "stream",
     "text": [
      "{\"valid\": {\"eval_examples_count\": 3544, \"metrics\": {\"ner_f1\": 85.7723, \"ner_token_f1\": 85.8888}, \"time_spent\": \"0:01:10\", \"epochs_done\": 4, \"batches_seen\": 230, \"train_examples_seen\": 114256, \"impatience\": 23, \"patience_limit\": 100}}\n"
     ]
    },
    {
     "name": "stderr",
     "output_type": "stream",
     "text": [
      "47it [00:14,  3.26it/s]\n",
      "1it [00:00, 10.63it/s]"
     ]
    },
    {
     "name": "stdout",
     "output_type": "stream",
     "text": [
      "{\"train\": {\"eval_examples_count\": 500, \"metrics\": {\"ner_f1\": 99.4898, \"ner_token_f1\": 100.0}, \"time_spent\": \"0:01:12\", \"epochs_done\": 5, \"batches_seen\": 240, \"train_examples_seen\": 119070, \"loss\": 0.010264359321445227}}\n"
     ]
    },
    {
     "name": "stderr",
     "output_type": "stream",
     "text": [
      "\n",
      "8it [00:00, 13.04it/s]\n",
      "2025-09-25 20:49:13.897 INFO in 'deeppavlov.core.trainers.nn_trainer'['nn_trainer'] at line 211: Did not improve on the ner_f1 of 85.8226\n"
     ]
    },
    {
     "name": "stdout",
     "output_type": "stream",
     "text": [
      "{\"valid\": {\"eval_examples_count\": 3544, \"metrics\": {\"ner_f1\": 85.3785, \"ner_token_f1\": 85.5344}, \"time_spent\": \"0:01:13\", \"epochs_done\": 5, \"batches_seen\": 240, \"train_examples_seen\": 119070, \"impatience\": 24, \"patience_limit\": 100}}\n"
     ]
    },
    {
     "name": "stderr",
     "output_type": "stream",
     "text": [
      "1it [00:00, 10.64it/s]]"
     ]
    },
    {
     "name": "stdout",
     "output_type": "stream",
     "text": [
      "{\"train\": {\"eval_examples_count\": 500, \"metrics\": {\"ner_f1\": 99.0856, \"ner_token_f1\": 99.2918}, \"time_spent\": \"0:01:15\", \"epochs_done\": 5, \"batches_seen\": 250, \"train_examples_seen\": 124070, \"loss\": 0.009105648752301932}}\n"
     ]
    },
    {
     "name": "stderr",
     "output_type": "stream",
     "text": [
      "\n",
      "8it [00:00, 12.54it/s]\n",
      "2025-09-25 20:49:17.64 INFO in 'deeppavlov.core.trainers.nn_trainer'['nn_trainer'] at line 211: Did not improve on the ner_f1 of 85.8226\n"
     ]
    },
    {
     "name": "stdout",
     "output_type": "stream",
     "text": [
      "{\"valid\": {\"eval_examples_count\": 3544, \"metrics\": {\"ner_f1\": 85.5708, \"ner_token_f1\": 85.6116}, \"time_spent\": \"0:01:16\", \"epochs_done\": 5, \"batches_seen\": 250, \"train_examples_seen\": 124070, \"impatience\": 25, \"patience_limit\": 100}}\n"
     ]
    },
    {
     "name": "stderr",
     "output_type": "stream",
     "text": [
      "1it [00:00,  9.72it/s]]"
     ]
    },
    {
     "name": "stdout",
     "output_type": "stream",
     "text": [
      "{\"train\": {\"eval_examples_count\": 500, \"metrics\": {\"ner_f1\": 99.6593, \"ner_token_f1\": 99.9279}, \"time_spent\": \"0:01:19\", \"epochs_done\": 5, \"batches_seen\": 260, \"train_examples_seen\": 129070, \"loss\": 0.010919417813420295}}\n"
     ]
    },
    {
     "name": "stderr",
     "output_type": "stream",
     "text": [
      "\n",
      "8it [00:00, 11.66it/s]\n",
      "2025-09-25 20:49:20.419 INFO in 'deeppavlov.core.trainers.nn_trainer'['nn_trainer'] at line 211: Did not improve on the ner_f1 of 85.8226\n"
     ]
    },
    {
     "name": "stdout",
     "output_type": "stream",
     "text": [
      "{\"valid\": {\"eval_examples_count\": 3544, \"metrics\": {\"ner_f1\": 85.3261, \"ner_token_f1\": 85.327}, \"time_spent\": \"0:01:19\", \"epochs_done\": 5, \"batches_seen\": 260, \"train_examples_seen\": 129070, \"impatience\": 26, \"patience_limit\": 100}}\n"
     ]
    },
    {
     "name": "stderr",
     "output_type": "stream",
     "text": [
      "1it [00:00,  8.87it/s]]"
     ]
    },
    {
     "name": "stdout",
     "output_type": "stream",
     "text": [
      "{\"train\": {\"eval_examples_count\": 500, \"metrics\": {\"ner_f1\": 99.4924, \"ner_token_f1\": 100.0}, \"time_spent\": \"0:01:22\", \"epochs_done\": 5, \"batches_seen\": 270, \"train_examples_seen\": 134070, \"loss\": 0.0098949343431741}}\n"
     ]
    },
    {
     "name": "stderr",
     "output_type": "stream",
     "text": [
      "\n",
      "8it [00:00, 11.96it/s]\n",
      "2025-09-25 20:49:23.887 INFO in 'deeppavlov.core.trainers.nn_trainer'['nn_trainer'] at line 211: Did not improve on the ner_f1 of 85.8226\n"
     ]
    },
    {
     "name": "stdout",
     "output_type": "stream",
     "text": [
      "{\"valid\": {\"eval_examples_count\": 3544, \"metrics\": {\"ner_f1\": 85.0041, \"ner_token_f1\": 85.1206}, \"time_spent\": \"0:01:23\", \"epochs_done\": 5, \"batches_seen\": 270, \"train_examples_seen\": 134070, \"impatience\": 27, \"patience_limit\": 100}}\n"
     ]
    },
    {
     "name": "stderr",
     "output_type": "stream",
     "text": [
      "1it [00:00,  7.82it/s]]"
     ]
    },
    {
     "name": "stdout",
     "output_type": "stream",
     "text": [
      "{\"train\": {\"eval_examples_count\": 500, \"metrics\": {\"ner_f1\": 99.7429, \"ner_token_f1\": 100.0}, \"time_spent\": \"0:01:26\", \"epochs_done\": 5, \"batches_seen\": 280, \"train_examples_seen\": 139070, \"loss\": 0.012212422955781222}}\n"
     ]
    },
    {
     "name": "stderr",
     "output_type": "stream",
     "text": [
      "\n",
      "8it [00:00, 11.09it/s]\n",
      "2025-09-25 20:49:27.480 INFO in 'deeppavlov.core.trainers.nn_trainer'['nn_trainer'] at line 211: Did not improve on the ner_f1 of 85.8226\n"
     ]
    },
    {
     "name": "stdout",
     "output_type": "stream",
     "text": [
      "{\"valid\": {\"eval_examples_count\": 3544, \"metrics\": {\"ner_f1\": 85.4006, \"ner_token_f1\": 85.316}, \"time_spent\": \"0:01:26\", \"epochs_done\": 5, \"batches_seen\": 280, \"train_examples_seen\": 139070, \"impatience\": 28, \"patience_limit\": 100}}\n"
     ]
    },
    {
     "name": "stderr",
     "output_type": "stream",
     "text": [
      "47it [00:16,  2.93it/s]\n",
      "1it [00:00,  9.33it/s]"
     ]
    },
    {
     "name": "stdout",
     "output_type": "stream",
     "text": [
      "{\"train\": {\"eval_examples_count\": 500, \"metrics\": {\"ner_f1\": 99.5885, \"ner_token_f1\": 99.6525}, \"time_spent\": \"0:01:29\", \"epochs_done\": 6, \"batches_seen\": 290, \"train_examples_seen\": 143884, \"loss\": 0.00991927580907941}}\n"
     ]
    },
    {
     "name": "stderr",
     "output_type": "stream",
     "text": [
      "\n",
      "8it [00:00, 11.89it/s]\n",
      "2025-09-25 20:49:30.950 INFO in 'deeppavlov.core.trainers.nn_trainer'['nn_trainer'] at line 211: Did not improve on the ner_f1 of 85.8226\n"
     ]
    },
    {
     "name": "stdout",
     "output_type": "stream",
     "text": [
      "{\"valid\": {\"eval_examples_count\": 3544, \"metrics\": {\"ner_f1\": 85.0176, \"ner_token_f1\": 84.9489}, \"time_spent\": \"0:01:30\", \"epochs_done\": 6, \"batches_seen\": 290, \"train_examples_seen\": 143884, \"impatience\": 29, \"patience_limit\": 100}}\n"
     ]
    },
    {
     "name": "stderr",
     "output_type": "stream",
     "text": [
      "1it [00:00,  4.61it/s]]"
     ]
    },
    {
     "name": "stdout",
     "output_type": "stream",
     "text": [
      "{\"train\": {\"eval_examples_count\": 500, \"metrics\": {\"ner_f1\": 99.7514, \"ner_token_f1\": 99.8596}, \"time_spent\": \"0:01:33\", \"epochs_done\": 6, \"batches_seen\": 300, \"train_examples_seen\": 148884, \"loss\": 0.01024881456978619}}\n"
     ]
    },
    {
     "name": "stderr",
     "output_type": "stream",
     "text": [
      "\n",
      "8it [00:00, 11.57it/s]\n",
      "2025-09-25 20:49:34.500 INFO in 'deeppavlov.core.trainers.nn_trainer'['nn_trainer'] at line 211: Did not improve on the ner_f1 of 85.8226\n",
      "2025-09-25 20:49:34.500 INFO in 'deeppavlov.core.models.torch_model'['torch_model'] at line 206: ----------Current LR is decreased in 1.5 times----------\n"
     ]
    },
    {
     "name": "stdout",
     "output_type": "stream",
     "text": [
      "{\"valid\": {\"eval_examples_count\": 3544, \"metrics\": {\"ner_f1\": 85.3069, \"ner_token_f1\": 85.2315}, \"time_spent\": \"0:01:33\", \"epochs_done\": 6, \"batches_seen\": 300, \"train_examples_seen\": 148884, \"impatience\": 30, \"patience_limit\": 100}}\n"
     ]
    },
    {
     "name": "stderr",
     "output_type": "stream",
     "text": [
      "1it [00:00,  9.24it/s]]"
     ]
    },
    {
     "name": "stdout",
     "output_type": "stream",
     "text": [
      "{\"train\": {\"eval_examples_count\": 500, \"metrics\": {\"ner_f1\": 99.8325, \"ner_token_f1\": 99.8571}, \"time_spent\": \"0:01:37\", \"epochs_done\": 6, \"batches_seen\": 310, \"train_examples_seen\": 153884, \"loss\": 0.007651076233014464}}\n"
     ]
    },
    {
     "name": "stderr",
     "output_type": "stream",
     "text": [
      "\n",
      "8it [00:00, 11.84it/s]\n",
      "2025-09-25 20:49:38.964 INFO in 'deeppavlov.core.trainers.nn_trainer'['nn_trainer'] at line 211: Did not improve on the ner_f1 of 85.8226\n"
     ]
    },
    {
     "name": "stdout",
     "output_type": "stream",
     "text": [
      "{\"valid\": {\"eval_examples_count\": 3544, \"metrics\": {\"ner_f1\": 85.6018, \"ner_token_f1\": 85.7675}, \"time_spent\": \"0:01:38\", \"epochs_done\": 6, \"batches_seen\": 310, \"train_examples_seen\": 153884, \"impatience\": 31, \"patience_limit\": 100}}\n"
     ]
    },
    {
     "name": "stderr",
     "output_type": "stream",
     "text": [
      "1it [00:00,  9.61it/s]]"
     ]
    },
    {
     "name": "stdout",
     "output_type": "stream",
     "text": [
      "{\"train\": {\"eval_examples_count\": 500, \"metrics\": {\"ner_f1\": 99.078, \"ner_token_f1\": 99.7139}, \"time_spent\": \"0:01:41\", \"epochs_done\": 6, \"batches_seen\": 320, \"train_examples_seen\": 158884, \"loss\": 0.014639068767428398}}\n"
     ]
    },
    {
     "name": "stderr",
     "output_type": "stream",
     "text": [
      "\n",
      "8it [00:00, 11.77it/s]\n",
      "2025-09-25 20:49:42.329 INFO in 'deeppavlov.core.trainers.nn_trainer'['nn_trainer'] at line 211: Did not improve on the ner_f1 of 85.8226\n"
     ]
    },
    {
     "name": "stdout",
     "output_type": "stream",
     "text": [
      "{\"valid\": {\"eval_examples_count\": 3544, \"metrics\": {\"ner_f1\": 85.1827, \"ner_token_f1\": 85.4142}, \"time_spent\": \"0:01:41\", \"epochs_done\": 6, \"batches_seen\": 320, \"train_examples_seen\": 158884, \"impatience\": 32, \"patience_limit\": 100}}\n"
     ]
    },
    {
     "name": "stderr",
     "output_type": "stream",
     "text": [
      "47it [00:16,  2.83it/s]\n",
      "1it [00:00,  9.52it/s]"
     ]
    },
    {
     "name": "stdout",
     "output_type": "stream",
     "text": [
      "{\"train\": {\"eval_examples_count\": 500, \"metrics\": {\"ner_f1\": 99.0749, \"ner_token_f1\": 99.581}, \"time_spent\": \"0:01:44\", \"epochs_done\": 7, \"batches_seen\": 330, \"train_examples_seen\": 163698, \"loss\": 0.013584754895418882}}\n"
     ]
    },
    {
     "name": "stderr",
     "output_type": "stream",
     "text": [
      "\n",
      "8it [00:00, 11.87it/s]\n",
      "2025-09-25 20:49:45.707 INFO in 'deeppavlov.core.trainers.nn_trainer'['nn_trainer'] at line 211: Did not improve on the ner_f1 of 85.8226\n"
     ]
    },
    {
     "name": "stdout",
     "output_type": "stream",
     "text": [
      "{\"valid\": {\"eval_examples_count\": 3544, \"metrics\": {\"ner_f1\": 85.4217, \"ner_token_f1\": 85.4996}, \"time_spent\": \"0:01:45\", \"epochs_done\": 7, \"batches_seen\": 330, \"train_examples_seen\": 163698, \"impatience\": 33, \"patience_limit\": 100}}\n"
     ]
    },
    {
     "name": "stderr",
     "output_type": "stream",
     "text": [
      "1it [00:00,  9.17it/s]]"
     ]
    },
    {
     "name": "stdout",
     "output_type": "stream",
     "text": [
      "{\"train\": {\"eval_examples_count\": 500, \"metrics\": {\"ner_f1\": 98.914, \"ner_token_f1\": 99.2826}, \"time_spent\": \"0:01:47\", \"epochs_done\": 7, \"batches_seen\": 340, \"train_examples_seen\": 168698, \"loss\": 0.01448633437976241}}\n"
     ]
    },
    {
     "name": "stderr",
     "output_type": "stream",
     "text": [
      "\n",
      "8it [00:00, 11.60it/s]\n",
      "2025-09-25 20:49:49.132 INFO in 'deeppavlov.core.trainers.nn_trainer'['nn_trainer'] at line 211: Did not improve on the ner_f1 of 85.8226\n"
     ]
    },
    {
     "name": "stdout",
     "output_type": "stream",
     "text": [
      "{\"valid\": {\"eval_examples_count\": 3544, \"metrics\": {\"ner_f1\": 85.2486, \"ner_token_f1\": 85.4142}, \"time_spent\": \"0:01:48\", \"epochs_done\": 7, \"batches_seen\": 340, \"train_examples_seen\": 168698, \"impatience\": 34, \"patience_limit\": 100}}\n"
     ]
    },
    {
     "name": "stderr",
     "output_type": "stream",
     "text": [
      "1it [00:00,  8.76it/s]]"
     ]
    },
    {
     "name": "stdout",
     "output_type": "stream",
     "text": [
      "{\"train\": {\"eval_examples_count\": 500, \"metrics\": {\"ner_f1\": 98.6509, \"ner_token_f1\": 99.1292}, \"time_spent\": \"0:01:51\", \"epochs_done\": 7, \"batches_seen\": 350, \"train_examples_seen\": 173698, \"loss\": 0.013665759423747658}}\n"
     ]
    },
    {
     "name": "stderr",
     "output_type": "stream",
     "text": [
      "\n",
      "8it [00:00, 11.93it/s]\n",
      "2025-09-25 20:49:52.547 INFO in 'deeppavlov.core.trainers.nn_trainer'['nn_trainer'] at line 211: Did not improve on the ner_f1 of 85.8226\n"
     ]
    },
    {
     "name": "stdout",
     "output_type": "stream",
     "text": [
      "{\"valid\": {\"eval_examples_count\": 3544, \"metrics\": {\"ner_f1\": 85.5704, \"ner_token_f1\": 85.6762}, \"time_spent\": \"0:01:51\", \"epochs_done\": 7, \"batches_seen\": 350, \"train_examples_seen\": 173698, \"impatience\": 35, \"patience_limit\": 100}}\n"
     ]
    },
    {
     "name": "stderr",
     "output_type": "stream",
     "text": [
      "1it [00:00,  8.54it/s]]"
     ]
    },
    {
     "name": "stdout",
     "output_type": "stream",
     "text": [
      "{\"train\": {\"eval_examples_count\": 500, \"metrics\": {\"ner_f1\": 99.5, \"ner_token_f1\": 99.6411}, \"time_spent\": \"0:01:54\", \"epochs_done\": 7, \"batches_seen\": 360, \"train_examples_seen\": 178698, \"loss\": 0.013279230054467916}}\n"
     ]
    },
    {
     "name": "stderr",
     "output_type": "stream",
     "text": [
      "\n",
      "8it [00:00, 12.13it/s]\n",
      "2025-09-25 20:49:56.59 INFO in 'deeppavlov.core.trainers.nn_trainer'['nn_trainer'] at line 211: Did not improve on the ner_f1 of 85.8226\n"
     ]
    },
    {
     "name": "stdout",
     "output_type": "stream",
     "text": [
      "{\"valid\": {\"eval_examples_count\": 3544, \"metrics\": {\"ner_f1\": 85.4054, \"ner_token_f1\": 85.5366}, \"time_spent\": \"0:01:55\", \"epochs_done\": 7, \"batches_seen\": 360, \"train_examples_seen\": 178698, \"impatience\": 36, \"patience_limit\": 100}}\n"
     ]
    },
    {
     "name": "stderr",
     "output_type": "stream",
     "text": [
      "1it [00:00,  8.46it/s]]"
     ]
    },
    {
     "name": "stdout",
     "output_type": "stream",
     "text": [
      "{\"train\": {\"eval_examples_count\": 500, \"metrics\": {\"ner_f1\": 99.1611, \"ner_token_f1\": 99.7131}, \"time_spent\": \"0:01:58\", \"epochs_done\": 7, \"batches_seen\": 370, \"train_examples_seen\": 183698, \"loss\": 0.01452604029327631}}\n"
     ]
    },
    {
     "name": "stderr",
     "output_type": "stream",
     "text": [
      "\n",
      "8it [00:00, 11.38it/s]\n",
      "2025-09-25 20:49:59.521 INFO in 'deeppavlov.core.trainers.nn_trainer'['nn_trainer'] at line 211: Did not improve on the ner_f1 of 85.8226\n"
     ]
    },
    {
     "name": "stdout",
     "output_type": "stream",
     "text": [
      "{\"valid\": {\"eval_examples_count\": 3544, \"metrics\": {\"ner_f1\": 85.5546, \"ner_token_f1\": 85.7181}, \"time_spent\": \"0:01:58\", \"epochs_done\": 7, \"batches_seen\": 370, \"train_examples_seen\": 183698, \"impatience\": 37, \"patience_limit\": 100}}\n"
     ]
    },
    {
     "name": "stderr",
     "output_type": "stream",
     "text": [
      "47it [00:16,  2.84it/s]\n",
      "1it [00:00,  7.25it/s]"
     ]
    },
    {
     "name": "stdout",
     "output_type": "stream",
     "text": [
      "{\"train\": {\"eval_examples_count\": 500, \"metrics\": {\"ner_f1\": 99.2392, \"ner_token_f1\": 99.7155}, \"time_spent\": \"0:02:01\", \"epochs_done\": 8, \"batches_seen\": 380, \"train_examples_seen\": 188512, \"loss\": 0.014623950887471437}}\n"
     ]
    },
    {
     "name": "stderr",
     "output_type": "stream",
     "text": [
      "\n",
      "8it [00:00, 12.07it/s]\n",
      "2025-09-25 20:50:03.191 INFO in 'deeppavlov.core.trainers.nn_trainer'['nn_trainer'] at line 211: Did not improve on the ner_f1 of 85.8226\n"
     ]
    },
    {
     "name": "stdout",
     "output_type": "stream",
     "text": [
      "{\"valid\": {\"eval_examples_count\": 3544, \"metrics\": {\"ner_f1\": 85.5553, \"ner_token_f1\": 85.6611}, \"time_spent\": \"0:02:02\", \"epochs_done\": 8, \"batches_seen\": 380, \"train_examples_seen\": 188512, \"impatience\": 38, \"patience_limit\": 100}}\n"
     ]
    },
    {
     "name": "stderr",
     "output_type": "stream",
     "text": [
      "1it [00:00,  9.28it/s]]"
     ]
    },
    {
     "name": "stdout",
     "output_type": "stream",
     "text": [
      "{\"train\": {\"eval_examples_count\": 500, \"metrics\": {\"ner_f1\": 99.9149, \"ner_token_f1\": 99.8551}, \"time_spent\": \"0:02:05\", \"epochs_done\": 8, \"batches_seen\": 390, \"train_examples_seen\": 193512, \"loss\": 0.015102108661085367}}\n"
     ]
    },
    {
     "name": "stderr",
     "output_type": "stream",
     "text": [
      "\n",
      "8it [00:00, 11.94it/s]\n",
      "2025-09-25 20:50:06.607 INFO in 'deeppavlov.core.trainers.nn_trainer'['nn_trainer'] at line 211: Did not improve on the ner_f1 of 85.8226\n"
     ]
    },
    {
     "name": "stdout",
     "output_type": "stream",
     "text": [
      "{\"valid\": {\"eval_examples_count\": 3544, \"metrics\": {\"ner_f1\": 85.4826, \"ner_token_f1\": 85.5782}, \"time_spent\": \"0:02:05\", \"epochs_done\": 8, \"batches_seen\": 390, \"train_examples_seen\": 193512, \"impatience\": 39, \"patience_limit\": 100}}\n"
     ]
    },
    {
     "name": "stderr",
     "output_type": "stream",
     "text": [
      "1it [00:00,  9.77it/s]]"
     ]
    },
    {
     "name": "stdout",
     "output_type": "stream",
     "text": [
      "{\"train\": {\"eval_examples_count\": 500, \"metrics\": {\"ner_f1\": 99.3355, \"ner_token_f1\": 99.7183}, \"time_spent\": \"0:02:08\", \"epochs_done\": 8, \"batches_seen\": 400, \"train_examples_seen\": 198512, \"loss\": 0.012118677888065577}}\n"
     ]
    },
    {
     "name": "stderr",
     "output_type": "stream",
     "text": [
      "\n",
      "8it [00:00, 11.85it/s]\n",
      "2025-09-25 20:50:10.13 INFO in 'deeppavlov.core.trainers.nn_trainer'['nn_trainer'] at line 211: Did not improve on the ner_f1 of 85.8226\n"
     ]
    },
    {
     "name": "stdout",
     "output_type": "stream",
     "text": [
      "{\"valid\": {\"eval_examples_count\": 3544, \"metrics\": {\"ner_f1\": 85.3242, \"ner_token_f1\": 85.4699}, \"time_spent\": \"0:02:09\", \"epochs_done\": 8, \"batches_seen\": 400, \"train_examples_seen\": 198512, \"impatience\": 40, \"patience_limit\": 100}}\n"
     ]
    },
    {
     "name": "stderr",
     "output_type": "stream",
     "text": [
      "1it [00:00,  8.40it/s]]"
     ]
    },
    {
     "name": "stdout",
     "output_type": "stream",
     "text": [
      "{\"train\": {\"eval_examples_count\": 500, \"metrics\": {\"ner_f1\": 99.4113, \"ner_token_f1\": 99.7139}, \"time_spent\": \"0:02:12\", \"epochs_done\": 8, \"batches_seen\": 410, \"train_examples_seen\": 203512, \"loss\": 0.013082667347043752}}\n"
     ]
    },
    {
     "name": "stderr",
     "output_type": "stream",
     "text": [
      "\n",
      "8it [00:00, 11.89it/s]\n",
      "2025-09-25 20:50:13.378 INFO in 'deeppavlov.core.trainers.nn_trainer'['nn_trainer'] at line 211: Did not improve on the ner_f1 of 85.8226\n"
     ]
    },
    {
     "name": "stdout",
     "output_type": "stream",
     "text": [
      "{\"valid\": {\"eval_examples_count\": 3544, \"metrics\": {\"ner_f1\": 84.9001, \"ner_token_f1\": 85.0675}, \"time_spent\": \"0:02:12\", \"epochs_done\": 8, \"batches_seen\": 410, \"train_examples_seen\": 203512, \"impatience\": 41, \"patience_limit\": 100}}\n"
     ]
    },
    {
     "name": "stderr",
     "output_type": "stream",
     "text": [
      "1it [00:00,  9.17it/s]]"
     ]
    },
    {
     "name": "stdout",
     "output_type": "stream",
     "text": [
      "{\"train\": {\"eval_examples_count\": 500, \"metrics\": {\"ner_f1\": 98.3078, \"ner_token_f1\": 99.0237}, \"time_spent\": \"0:02:15\", \"epochs_done\": 8, \"batches_seen\": 420, \"train_examples_seen\": 208512, \"loss\": 0.015435043163597584}}\n"
     ]
    },
    {
     "name": "stderr",
     "output_type": "stream",
     "text": [
      "\n",
      "8it [00:00, 10.00it/s]\n",
      "2025-09-25 20:50:16.968 INFO in 'deeppavlov.core.trainers.nn_trainer'['nn_trainer'] at line 211: Did not improve on the ner_f1 of 85.8226\n"
     ]
    },
    {
     "name": "stdout",
     "output_type": "stream",
     "text": [
      "{\"valid\": {\"eval_examples_count\": 3544, \"metrics\": {\"ner_f1\": 85.4493, \"ner_token_f1\": 85.5464}, \"time_spent\": \"0:02:16\", \"epochs_done\": 8, \"batches_seen\": 420, \"train_examples_seen\": 208512, \"impatience\": 42, \"patience_limit\": 100}}\n"
     ]
    },
    {
     "name": "stderr",
     "output_type": "stream",
     "text": [
      "47it [00:16,  2.84it/s]\n",
      "1it [00:00,  9.42it/s]"
     ]
    },
    {
     "name": "stdout",
     "output_type": "stream",
     "text": [
      "{\"train\": {\"eval_examples_count\": 500, \"metrics\": {\"ner_f1\": 99.0841, \"ner_token_f1\": 99.1404}, \"time_spent\": \"0:02:19\", \"epochs_done\": 9, \"batches_seen\": 430, \"train_examples_seen\": 213326, \"loss\": 0.012453319551423193}}\n"
     ]
    },
    {
     "name": "stderr",
     "output_type": "stream",
     "text": [
      "\n",
      "8it [00:00, 11.77it/s]\n",
      "2025-09-25 20:50:20.371 INFO in 'deeppavlov.core.trainers.nn_trainer'['nn_trainer'] at line 211: Did not improve on the ner_f1 of 85.8226\n"
     ]
    },
    {
     "name": "stdout",
     "output_type": "stream",
     "text": [
      "{\"valid\": {\"eval_examples_count\": 3544, \"metrics\": {\"ner_f1\": 85.6949, \"ner_token_f1\": 85.7371}, \"time_spent\": \"0:02:19\", \"epochs_done\": 9, \"batches_seen\": 430, \"train_examples_seen\": 213326, \"impatience\": 43, \"patience_limit\": 100}}\n"
     ]
    },
    {
     "name": "stderr",
     "output_type": "stream",
     "text": [
      "1it [00:00,  9.28it/s]]"
     ]
    },
    {
     "name": "stdout",
     "output_type": "stream",
     "text": [
      "{\"train\": {\"eval_examples_count\": 500, \"metrics\": {\"ner_f1\": 98.8294, \"ner_token_f1\": 99.3649}, \"time_spent\": \"0:02:22\", \"epochs_done\": 9, \"batches_seen\": 440, \"train_examples_seen\": 218326, \"loss\": 0.011204866413027047}}\n"
     ]
    },
    {
     "name": "stderr",
     "output_type": "stream",
     "text": [
      "\n",
      "8it [00:00, 12.12it/s]\n",
      "2025-09-25 20:50:23.841 INFO in 'deeppavlov.core.trainers.nn_trainer'['nn_trainer'] at line 211: Did not improve on the ner_f1 of 85.8226\n"
     ]
    },
    {
     "name": "stdout",
     "output_type": "stream",
     "text": [
      "{\"valid\": {\"eval_examples_count\": 3544, \"metrics\": {\"ner_f1\": 85.6603, \"ner_token_f1\": 85.6351}, \"time_spent\": \"0:02:23\", \"epochs_done\": 9, \"batches_seen\": 440, \"train_examples_seen\": 218326, \"impatience\": 44, \"patience_limit\": 100}}\n"
     ]
    },
    {
     "name": "stderr",
     "output_type": "stream",
     "text": [
      "1it [00:00,  9.20it/s]]"
     ]
    },
    {
     "name": "stdout",
     "output_type": "stream",
     "text": [
      "{\"train\": {\"eval_examples_count\": 500, \"metrics\": {\"ner_f1\": 99.2405, \"ner_token_f1\": 99.4286}, \"time_spent\": \"0:02:25\", \"epochs_done\": 9, \"batches_seen\": 450, \"train_examples_seen\": 223326, \"loss\": 0.013764679990708828}}\n"
     ]
    },
    {
     "name": "stderr",
     "output_type": "stream",
     "text": [
      "\n",
      "8it [00:00, 12.15it/s]\n",
      "2025-09-25 20:50:27.222 INFO in 'deeppavlov.core.trainers.nn_trainer'['nn_trainer'] at line 211: Did not improve on the ner_f1 of 85.8226\n"
     ]
    },
    {
     "name": "stdout",
     "output_type": "stream",
     "text": [
      "{\"valid\": {\"eval_examples_count\": 3544, \"metrics\": {\"ner_f1\": 85.4295, \"ner_token_f1\": 85.5041}, \"time_spent\": \"0:02:26\", \"epochs_done\": 9, \"batches_seen\": 450, \"train_examples_seen\": 223326, \"impatience\": 45, \"patience_limit\": 100}}\n"
     ]
    },
    {
     "name": "stderr",
     "output_type": "stream",
     "text": [
      "1it [00:00,  9.00it/s]]"
     ]
    },
    {
     "name": "stdout",
     "output_type": "stream",
     "text": [
      "{\"train\": {\"eval_examples_count\": 500, \"metrics\": {\"ner_f1\": 99.2288, \"ner_token_f1\": 99.7097}, \"time_spent\": \"0:02:29\", \"epochs_done\": 9, \"batches_seen\": 460, \"train_examples_seen\": 228326, \"loss\": 0.014155889675021172}}\n"
     ]
    },
    {
     "name": "stderr",
     "output_type": "stream",
     "text": [
      "\n",
      "8it [00:00, 11.56it/s]\n",
      "2025-09-25 20:50:30.655 INFO in 'deeppavlov.core.trainers.nn_trainer'['nn_trainer'] at line 211: Did not improve on the ner_f1 of 85.8226\n"
     ]
    },
    {
     "name": "stdout",
     "output_type": "stream",
     "text": [
      "{\"valid\": {\"eval_examples_count\": 3544, \"metrics\": {\"ner_f1\": 85.4012, \"ner_token_f1\": 85.4382}, \"time_spent\": \"0:02:30\", \"epochs_done\": 9, \"batches_seen\": 460, \"train_examples_seen\": 228326, \"impatience\": 46, \"patience_limit\": 100}}\n"
     ]
    },
    {
     "name": "stderr",
     "output_type": "stream",
     "text": [
      "1it [00:00,  7.85it/s]]"
     ]
    },
    {
     "name": "stdout",
     "output_type": "stream",
     "text": [
      "{\"train\": {\"eval_examples_count\": 500, \"metrics\": {\"ner_f1\": 98.7593, \"ner_token_f1\": 99.2324}, \"time_spent\": \"0:02:32\", \"epochs_done\": 9, \"batches_seen\": 470, \"train_examples_seen\": 233140, \"loss\": 0.012317027430981398}}\n"
     ]
    },
    {
     "name": "stderr",
     "output_type": "stream",
     "text": [
      "\n",
      "8it [00:00, 11.39it/s]\n",
      "2025-09-25 20:50:34.55 INFO in 'deeppavlov.core.trainers.nn_trainer'['nn_trainer'] at line 211: Did not improve on the ner_f1 of 85.8226\n"
     ]
    },
    {
     "name": "stdout",
     "output_type": "stream",
     "text": [
      "{\"valid\": {\"eval_examples_count\": 3544, \"metrics\": {\"ner_f1\": 85.1792, \"ner_token_f1\": 85.2633}, \"time_spent\": \"0:02:33\", \"epochs_done\": 9, \"batches_seen\": 470, \"train_examples_seen\": 233140, \"impatience\": 47, \"patience_limit\": 100}}\n"
     ]
    },
    {
     "name": "stderr",
     "output_type": "stream",
     "text": [
      "47it [00:16,  2.87it/s]\n",
      "1it [00:00,  9.38it/s]"
     ]
    },
    {
     "name": "stdout",
     "output_type": "stream",
     "text": [
      "{\"train\": {\"eval_examples_count\": 500, \"metrics\": {\"ner_f1\": 99.42, \"ner_token_f1\": 99.3719}, \"time_spent\": \"0:02:36\", \"epochs_done\": 10, \"batches_seen\": 480, \"train_examples_seen\": 238140, \"loss\": 0.010270606447011232}}\n"
     ]
    },
    {
     "name": "stderr",
     "output_type": "stream",
     "text": [
      "\n",
      "8it [00:00, 10.00it/s]\n",
      "2025-09-25 20:50:37.848 INFO in 'deeppavlov.core.trainers.nn_trainer'['nn_trainer'] at line 211: Did not improve on the ner_f1 of 85.8226\n"
     ]
    },
    {
     "name": "stdout",
     "output_type": "stream",
     "text": [
      "{\"valid\": {\"eval_examples_count\": 3544, \"metrics\": {\"ner_f1\": 85.586, \"ner_token_f1\": 85.68}, \"time_spent\": \"0:02:37\", \"epochs_done\": 10, \"batches_seen\": 480, \"train_examples_seen\": 238140, \"impatience\": 48, \"patience_limit\": 100}}\n"
     ]
    },
    {
     "name": "stderr",
     "output_type": "stream",
     "text": [
      "1it [00:00,  9.11it/s]]"
     ]
    },
    {
     "name": "stdout",
     "output_type": "stream",
     "text": [
      "{\"train\": {\"eval_examples_count\": 500, \"metrics\": {\"ner_f1\": 98.8391, \"ner_token_f1\": 99.3666}, \"time_spent\": \"0:02:40\", \"epochs_done\": 10, \"batches_seen\": 490, \"train_examples_seen\": 243140, \"loss\": 0.012771431123837829}}\n"
     ]
    },
    {
     "name": "stderr",
     "output_type": "stream",
     "text": [
      "\n",
      "8it [00:00, 11.85it/s]\n",
      "2025-09-25 20:50:41.328 INFO in 'deeppavlov.core.trainers.nn_trainer'['nn_trainer'] at line 211: Did not improve on the ner_f1 of 85.8226\n"
     ]
    },
    {
     "name": "stdout",
     "output_type": "stream",
     "text": [
      "{\"valid\": {\"eval_examples_count\": 3544, \"metrics\": {\"ner_f1\": 85.6102, \"ner_token_f1\": 85.854}, \"time_spent\": \"0:02:40\", \"epochs_done\": 10, \"batches_seen\": 490, \"train_examples_seen\": 243140, \"impatience\": 49, \"patience_limit\": 100}}\n"
     ]
    },
    {
     "name": "stderr",
     "output_type": "stream",
     "text": [
      "1it [00:00,  9.43it/s]]"
     ]
    },
    {
     "name": "stdout",
     "output_type": "stream",
     "text": [
      "{\"train\": {\"eval_examples_count\": 500, \"metrics\": {\"ner_f1\": 99.395, \"ner_token_f1\": 99.639}, \"time_spent\": \"0:02:43\", \"epochs_done\": 10, \"batches_seen\": 500, \"train_examples_seen\": 248140, \"loss\": 0.0122866106685251}}\n"
     ]
    },
    {
     "name": "stderr",
     "output_type": "stream",
     "text": [
      "\n",
      "8it [00:00, 12.27it/s]\n",
      "2025-09-25 20:50:44.682 INFO in 'deeppavlov.core.trainers.nn_trainer'['nn_trainer'] at line 211: Did not improve on the ner_f1 of 85.8226\n"
     ]
    },
    {
     "name": "stdout",
     "output_type": "stream",
     "text": [
      "{\"valid\": {\"eval_examples_count\": 3544, \"metrics\": {\"ner_f1\": 85.3548, \"ner_token_f1\": 85.5994}, \"time_spent\": \"0:02:44\", \"epochs_done\": 10, \"batches_seen\": 500, \"train_examples_seen\": 248140, \"impatience\": 50, \"patience_limit\": 100}}\n"
     ]
    },
    {
     "name": "stderr",
     "output_type": "stream",
     "text": [
      "1it [00:00,  8.40it/s]]"
     ]
    },
    {
     "name": "stdout",
     "output_type": "stream",
     "text": [
      "{\"train\": {\"eval_examples_count\": 500, \"metrics\": {\"ner_f1\": 99.0686, \"ner_token_f1\": 99.4342}, \"time_spent\": \"0:02:46\", \"epochs_done\": 10, \"batches_seen\": 510, \"train_examples_seen\": 253140, \"loss\": 0.013196366280317307}}\n"
     ]
    },
    {
     "name": "stderr",
     "output_type": "stream",
     "text": [
      "\n",
      "8it [00:00, 11.84it/s]\n",
      "2025-09-25 20:50:48.157 INFO in 'deeppavlov.core.trainers.nn_trainer'['nn_trainer'] at line 211: Did not improve on the ner_f1 of 85.8226\n"
     ]
    },
    {
     "name": "stdout",
     "output_type": "stream",
     "text": [
      "{\"valid\": {\"eval_examples_count\": 3544, \"metrics\": {\"ner_f1\": 85.4782, \"ner_token_f1\": 85.5855}, \"time_spent\": \"0:02:47\", \"epochs_done\": 10, \"batches_seen\": 510, \"train_examples_seen\": 253140, \"impatience\": 51, \"patience_limit\": 100}}\n"
     ]
    },
    {
     "name": "stderr",
     "output_type": "stream",
     "text": [
      "47it [00:15,  2.95it/s]\n",
      "1it [00:00, 10.00it/s]"
     ]
    },
    {
     "name": "stdout",
     "output_type": "stream",
     "text": [
      "{\"train\": {\"eval_examples_count\": 500, \"metrics\": {\"ner_f1\": 99.4992, \"ner_token_f1\": 99.8582}, \"time_spent\": \"0:02:50\", \"epochs_done\": 11, \"batches_seen\": 520, \"train_examples_seen\": 257954, \"loss\": 0.010322249867022038}}\n"
     ]
    },
    {
     "name": "stderr",
     "output_type": "stream",
     "text": [
      "\n",
      "8it [00:00, 11.68it/s]\n",
      "2025-09-25 20:50:51.612 INFO in 'deeppavlov.core.trainers.nn_trainer'['nn_trainer'] at line 211: Did not improve on the ner_f1 of 85.8226\n"
     ]
    },
    {
     "name": "stdout",
     "output_type": "stream",
     "text": [
      "{\"valid\": {\"eval_examples_count\": 3544, \"metrics\": {\"ner_f1\": 85.695, \"ner_token_f1\": 85.8164}, \"time_spent\": \"0:02:51\", \"epochs_done\": 11, \"batches_seen\": 520, \"train_examples_seen\": 257954, \"impatience\": 52, \"patience_limit\": 100}}\n"
     ]
    },
    {
     "name": "stderr",
     "output_type": "stream",
     "text": [
      "1it [00:00,  8.74it/s]]"
     ]
    },
    {
     "name": "stdout",
     "output_type": "stream",
     "text": [
      "{\"train\": {\"eval_examples_count\": 500, \"metrics\": {\"ner_f1\": 99.2379, \"ner_token_f1\": 99.6446}, \"time_spent\": \"0:02:53\", \"epochs_done\": 11, \"batches_seen\": 530, \"train_examples_seen\": 262954, \"loss\": 0.01240449296310544}}\n"
     ]
    },
    {
     "name": "stderr",
     "output_type": "stream",
     "text": [
      "\n",
      "8it [00:00, 11.86it/s]\n",
      "2025-09-25 20:50:55.11 INFO in 'deeppavlov.core.trainers.nn_trainer'['nn_trainer'] at line 211: Did not improve on the ner_f1 of 85.8226\n"
     ]
    },
    {
     "name": "stdout",
     "output_type": "stream",
     "text": [
      "{\"valid\": {\"eval_examples_count\": 3544, \"metrics\": {\"ner_f1\": 85.6369, \"ner_token_f1\": 85.7105}, \"time_spent\": \"0:02:54\", \"epochs_done\": 11, \"batches_seen\": 530, \"train_examples_seen\": 262954, \"impatience\": 53, \"patience_limit\": 100}}\n"
     ]
    },
    {
     "name": "stderr",
     "output_type": "stream",
     "text": [
      "1it [00:00,  9.17it/s]]"
     ]
    },
    {
     "name": "stdout",
     "output_type": "stream",
     "text": [
      "{\"train\": {\"eval_examples_count\": 500, \"metrics\": {\"ner_f1\": 98.93, \"ner_token_f1\": 99.5763}, \"time_spent\": \"0:02:57\", \"epochs_done\": 11, \"batches_seen\": 540, \"train_examples_seen\": 267954, \"loss\": 0.012460263259708882}}\n"
     ]
    },
    {
     "name": "stderr",
     "output_type": "stream",
     "text": [
      "\n",
      "8it [00:00,  9.87it/s]\n",
      "2025-09-25 20:50:58.544 INFO in 'deeppavlov.core.trainers.nn_trainer'['nn_trainer'] at line 211: Did not improve on the ner_f1 of 85.8226\n"
     ]
    },
    {
     "name": "stdout",
     "output_type": "stream",
     "text": [
      "{\"valid\": {\"eval_examples_count\": 3544, \"metrics\": {\"ner_f1\": 85.5785, \"ner_token_f1\": 85.7409}, \"time_spent\": \"0:02:57\", \"epochs_done\": 11, \"batches_seen\": 540, \"train_examples_seen\": 267954, \"impatience\": 54, \"patience_limit\": 100}}\n"
     ]
    },
    {
     "name": "stderr",
     "output_type": "stream",
     "text": [
      "1it [00:00,  8.72it/s]]"
     ]
    },
    {
     "name": "stdout",
     "output_type": "stream",
     "text": [
      "{\"train\": {\"eval_examples_count\": 500, \"metrics\": {\"ner_f1\": 99.2531, \"ner_token_f1\": 99.4278}, \"time_spent\": \"0:03:00\", \"epochs_done\": 11, \"batches_seen\": 550, \"train_examples_seen\": 272954, \"loss\": 0.010496298968791961}}\n"
     ]
    },
    {
     "name": "stderr",
     "output_type": "stream",
     "text": [
      "\n",
      "8it [00:00, 11.80it/s]\n",
      "2025-09-25 20:51:01.996 INFO in 'deeppavlov.core.trainers.nn_trainer'['nn_trainer'] at line 211: Did not improve on the ner_f1 of 85.8226\n"
     ]
    },
    {
     "name": "stdout",
     "output_type": "stream",
     "text": [
      "{\"valid\": {\"eval_examples_count\": 3544, \"metrics\": {\"ner_f1\": 85.2925, \"ner_token_f1\": 85.3779}, \"time_spent\": \"0:03:01\", \"epochs_done\": 11, \"batches_seen\": 550, \"train_examples_seen\": 272954, \"impatience\": 55, \"patience_limit\": 100}}\n"
     ]
    },
    {
     "name": "stderr",
     "output_type": "stream",
     "text": [
      "1it [00:00,  8.62it/s]]"
     ]
    },
    {
     "name": "stdout",
     "output_type": "stream",
     "text": [
      "{\"train\": {\"eval_examples_count\": 500, \"metrics\": {\"ner_f1\": 99.5701, \"ner_token_f1\": 99.6426}, \"time_spent\": \"0:03:04\", \"epochs_done\": 11, \"batches_seen\": 560, \"train_examples_seen\": 277954, \"loss\": 0.010096054198220373}}\n"
     ]
    },
    {
     "name": "stderr",
     "output_type": "stream",
     "text": [
      "\n",
      "8it [00:00, 11.76it/s]\n",
      "2025-09-25 20:51:05.483 INFO in 'deeppavlov.core.trainers.nn_trainer'['nn_trainer'] at line 211: Did not improve on the ner_f1 of 85.8226\n"
     ]
    },
    {
     "name": "stdout",
     "output_type": "stream",
     "text": [
      "{\"valid\": {\"eval_examples_count\": 3544, \"metrics\": {\"ner_f1\": 85.7104, \"ner_token_f1\": 85.8774}, \"time_spent\": \"0:03:04\", \"epochs_done\": 11, \"batches_seen\": 560, \"train_examples_seen\": 277954, \"impatience\": 56, \"patience_limit\": 100}}\n"
     ]
    },
    {
     "name": "stderr",
     "output_type": "stream",
     "text": [
      "47it [00:16,  2.86it/s]\n",
      "1it [00:00,  8.18it/s]"
     ]
    },
    {
     "name": "stdout",
     "output_type": "stream",
     "text": [
      "{\"train\": {\"eval_examples_count\": 500, \"metrics\": {\"ner_f1\": 99.7502, \"ner_token_f1\": 100.0}, \"time_spent\": \"0:03:07\", \"epochs_done\": 12, \"batches_seen\": 570, \"train_examples_seen\": 282768, \"loss\": 0.012747375993058085}}\n"
     ]
    },
    {
     "name": "stderr",
     "output_type": "stream",
     "text": [
      "\n",
      "8it [00:00, 11.25it/s]\n",
      "2025-09-25 20:51:08.892 INFO in 'deeppavlov.core.trainers.nn_trainer'['nn_trainer'] at line 211: Did not improve on the ner_f1 of 85.8226\n"
     ]
    },
    {
     "name": "stdout",
     "output_type": "stream",
     "text": [
      "{\"valid\": {\"eval_examples_count\": 3544, \"metrics\": {\"ner_f1\": 85.4427, \"ner_token_f1\": 85.5547}, \"time_spent\": \"0:03:08\", \"epochs_done\": 12, \"batches_seen\": 570, \"train_examples_seen\": 282768, \"impatience\": 57, \"patience_limit\": 100}}\n"
     ]
    },
    {
     "name": "stderr",
     "output_type": "stream",
     "text": [
      "1it [00:00,  9.34it/s]]"
     ]
    },
    {
     "name": "stdout",
     "output_type": "stream",
     "text": [
      "{\"train\": {\"eval_examples_count\": 500, \"metrics\": {\"ner_f1\": 99.5938, \"ner_token_f1\": 99.6481}, \"time_spent\": \"0:03:11\", \"epochs_done\": 12, \"batches_seen\": 580, \"train_examples_seen\": 287768, \"loss\": 0.01033070171251893}}\n"
     ]
    },
    {
     "name": "stderr",
     "output_type": "stream",
     "text": [
      "\n",
      "8it [00:00, 11.71it/s]\n",
      "2025-09-25 20:51:12.670 INFO in 'deeppavlov.core.trainers.nn_trainer'['nn_trainer'] at line 211: Did not improve on the ner_f1 of 85.8226\n"
     ]
    },
    {
     "name": "stdout",
     "output_type": "stream",
     "text": [
      "{\"valid\": {\"eval_examples_count\": 3544, \"metrics\": {\"ner_f1\": 85.424, \"ner_token_f1\": 85.5588}, \"time_spent\": \"0:03:12\", \"epochs_done\": 12, \"batches_seen\": 580, \"train_examples_seen\": 287768, \"impatience\": 58, \"patience_limit\": 100}}\n"
     ]
    },
    {
     "name": "stderr",
     "output_type": "stream",
     "text": [
      "1it [00:00,  8.75it/s]]"
     ]
    },
    {
     "name": "stdout",
     "output_type": "stream",
     "text": [
      "{\"train\": {\"eval_examples_count\": 500, \"metrics\": {\"ner_f1\": 99.7523, \"ner_token_f1\": 100.0}, \"time_spent\": \"0:03:14\", \"epochs_done\": 12, \"batches_seen\": 590, \"train_examples_seen\": 292768, \"loss\": 0.011547207552939653}}\n"
     ]
    },
    {
     "name": "stderr",
     "output_type": "stream",
     "text": [
      "\n",
      "8it [00:00, 11.62it/s]\n",
      "2025-09-25 20:51:16.144 INFO in 'deeppavlov.core.trainers.nn_trainer'['nn_trainer'] at line 211: Did not improve on the ner_f1 of 85.8226\n"
     ]
    },
    {
     "name": "stdout",
     "output_type": "stream",
     "text": [
      "{\"valid\": {\"eval_examples_count\": 3544, \"metrics\": {\"ner_f1\": 85.4316, \"ner_token_f1\": 85.627}, \"time_spent\": \"0:03:15\", \"epochs_done\": 12, \"batches_seen\": 590, \"train_examples_seen\": 292768, \"impatience\": 59, \"patience_limit\": 100}}\n"
     ]
    },
    {
     "name": "stderr",
     "output_type": "stream",
     "text": [
      "1it [00:00,  9.20it/s]]"
     ]
    },
    {
     "name": "stdout",
     "output_type": "stream",
     "text": [
      "{\"train\": {\"eval_examples_count\": 500, \"metrics\": {\"ner_f1\": 98.9583, \"ner_token_f1\": 99.6315}, \"time_spent\": \"0:03:18\", \"epochs_done\": 12, \"batches_seen\": 600, \"train_examples_seen\": 297768, \"loss\": 0.010256593208760023}}\n"
     ]
    },
    {
     "name": "stderr",
     "output_type": "stream",
     "text": [
      "\n",
      "8it [00:00, 11.94it/s]\n",
      "2025-09-25 20:51:19.437 INFO in 'deeppavlov.core.trainers.nn_trainer'['nn_trainer'] at line 211: Did not improve on the ner_f1 of 85.8226\n"
     ]
    },
    {
     "name": "stdout",
     "output_type": "stream",
     "text": [
      "{\"valid\": {\"eval_examples_count\": 3544, \"metrics\": {\"ner_f1\": 85.5866, \"ner_token_f1\": 85.6119}, \"time_spent\": \"0:03:18\", \"epochs_done\": 12, \"batches_seen\": 600, \"train_examples_seen\": 297768, \"impatience\": 60, \"patience_limit\": 100}}\n"
     ]
    },
    {
     "name": "stderr",
     "output_type": "stream",
     "text": [
      "1it [00:00,  9.39it/s]]"
     ]
    },
    {
     "name": "stdout",
     "output_type": "stream",
     "text": [
      "{\"train\": {\"eval_examples_count\": 500, \"metrics\": {\"ner_f1\": 98.9983, \"ner_token_f1\": 99.6506}, \"time_spent\": \"0:03:21\", \"epochs_done\": 12, \"batches_seen\": 610, \"train_examples_seen\": 302768, \"loss\": 0.0091849853284657}}\n"
     ]
    },
    {
     "name": "stderr",
     "output_type": "stream",
     "text": [
      "\n",
      "8it [00:00, 12.50it/s]\n",
      "2025-09-25 20:51:22.781 INFO in 'deeppavlov.core.trainers.nn_trainer'['nn_trainer'] at line 211: Did not improve on the ner_f1 of 85.8226\n"
     ]
    },
    {
     "name": "stdout",
     "output_type": "stream",
     "text": [
      "{\"valid\": {\"eval_examples_count\": 3544, \"metrics\": {\"ner_f1\": 85.3333, \"ner_token_f1\": 85.3945}, \"time_spent\": \"0:03:22\", \"epochs_done\": 12, \"batches_seen\": 610, \"train_examples_seen\": 302768, \"impatience\": 61, \"patience_limit\": 100}}\n"
     ]
    },
    {
     "name": "stderr",
     "output_type": "stream",
     "text": [
      "47it [00:16,  2.85it/s]\n",
      "1it [00:00,  9.42it/s]"
     ]
    },
    {
     "name": "stdout",
     "output_type": "stream",
     "text": [
      "{\"train\": {\"eval_examples_count\": 500, \"metrics\": {\"ner_f1\": 99.7485, \"ner_token_f1\": 99.7849}, \"time_spent\": \"0:03:24\", \"epochs_done\": 13, \"batches_seen\": 620, \"train_examples_seen\": 307582, \"loss\": 0.010786412563174964}}\n"
     ]
    },
    {
     "name": "stderr",
     "output_type": "stream",
     "text": [
      "\n",
      "8it [00:00, 12.47it/s]\n",
      "2025-09-25 20:51:25.958 INFO in 'deeppavlov.core.trainers.nn_trainer'['nn_trainer'] at line 211: Did not improve on the ner_f1 of 85.8226\n"
     ]
    },
    {
     "name": "stdout",
     "output_type": "stream",
     "text": [
      "{\"valid\": {\"eval_examples_count\": 3544, \"metrics\": {\"ner_f1\": 85.1267, \"ner_token_f1\": 85.1886}, \"time_spent\": \"0:03:25\", \"epochs_done\": 13, \"batches_seen\": 620, \"train_examples_seen\": 307582, \"impatience\": 62, \"patience_limit\": 100}}\n"
     ]
    },
    {
     "name": "stderr",
     "output_type": "stream",
     "text": [
      "1it [00:00,  9.61it/s]]"
     ]
    },
    {
     "name": "stdout",
     "output_type": "stream",
     "text": [
      "{\"train\": {\"eval_examples_count\": 500, \"metrics\": {\"ner_f1\": 99.3277, \"ner_token_f1\": 99.5714}, \"time_spent\": \"0:03:27\", \"epochs_done\": 13, \"batches_seen\": 630, \"train_examples_seen\": 312582, \"loss\": 0.01049642926082015}}\n"
     ]
    },
    {
     "name": "stderr",
     "output_type": "stream",
     "text": [
      "\n",
      "8it [00:00, 12.53it/s]\n",
      "2025-09-25 20:51:29.147 INFO in 'deeppavlov.core.trainers.nn_trainer'['nn_trainer'] at line 211: Did not improve on the ner_f1 of 85.8226\n"
     ]
    },
    {
     "name": "stdout",
     "output_type": "stream",
     "text": [
      "{\"valid\": {\"eval_examples_count\": 3544, \"metrics\": {\"ner_f1\": 85.2553, \"ner_token_f1\": 85.36}, \"time_spent\": \"0:03:28\", \"epochs_done\": 13, \"batches_seen\": 630, \"train_examples_seen\": 312582, \"impatience\": 63, \"patience_limit\": 100}}\n"
     ]
    },
    {
     "name": "stderr",
     "output_type": "stream",
     "text": [
      "1it [00:00, 10.05it/s]]"
     ]
    },
    {
     "name": "stdout",
     "output_type": "stream",
     "text": [
      "{\"train\": {\"eval_examples_count\": 500, \"metrics\": {\"ner_f1\": 99.6667, \"ner_token_f1\": 99.7155}, \"time_spent\": \"0:03:31\", \"epochs_done\": 13, \"batches_seen\": 640, \"train_examples_seen\": 317582, \"loss\": 0.009694507997483014}}\n"
     ]
    },
    {
     "name": "stderr",
     "output_type": "stream",
     "text": [
      "\n",
      "8it [00:00, 13.33it/s]\n",
      "2025-09-25 20:51:32.317 INFO in 'deeppavlov.core.trainers.nn_trainer'['nn_trainer'] at line 211: Did not improve on the ner_f1 of 85.8226\n"
     ]
    },
    {
     "name": "stdout",
     "output_type": "stream",
     "text": [
      "{\"valid\": {\"eval_examples_count\": 3544, \"metrics\": {\"ner_f1\": 85.6369, \"ner_token_f1\": 85.8092}, \"time_spent\": \"0:03:31\", \"epochs_done\": 13, \"batches_seen\": 640, \"train_examples_seen\": 317582, \"impatience\": 64, \"patience_limit\": 100}}\n"
     ]
    },
    {
     "name": "stderr",
     "output_type": "stream",
     "text": [
      "1it [00:00,  8.88it/s]]"
     ]
    },
    {
     "name": "stdout",
     "output_type": "stream",
     "text": [
      "{\"train\": {\"eval_examples_count\": 500, \"metrics\": {\"ner_f1\": 99.6667, \"ner_token_f1\": 99.7853}, \"time_spent\": \"0:03:34\", \"epochs_done\": 13, \"batches_seen\": 650, \"train_examples_seen\": 322582, \"loss\": 0.010616362513974308}}\n"
     ]
    },
    {
     "name": "stderr",
     "output_type": "stream",
     "text": [
      "\n",
      "8it [00:00, 11.05it/s]\n",
      "2025-09-25 20:51:35.700 INFO in 'deeppavlov.core.trainers.nn_trainer'['nn_trainer'] at line 211: Did not improve on the ner_f1 of 85.8226\n"
     ]
    },
    {
     "name": "stdout",
     "output_type": "stream",
     "text": [
      "{\"valid\": {\"eval_examples_count\": 3544, \"metrics\": {\"ner_f1\": 85.2901, \"ner_token_f1\": 85.4473}, \"time_spent\": \"0:03:35\", \"epochs_done\": 13, \"batches_seen\": 650, \"train_examples_seen\": 322582, \"impatience\": 65, \"patience_limit\": 100}}\n"
     ]
    },
    {
     "name": "stderr",
     "output_type": "stream",
     "text": [
      "47it [00:14,  3.13it/s]\n",
      "1it [00:00,  8.35it/s]"
     ]
    },
    {
     "name": "stdout",
     "output_type": "stream",
     "text": [
      "{\"train\": {\"eval_examples_count\": 500, \"metrics\": {\"ner_f1\": 99.1334, \"ner_token_f1\": 99.6379}, \"time_spent\": \"0:03:38\", \"epochs_done\": 14, \"batches_seen\": 660, \"train_examples_seen\": 327396, \"loss\": 0.011507212417200208}}\n"
     ]
    },
    {
     "name": "stderr",
     "output_type": "stream",
     "text": [
      "\n",
      "8it [00:00, 11.04it/s]\n",
      "2025-09-25 20:51:39.432 INFO in 'deeppavlov.core.trainers.nn_trainer'['nn_trainer'] at line 211: Did not improve on the ner_f1 of 85.8226\n"
     ]
    },
    {
     "name": "stdout",
     "output_type": "stream",
     "text": [
      "{\"valid\": {\"eval_examples_count\": 3544, \"metrics\": {\"ner_f1\": 85.5169, \"ner_token_f1\": 85.6308}, \"time_spent\": \"0:03:38\", \"epochs_done\": 14, \"batches_seen\": 660, \"train_examples_seen\": 327396, \"impatience\": 66, \"patience_limit\": 100}}\n"
     ]
    },
    {
     "name": "stderr",
     "output_type": "stream",
     "text": [
      "1it [00:00,  8.59it/s]]"
     ]
    },
    {
     "name": "stdout",
     "output_type": "stream",
     "text": [
      "{\"train\": {\"eval_examples_count\": 500, \"metrics\": {\"ner_f1\": 99.749, \"ner_token_f1\": 100.0}, \"time_spent\": \"0:03:41\", \"epochs_done\": 14, \"batches_seen\": 670, \"train_examples_seen\": 332396, \"loss\": 0.007830924913287162}}\n"
     ]
    },
    {
     "name": "stderr",
     "output_type": "stream",
     "text": [
      "\n",
      "8it [00:00,  9.58it/s]\n",
      "2025-09-25 20:51:42.996 INFO in 'deeppavlov.core.trainers.nn_trainer'['nn_trainer'] at line 211: Did not improve on the ner_f1 of 85.8226\n"
     ]
    },
    {
     "name": "stdout",
     "output_type": "stream",
     "text": [
      "{\"valid\": {\"eval_examples_count\": 3544, \"metrics\": {\"ner_f1\": 85.392, \"ner_token_f1\": 85.4139}, \"time_spent\": \"0:03:42\", \"epochs_done\": 14, \"batches_seen\": 670, \"train_examples_seen\": 332396, \"impatience\": 67, \"patience_limit\": 100}}\n"
     ]
    },
    {
     "name": "stderr",
     "output_type": "stream",
     "text": [
      "1it [00:00,  8.34it/s]]"
     ]
    },
    {
     "name": "stdout",
     "output_type": "stream",
     "text": [
      "{\"train\": {\"eval_examples_count\": 500, \"metrics\": {\"ner_f1\": 99.7535, \"ner_token_f1\": 99.7904}, \"time_spent\": \"0:03:45\", \"epochs_done\": 14, \"batches_seen\": 680, \"train_examples_seen\": 337396, \"loss\": 0.010343672707676888}}\n"
     ]
    },
    {
     "name": "stderr",
     "output_type": "stream",
     "text": [
      "\n",
      "8it [00:00, 11.97it/s]\n",
      "2025-09-25 20:51:46.773 INFO in 'deeppavlov.core.trainers.nn_trainer'['nn_trainer'] at line 211: Did not improve on the ner_f1 of 85.8226\n"
     ]
    },
    {
     "name": "stdout",
     "output_type": "stream",
     "text": [
      "{\"valid\": {\"eval_examples_count\": 3544, \"metrics\": {\"ner_f1\": 85.4285, \"ner_token_f1\": 85.3897}, \"time_spent\": \"0:03:46\", \"epochs_done\": 14, \"batches_seen\": 680, \"train_examples_seen\": 337396, \"impatience\": 68, \"patience_limit\": 100}}\n"
     ]
    },
    {
     "name": "stderr",
     "output_type": "stream",
     "text": [
      "1it [00:00,  8.63it/s]]"
     ]
    },
    {
     "name": "stdout",
     "output_type": "stream",
     "text": [
      "{\"train\": {\"eval_examples_count\": 500, \"metrics\": {\"ner_f1\": 99.1035, \"ner_token_f1\": 99.7991}, \"time_spent\": \"0:03:48\", \"epochs_done\": 14, \"batches_seen\": 690, \"train_examples_seen\": 342396, \"loss\": 0.008025784976780415}}\n"
     ]
    },
    {
     "name": "stderr",
     "output_type": "stream",
     "text": [
      "\n",
      "8it [00:00, 12.38it/s]\n",
      "2025-09-25 20:51:50.147 INFO in 'deeppavlov.core.trainers.nn_trainer'['nn_trainer'] at line 211: Did not improve on the ner_f1 of 85.8226\n"
     ]
    },
    {
     "name": "stdout",
     "output_type": "stream",
     "text": [
      "{\"valid\": {\"eval_examples_count\": 3544, \"metrics\": {\"ner_f1\": 85.483, \"ner_token_f1\": 85.3636}, \"time_spent\": \"0:03:49\", \"epochs_done\": 14, \"batches_seen\": 690, \"train_examples_seen\": 342396, \"impatience\": 69, \"patience_limit\": 100}}\n"
     ]
    },
    {
     "name": "stderr",
     "output_type": "stream",
     "text": [
      "1it [00:00,  9.69it/s]]"
     ]
    },
    {
     "name": "stdout",
     "output_type": "stream",
     "text": [
      "{\"train\": {\"eval_examples_count\": 500, \"metrics\": {\"ner_f1\": 99.8294, \"ner_token_f1\": 99.8559}, \"time_spent\": \"0:03:52\", \"epochs_done\": 14, \"batches_seen\": 700, \"train_examples_seen\": 347396, \"loss\": 0.009638394648209214}}\n"
     ]
    },
    {
     "name": "stderr",
     "output_type": "stream",
     "text": [
      "\n",
      "8it [00:00, 12.12it/s]\n",
      "2025-09-25 20:51:53.588 INFO in 'deeppavlov.core.trainers.nn_trainer'['nn_trainer'] at line 211: Did not improve on the ner_f1 of 85.8226\n"
     ]
    },
    {
     "name": "stdout",
     "output_type": "stream",
     "text": [
      "{\"valid\": {\"eval_examples_count\": 3544, \"metrics\": {\"ner_f1\": 85.4422, \"ner_token_f1\": 85.463}, \"time_spent\": \"0:03:52\", \"epochs_done\": 14, \"batches_seen\": 700, \"train_examples_seen\": 347396, \"impatience\": 70, \"patience_limit\": 100}}\n"
     ]
    },
    {
     "name": "stderr",
     "output_type": "stream",
     "text": [
      "47it [00:16,  2.80it/s]\n",
      "1it [00:00,  8.64it/s]"
     ]
    },
    {
     "name": "stdout",
     "output_type": "stream",
     "text": [
      "{\"train\": {\"eval_examples_count\": 500, \"metrics\": {\"ner_f1\": 99.4113, \"ner_token_f1\": 99.6451}, \"time_spent\": \"0:03:55\", \"epochs_done\": 15, \"batches_seen\": 710, \"train_examples_seen\": 352210, \"loss\": 0.010481961304321885}}\n"
     ]
    },
    {
     "name": "stderr",
     "output_type": "stream",
     "text": [
      "\n",
      "8it [00:00, 10.55it/s]\n",
      "2025-09-25 20:51:56.974 INFO in 'deeppavlov.core.trainers.nn_trainer'['nn_trainer'] at line 211: Did not improve on the ner_f1 of 85.8226\n"
     ]
    },
    {
     "name": "stdout",
     "output_type": "stream",
     "text": [
      "{\"valid\": {\"eval_examples_count\": 3544, \"metrics\": {\"ner_f1\": 85.2254, \"ner_token_f1\": 85.316}, \"time_spent\": \"0:03:56\", \"epochs_done\": 15, \"batches_seen\": 710, \"train_examples_seen\": 352210, \"impatience\": 71, \"patience_limit\": 100}}\n"
     ]
    },
    {
     "name": "stderr",
     "output_type": "stream",
     "text": [
      "1it [00:00,  9.79it/s]]"
     ]
    },
    {
     "name": "stdout",
     "output_type": "stream",
     "text": [
      "{\"train\": {\"eval_examples_count\": 500, \"metrics\": {\"ner_f1\": 100.0, \"ner_token_f1\": 100.0}, \"time_spent\": \"0:03:59\", \"epochs_done\": 15, \"batches_seen\": 720, \"train_examples_seen\": 357210, \"loss\": 0.00766550125554204}}\n"
     ]
    },
    {
     "name": "stderr",
     "output_type": "stream",
     "text": [
      "\n",
      "8it [00:00, 11.82it/s]\n",
      "2025-09-25 20:52:00.448 INFO in 'deeppavlov.core.trainers.nn_trainer'['nn_trainer'] at line 211: Did not improve on the ner_f1 of 85.8226\n"
     ]
    },
    {
     "name": "stdout",
     "output_type": "stream",
     "text": [
      "{\"valid\": {\"eval_examples_count\": 3544, \"metrics\": {\"ner_f1\": 85.3546, \"ner_token_f1\": 85.4719}, \"time_spent\": \"0:03:59\", \"epochs_done\": 15, \"batches_seen\": 720, \"train_examples_seen\": 357210, \"impatience\": 72, \"patience_limit\": 100}}\n"
     ]
    },
    {
     "name": "stderr",
     "output_type": "stream",
     "text": [
      "1it [00:00,  8.42it/s]]"
     ]
    },
    {
     "name": "stdout",
     "output_type": "stream",
     "text": [
      "{\"train\": {\"eval_examples_count\": 500, \"metrics\": {\"ner_f1\": 99.5752, \"ner_token_f1\": 99.8571}, \"time_spent\": \"0:04:02\", \"epochs_done\": 15, \"batches_seen\": 730, \"train_examples_seen\": 362210, \"loss\": 0.009899456519633532}}\n"
     ]
    },
    {
     "name": "stderr",
     "output_type": "stream",
     "text": [
      "\n",
      "8it [00:00,  9.42it/s]\n",
      "2025-09-25 20:52:04.3 INFO in 'deeppavlov.core.trainers.nn_trainer'['nn_trainer'] at line 211: Did not improve on the ner_f1 of 85.8226\n"
     ]
    },
    {
     "name": "stdout",
     "output_type": "stream",
     "text": [
      "{\"valid\": {\"eval_examples_count\": 3544, \"metrics\": {\"ner_f1\": 85.3533, \"ner_token_f1\": 85.3571}, \"time_spent\": \"0:04:03\", \"epochs_done\": 15, \"batches_seen\": 730, \"train_examples_seen\": 362210, \"impatience\": 73, \"patience_limit\": 100}}\n"
     ]
    },
    {
     "name": "stderr",
     "output_type": "stream",
     "text": [
      "1it [00:00, 10.29it/s]]"
     ]
    },
    {
     "name": "stdout",
     "output_type": "stream",
     "text": [
      "{\"train\": {\"eval_examples_count\": 500, \"metrics\": {\"ner_f1\": 99.5809, \"ner_token_f1\": 99.7171}, \"time_spent\": \"0:04:06\", \"epochs_done\": 15, \"batches_seen\": 740, \"train_examples_seen\": 367210, \"loss\": 0.008933834847994149}}\n"
     ]
    },
    {
     "name": "stderr",
     "output_type": "stream",
     "text": [
      "\n",
      "8it [00:00, 12.75it/s]\n",
      "2025-09-25 20:52:07.342 INFO in 'deeppavlov.core.trainers.nn_trainer'['nn_trainer'] at line 211: Did not improve on the ner_f1 of 85.8226\n"
     ]
    },
    {
     "name": "stdout",
     "output_type": "stream",
     "text": [
      "{\"valid\": {\"eval_examples_count\": 3544, \"metrics\": {\"ner_f1\": 85.393, \"ner_token_f1\": 85.3885}, \"time_spent\": \"0:04:06\", \"epochs_done\": 15, \"batches_seen\": 740, \"train_examples_seen\": 367210, \"impatience\": 74, \"patience_limit\": 100}}\n"
     ]
    },
    {
     "name": "stderr",
     "output_type": "stream",
     "text": [
      "1it [00:00,  9.61it/s]]"
     ]
    },
    {
     "name": "stdout",
     "output_type": "stream",
     "text": [
      "{\"train\": {\"eval_examples_count\": 500, \"metrics\": {\"ner_f1\": 99.7481, \"ner_token_f1\": 99.7865}, \"time_spent\": \"0:04:09\", \"epochs_done\": 15, \"batches_seen\": 750, \"train_examples_seen\": 372210, \"loss\": 0.008439809689298272}}\n"
     ]
    },
    {
     "name": "stderr",
     "output_type": "stream",
     "text": [
      "\n",
      "8it [00:00, 12.56it/s]\n",
      "2025-09-25 20:52:10.543 INFO in 'deeppavlov.core.trainers.nn_trainer'['nn_trainer'] at line 211: Did not improve on the ner_f1 of 85.8226\n"
     ]
    },
    {
     "name": "stdout",
     "output_type": "stream",
     "text": [
      "{\"valid\": {\"eval_examples_count\": 3544, \"metrics\": {\"ner_f1\": 85.3777, \"ner_token_f1\": 85.4001}, \"time_spent\": \"0:04:09\", \"epochs_done\": 15, \"batches_seen\": 750, \"train_examples_seen\": 372210, \"impatience\": 75, \"patience_limit\": 100}}\n"
     ]
    },
    {
     "name": "stderr",
     "output_type": "stream",
     "text": [
      "47it [00:16,  2.90it/s]\n",
      "1it [00:00, 10.36it/s]"
     ]
    },
    {
     "name": "stdout",
     "output_type": "stream",
     "text": [
      "{\"train\": {\"eval_examples_count\": 500, \"metrics\": {\"ner_f1\": 99.3367, \"ner_token_f1\": 99.4421}, \"time_spent\": \"0:04:12\", \"epochs_done\": 16, \"batches_seen\": 760, \"train_examples_seen\": 377024, \"loss\": 0.007690471969544888}}\n"
     ]
    },
    {
     "name": "stderr",
     "output_type": "stream",
     "text": [
      "\n",
      "8it [00:00, 12.12it/s]\n",
      "2025-09-25 20:52:13.746 INFO in 'deeppavlov.core.trainers.nn_trainer'['nn_trainer'] at line 211: Did not improve on the ner_f1 of 85.8226\n"
     ]
    },
    {
     "name": "stdout",
     "output_type": "stream",
     "text": [
      "{\"valid\": {\"eval_examples_count\": 3544, \"metrics\": {\"ner_f1\": 85.4508, \"ner_token_f1\": 85.5284}, \"time_spent\": \"0:04:13\", \"epochs_done\": 16, \"batches_seen\": 760, \"train_examples_seen\": 377024, \"impatience\": 76, \"patience_limit\": 100}}\n"
     ]
    },
    {
     "name": "stderr",
     "output_type": "stream",
     "text": [
      "1it [00:00,  7.45it/s]]"
     ]
    },
    {
     "name": "stdout",
     "output_type": "stream",
     "text": [
      "{\"train\": {\"eval_examples_count\": 500, \"metrics\": {\"ner_f1\": 99.4113, \"ner_token_f1\": 99.6456}, \"time_spent\": \"0:04:15\", \"epochs_done\": 16, \"batches_seen\": 770, \"train_examples_seen\": 382024, \"loss\": 0.007491977605968714}}\n"
     ]
    },
    {
     "name": "stderr",
     "output_type": "stream",
     "text": [
      "\n",
      "8it [00:00, 11.85it/s]\n",
      "2025-09-25 20:52:17.79 INFO in 'deeppavlov.core.trainers.nn_trainer'['nn_trainer'] at line 211: Did not improve on the ner_f1 of 85.8226\n"
     ]
    },
    {
     "name": "stdout",
     "output_type": "stream",
     "text": [
      "{\"valid\": {\"eval_examples_count\": 3544, \"metrics\": {\"ner_f1\": 85.5983, \"ner_token_f1\": 85.5704}, \"time_spent\": \"0:04:16\", \"epochs_done\": 16, \"batches_seen\": 770, \"train_examples_seen\": 382024, \"impatience\": 77, \"patience_limit\": 100}}\n"
     ]
    },
    {
     "name": "stderr",
     "output_type": "stream",
     "text": [
      "1it [00:00,  8.16it/s]]"
     ]
    },
    {
     "name": "stdout",
     "output_type": "stream",
     "text": [
      "{\"train\": {\"eval_examples_count\": 500, \"metrics\": {\"ner_f1\": 99.422, \"ner_token_f1\": 99.7921}, \"time_spent\": \"0:04:19\", \"epochs_done\": 16, \"batches_seen\": 780, \"train_examples_seen\": 387024, \"loss\": 0.008992691896855831}}\n"
     ]
    },
    {
     "name": "stderr",
     "output_type": "stream",
     "text": [
      "\n",
      "8it [00:00, 11.36it/s]\n",
      "2025-09-25 20:52:20.612 INFO in 'deeppavlov.core.trainers.nn_trainer'['nn_trainer'] at line 211: Did not improve on the ner_f1 of 85.8226\n"
     ]
    },
    {
     "name": "stdout",
     "output_type": "stream",
     "text": [
      "{\"valid\": {\"eval_examples_count\": 3544, \"metrics\": {\"ner_f1\": 85.4768, \"ner_token_f1\": 85.5806}, \"time_spent\": \"0:04:20\", \"epochs_done\": 16, \"batches_seen\": 780, \"train_examples_seen\": 387024, \"impatience\": 78, \"patience_limit\": 100}}\n"
     ]
    },
    {
     "name": "stderr",
     "output_type": "stream",
     "text": [
      "1it [00:00,  8.77it/s]]"
     ]
    },
    {
     "name": "stdout",
     "output_type": "stream",
     "text": [
      "{\"train\": {\"eval_examples_count\": 500, \"metrics\": {\"ner_f1\": 99.8377, \"ner_token_f1\": 99.8573}, \"time_spent\": \"0:04:22\", \"epochs_done\": 16, \"batches_seen\": 790, \"train_examples_seen\": 392024, \"loss\": 0.008790298178792}}\n"
     ]
    },
    {
     "name": "stderr",
     "output_type": "stream",
     "text": [
      "\n",
      "8it [00:00, 12.42it/s]\n",
      "2025-09-25 20:52:23.910 INFO in 'deeppavlov.core.trainers.nn_trainer'['nn_trainer'] at line 211: Did not improve on the ner_f1 of 85.8226\n"
     ]
    },
    {
     "name": "stdout",
     "output_type": "stream",
     "text": [
      "{\"valid\": {\"eval_examples_count\": 3544, \"metrics\": {\"ner_f1\": 85.4592, \"ner_token_f1\": 85.5023}, \"time_spent\": \"0:04:23\", \"epochs_done\": 16, \"batches_seen\": 790, \"train_examples_seen\": 392024, \"impatience\": 79, \"patience_limit\": 100}}\n"
     ]
    },
    {
     "name": "stderr",
     "output_type": "stream",
     "text": [
      "47it [00:15,  3.10it/s]\n",
      "1it [00:00,  9.51it/s]"
     ]
    },
    {
     "name": "stdout",
     "output_type": "stream",
     "text": [
      "{\"train\": {\"eval_examples_count\": 500, \"metrics\": {\"ner_f1\": 99.9159, \"ner_token_f1\": 99.928}, \"time_spent\": \"0:04:25\", \"epochs_done\": 17, \"batches_seen\": 800, \"train_examples_seen\": 396838, \"loss\": 0.010339795658364893}}\n"
     ]
    },
    {
     "name": "stderr",
     "output_type": "stream",
     "text": [
      "\n",
      "8it [00:00, 12.32it/s]\n",
      "2025-09-25 20:52:27.213 INFO in 'deeppavlov.core.trainers.nn_trainer'['nn_trainer'] at line 211: Did not improve on the ner_f1 of 85.8226\n"
     ]
    },
    {
     "name": "stdout",
     "output_type": "stream",
     "text": [
      "{\"valid\": {\"eval_examples_count\": 3544, \"metrics\": {\"ner_f1\": 85.4271, \"ner_token_f1\": 85.4671}, \"time_spent\": \"0:04:26\", \"epochs_done\": 17, \"batches_seen\": 800, \"train_examples_seen\": 396838, \"impatience\": 80, \"patience_limit\": 100}}\n"
     ]
    },
    {
     "name": "stderr",
     "output_type": "stream",
     "text": [
      "1it [00:00,  8.62it/s]]"
     ]
    },
    {
     "name": "stdout",
     "output_type": "stream",
     "text": [
      "{\"train\": {\"eval_examples_count\": 500, \"metrics\": {\"ner_f1\": 99.7485, \"ner_token_f1\": 99.7865}, \"time_spent\": \"0:04:29\", \"epochs_done\": 17, \"batches_seen\": 810, \"train_examples_seen\": 401838, \"loss\": 0.007381760934367776}}\n"
     ]
    },
    {
     "name": "stderr",
     "output_type": "stream",
     "text": [
      "\n",
      "8it [00:00, 12.28it/s]\n",
      "2025-09-25 20:52:30.594 INFO in 'deeppavlov.core.trainers.nn_trainer'['nn_trainer'] at line 211: Did not improve on the ner_f1 of 85.8226\n"
     ]
    },
    {
     "name": "stdout",
     "output_type": "stream",
     "text": [
      "{\"valid\": {\"eval_examples_count\": 3544, \"metrics\": {\"ner_f1\": 85.1318, \"ner_token_f1\": 85.3078}, \"time_spent\": \"0:04:29\", \"epochs_done\": 17, \"batches_seen\": 810, \"train_examples_seen\": 401838, \"impatience\": 81, \"patience_limit\": 100}}\n"
     ]
    },
    {
     "name": "stderr",
     "output_type": "stream",
     "text": [
      "1it [00:00,  8.93it/s]]"
     ]
    },
    {
     "name": "stdout",
     "output_type": "stream",
     "text": [
      "{\"train\": {\"eval_examples_count\": 500, \"metrics\": {\"ner_f1\": 99.1304, \"ner_token_f1\": 99.5683}, \"time_spent\": \"0:04:32\", \"epochs_done\": 17, \"batches_seen\": 820, \"train_examples_seen\": 406838, \"loss\": 0.007767975702881813}}\n"
     ]
    },
    {
     "name": "stderr",
     "output_type": "stream",
     "text": [
      "\n",
      "8it [00:00, 12.64it/s]\n",
      "2025-09-25 20:52:33.846 INFO in 'deeppavlov.core.trainers.nn_trainer'['nn_trainer'] at line 211: Did not improve on the ner_f1 of 85.8226\n"
     ]
    },
    {
     "name": "stdout",
     "output_type": "stream",
     "text": [
      "{\"valid\": {\"eval_examples_count\": 3544, \"metrics\": {\"ner_f1\": 85.6834, \"ner_token_f1\": 85.8279}, \"time_spent\": \"0:04:33\", \"epochs_done\": 17, \"batches_seen\": 820, \"train_examples_seen\": 406838, \"impatience\": 82, \"patience_limit\": 100}}\n"
     ]
    },
    {
     "name": "stderr",
     "output_type": "stream",
     "text": [
      "1it [00:00,  9.27it/s]]"
     ]
    },
    {
     "name": "stdout",
     "output_type": "stream",
     "text": [
      "{\"train\": {\"eval_examples_count\": 500, \"metrics\": {\"ner_f1\": 100.0, \"ner_token_f1\": 100.0}, \"time_spent\": \"0:04:35\", \"epochs_done\": 17, \"batches_seen\": 830, \"train_examples_seen\": 411838, \"loss\": 0.007774284249171615}}\n"
     ]
    },
    {
     "name": "stderr",
     "output_type": "stream",
     "text": [
      "\n",
      "8it [00:00, 12.43it/s]\n",
      "2025-09-25 20:52:37.37 INFO in 'deeppavlov.core.trainers.nn_trainer'['nn_trainer'] at line 211: Did not improve on the ner_f1 of 85.8226\n"
     ]
    },
    {
     "name": "stdout",
     "output_type": "stream",
     "text": [
      "{\"valid\": {\"eval_examples_count\": 3544, \"metrics\": {\"ner_f1\": 85.4891, \"ner_token_f1\": 85.5394}, \"time_spent\": \"0:04:36\", \"epochs_done\": 17, \"batches_seen\": 830, \"train_examples_seen\": 411838, \"impatience\": 83, \"patience_limit\": 100}}\n"
     ]
    },
    {
     "name": "stderr",
     "output_type": "stream",
     "text": [
      "1it [00:00,  9.43it/s]]"
     ]
    },
    {
     "name": "stdout",
     "output_type": "stream",
     "text": [
      "{\"train\": {\"eval_examples_count\": 500, \"metrics\": {\"ner_f1\": 99.4992, \"ner_token_f1\": 99.7147}, \"time_spent\": \"0:04:39\", \"epochs_done\": 17, \"batches_seen\": 840, \"train_examples_seen\": 416838, \"loss\": 0.00911166574805975}}\n"
     ]
    },
    {
     "name": "stderr",
     "output_type": "stream",
     "text": [
      "\n",
      "8it [00:00, 12.45it/s]\n",
      "2025-09-25 20:52:40.384 INFO in 'deeppavlov.core.trainers.nn_trainer'['nn_trainer'] at line 211: Did not improve on the ner_f1 of 85.8226\n"
     ]
    },
    {
     "name": "stdout",
     "output_type": "stream",
     "text": [
      "{\"valid\": {\"eval_examples_count\": 3544, \"metrics\": {\"ner_f1\": 85.4896, \"ner_token_f1\": 85.5209}, \"time_spent\": \"0:04:39\", \"epochs_done\": 17, \"batches_seen\": 840, \"train_examples_seen\": 416838, \"impatience\": 84, \"patience_limit\": 100}}\n"
     ]
    },
    {
     "name": "stderr",
     "output_type": "stream",
     "text": [
      "47it [00:15,  3.00it/s]\n",
      "1it [00:00,  8.57it/s]"
     ]
    },
    {
     "name": "stdout",
     "output_type": "stream",
     "text": [
      "{\"train\": {\"eval_examples_count\": 500, \"metrics\": {\"ner_f1\": 99.4975, \"ner_token_f1\": 99.6456}, \"time_spent\": \"0:04:42\", \"epochs_done\": 18, \"batches_seen\": 850, \"train_examples_seen\": 421652, \"loss\": 0.00944053588900715}}\n"
     ]
    },
    {
     "name": "stderr",
     "output_type": "stream",
     "text": [
      "\n",
      "8it [00:00, 12.59it/s]\n",
      "2025-09-25 20:52:43.580 INFO in 'deeppavlov.core.trainers.nn_trainer'['nn_trainer'] at line 211: Did not improve on the ner_f1 of 85.8226\n"
     ]
    },
    {
     "name": "stdout",
     "output_type": "stream",
     "text": [
      "{\"valid\": {\"eval_examples_count\": 3544, \"metrics\": {\"ner_f1\": 85.5407, \"ner_token_f1\": 85.5708}, \"time_spent\": \"0:04:42\", \"epochs_done\": 18, \"batches_seen\": 850, \"train_examples_seen\": 421652, \"impatience\": 85, \"patience_limit\": 100}}\n"
     ]
    },
    {
     "name": "stderr",
     "output_type": "stream",
     "text": [
      "1it [00:00,  9.54it/s]]"
     ]
    },
    {
     "name": "stdout",
     "output_type": "stream",
     "text": [
      "{\"train\": {\"eval_examples_count\": 500, \"metrics\": {\"ner_f1\": 98.8275, \"ner_token_f1\": 99.4286}, \"time_spent\": \"0:04:45\", \"epochs_done\": 18, \"batches_seen\": 860, \"train_examples_seen\": 426652, \"loss\": 0.00798194478265941}}\n"
     ]
    },
    {
     "name": "stderr",
     "output_type": "stream",
     "text": [
      "\n",
      "8it [00:00, 12.10it/s]\n",
      "2025-09-25 20:52:47.105 INFO in 'deeppavlov.core.trainers.nn_trainer'['nn_trainer'] at line 211: Did not improve on the ner_f1 of 85.8226\n"
     ]
    },
    {
     "name": "stdout",
     "output_type": "stream",
     "text": [
      "{\"valid\": {\"eval_examples_count\": 3544, \"metrics\": {\"ner_f1\": 85.4464, \"ner_token_f1\": 85.547}, \"time_spent\": \"0:04:46\", \"epochs_done\": 18, \"batches_seen\": 860, \"train_examples_seen\": 426652, \"impatience\": 86, \"patience_limit\": 100}}\n"
     ]
    },
    {
     "name": "stderr",
     "output_type": "stream",
     "text": [
      "1it [00:00, 10.26it/s]]"
     ]
    },
    {
     "name": "stdout",
     "output_type": "stream",
     "text": [
      "{\"train\": {\"eval_examples_count\": 500, \"metrics\": {\"ner_f1\": 99.0871, \"ner_token_f1\": 99.4366}, \"time_spent\": \"0:04:48\", \"epochs_done\": 18, \"batches_seen\": 870, \"train_examples_seen\": 431652, \"loss\": 0.009887488000094891}}\n"
     ]
    },
    {
     "name": "stderr",
     "output_type": "stream",
     "text": [
      "\n",
      "8it [00:00, 12.45it/s]\n",
      "2025-09-25 20:52:50.217 INFO in 'deeppavlov.core.trainers.nn_trainer'['nn_trainer'] at line 211: Did not improve on the ner_f1 of 85.8226\n"
     ]
    },
    {
     "name": "stdout",
     "output_type": "stream",
     "text": [
      "{\"valid\": {\"eval_examples_count\": 3544, \"metrics\": {\"ner_f1\": 85.3417, \"ner_token_f1\": 85.5013}, \"time_spent\": \"0:04:49\", \"epochs_done\": 18, \"batches_seen\": 870, \"train_examples_seen\": 431652, \"impatience\": 87, \"patience_limit\": 100}}\n"
     ]
    },
    {
     "name": "stderr",
     "output_type": "stream",
     "text": [
      "1it [00:00,  8.08it/s]]"
     ]
    },
    {
     "name": "stdout",
     "output_type": "stream",
     "text": [
      "{\"train\": {\"eval_examples_count\": 500, \"metrics\": {\"ner_f1\": 99.4975, \"ner_token_f1\": 99.7868}, \"time_spent\": \"0:04:52\", \"epochs_done\": 18, \"batches_seen\": 880, \"train_examples_seen\": 436652, \"loss\": 0.007904869504272938}}\n"
     ]
    },
    {
     "name": "stderr",
     "output_type": "stream",
     "text": [
      "\n",
      "8it [00:00, 11.52it/s]\n",
      "2025-09-25 20:52:53.678 INFO in 'deeppavlov.core.trainers.nn_trainer'['nn_trainer'] at line 211: Did not improve on the ner_f1 of 85.8226\n"
     ]
    },
    {
     "name": "stdout",
     "output_type": "stream",
     "text": [
      "{\"valid\": {\"eval_examples_count\": 3544, \"metrics\": {\"ner_f1\": 85.4464, \"ner_token_f1\": 85.5394}, \"time_spent\": \"0:04:53\", \"epochs_done\": 18, \"batches_seen\": 880, \"train_examples_seen\": 436652, \"impatience\": 88, \"patience_limit\": 100}}\n"
     ]
    },
    {
     "name": "stderr",
     "output_type": "stream",
     "text": [
      "1it [00:00,  9.00it/s]]"
     ]
    },
    {
     "name": "stdout",
     "output_type": "stream",
     "text": [
      "{\"train\": {\"eval_examples_count\": 500, \"metrics\": {\"ner_f1\": 99.6694, \"ner_token_f1\": 99.9308}, \"time_spent\": \"0:04:55\", \"epochs_done\": 18, \"batches_seen\": 890, \"train_examples_seen\": 441652, \"loss\": 0.007276680995710194}}\n"
     ]
    },
    {
     "name": "stderr",
     "output_type": "stream",
     "text": [
      "\n",
      "8it [00:00, 12.19it/s]\n",
      "2025-09-25 20:52:57.56 INFO in 'deeppavlov.core.trainers.nn_trainer'['nn_trainer'] at line 211: Did not improve on the ner_f1 of 85.8226\n"
     ]
    },
    {
     "name": "stdout",
     "output_type": "stream",
     "text": [
      "{\"valid\": {\"eval_examples_count\": 3544, \"metrics\": {\"ner_f1\": 85.5404, \"ner_token_f1\": 85.5742}, \"time_spent\": \"0:04:56\", \"epochs_done\": 18, \"batches_seen\": 890, \"train_examples_seen\": 441652, \"impatience\": 89, \"patience_limit\": 100}}\n"
     ]
    },
    {
     "name": "stderr",
     "output_type": "stream",
     "text": [
      "47it [00:15,  2.95it/s]\n",
      "1it [00:00,  8.80it/s]"
     ]
    },
    {
     "name": "stdout",
     "output_type": "stream",
     "text": [
      "{\"train\": {\"eval_examples_count\": 500, \"metrics\": {\"ner_f1\": 99.5058, \"ner_token_f1\": 99.8578}, \"time_spent\": \"0:04:59\", \"epochs_done\": 19, \"batches_seen\": 900, \"train_examples_seen\": 446466, \"loss\": 0.006973530445247888}}\n"
     ]
    },
    {
     "name": "stderr",
     "output_type": "stream",
     "text": [
      "\n",
      "8it [00:00, 12.02it/s]\n",
      "2025-09-25 20:53:00.310 INFO in 'deeppavlov.core.trainers.nn_trainer'['nn_trainer'] at line 211: Did not improve on the ner_f1 of 85.8226\n"
     ]
    },
    {
     "name": "stdout",
     "output_type": "stream",
     "text": [
      "{\"valid\": {\"eval_examples_count\": 3544, \"metrics\": {\"ner_f1\": 85.5005, \"ner_token_f1\": 85.5391}, \"time_spent\": \"0:04:59\", \"epochs_done\": 19, \"batches_seen\": 900, \"train_examples_seen\": 446466, \"impatience\": 90, \"patience_limit\": 100}}\n"
     ]
    },
    {
     "name": "stderr",
     "output_type": "stream",
     "text": [
      "1it [00:00, 10.47it/s]]"
     ]
    },
    {
     "name": "stdout",
     "output_type": "stream",
     "text": [
      "{\"train\": {\"eval_examples_count\": 500, \"metrics\": {\"ner_f1\": 99.5066, \"ner_token_f1\": 99.6501}, \"time_spent\": \"0:05:02\", \"epochs_done\": 19, \"batches_seen\": 910, \"train_examples_seen\": 451466, \"loss\": 0.0055666734697297215}}\n"
     ]
    },
    {
     "name": "stderr",
     "output_type": "stream",
     "text": [
      "\n",
      "8it [00:00, 12.26it/s]\n",
      "2025-09-25 20:53:03.687 INFO in 'deeppavlov.core.trainers.nn_trainer'['nn_trainer'] at line 211: Did not improve on the ner_f1 of 85.8226\n"
     ]
    },
    {
     "name": "stdout",
     "output_type": "stream",
     "text": [
      "{\"valid\": {\"eval_examples_count\": 3544, \"metrics\": {\"ner_f1\": 85.5086, \"ner_token_f1\": 85.604}, \"time_spent\": \"0:05:03\", \"epochs_done\": 19, \"batches_seen\": 910, \"train_examples_seen\": 451466, \"impatience\": 91, \"patience_limit\": 100}}\n"
     ]
    },
    {
     "name": "stderr",
     "output_type": "stream",
     "text": [
      "1it [00:00, 10.05it/s]]"
     ]
    },
    {
     "name": "stdout",
     "output_type": "stream",
     "text": [
      "{\"train\": {\"eval_examples_count\": 500, \"metrics\": {\"ner_f1\": 99.7583, \"ner_token_f1\": 100.0}, \"time_spent\": \"0:05:05\", \"epochs_done\": 19, \"batches_seen\": 920, \"train_examples_seen\": 456466, \"loss\": 0.007558400137349963}}\n"
     ]
    },
    {
     "name": "stderr",
     "output_type": "stream",
     "text": [
      "\n",
      "8it [00:00, 10.11it/s]\n",
      "2025-09-25 20:53:06.975 INFO in 'deeppavlov.core.trainers.nn_trainer'['nn_trainer'] at line 211: Did not improve on the ner_f1 of 85.8226\n"
     ]
    },
    {
     "name": "stdout",
     "output_type": "stream",
     "text": [
      "{\"valid\": {\"eval_examples_count\": 3544, \"metrics\": {\"ner_f1\": 85.3579, \"ner_token_f1\": 85.4261}, \"time_spent\": \"0:05:06\", \"epochs_done\": 19, \"batches_seen\": 920, \"train_examples_seen\": 456466, \"impatience\": 92, \"patience_limit\": 100}}\n"
     ]
    },
    {
     "name": "stderr",
     "output_type": "stream",
     "text": [
      "1it [00:00, 10.07it/s]]"
     ]
    },
    {
     "name": "stdout",
     "output_type": "stream",
     "text": [
      "{\"train\": {\"eval_examples_count\": 500, \"metrics\": {\"ner_f1\": 99.9159, \"ner_token_f1\": 99.9289}, \"time_spent\": \"0:05:08\", \"epochs_done\": 19, \"batches_seen\": 930, \"train_examples_seen\": 461466, \"loss\": 0.007729770103469491}}\n"
     ]
    },
    {
     "name": "stderr",
     "output_type": "stream",
     "text": [
      "\n",
      "8it [00:00, 12.32it/s]\n",
      "2025-09-25 20:53:10.259 INFO in 'deeppavlov.core.trainers.nn_trainer'['nn_trainer'] at line 211: Did not improve on the ner_f1 of 85.8226\n"
     ]
    },
    {
     "name": "stdout",
     "output_type": "stream",
     "text": [
      "{\"valid\": {\"eval_examples_count\": 3544, \"metrics\": {\"ner_f1\": 85.5903, \"ner_token_f1\": 85.6118}, \"time_spent\": \"0:05:09\", \"epochs_done\": 19, \"batches_seen\": 930, \"train_examples_seen\": 461466, \"impatience\": 93, \"patience_limit\": 100}}\n"
     ]
    },
    {
     "name": "stderr",
     "output_type": "stream",
     "text": [
      "1it [00:00,  8.93it/s]]"
     ]
    },
    {
     "name": "stdout",
     "output_type": "stream",
     "text": [
      "{\"train\": {\"eval_examples_count\": 500, \"metrics\": {\"ner_f1\": 99.8305, \"ner_token_f1\": 99.8563}, \"time_spent\": \"0:05:12\", \"epochs_done\": 19, \"batches_seen\": 940, \"train_examples_seen\": 466280, \"loss\": 0.007446426339447499}}\n"
     ]
    },
    {
     "name": "stderr",
     "output_type": "stream",
     "text": [
      "\n",
      "8it [00:00, 12.21it/s]\n",
      "2025-09-25 20:53:13.398 INFO in 'deeppavlov.core.trainers.nn_trainer'['nn_trainer'] at line 211: Did not improve on the ner_f1 of 85.8226\n"
     ]
    },
    {
     "name": "stdout",
     "output_type": "stream",
     "text": [
      "{\"valid\": {\"eval_examples_count\": 3544, \"metrics\": {\"ner_f1\": 85.1168, \"ner_token_f1\": 85.0889}, \"time_spent\": \"0:05:12\", \"epochs_done\": 19, \"batches_seen\": 940, \"train_examples_seen\": 466280, \"impatience\": 94, \"patience_limit\": 100}}\n"
     ]
    },
    {
     "name": "stderr",
     "output_type": "stream",
     "text": [
      "47it [00:15,  3.00it/s]\n",
      "1it [00:00,  9.52it/s]"
     ]
    },
    {
     "name": "stdout",
     "output_type": "stream",
     "text": [
      "{\"train\": {\"eval_examples_count\": 500, \"metrics\": {\"ner_f1\": 99.5851, \"ner_token_f1\": 99.7859}, \"time_spent\": \"0:05:15\", \"epochs_done\": 20, \"batches_seen\": 950, \"train_examples_seen\": 471280, \"loss\": 0.007149425684474409}}\n"
     ]
    },
    {
     "name": "stderr",
     "output_type": "stream",
     "text": [
      "\n",
      "8it [00:00, 12.12it/s]\n",
      "2025-09-25 20:53:16.695 INFO in 'deeppavlov.core.trainers.nn_trainer'['nn_trainer'] at line 211: Did not improve on the ner_f1 of 85.8226\n"
     ]
    },
    {
     "name": "stdout",
     "output_type": "stream",
     "text": [
      "{\"valid\": {\"eval_examples_count\": 3544, \"metrics\": {\"ner_f1\": 85.6718, \"ner_token_f1\": 85.5667}, \"time_spent\": \"0:05:16\", \"epochs_done\": 20, \"batches_seen\": 950, \"train_examples_seen\": 471280, \"impatience\": 95, \"patience_limit\": 100}}\n"
     ]
    },
    {
     "name": "stderr",
     "output_type": "stream",
     "text": [
      "1it [00:00,  8.77it/s]]"
     ]
    },
    {
     "name": "stdout",
     "output_type": "stream",
     "text": [
      "{\"train\": {\"eval_examples_count\": 500, \"metrics\": {\"ner_f1\": 100.0, \"ner_token_f1\": 100.0}, \"time_spent\": \"0:05:18\", \"epochs_done\": 20, \"batches_seen\": 960, \"train_examples_seen\": 476280, \"loss\": 0.009058685693889856}}\n"
     ]
    },
    {
     "name": "stderr",
     "output_type": "stream",
     "text": [
      "\n",
      "8it [00:00, 12.61it/s]\n",
      "2025-09-25 20:53:19.838 INFO in 'deeppavlov.core.trainers.nn_trainer'['nn_trainer'] at line 211: Did not improve on the ner_f1 of 85.8226\n"
     ]
    },
    {
     "name": "stdout",
     "output_type": "stream",
     "text": [
      "{\"valid\": {\"eval_examples_count\": 3544, \"metrics\": {\"ner_f1\": 85.433, \"ner_token_f1\": 85.4241}, \"time_spent\": \"0:05:19\", \"epochs_done\": 20, \"batches_seen\": 960, \"train_examples_seen\": 476280, \"impatience\": 96, \"patience_limit\": 100}}\n"
     ]
    },
    {
     "name": "stderr",
     "output_type": "stream",
     "text": [
      "1it [00:00, 10.07it/s]]"
     ]
    },
    {
     "name": "stdout",
     "output_type": "stream",
     "text": [
      "{\"train\": {\"eval_examples_count\": 500, \"metrics\": {\"ner_f1\": 100.0, \"ner_token_f1\": 100.0}, \"time_spent\": \"0:05:21\", \"epochs_done\": 20, \"batches_seen\": 970, \"train_examples_seen\": 481280, \"loss\": 0.007923669903539121}}\n"
     ]
    },
    {
     "name": "stderr",
     "output_type": "stream",
     "text": [
      "\n",
      "8it [00:00, 12.57it/s]\n",
      "2025-09-25 20:53:23.8 INFO in 'deeppavlov.core.trainers.nn_trainer'['nn_trainer'] at line 211: Did not improve on the ner_f1 of 85.8226\n"
     ]
    },
    {
     "name": "stdout",
     "output_type": "stream",
     "text": [
      "{\"valid\": {\"eval_examples_count\": 3544, \"metrics\": {\"ner_f1\": 85.4424, \"ner_token_f1\": 85.4789}, \"time_spent\": \"0:05:22\", \"epochs_done\": 20, \"batches_seen\": 970, \"train_examples_seen\": 481280, \"impatience\": 97, \"patience_limit\": 100}}\n"
     ]
    },
    {
     "name": "stderr",
     "output_type": "stream",
     "text": [
      "1it [00:00,  8.19it/s]]"
     ]
    },
    {
     "name": "stdout",
     "output_type": "stream",
     "text": [
      "{\"train\": {\"eval_examples_count\": 500, \"metrics\": {\"ner_f1\": 99.8308, \"ner_token_f1\": 99.8534}, \"time_spent\": \"0:05:25\", \"epochs_done\": 20, \"batches_seen\": 980, \"train_examples_seen\": 486280, \"loss\": 0.007444950612261891}}\n"
     ]
    },
    {
     "name": "stderr",
     "output_type": "stream",
     "text": [
      "\n",
      "8it [00:00,  9.41it/s]\n",
      "2025-09-25 20:53:26.498 INFO in 'deeppavlov.core.trainers.nn_trainer'['nn_trainer'] at line 211: Did not improve on the ner_f1 of 85.8226\n"
     ]
    },
    {
     "name": "stdout",
     "output_type": "stream",
     "text": [
      "{\"valid\": {\"eval_examples_count\": 3544, \"metrics\": {\"ner_f1\": 85.6833, \"ner_token_f1\": 85.7143}, \"time_spent\": \"0:05:25\", \"epochs_done\": 20, \"batches_seen\": 980, \"train_examples_seen\": 486280, \"impatience\": 98, \"patience_limit\": 100}}\n"
     ]
    },
    {
     "name": "stderr",
     "output_type": "stream",
     "text": [
      "47it [00:14,  3.14it/s]\n",
      "1it [00:00,  8.83it/s]"
     ]
    },
    {
     "name": "stdout",
     "output_type": "stream",
     "text": [
      "{\"train\": {\"eval_examples_count\": 500, \"metrics\": {\"ner_f1\": 99.4932, \"ner_token_f1\": 99.6411}, \"time_spent\": \"0:05:28\", \"epochs_done\": 21, \"batches_seen\": 990, \"train_examples_seen\": 491094, \"loss\": 0.007610550709068775}}\n"
     ]
    },
    {
     "name": "stderr",
     "output_type": "stream",
     "text": [
      "\n",
      "8it [00:00, 12.25it/s]\n",
      "2025-09-25 20:53:29.885 INFO in 'deeppavlov.core.trainers.nn_trainer'['nn_trainer'] at line 211: Did not improve on the ner_f1 of 85.8226\n"
     ]
    },
    {
     "name": "stdout",
     "output_type": "stream",
     "text": [
      "{\"valid\": {\"eval_examples_count\": 3544, \"metrics\": {\"ner_f1\": 84.9863, \"ner_token_f1\": 85.1018}, \"time_spent\": \"0:05:29\", \"epochs_done\": 21, \"batches_seen\": 990, \"train_examples_seen\": 491094, \"impatience\": 99, \"patience_limit\": 100}}\n"
     ]
    },
    {
     "name": "stderr",
     "output_type": "stream",
     "text": [
      "1it [00:00,  9.15it/s]]"
     ]
    },
    {
     "name": "stdout",
     "output_type": "stream",
     "text": [
      "{\"train\": {\"eval_examples_count\": 500, \"metrics\": {\"ner_f1\": 99.746, \"ner_token_f1\": 99.8561}, \"time_spent\": \"0:05:31\", \"epochs_done\": 21, \"batches_seen\": 1000, \"train_examples_seen\": 496094, \"loss\": 0.005922272405587137}}\n"
     ]
    },
    {
     "name": "stderr",
     "output_type": "stream",
     "text": [
      "\n",
      "8it [00:00, 12.59it/s]\n",
      "2025-09-25 20:53:33.58 INFO in 'deeppavlov.core.trainers.nn_trainer'['nn_trainer'] at line 211: Did not improve on the ner_f1 of 85.8226\n"
     ]
    },
    {
     "name": "stdout",
     "output_type": "stream",
     "text": [
      "{\"valid\": {\"eval_examples_count\": 3544, \"metrics\": {\"ner_f1\": 85.2774, \"ner_token_f1\": 85.3397}, \"time_spent\": \"0:05:32\", \"epochs_done\": 21, \"batches_seen\": 1000, \"train_examples_seen\": 496094, \"impatience\": 100, \"patience_limit\": 100}}\n"
     ]
    },
    {
     "name": "stderr",
     "output_type": "stream",
     "text": [
      "2025-09-25 20:53:33.59 INFO in 'deeppavlov.core.trainers.nn_trainer'['nn_trainer'] at line 305: Ran out of patience\n",
      "12it [00:04,  2.56it/s]\n",
      "Some weights of the model checkpoint at DeepPavlov/rubert-base-cased were not used when initializing BertForTokenClassification: ['cls.seq_relationship.bias', 'cls.seq_relationship.weight', 'cls.predictions.transform.LayerNorm.bias', 'cls.predictions.transform.LayerNorm.weight', 'cls.predictions.transform.dense.bias', 'cls.predictions.transform.dense.weight', 'cls.predictions.decoder.weight', 'cls.predictions.bias', 'cls.predictions.decoder.bias']\n",
      "- This IS expected if you are initializing BertForTokenClassification from the checkpoint of a model trained on another task or with another architecture (e.g. initializing a BertForSequenceClassification model from a BertForPreTraining model).\n",
      "- This IS NOT expected if you are initializing BertForTokenClassification from the checkpoint of a model that you expect to be exactly identical (initializing a BertForSequenceClassification model from a BertForSequenceClassification model).\n",
      "Some weights of BertForTokenClassification were not initialized from the model checkpoint at DeepPavlov/rubert-base-cased and are newly initialized: ['classifier.bias', 'classifier.weight']\n",
      "You should probably TRAIN this model on a down-stream task to be able to use it for predictions and inference.\n",
      "8it [00:00, 10.23it/s]"
     ]
    },
    {
     "name": "stdout",
     "output_type": "stream",
     "text": [
      "{\"valid\": {\"eval_examples_count\": 3544, \"metrics\": {\"ner_f1\": 85.8226, \"ner_token_f1\": 85.961}, \"time_spent\": \"0:00:01\"}}\n"
     ]
    },
    {
     "name": "stderr",
     "output_type": "stream",
     "text": [
      "\n",
      "1it [00:00, 13.98it/s]"
     ]
    },
    {
     "name": "stdout",
     "output_type": "stream",
     "text": [
      "{\"test\": {\"eval_examples_count\": 393, \"metrics\": {\"ner_f1\": 87.3239, \"ner_token_f1\": 87.3143}, \"time_spent\": \"0:00:01\"}}\n"
     ]
    },
    {
     "name": "stderr",
     "output_type": "stream",
     "text": [
      "\n",
      "Some weights of the model checkpoint at DeepPavlov/rubert-base-cased were not used when initializing BertForTokenClassification: ['cls.seq_relationship.bias', 'cls.seq_relationship.weight', 'cls.predictions.transform.LayerNorm.bias', 'cls.predictions.transform.LayerNorm.weight', 'cls.predictions.transform.dense.bias', 'cls.predictions.transform.dense.weight', 'cls.predictions.decoder.weight', 'cls.predictions.bias', 'cls.predictions.decoder.bias']\n",
      "- This IS expected if you are initializing BertForTokenClassification from the checkpoint of a model trained on another task or with another architecture (e.g. initializing a BertForSequenceClassification model from a BertForPreTraining model).\n",
      "- This IS NOT expected if you are initializing BertForTokenClassification from the checkpoint of a model that you expect to be exactly identical (initializing a BertForSequenceClassification model from a BertForSequenceClassification model).\n",
      "Some weights of BertForTokenClassification were not initialized from the model checkpoint at DeepPavlov/rubert-base-cased and are newly initialized: ['classifier.bias', 'classifier.weight']\n",
      "You should probably TRAIN this model on a down-stream task to be able to use it for predictions and inference.\n"
     ]
    }
   ],
   "source": [
    "\n",
    "ner_model = train_model(model_config, download=True)"
   ]
  },
  {
   "cell_type": "code",
   "execution_count": 10,
   "id": "c25a8b85",
   "metadata": {},
   "outputs": [
    {
     "data": {
      "text/plain": [
       "{'dataset_reader': {'class_name': 'conll2003_reader',\n",
       "  'data_path': '../datasets/conll/',\n",
       "  'dataset_name': 'collection3',\n",
       "  'provide_pos': False,\n",
       "  'provide_chunk': False,\n",
       "  'iobes': True},\n",
       " 'dataset_iterator': {'class_name': 'data_learning_iterator'},\n",
       " 'chainer': {'in': ['x'],\n",
       "  'in_y': ['y'],\n",
       "  'pipe': [{'class_name': 'torch_transformers_ner_preprocessor',\n",
       "    'vocab_file': 'DeepPavlov/rubert-base-cased',\n",
       "    'do_lower_case': False,\n",
       "    'max_seq_length': 512,\n",
       "    'max_subword_length': 15,\n",
       "    'token_masking_prob': 0.0,\n",
       "    'in': ['x'],\n",
       "    'out': ['x_tokens',\n",
       "     'x_subword_tokens',\n",
       "     'x_subword_tok_ids',\n",
       "     'startofword_markers',\n",
       "     'attention_mask',\n",
       "     'tokens_offsets']},\n",
       "   {'id': 'tag_vocab',\n",
       "    'class_name': 'simple_vocab',\n",
       "    'unk_token': ['O'],\n",
       "    'pad_with_zeros': True,\n",
       "    'save_path': '../models/tag.dict',\n",
       "    'load_path': '../models/tag.dict',\n",
       "    'fit_on': ['y'],\n",
       "    'in': ['y'],\n",
       "    'out': ['y_ind']},\n",
       "   {'class_name': 'torch_transformers_sequence_tagger',\n",
       "    'n_tags': '#tag_vocab.len',\n",
       "    'pretrained_bert': 'DeepPavlov/rubert-base-cased',\n",
       "    'attention_probs_keep_prob': 0.5,\n",
       "    'encoder_layer_ids': [-1],\n",
       "    'optimizer': 'AdamW',\n",
       "    'optimizer_parameters': {'lr': 2e-05,\n",
       "     'weight_decay': 1e-06,\n",
       "     'betas': [0.9, 0.999],\n",
       "     'eps': 1e-06},\n",
       "    'clip_norm': 1.0,\n",
       "    'min_learning_rate': 1e-07,\n",
       "    'learning_rate_drop_patience': 30,\n",
       "    'learning_rate_drop_div': 1.5,\n",
       "    'load_before_drop': True,\n",
       "    'save_path': '../models',\n",
       "    'load_path': '../models',\n",
       "    'in': ['x_subword_tok_ids', 'attention_mask', 'startofword_markers'],\n",
       "    'in_y': ['y_ind'],\n",
       "    'out': ['y_pred_ind', 'probas']},\n",
       "   {'ref': 'tag_vocab', 'in': ['y_pred_ind'], 'out': ['y_pred']}],\n",
       "  'out': ['x_tokens', 'y_pred']},\n",
       " 'train': {'epochs': 30,\n",
       "  'batch_size': 14,\n",
       "  'metrics': [{'name': 'ner_f1', 'inputs': ['y', 'y_pred']},\n",
       "   {'name': 'ner_token_f1', 'inputs': ['y', 'y_pred']}],\n",
       "  'validation_patience': 100,\n",
       "  'val_every_n_batches': 20,\n",
       "  'log_every_n_batches': 20,\n",
       "  'show_examples': False,\n",
       "  'pytest_max_batches': 2,\n",
       "  'pytest_batch_size': 8,\n",
       "  'evaluation_targets': ['valid', 'test'],\n",
       "  'class_name': 'torch_trainer'},\n",
       " 'metadata': {'variables': {'ROOT_PATH': '~/.deeppavlov',\n",
       "   'DOWNLOADS_PATH': '~/.deeppavlov/downloads',\n",
       "   'MODELS_PATH': '~/.deeppavlov/models',\n",
       "   'TRANSFORMER': 'DeepPavlov/rubert-base-cased',\n",
       "   'MODEL_PATH': '../models'},\n",
       "  'requirements': ['c:\\\\Users\\\\lexan\\\\miniconda3\\\\envs\\\\dp310\\\\lib\\\\site-packages\\\\deeppavlov/requirements/transformers.txt',\n",
       "   'c:\\\\Users\\\\lexan\\\\miniconda3\\\\envs\\\\dp310\\\\lib\\\\site-packages\\\\deeppavlov/requirements/pytorch.txt',\n",
       "   'c:\\\\Users\\\\lexan\\\\miniconda3\\\\envs\\\\dp310\\\\lib\\\\site-packages\\\\deeppavlov/requirements/torchcrf.txt',\n",
       "   'c:\\\\Users\\\\lexan\\\\miniconda3\\\\envs\\\\dp310\\\\lib\\\\site-packages\\\\deeppavlov/requirements/sentencepiece.txt',\n",
       "   'c:\\\\Users\\\\lexan\\\\miniconda3\\\\envs\\\\dp310\\\\lib\\\\site-packages\\\\deeppavlov/requirements/protobuf.txt']}}"
      ]
     },
     "execution_count": 10,
     "metadata": {},
     "output_type": "execute_result"
    }
   ],
   "source": [
    "model_config"
   ]
  },
  {
   "cell_type": "code",
   "execution_count": null,
   "id": "d5e399f2",
   "metadata": {},
   "outputs": [],
   "source": []
  },
  {
   "cell_type": "code",
   "execution_count": 3,
   "id": "ca8fc0e0",
   "metadata": {},
   "outputs": [
    {
     "name": "stderr",
     "output_type": "stream",
     "text": [
      "c:\\Users\\lexan\\miniconda3\\envs\\dp310\\lib\\site-packages\\tqdm\\auto.py:22: TqdmWarning: IProgress not found. Please update jupyter and ipywidgets. See https://ipywidgets.readthedocs.io/en/stable/user_install.html\n",
      "  from .autonotebook import tqdm as notebook_tqdm\n",
      "c:\\Users\\lexan\\miniconda3\\envs\\dp310\\lib\\site-packages\\huggingface_hub\\file_download.py:945: FutureWarning: `resume_download` is deprecated and will be removed in version 1.0.0. Downloads always resume when possible. If you want to force a new download, use `force_download=True`.\n",
      "  warnings.warn(\n",
      "Some weights of the model checkpoint at DeepPavlov/rubert-base-cased were not used when initializing BertForTokenClassification: ['cls.seq_relationship.bias', 'cls.seq_relationship.weight', 'cls.predictions.decoder.bias', 'cls.predictions.decoder.weight', 'cls.predictions.transform.dense.weight', 'cls.predictions.bias', 'cls.predictions.transform.dense.bias', 'cls.predictions.transform.LayerNorm.weight', 'cls.predictions.transform.LayerNorm.bias']\n",
      "- This IS expected if you are initializing BertForTokenClassification from the checkpoint of a model trained on another task or with another architecture (e.g. initializing a BertForSequenceClassification model from a BertForPreTraining model).\n",
      "- This IS NOT expected if you are initializing BertForTokenClassification from the checkpoint of a model that you expect to be exactly identical (initializing a BertForSequenceClassification model from a BertForSequenceClassification model).\n",
      "Some weights of BertForTokenClassification were not initialized from the model checkpoint at DeepPavlov/rubert-base-cased and are newly initialized: ['classifier.weight', 'classifier.bias']\n",
      "You should probably TRAIN this model on a down-stream task to be able to use it for predictions and inference.\n"
     ]
    }
   ],
   "source": [
    "from deeppavlov import build_model\n",
    "\n",
    "ner_model = build_model(model_config, download=False)"
   ]
  },
  {
   "cell_type": "code",
   "execution_count": 19,
   "id": "e346a202",
   "metadata": {},
   "outputs": [
    {
     "data": {
      "text/plain": [
       "[[['artfruit', 'нектари']], [['S-BRAND', 'S-TYPE']]]"
      ]
     },
     "execution_count": 19,
     "metadata": {},
     "output_type": "execute_result"
    }
   ],
   "source": [
    "ner_model(['artfruit нектари'])"
   ]
  },
  {
   "cell_type": "code",
   "execution_count": null,
   "id": "3d4d8fee",
   "metadata": {},
   "outputs": [],
   "source": []
  }
 ],
 "metadata": {
  "kernelspec": {
   "display_name": "dp310",
   "language": "python",
   "name": "python3"
  },
  "language_info": {
   "codemirror_mode": {
    "name": "ipython",
    "version": 3
   },
   "file_extension": ".py",
   "mimetype": "text/x-python",
   "name": "python",
   "nbconvert_exporter": "python",
   "pygments_lexer": "ipython3",
   "version": "3.10.18"
  }
 },
 "nbformat": 4,
 "nbformat_minor": 5
}
