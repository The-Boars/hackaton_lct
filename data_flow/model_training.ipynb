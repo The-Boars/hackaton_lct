{
 "cells": [
  {
   "cell_type": "code",
   "execution_count": 1,
   "id": "ff1cd210",
   "metadata": {},
   "outputs": [
    {
     "name": "stderr",
     "output_type": "stream",
     "text": [
      "c:\\Users\\lexan\\miniconda3\\envs\\dp310\\lib\\site-packages\\tqdm\\auto.py:22: TqdmWarning: IProgress not found. Please update jupyter and ipywidgets. See https://ipywidgets.readthedocs.io/en/stable/user_install.html\n",
      "  from .autonotebook import tqdm as notebook_tqdm\n"
     ]
    }
   ],
   "source": [
    "import os, random\n",
    "import numpy as np\n",
    "import torch\n",
    "from transformers import set_seed as hf_set_seed\n",
    "\n",
    "SEED = 42\n",
    "\n",
    "# стабильные словари/хеши Python\n",
    "os.environ[\"PYTHONHASHSEED\"] = str(SEED)\n",
    "\n",
    "# детерминизм в линейной алгебре (PyTorch>=1.8/2.x)\n",
    "os.environ[\"CUBLAS_WORKSPACE_CONFIG\"] = \":16:8\"   # или \":4096:8\" на некоторых GPU\n",
    "\n",
    "# отключаем подбор «самого быстрого» алгоритма cuDNN (он недетерминирует)\n",
    "torch.backends.cudnn.benchmark = False\n",
    "\n",
    "# включаем строго детерминированные алгоритмы (может замедлить обучение)\n",
    "try:\n",
    "    torch.use_deterministic_algorithms(True)\n",
    "except Exception:\n",
    "    # для старых версий PyTorch\n",
    "    torch.backends.cudnn.deterministic = True\n",
    "\n",
    "# сидим всё подряд\n",
    "random.seed(SEED)\n",
    "np.random.seed(SEED)\n",
    "torch.manual_seed(SEED)\n",
    "torch.cuda.manual_seed_all(SEED)\n",
    "hf_set_seed(SEED)  # сидит random/numpy/torch; есть флаг deterministic у новых версий\n"
   ]
  },
  {
   "cell_type": "code",
   "execution_count": 2,
   "id": "cebaef7b",
   "metadata": {},
   "outputs": [
    {
     "name": "stdout",
     "output_type": "stream",
     "text": [
      "~/.deeppavlov/downloads/collection3/\n"
     ]
    }
   ],
   "source": [
    "from deeppavlov import train_model, build_model \n",
    "from deeppavlov.core.commands.utils import parse_config\n",
    "\n",
    "PROJECT_DIR = '..'\n",
    "MODEL_NAME = 'model'\n",
    "\n",
    "model_config = parse_config('ner_collection3_bert')\n",
    "\n",
    "# dataset that the model was trained on\n",
    "print(model_config['dataset_reader']['data_path'])\n",
    "\n",
    "model_config['dataset_reader']['data_path'] = PROJECT_DIR + '/datasets/conll/'\n",
    "\n",
    "del model_config['metadata']['download']\n",
    "\n",
    "\n",
    "model_config['dataset_reader']['iobes'] = False\n",
    "model_config['metadata']['variables']['MODEL_PATH'] = PROJECT_DIR + '/models/' + MODEL_NAME\n",
    "\n",
    "model_config['chainer']['pipe'][1]['save_path'] = PROJECT_DIR + '/models/tag.dict'\n",
    "model_config['chainer']['pipe'][1]['load_path'] = PROJECT_DIR + '/models/tag.dict'\n",
    "\n",
    "model_config['chainer']['pipe'][2]['save_path'] = PROJECT_DIR + '/models/' + MODEL_NAME\n",
    "model_config['chainer']['pipe'][2]['load_path'] = PROJECT_DIR + '/models/' + MODEL_NAME\n",
    "model_config['chainer']['pipe'][2]['learning_rate_drop_patience'] = 20\n",
    "\n",
    "\n",
    "model_config['dataset_iterator'] = {\n",
    "  \"class_name\": \"data_learning_iterator\",\n",
    "  \"seed\": 42,\n",
    "  \"shuffle\": True\n",
    "}\n",
    "\n",
    "model_config['train']['batch_size'] = 550\n",
    "\n",
    "model_config['train']['log_every_n_batches'] = 10\n",
    "model_config['train']['val_every_n_batches'] = 10\n",
    "\n"
   ]
  },
  {
   "cell_type": "code",
   "execution_count": 3,
   "id": "9f1a155a",
   "metadata": {},
   "outputs": [
    {
     "data": {
      "text/plain": [
       "{'dataset_reader': {'class_name': 'conll2003_reader',\n",
       "  'data_path': '../datasets/conll/',\n",
       "  'dataset_name': 'collection3',\n",
       "  'provide_pos': False,\n",
       "  'provide_chunk': False,\n",
       "  'iobes': False},\n",
       " 'dataset_iterator': {'class_name': 'data_learning_iterator',\n",
       "  'seed': 42,\n",
       "  'shuffle': True},\n",
       " 'chainer': {'in': ['x'],\n",
       "  'in_y': ['y'],\n",
       "  'pipe': [{'class_name': 'torch_transformers_ner_preprocessor',\n",
       "    'vocab_file': 'DeepPavlov/rubert-base-cased',\n",
       "    'do_lower_case': False,\n",
       "    'max_seq_length': 512,\n",
       "    'max_subword_length': 15,\n",
       "    'token_masking_prob': 0.0,\n",
       "    'in': ['x'],\n",
       "    'out': ['x_tokens',\n",
       "     'x_subword_tokens',\n",
       "     'x_subword_tok_ids',\n",
       "     'startofword_markers',\n",
       "     'attention_mask',\n",
       "     'tokens_offsets']},\n",
       "   {'id': 'tag_vocab',\n",
       "    'class_name': 'simple_vocab',\n",
       "    'unk_token': ['O'],\n",
       "    'pad_with_zeros': True,\n",
       "    'save_path': '../models/tag.dict',\n",
       "    'load_path': '../models/tag.dict',\n",
       "    'fit_on': ['y'],\n",
       "    'in': ['y'],\n",
       "    'out': ['y_ind']},\n",
       "   {'class_name': 'torch_transformers_sequence_tagger',\n",
       "    'n_tags': '#tag_vocab.len',\n",
       "    'pretrained_bert': 'DeepPavlov/rubert-base-cased',\n",
       "    'attention_probs_keep_prob': 0.5,\n",
       "    'encoder_layer_ids': [-1],\n",
       "    'optimizer': 'AdamW',\n",
       "    'optimizer_parameters': {'lr': 2e-05,\n",
       "     'weight_decay': 1e-06,\n",
       "     'betas': [0.9, 0.999],\n",
       "     'eps': 1e-06},\n",
       "    'clip_norm': 1.0,\n",
       "    'min_learning_rate': 1e-07,\n",
       "    'learning_rate_drop_patience': 20,\n",
       "    'learning_rate_drop_div': 1.5,\n",
       "    'load_before_drop': True,\n",
       "    'save_path': '../models/model',\n",
       "    'load_path': '../models/model',\n",
       "    'in': ['x_subword_tok_ids', 'attention_mask', 'startofword_markers'],\n",
       "    'in_y': ['y_ind'],\n",
       "    'out': ['y_pred_ind', 'probas']},\n",
       "   {'ref': 'tag_vocab', 'in': ['y_pred_ind'], 'out': ['y_pred']}],\n",
       "  'out': ['x_tokens', 'y_pred']},\n",
       " 'train': {'epochs': 30,\n",
       "  'batch_size': 550,\n",
       "  'metrics': [{'name': 'ner_f1', 'inputs': ['y', 'y_pred']},\n",
       "   {'name': 'ner_token_f1', 'inputs': ['y', 'y_pred']}],\n",
       "  'validation_patience': 100,\n",
       "  'val_every_n_batches': 10,\n",
       "  'log_every_n_batches': 10,\n",
       "  'show_examples': False,\n",
       "  'pytest_max_batches': 2,\n",
       "  'pytest_batch_size': 8,\n",
       "  'evaluation_targets': ['valid', 'test'],\n",
       "  'class_name': 'torch_trainer'},\n",
       " 'metadata': {'variables': {'ROOT_PATH': '~/.deeppavlov',\n",
       "   'DOWNLOADS_PATH': '~/.deeppavlov/downloads',\n",
       "   'MODELS_PATH': '~/.deeppavlov/models',\n",
       "   'TRANSFORMER': 'DeepPavlov/rubert-base-cased',\n",
       "   'MODEL_PATH': '../models/model'},\n",
       "  'requirements': ['c:\\\\Users\\\\lexan\\\\miniconda3\\\\envs\\\\dp310\\\\lib\\\\site-packages\\\\deeppavlov/requirements/sentencepiece.txt',\n",
       "   'c:\\\\Users\\\\lexan\\\\miniconda3\\\\envs\\\\dp310\\\\lib\\\\site-packages\\\\deeppavlov/requirements/transformers.txt',\n",
       "   'c:\\\\Users\\\\lexan\\\\miniconda3\\\\envs\\\\dp310\\\\lib\\\\site-packages\\\\deeppavlov/requirements/pytorch.txt',\n",
       "   'c:\\\\Users\\\\lexan\\\\miniconda3\\\\envs\\\\dp310\\\\lib\\\\site-packages\\\\deeppavlov/requirements/protobuf.txt',\n",
       "   'c:\\\\Users\\\\lexan\\\\miniconda3\\\\envs\\\\dp310\\\\lib\\\\site-packages\\\\deeppavlov/requirements/torchcrf.txt']}}"
      ]
     },
     "execution_count": 3,
     "metadata": {},
     "output_type": "execute_result"
    }
   ],
   "source": [
    "model_config"
   ]
  },
  {
   "cell_type": "code",
   "execution_count": 4,
   "id": "ecd27e03",
   "metadata": {},
   "outputs": [
    {
     "name": "stderr",
     "output_type": "stream",
     "text": [
      "2025-10-01 12:03:56.757 WARNING in 'deeppavlov.core.trainers.fit_trainer'['fit_trainer'] at line 66: TorchTrainer got additional init parameters ['pytest_max_batches', 'pytest_batch_size'] that will be ignored:\n",
      "c:\\Users\\lexan\\miniconda3\\envs\\dp310\\lib\\site-packages\\huggingface_hub\\file_download.py:945: FutureWarning: `resume_download` is deprecated and will be removed in version 1.0.0. Downloads always resume when possible. If you want to force a new download, use `force_download=True`.\n",
      "  warnings.warn(\n",
      "2025-10-01 12:03:58.939 INFO in 'deeppavlov.core.data.simple_vocab'['simple_vocab'] at line 104: [saving vocabulary to C:\\Users\\lexan\\OneDrive\\Documents\\hackaton_lct\\models\\tag.dict]\n",
      "Some weights of the model checkpoint at DeepPavlov/rubert-base-cased were not used when initializing BertForTokenClassification: ['cls.seq_relationship.bias', 'cls.predictions.decoder.bias', 'cls.predictions.transform.dense.weight', 'cls.predictions.bias', 'cls.predictions.transform.LayerNorm.bias', 'cls.predictions.transform.LayerNorm.weight', 'cls.predictions.transform.dense.bias', 'cls.predictions.decoder.weight', 'cls.seq_relationship.weight']\n",
      "- This IS expected if you are initializing BertForTokenClassification from the checkpoint of a model trained on another task or with another architecture (e.g. initializing a BertForSequenceClassification model from a BertForPreTraining model).\n",
      "- This IS NOT expected if you are initializing BertForTokenClassification from the checkpoint of a model that you expect to be exactly identical (initializing a BertForSequenceClassification model from a BertForSequenceClassification model).\n",
      "Some weights of BertForTokenClassification were not initialized from the model checkpoint at DeepPavlov/rubert-base-cased and are newly initialized: ['classifier.weight', 'classifier.bias']\n",
      "You should probably TRAIN this model on a down-stream task to be able to use it for predictions and inference.\n",
      "2025-10-01 12:04:00.293 WARNING in 'deeppavlov.core.models.torch_model'['torch_model'] at line 151: Init from scratch. Load path C:\\Users\\lexan\\OneDrive\\Documents\\hackaton_lct\\models\\model.pth.tar does not exist.\n",
      "9it [00:01,  5.11it/s]\n",
      "2025-10-01 12:04:02.99 INFO in 'deeppavlov.core.trainers.nn_trainer'['nn_trainer'] at line 198: Initial best ner_f1 of 26.3928\n"
     ]
    },
    {
     "name": "stdout",
     "output_type": "stream",
     "text": [
      "{\"valid\": {\"eval_examples_count\": 4761, \"metrics\": {\"ner_f1\": 26.3928, \"ner_token_f1\": 39.0729}, \"time_spent\": \"0:00:02\", \"epochs_done\": 0, \"batches_seen\": 0, \"train_examples_seen\": 0, \"impatience\": 0, \"patience_limit\": 100}}\n"
     ]
    },
    {
     "name": "stderr",
     "output_type": "stream",
     "text": [
      "1it [00:00,  6.57it/s]"
     ]
    },
    {
     "name": "stdout",
     "output_type": "stream",
     "text": [
      "{\"train\": {\"eval_examples_count\": 550, \"metrics\": {\"ner_f1\": 37.5357, \"ner_token_f1\": 42.5933}, \"time_spent\": \"0:00:06\", \"epochs_done\": 0, \"batches_seen\": 10, \"train_examples_seen\": 5500, \"loss\": 1.1858988523483276}}\n"
     ]
    },
    {
     "name": "stderr",
     "output_type": "stream",
     "text": [
      "\n",
      "9it [00:01,  8.53it/s]\n",
      "2025-10-01 12:04:06.722 INFO in 'deeppavlov.core.trainers.nn_trainer'['nn_trainer'] at line 206: Improved best ner_f1 from 26.3928 to 58.1043\n",
      "2025-10-01 12:04:06.723 INFO in 'deeppavlov.core.trainers.nn_trainer'['nn_trainer'] at line 208: Saving model\n",
      "2025-10-01 12:04:06.724 INFO in 'deeppavlov.core.models.torch_model'['torch_model'] at line 175: Saving model to C:\\Users\\lexan\\OneDrive\\Documents\\hackaton_lct\\models\\model.pth.tar.\n"
     ]
    },
    {
     "name": "stdout",
     "output_type": "stream",
     "text": [
      "{\"valid\": {\"eval_examples_count\": 4761, \"metrics\": {\"ner_f1\": 58.1043, \"ner_token_f1\": 76.6212}, \"time_spent\": \"0:00:07\", \"epochs_done\": 0, \"batches_seen\": 10, \"train_examples_seen\": 5500, \"impatience\": 0, \"patience_limit\": 100}}\n"
     ]
    },
    {
     "name": "stderr",
     "output_type": "stream",
     "text": [
      "1it [00:00,  5.97it/s]]"
     ]
    },
    {
     "name": "stdout",
     "output_type": "stream",
     "text": [
      "{\"train\": {\"eval_examples_count\": 550, \"metrics\": {\"ner_f1\": 58.4158, \"ner_token_f1\": 73.1538}, \"time_spent\": \"0:00:13\", \"epochs_done\": 0, \"batches_seen\": 20, \"train_examples_seen\": 11000, \"loss\": 0.4892580360174179}}\n"
     ]
    },
    {
     "name": "stderr",
     "output_type": "stream",
     "text": [
      "\n",
      "9it [00:01,  8.54it/s]\n",
      "2025-10-01 12:04:13.686 INFO in 'deeppavlov.core.trainers.nn_trainer'['nn_trainer'] at line 206: Improved best ner_f1 from 58.1043 to 63.5867\n",
      "2025-10-01 12:04:13.686 INFO in 'deeppavlov.core.trainers.nn_trainer'['nn_trainer'] at line 208: Saving model\n",
      "2025-10-01 12:04:13.687 INFO in 'deeppavlov.core.models.torch_model'['torch_model'] at line 175: Saving model to C:\\Users\\lexan\\OneDrive\\Documents\\hackaton_lct\\models\\model.pth.tar.\n"
     ]
    },
    {
     "name": "stdout",
     "output_type": "stream",
     "text": [
      "{\"valid\": {\"eval_examples_count\": 4761, \"metrics\": {\"ner_f1\": 63.5867, \"ner_token_f1\": 79.6941}, \"time_spent\": \"0:00:14\", \"epochs_done\": 0, \"batches_seen\": 20, \"train_examples_seen\": 11000, \"impatience\": 0, \"patience_limit\": 100}}\n"
     ]
    },
    {
     "name": "stderr",
     "output_type": "stream",
     "text": [
      "1it [00:00,  5.48it/s]]\n"
     ]
    },
    {
     "name": "stdout",
     "output_type": "stream",
     "text": [
      "{\"train\": {\"eval_examples_count\": 550, \"metrics\": {\"ner_f1\": 66.5562, \"ner_token_f1\": 88.6269}, \"time_spent\": \"0:00:21\", \"epochs_done\": 0, \"batches_seen\": 30, \"train_examples_seen\": 16500, \"loss\": 0.27864117324352267}}\n"
     ]
    },
    {
     "name": "stderr",
     "output_type": "stream",
     "text": [
      "9it [00:01,  7.06it/s]\n",
      "2025-10-01 12:04:21.991 INFO in 'deeppavlov.core.trainers.nn_trainer'['nn_trainer'] at line 206: Improved best ner_f1 from 63.5867 to 65.6219\n",
      "2025-10-01 12:04:21.992 INFO in 'deeppavlov.core.trainers.nn_trainer'['nn_trainer'] at line 208: Saving model\n",
      "2025-10-01 12:04:21.993 INFO in 'deeppavlov.core.models.torch_model'['torch_model'] at line 175: Saving model to C:\\Users\\lexan\\OneDrive\\Documents\\hackaton_lct\\models\\model.pth.tar.\n"
     ]
    },
    {
     "name": "stdout",
     "output_type": "stream",
     "text": [
      "{\"valid\": {\"eval_examples_count\": 4761, \"metrics\": {\"ner_f1\": 65.6219, \"ner_token_f1\": 81.3701}, \"time_spent\": \"0:00:22\", \"epochs_done\": 0, \"batches_seen\": 30, \"train_examples_seen\": 16500, \"impatience\": 0, \"patience_limit\": 100}}\n"
     ]
    },
    {
     "name": "stderr",
     "output_type": "stream",
     "text": [
      "1it [00:00,  4.46it/s]]"
     ]
    },
    {
     "name": "stdout",
     "output_type": "stream",
     "text": [
      "{\"train\": {\"eval_examples_count\": 550, \"metrics\": {\"ner_f1\": 78.2925, \"ner_token_f1\": 93.0004}, \"time_spent\": \"0:00:29\", \"epochs_done\": 0, \"batches_seen\": 40, \"train_examples_seen\": 22000, \"loss\": 0.1756671041250229}}\n"
     ]
    },
    {
     "name": "stderr",
     "output_type": "stream",
     "text": [
      "\n",
      "9it [00:01,  8.30it/s]\n",
      "2025-10-01 12:04:29.885 INFO in 'deeppavlov.core.trainers.nn_trainer'['nn_trainer'] at line 206: Improved best ner_f1 from 65.6219 to 77.6763\n",
      "2025-10-01 12:04:29.886 INFO in 'deeppavlov.core.trainers.nn_trainer'['nn_trainer'] at line 208: Saving model\n",
      "2025-10-01 12:04:29.886 INFO in 'deeppavlov.core.models.torch_model'['torch_model'] at line 175: Saving model to C:\\Users\\lexan\\OneDrive\\Documents\\hackaton_lct\\models\\model.pth.tar.\n"
     ]
    },
    {
     "name": "stdout",
     "output_type": "stream",
     "text": [
      "{\"valid\": {\"eval_examples_count\": 4761, \"metrics\": {\"ner_f1\": 77.6763, \"ner_token_f1\": 87.2328}, \"time_spent\": \"0:00:30\", \"epochs_done\": 0, \"batches_seen\": 40, \"train_examples_seen\": 22000, \"impatience\": 0, \"patience_limit\": 100}}\n"
     ]
    },
    {
     "name": "stderr",
     "output_type": "stream",
     "text": [
      "1it [00:00,  5.60it/s]]\n"
     ]
    },
    {
     "name": "stdout",
     "output_type": "stream",
     "text": [
      "{\"train\": {\"eval_examples_count\": 550, \"metrics\": {\"ner_f1\": 84.5135, \"ner_token_f1\": 95.5105}, \"time_spent\": \"0:00:37\", \"epochs_done\": 0, \"batches_seen\": 50, \"train_examples_seen\": 27500, \"loss\": 0.12416581884026527}}\n"
     ]
    },
    {
     "name": "stderr",
     "output_type": "stream",
     "text": [
      "9it [00:01,  8.37it/s]\n",
      "2025-10-01 12:04:38.80 INFO in 'deeppavlov.core.trainers.nn_trainer'['nn_trainer'] at line 206: Improved best ner_f1 from 77.6763 to 82.2011\n",
      "2025-10-01 12:04:38.80 INFO in 'deeppavlov.core.trainers.nn_trainer'['nn_trainer'] at line 208: Saving model\n",
      "2025-10-01 12:04:38.81 INFO in 'deeppavlov.core.models.torch_model'['torch_model'] at line 175: Saving model to C:\\Users\\lexan\\OneDrive\\Documents\\hackaton_lct\\models\\model.pth.tar.\n"
     ]
    },
    {
     "name": "stdout",
     "output_type": "stream",
     "text": [
      "{\"valid\": {\"eval_examples_count\": 4761, \"metrics\": {\"ner_f1\": 82.2011, \"ner_token_f1\": 88.5554}, \"time_spent\": \"0:00:38\", \"epochs_done\": 0, \"batches_seen\": 50, \"train_examples_seen\": 27500, \"impatience\": 0, \"patience_limit\": 100}}\n"
     ]
    },
    {
     "name": "stderr",
     "output_type": "stream",
     "text": [
      "1it [00:00,  6.05it/s]]"
     ]
    },
    {
     "name": "stdout",
     "output_type": "stream",
     "text": [
      "{\"train\": {\"eval_examples_count\": 550, \"metrics\": {\"ner_f1\": 87.2889, \"ner_token_f1\": 95.2381}, \"time_spent\": \"0:00:45\", \"epochs_done\": 0, \"batches_seen\": 60, \"train_examples_seen\": 33000, \"loss\": 0.10116299539804459}}\n"
     ]
    },
    {
     "name": "stderr",
     "output_type": "stream",
     "text": [
      "\n",
      "9it [00:01,  8.09it/s]\n",
      "2025-10-01 12:04:46.144 INFO in 'deeppavlov.core.trainers.nn_trainer'['nn_trainer'] at line 206: Improved best ner_f1 from 82.2011 to 86.4515\n",
      "2025-10-01 12:04:46.144 INFO in 'deeppavlov.core.trainers.nn_trainer'['nn_trainer'] at line 208: Saving model\n",
      "2025-10-01 12:04:46.145 INFO in 'deeppavlov.core.models.torch_model'['torch_model'] at line 175: Saving model to C:\\Users\\lexan\\OneDrive\\Documents\\hackaton_lct\\models\\model.pth.tar.\n"
     ]
    },
    {
     "name": "stdout",
     "output_type": "stream",
     "text": [
      "{\"valid\": {\"eval_examples_count\": 4761, \"metrics\": {\"ner_f1\": 86.4515, \"ner_token_f1\": 90.1713}, \"time_spent\": \"0:00:46\", \"epochs_done\": 0, \"batches_seen\": 60, \"train_examples_seen\": 33000, \"impatience\": 0, \"patience_limit\": 100}}\n"
     ]
    },
    {
     "name": "stderr",
     "output_type": "stream",
     "text": [
      "1it [00:00,  6.06it/s]]"
     ]
    },
    {
     "name": "stdout",
     "output_type": "stream",
     "text": [
      "{\"train\": {\"eval_examples_count\": 550, \"metrics\": {\"ner_f1\": 91.1941, \"ner_token_f1\": 95.7171}, \"time_spent\": \"0:00:53\", \"epochs_done\": 0, \"batches_seen\": 70, \"train_examples_seen\": 38500, \"loss\": 0.07770140245556831}}\n"
     ]
    },
    {
     "name": "stderr",
     "output_type": "stream",
     "text": [
      "\n",
      "9it [00:01,  8.26it/s]\n",
      "2025-10-01 12:04:53.491 INFO in 'deeppavlov.core.trainers.nn_trainer'['nn_trainer'] at line 211: Did not improve on the ner_f1 of 86.4515\n"
     ]
    },
    {
     "name": "stdout",
     "output_type": "stream",
     "text": [
      "{\"valid\": {\"eval_examples_count\": 4761, \"metrics\": {\"ner_f1\": 86.4213, \"ner_token_f1\": 89.9166}, \"time_spent\": \"0:00:54\", \"epochs_done\": 0, \"batches_seen\": 70, \"train_examples_seen\": 38500, \"impatience\": 1, \"patience_limit\": 100}}\n"
     ]
    },
    {
     "name": "stderr",
     "output_type": "stream",
     "text": [
      "76it [00:53,  1.42it/s]\n",
      "1it [00:00,  5.00it/s]"
     ]
    },
    {
     "name": "stdout",
     "output_type": "stream",
     "text": [
      "{\"train\": {\"eval_examples_count\": 550, \"metrics\": {\"ner_f1\": 94.9231, \"ner_token_f1\": 96.9225}, \"time_spent\": \"0:00:58\", \"epochs_done\": 1, \"batches_seen\": 80, \"train_examples_seen\": 43561, \"loss\": 0.06489308215677739}}\n"
     ]
    },
    {
     "name": "stderr",
     "output_type": "stream",
     "text": [
      "\n",
      "9it [00:01,  6.42it/s]\n",
      "2025-10-01 12:04:59.302 INFO in 'deeppavlov.core.trainers.nn_trainer'['nn_trainer'] at line 206: Improved best ner_f1 from 86.4515 to 87.8027\n",
      "2025-10-01 12:04:59.303 INFO in 'deeppavlov.core.trainers.nn_trainer'['nn_trainer'] at line 208: Saving model\n",
      "2025-10-01 12:04:59.303 INFO in 'deeppavlov.core.models.torch_model'['torch_model'] at line 175: Saving model to C:\\Users\\lexan\\OneDrive\\Documents\\hackaton_lct\\models\\model.pth.tar.\n"
     ]
    },
    {
     "name": "stdout",
     "output_type": "stream",
     "text": [
      "{\"valid\": {\"eval_examples_count\": 4761, \"metrics\": {\"ner_f1\": 87.8027, \"ner_token_f1\": 90.8597}, \"time_spent\": \"0:01:00\", \"epochs_done\": 1, \"batches_seen\": 80, \"train_examples_seen\": 43561, \"impatience\": 0, \"patience_limit\": 100}}\n"
     ]
    },
    {
     "name": "stderr",
     "output_type": "stream",
     "text": [
      "1it [00:00,  5.11it/s]]"
     ]
    },
    {
     "name": "stdout",
     "output_type": "stream",
     "text": [
      "{\"train\": {\"eval_examples_count\": 550, \"metrics\": {\"ner_f1\": 93.7266, \"ner_token_f1\": 96.6903}, \"time_spent\": \"0:01:06\", \"epochs_done\": 1, \"batches_seen\": 90, \"train_examples_seen\": 49061, \"loss\": 0.060733663663268087}}\n"
     ]
    },
    {
     "name": "stderr",
     "output_type": "stream",
     "text": [
      "\n",
      "9it [00:01,  7.70it/s]\n",
      "2025-10-01 12:05:07.320 INFO in 'deeppavlov.core.trainers.nn_trainer'['nn_trainer'] at line 206: Improved best ner_f1 from 87.8027 to 88.349\n",
      "2025-10-01 12:05:07.321 INFO in 'deeppavlov.core.trainers.nn_trainer'['nn_trainer'] at line 208: Saving model\n",
      "2025-10-01 12:05:07.321 INFO in 'deeppavlov.core.models.torch_model'['torch_model'] at line 175: Saving model to C:\\Users\\lexan\\OneDrive\\Documents\\hackaton_lct\\models\\model.pth.tar.\n"
     ]
    },
    {
     "name": "stdout",
     "output_type": "stream",
     "text": [
      "{\"valid\": {\"eval_examples_count\": 4761, \"metrics\": {\"ner_f1\": 88.349, \"ner_token_f1\": 91.132}, \"time_spent\": \"0:01:08\", \"epochs_done\": 1, \"batches_seen\": 90, \"train_examples_seen\": 49061, \"impatience\": 0, \"patience_limit\": 100}}\n"
     ]
    },
    {
     "name": "stderr",
     "output_type": "stream",
     "text": [
      "1it [00:00,  6.06it/s]]"
     ]
    },
    {
     "name": "stdout",
     "output_type": "stream",
     "text": [
      "{\"train\": {\"eval_examples_count\": 550, \"metrics\": {\"ner_f1\": 95.5849, \"ner_token_f1\": 97.0019}, \"time_spent\": \"0:01:19\", \"epochs_done\": 1, \"batches_seen\": 100, \"train_examples_seen\": 54561, \"loss\": 0.05346823297441006}}\n"
     ]
    },
    {
     "name": "stderr",
     "output_type": "stream",
     "text": [
      "\n",
      "9it [00:01,  8.94it/s]\n",
      "2025-10-01 12:05:20.2 INFO in 'deeppavlov.core.trainers.nn_trainer'['nn_trainer'] at line 206: Improved best ner_f1 from 88.349 to 89.2335\n",
      "2025-10-01 12:05:20.3 INFO in 'deeppavlov.core.trainers.nn_trainer'['nn_trainer'] at line 208: Saving model\n",
      "2025-10-01 12:05:20.4 INFO in 'deeppavlov.core.models.torch_model'['torch_model'] at line 175: Saving model to C:\\Users\\lexan\\OneDrive\\Documents\\hackaton_lct\\models\\model.pth.tar.\n"
     ]
    },
    {
     "name": "stdout",
     "output_type": "stream",
     "text": [
      "{\"valid\": {\"eval_examples_count\": 4761, \"metrics\": {\"ner_f1\": 89.2335, \"ner_token_f1\": 91.8218}, \"time_spent\": \"0:01:20\", \"epochs_done\": 1, \"batches_seen\": 100, \"train_examples_seen\": 54561, \"impatience\": 0, \"patience_limit\": 100}}\n"
     ]
    },
    {
     "name": "stderr",
     "output_type": "stream",
     "text": [
      "1it [00:00,  5.43it/s]]\n"
     ]
    },
    {
     "name": "stdout",
     "output_type": "stream",
     "text": [
      "{\"train\": {\"eval_examples_count\": 550, \"metrics\": {\"ner_f1\": 97.2339, \"ner_token_f1\": 98.053}, \"time_spent\": \"0:01:28\", \"epochs_done\": 1, \"batches_seen\": 110, \"train_examples_seen\": 60061, \"loss\": 0.04882644712924957}}\n"
     ]
    },
    {
     "name": "stderr",
     "output_type": "stream",
     "text": [
      "9it [00:01,  8.39it/s]\n",
      "2025-10-01 12:05:29.124 INFO in 'deeppavlov.core.trainers.nn_trainer'['nn_trainer'] at line 206: Improved best ner_f1 from 89.2335 to 90.0036\n",
      "2025-10-01 12:05:29.125 INFO in 'deeppavlov.core.trainers.nn_trainer'['nn_trainer'] at line 208: Saving model\n",
      "2025-10-01 12:05:29.125 INFO in 'deeppavlov.core.models.torch_model'['torch_model'] at line 175: Saving model to C:\\Users\\lexan\\OneDrive\\Documents\\hackaton_lct\\models\\model.pth.tar.\n"
     ]
    },
    {
     "name": "stdout",
     "output_type": "stream",
     "text": [
      "{\"valid\": {\"eval_examples_count\": 4761, \"metrics\": {\"ner_f1\": 90.0036, \"ner_token_f1\": 92.3184}, \"time_spent\": \"0:01:29\", \"epochs_done\": 1, \"batches_seen\": 110, \"train_examples_seen\": 60061, \"impatience\": 0, \"patience_limit\": 100}}\n"
     ]
    },
    {
     "name": "stderr",
     "output_type": "stream",
     "text": [
      "1it [00:00,  3.30it/s]]"
     ]
    },
    {
     "name": "stdout",
     "output_type": "stream",
     "text": [
      "{\"train\": {\"eval_examples_count\": 550, \"metrics\": {\"ner_f1\": 96.211, \"ner_token_f1\": 97.2731}, \"time_spent\": \"0:01:36\", \"epochs_done\": 1, \"batches_seen\": 120, \"train_examples_seen\": 65561, \"loss\": 0.049862897768616674}}\n"
     ]
    },
    {
     "name": "stderr",
     "output_type": "stream",
     "text": [
      "\n",
      "9it [00:01,  8.16it/s]\n",
      "2025-10-01 12:05:36.926 INFO in 'deeppavlov.core.trainers.nn_trainer'['nn_trainer'] at line 211: Did not improve on the ner_f1 of 90.0036\n"
     ]
    },
    {
     "name": "stdout",
     "output_type": "stream",
     "text": [
      "{\"valid\": {\"eval_examples_count\": 4761, \"metrics\": {\"ner_f1\": 89.8848, \"ner_token_f1\": 92.169}, \"time_spent\": \"0:01:37\", \"epochs_done\": 1, \"batches_seen\": 120, \"train_examples_seen\": 65561, \"impatience\": 1, \"patience_limit\": 100}}\n"
     ]
    },
    {
     "name": "stderr",
     "output_type": "stream",
     "text": [
      "1it [00:00,  5.01it/s]]"
     ]
    },
    {
     "name": "stdout",
     "output_type": "stream",
     "text": [
      "{\"train\": {\"eval_examples_count\": 550, \"metrics\": {\"ner_f1\": 94.0454, \"ner_token_f1\": 97.2691}, \"time_spent\": \"0:01:42\", \"epochs_done\": 1, \"batches_seen\": 130, \"train_examples_seen\": 71061, \"loss\": 0.04698876291513443}}\n"
     ]
    },
    {
     "name": "stderr",
     "output_type": "stream",
     "text": [
      "\n",
      "9it [00:01,  8.38it/s]\n",
      "2025-10-01 12:05:42.886 INFO in 'deeppavlov.core.trainers.nn_trainer'['nn_trainer'] at line 206: Improved best ner_f1 from 90.0036 to 90.2953\n",
      "2025-10-01 12:05:42.887 INFO in 'deeppavlov.core.trainers.nn_trainer'['nn_trainer'] at line 208: Saving model\n",
      "2025-10-01 12:05:42.888 INFO in 'deeppavlov.core.models.torch_model'['torch_model'] at line 175: Saving model to C:\\Users\\lexan\\OneDrive\\Documents\\hackaton_lct\\models\\model.pth.tar.\n"
     ]
    },
    {
     "name": "stdout",
     "output_type": "stream",
     "text": [
      "{\"valid\": {\"eval_examples_count\": 4761, \"metrics\": {\"ner_f1\": 90.2953, \"ner_token_f1\": 92.5056}, \"time_spent\": \"0:01:43\", \"epochs_done\": 1, \"batches_seen\": 130, \"train_examples_seen\": 71061, \"impatience\": 0, \"patience_limit\": 100}}\n"
     ]
    },
    {
     "name": "stderr",
     "output_type": "stream",
     "text": [
      "1it [00:00,  5.83it/s]]"
     ]
    },
    {
     "name": "stdout",
     "output_type": "stream",
     "text": [
      "{\"train\": {\"eval_examples_count\": 550, \"metrics\": {\"ner_f1\": 96.4217, \"ner_token_f1\": 97.3609}, \"time_spent\": \"0:01:50\", \"epochs_done\": 1, \"batches_seen\": 140, \"train_examples_seen\": 76561, \"loss\": 0.048136716708540916}}\n"
     ]
    },
    {
     "name": "stderr",
     "output_type": "stream",
     "text": [
      "\n",
      "9it [00:01,  8.24it/s]\n",
      "2025-10-01 12:05:50.962 INFO in 'deeppavlov.core.trainers.nn_trainer'['nn_trainer'] at line 206: Improved best ner_f1 from 90.2953 to 90.9334\n",
      "2025-10-01 12:05:50.963 INFO in 'deeppavlov.core.trainers.nn_trainer'['nn_trainer'] at line 208: Saving model\n",
      "2025-10-01 12:05:50.963 INFO in 'deeppavlov.core.models.torch_model'['torch_model'] at line 175: Saving model to C:\\Users\\lexan\\OneDrive\\Documents\\hackaton_lct\\models\\model.pth.tar.\n"
     ]
    },
    {
     "name": "stdout",
     "output_type": "stream",
     "text": [
      "{\"valid\": {\"eval_examples_count\": 4761, \"metrics\": {\"ner_f1\": 90.9334, \"ner_token_f1\": 92.7436}, \"time_spent\": \"0:01:51\", \"epochs_done\": 1, \"batches_seen\": 140, \"train_examples_seen\": 76561, \"impatience\": 0, \"patience_limit\": 100}}\n"
     ]
    },
    {
     "name": "stderr",
     "output_type": "stream",
     "text": [
      "1it [00:00,  4.86it/s]]"
     ]
    },
    {
     "name": "stdout",
     "output_type": "stream",
     "text": [
      "{\"train\": {\"eval_examples_count\": 550, \"metrics\": {\"ner_f1\": 91.8062, \"ner_token_f1\": 98.0122}, \"time_spent\": \"0:01:57\", \"epochs_done\": 1, \"batches_seen\": 150, \"train_examples_seen\": 82061, \"loss\": 0.04973024278879166}}\n"
     ]
    },
    {
     "name": "stderr",
     "output_type": "stream",
     "text": [
      "\n",
      "9it [00:01,  8.15it/s]\n",
      "2025-10-01 12:05:58.196 INFO in 'deeppavlov.core.trainers.nn_trainer'['nn_trainer'] at line 211: Did not improve on the ner_f1 of 90.9334\n"
     ]
    },
    {
     "name": "stdout",
     "output_type": "stream",
     "text": [
      "{\"valid\": {\"eval_examples_count\": 4761, \"metrics\": {\"ner_f1\": 90.8619, \"ner_token_f1\": 92.7305}, \"time_spent\": \"0:01:58\", \"epochs_done\": 1, \"batches_seen\": 150, \"train_examples_seen\": 82061, \"impatience\": 1, \"patience_limit\": 100}}\n"
     ]
    },
    {
     "name": "stderr",
     "output_type": "stream",
     "text": [
      "76it [01:03,  1.21it/s]\n",
      "1it [00:00,  5.77it/s]\n"
     ]
    },
    {
     "name": "stdout",
     "output_type": "stream",
     "text": [
      "{\"train\": {\"eval_examples_count\": 550, \"metrics\": {\"ner_f1\": 96.4368, \"ner_token_f1\": 97.5086}, \"time_spent\": \"0:02:02\", \"epochs_done\": 2, \"batches_seen\": 160, \"train_examples_seen\": 87122, \"loss\": 0.03940043207257986}}\n"
     ]
    },
    {
     "name": "stderr",
     "output_type": "stream",
     "text": [
      "9it [00:00,  9.18it/s]\n",
      "2025-10-01 12:06:02.868 INFO in 'deeppavlov.core.trainers.nn_trainer'['nn_trainer'] at line 211: Did not improve on the ner_f1 of 90.9334\n"
     ]
    },
    {
     "name": "stdout",
     "output_type": "stream",
     "text": [
      "{\"valid\": {\"eval_examples_count\": 4761, \"metrics\": {\"ner_f1\": 89.9023, \"ner_token_f1\": 92.3482}, \"time_spent\": \"0:02:03\", \"epochs_done\": 2, \"batches_seen\": 160, \"train_examples_seen\": 87122, \"impatience\": 2, \"patience_limit\": 100}}\n"
     ]
    },
    {
     "name": "stderr",
     "output_type": "stream",
     "text": [
      "1it [00:00,  5.24it/s]]"
     ]
    },
    {
     "name": "stdout",
     "output_type": "stream",
     "text": [
      "{\"train\": {\"eval_examples_count\": 550, \"metrics\": {\"ner_f1\": 93.5238, \"ner_token_f1\": 98.0738}, \"time_spent\": \"0:02:07\", \"epochs_done\": 2, \"batches_seen\": 170, \"train_examples_seen\": 92622, \"loss\": 0.039663147553801535}}\n"
     ]
    },
    {
     "name": "stderr",
     "output_type": "stream",
     "text": [
      "\n",
      "9it [00:01,  8.82it/s]\n",
      "2025-10-01 12:06:07.492 INFO in 'deeppavlov.core.trainers.nn_trainer'['nn_trainer'] at line 211: Did not improve on the ner_f1 of 90.9334\n"
     ]
    },
    {
     "name": "stdout",
     "output_type": "stream",
     "text": [
      "{\"valid\": {\"eval_examples_count\": 4761, \"metrics\": {\"ner_f1\": 90.7008, \"ner_token_f1\": 92.8693}, \"time_spent\": \"0:02:08\", \"epochs_done\": 2, \"batches_seen\": 170, \"train_examples_seen\": 92622, \"impatience\": 3, \"patience_limit\": 100}}\n"
     ]
    },
    {
     "name": "stderr",
     "output_type": "stream",
     "text": [
      "1it [00:00,  5.57it/s]]"
     ]
    },
    {
     "name": "stdout",
     "output_type": "stream",
     "text": [
      "{\"train\": {\"eval_examples_count\": 550, \"metrics\": {\"ner_f1\": 97.6356, \"ner_token_f1\": 98.367}, \"time_spent\": \"0:02:12\", \"epochs_done\": 2, \"batches_seen\": 180, \"train_examples_seen\": 98122, \"loss\": 0.0382349107414484}}\n"
     ]
    },
    {
     "name": "stderr",
     "output_type": "stream",
     "text": [
      "\n",
      "9it [00:01,  8.09it/s]\n",
      "2025-10-01 12:06:12.918 INFO in 'deeppavlov.core.trainers.nn_trainer'['nn_trainer'] at line 206: Improved best ner_f1 from 90.9334 to 91.4557\n",
      "2025-10-01 12:06:12.918 INFO in 'deeppavlov.core.trainers.nn_trainer'['nn_trainer'] at line 208: Saving model\n",
      "2025-10-01 12:06:12.919 INFO in 'deeppavlov.core.models.torch_model'['torch_model'] at line 175: Saving model to C:\\Users\\lexan\\OneDrive\\Documents\\hackaton_lct\\models\\model.pth.tar.\n"
     ]
    },
    {
     "name": "stdout",
     "output_type": "stream",
     "text": [
      "{\"valid\": {\"eval_examples_count\": 4761, \"metrics\": {\"ner_f1\": 91.4557, \"ner_token_f1\": 93.3457}, \"time_spent\": \"0:02:13\", \"epochs_done\": 2, \"batches_seen\": 180, \"train_examples_seen\": 98122, \"impatience\": 0, \"patience_limit\": 100}}\n"
     ]
    },
    {
     "name": "stderr",
     "output_type": "stream",
     "text": [
      "1it [00:00,  6.18it/s]]"
     ]
    },
    {
     "name": "stdout",
     "output_type": "stream",
     "text": [
      "{\"train\": {\"eval_examples_count\": 550, \"metrics\": {\"ner_f1\": 97.5563, \"ner_token_f1\": 98.4178}, \"time_spent\": \"0:02:19\", \"epochs_done\": 2, \"batches_seen\": 190, \"train_examples_seen\": 103622, \"loss\": 0.03729158602654934}}\n"
     ]
    },
    {
     "name": "stderr",
     "output_type": "stream",
     "text": [
      "\n",
      "9it [00:01,  8.31it/s]\n",
      "2025-10-01 12:06:20.103 INFO in 'deeppavlov.core.trainers.nn_trainer'['nn_trainer'] at line 211: Did not improve on the ner_f1 of 91.4557\n"
     ]
    },
    {
     "name": "stdout",
     "output_type": "stream",
     "text": [
      "{\"valid\": {\"eval_examples_count\": 4761, \"metrics\": {\"ner_f1\": 91.4403, \"ner_token_f1\": 93.3292}, \"time_spent\": \"0:02:20\", \"epochs_done\": 2, \"batches_seen\": 190, \"train_examples_seen\": 103622, \"impatience\": 1, \"patience_limit\": 100}}\n"
     ]
    },
    {
     "name": "stderr",
     "output_type": "stream",
     "text": [
      "1it [00:00,  4.95it/s]]"
     ]
    },
    {
     "name": "stdout",
     "output_type": "stream",
     "text": [
      "{\"train\": {\"eval_examples_count\": 550, \"metrics\": {\"ner_f1\": 97.9367, \"ner_token_f1\": 98.7587}, \"time_spent\": \"0:02:25\", \"epochs_done\": 2, \"batches_seen\": 200, \"train_examples_seen\": 109122, \"loss\": 0.03650569971650839}}\n"
     ]
    },
    {
     "name": "stderr",
     "output_type": "stream",
     "text": [
      "\n",
      "9it [00:01,  8.33it/s]\n",
      "2025-10-01 12:06:25.456 INFO in 'deeppavlov.core.trainers.nn_trainer'['nn_trainer'] at line 211: Did not improve on the ner_f1 of 91.4557\n"
     ]
    },
    {
     "name": "stdout",
     "output_type": "stream",
     "text": [
      "{\"valid\": {\"eval_examples_count\": 4761, \"metrics\": {\"ner_f1\": 90.7319, \"ner_token_f1\": 92.9678}, \"time_spent\": \"0:02:26\", \"epochs_done\": 2, \"batches_seen\": 200, \"train_examples_seen\": 109122, \"impatience\": 2, \"patience_limit\": 100}}\n"
     ]
    },
    {
     "name": "stderr",
     "output_type": "stream",
     "text": [
      "1it [00:00,  5.90it/s]]\n"
     ]
    },
    {
     "name": "stdout",
     "output_type": "stream",
     "text": [
      "{\"train\": {\"eval_examples_count\": 550, \"metrics\": {\"ner_f1\": 96.2085, \"ner_token_f1\": 97.8191}, \"time_spent\": \"0:02:30\", \"epochs_done\": 2, \"batches_seen\": 210, \"train_examples_seen\": 114622, \"loss\": 0.0344098873436451}}\n"
     ]
    },
    {
     "name": "stderr",
     "output_type": "stream",
     "text": [
      "9it [00:01,  7.58it/s]\n",
      "2025-10-01 12:06:30.846 INFO in 'deeppavlov.core.trainers.nn_trainer'['nn_trainer'] at line 206: Improved best ner_f1 from 91.4557 to 92.0214\n",
      "2025-10-01 12:06:30.847 INFO in 'deeppavlov.core.trainers.nn_trainer'['nn_trainer'] at line 208: Saving model\n",
      "2025-10-01 12:06:30.847 INFO in 'deeppavlov.core.models.torch_model'['torch_model'] at line 175: Saving model to C:\\Users\\lexan\\OneDrive\\Documents\\hackaton_lct\\models\\model.pth.tar.\n"
     ]
    },
    {
     "name": "stdout",
     "output_type": "stream",
     "text": [
      "{\"valid\": {\"eval_examples_count\": 4761, \"metrics\": {\"ner_f1\": 92.0214, \"ner_token_f1\": 93.7461}, \"time_spent\": \"0:02:31\", \"epochs_done\": 2, \"batches_seen\": 210, \"train_examples_seen\": 114622, \"impatience\": 0, \"patience_limit\": 100}}\n"
     ]
    },
    {
     "name": "stderr",
     "output_type": "stream",
     "text": [
      "1it [00:00,  5.51it/s]]"
     ]
    },
    {
     "name": "stdout",
     "output_type": "stream",
     "text": [
      "{\"train\": {\"eval_examples_count\": 550, \"metrics\": {\"ner_f1\": 97.561, \"ner_token_f1\": 98.2526}, \"time_spent\": \"0:02:46\", \"epochs_done\": 2, \"batches_seen\": 220, \"train_examples_seen\": 120122, \"loss\": 0.036335467360913754}}\n"
     ]
    },
    {
     "name": "stderr",
     "output_type": "stream",
     "text": [
      "\n",
      "9it [00:01,  8.84it/s]\n",
      "2025-10-01 12:06:47.42 INFO in 'deeppavlov.core.trainers.nn_trainer'['nn_trainer'] at line 211: Did not improve on the ner_f1 of 92.0214\n"
     ]
    },
    {
     "name": "stdout",
     "output_type": "stream",
     "text": [
      "{\"valid\": {\"eval_examples_count\": 4761, \"metrics\": {\"ner_f1\": 91.9025, \"ner_token_f1\": 93.674}, \"time_spent\": \"0:02:47\", \"epochs_done\": 2, \"batches_seen\": 220, \"train_examples_seen\": 120122, \"impatience\": 1, \"patience_limit\": 100}}\n"
     ]
    },
    {
     "name": "stderr",
     "output_type": "stream",
     "text": [
      "76it [00:50,  1.49it/s]\n",
      "1it [00:00,  6.25it/s]"
     ]
    },
    {
     "name": "stdout",
     "output_type": "stream",
     "text": [
      "{\"train\": {\"eval_examples_count\": 550, \"metrics\": {\"ner_f1\": 96.6618, \"ner_token_f1\": 98.2955}, \"time_spent\": \"0:02:51\", \"epochs_done\": 3, \"batches_seen\": 230, \"train_examples_seen\": 125183, \"loss\": 0.0347551753744483}}\n"
     ]
    },
    {
     "name": "stderr",
     "output_type": "stream",
     "text": [
      "\n",
      "9it [00:00,  9.05it/s]\n",
      "2025-10-01 12:06:51.489 INFO in 'deeppavlov.core.trainers.nn_trainer'['nn_trainer'] at line 211: Did not improve on the ner_f1 of 92.0214\n"
     ]
    },
    {
     "name": "stdout",
     "output_type": "stream",
     "text": [
      "{\"valid\": {\"eval_examples_count\": 4761, \"metrics\": {\"ner_f1\": 91.3098, \"ner_token_f1\": 93.354}, \"time_spent\": \"0:02:52\", \"epochs_done\": 3, \"batches_seen\": 230, \"train_examples_seen\": 125183, \"impatience\": 2, \"patience_limit\": 100}}\n"
     ]
    },
    {
     "name": "stderr",
     "output_type": "stream",
     "text": [
      "1it [00:00,  3.76it/s]]"
     ]
    },
    {
     "name": "stdout",
     "output_type": "stream",
     "text": [
      "{\"train\": {\"eval_examples_count\": 550, \"metrics\": {\"ner_f1\": 97.1594, \"ner_token_f1\": 97.9411}, \"time_spent\": \"0:02:56\", \"epochs_done\": 3, \"batches_seen\": 240, \"train_examples_seen\": 130683, \"loss\": 0.032299403101205826}}\n"
     ]
    },
    {
     "name": "stderr",
     "output_type": "stream",
     "text": [
      "\n",
      "9it [00:01,  8.79it/s]\n",
      "2025-10-01 12:06:56.818 INFO in 'deeppavlov.core.trainers.nn_trainer'['nn_trainer'] at line 211: Did not improve on the ner_f1 of 92.0214\n"
     ]
    },
    {
     "name": "stdout",
     "output_type": "stream",
     "text": [
      "{\"valid\": {\"eval_examples_count\": 4761, \"metrics\": {\"ner_f1\": 91.9011, \"ner_token_f1\": 93.6852}, \"time_spent\": \"0:02:57\", \"epochs_done\": 3, \"batches_seen\": 240, \"train_examples_seen\": 130683, \"impatience\": 3, \"patience_limit\": 100}}\n"
     ]
    },
    {
     "name": "stderr",
     "output_type": "stream",
     "text": [
      "1it [00:00,  5.23it/s]]"
     ]
    },
    {
     "name": "stdout",
     "output_type": "stream",
     "text": [
      "{\"train\": {\"eval_examples_count\": 550, \"metrics\": {\"ner_f1\": 96.2892, \"ner_token_f1\": 97.9952}, \"time_spent\": \"0:03:01\", \"epochs_done\": 3, \"batches_seen\": 250, \"train_examples_seen\": 136183, \"loss\": 0.03188638910651207}}\n"
     ]
    },
    {
     "name": "stderr",
     "output_type": "stream",
     "text": [
      "\n",
      "9it [00:01,  7.97it/s]\n",
      "2025-10-01 12:07:01.730 INFO in 'deeppavlov.core.trainers.nn_trainer'['nn_trainer'] at line 206: Improved best ner_f1 from 92.0214 to 92.2429\n",
      "2025-10-01 12:07:01.731 INFO in 'deeppavlov.core.trainers.nn_trainer'['nn_trainer'] at line 208: Saving model\n",
      "2025-10-01 12:07:01.731 INFO in 'deeppavlov.core.models.torch_model'['torch_model'] at line 175: Saving model to C:\\Users\\lexan\\OneDrive\\Documents\\hackaton_lct\\models\\model.pth.tar.\n"
     ]
    },
    {
     "name": "stdout",
     "output_type": "stream",
     "text": [
      "{\"valid\": {\"eval_examples_count\": 4761, \"metrics\": {\"ner_f1\": 92.2429, \"ner_token_f1\": 93.9822}, \"time_spent\": \"0:03:02\", \"epochs_done\": 3, \"batches_seen\": 250, \"train_examples_seen\": 136183, \"impatience\": 0, \"patience_limit\": 100}}\n"
     ]
    },
    {
     "name": "stderr",
     "output_type": "stream",
     "text": [
      "1it [00:00,  5.36it/s]]"
     ]
    },
    {
     "name": "stdout",
     "output_type": "stream",
     "text": [
      "{\"train\": {\"eval_examples_count\": 550, \"metrics\": {\"ner_f1\": 98.9564, \"ner_token_f1\": 99.3696}, \"time_spent\": \"0:03:09\", \"epochs_done\": 3, \"batches_seen\": 260, \"train_examples_seen\": 141683, \"loss\": 0.02956443727016449}}\n"
     ]
    },
    {
     "name": "stderr",
     "output_type": "stream",
     "text": [
      "\n",
      "9it [00:01,  8.23it/s]\n",
      "2025-10-01 12:07:09.758 INFO in 'deeppavlov.core.trainers.nn_trainer'['nn_trainer'] at line 206: Improved best ner_f1 from 92.2429 to 92.3422\n",
      "2025-10-01 12:07:09.759 INFO in 'deeppavlov.core.trainers.nn_trainer'['nn_trainer'] at line 208: Saving model\n",
      "2025-10-01 12:07:09.759 INFO in 'deeppavlov.core.models.torch_model'['torch_model'] at line 175: Saving model to C:\\Users\\lexan\\OneDrive\\Documents\\hackaton_lct\\models\\model.pth.tar.\n"
     ]
    },
    {
     "name": "stdout",
     "output_type": "stream",
     "text": [
      "{\"valid\": {\"eval_examples_count\": 4761, \"metrics\": {\"ner_f1\": 92.3422, \"ner_token_f1\": 93.9361}, \"time_spent\": \"0:03:10\", \"epochs_done\": 3, \"batches_seen\": 260, \"train_examples_seen\": 141683, \"impatience\": 0, \"patience_limit\": 100}}\n"
     ]
    },
    {
     "name": "stderr",
     "output_type": "stream",
     "text": [
      "1it [00:00,  5.33it/s]]"
     ]
    },
    {
     "name": "stdout",
     "output_type": "stream",
     "text": [
      "{\"train\": {\"eval_examples_count\": 550, \"metrics\": {\"ner_f1\": 93.9703, \"ner_token_f1\": 98.5335}, \"time_spent\": \"0:03:18\", \"epochs_done\": 3, \"batches_seen\": 270, \"train_examples_seen\": 147183, \"loss\": 0.029130730777978897}}\n"
     ]
    },
    {
     "name": "stderr",
     "output_type": "stream",
     "text": [
      "\n",
      "9it [00:01,  7.86it/s]\n",
      "2025-10-01 12:07:18.806 INFO in 'deeppavlov.core.trainers.nn_trainer'['nn_trainer'] at line 211: Did not improve on the ner_f1 of 92.3422\n"
     ]
    },
    {
     "name": "stdout",
     "output_type": "stream",
     "text": [
      "{\"valid\": {\"eval_examples_count\": 4761, \"metrics\": {\"ner_f1\": 92.1777, \"ner_token_f1\": 93.9916}, \"time_spent\": \"0:03:19\", \"epochs_done\": 3, \"batches_seen\": 270, \"train_examples_seen\": 147183, \"impatience\": 1, \"patience_limit\": 100}}\n"
     ]
    },
    {
     "name": "stderr",
     "output_type": "stream",
     "text": [
      "1it [00:00,  5.62it/s]]\n"
     ]
    },
    {
     "name": "stdout",
     "output_type": "stream",
     "text": [
      "{\"train\": {\"eval_examples_count\": 550, \"metrics\": {\"ner_f1\": 97.7143, \"ner_token_f1\": 98.1585}, \"time_spent\": \"0:03:23\", \"epochs_done\": 3, \"batches_seen\": 280, \"train_examples_seen\": 152683, \"loss\": 0.02835180014371872}}\n"
     ]
    },
    {
     "name": "stderr",
     "output_type": "stream",
     "text": [
      "9it [00:01,  8.28it/s]\n",
      "2025-10-01 12:07:24.29 INFO in 'deeppavlov.core.trainers.nn_trainer'['nn_trainer'] at line 211: Did not improve on the ner_f1 of 92.3422\n"
     ]
    },
    {
     "name": "stdout",
     "output_type": "stream",
     "text": [
      "{\"valid\": {\"eval_examples_count\": 4761, \"metrics\": {\"ner_f1\": 92.1362, \"ner_token_f1\": 93.8503}, \"time_spent\": \"0:03:24\", \"epochs_done\": 3, \"batches_seen\": 280, \"train_examples_seen\": 152683, \"impatience\": 2, \"patience_limit\": 100}}\n"
     ]
    },
    {
     "name": "stderr",
     "output_type": "stream",
     "text": [
      "1it [00:00,  5.93it/s]]"
     ]
    },
    {
     "name": "stdout",
     "output_type": "stream",
     "text": [
      "{\"train\": {\"eval_examples_count\": 550, \"metrics\": {\"ner_f1\": 96.0802, \"ner_token_f1\": 99.3765}, \"time_spent\": \"0:03:28\", \"epochs_done\": 3, \"batches_seen\": 290, \"train_examples_seen\": 158183, \"loss\": 0.028825123980641364}}\n"
     ]
    },
    {
     "name": "stderr",
     "output_type": "stream",
     "text": [
      "\n",
      "9it [00:01,  7.91it/s]\n",
      "2025-10-01 12:07:28.955 INFO in 'deeppavlov.core.trainers.nn_trainer'['nn_trainer'] at line 206: Improved best ner_f1 from 92.3422 to 92.3655\n",
      "2025-10-01 12:07:28.955 INFO in 'deeppavlov.core.trainers.nn_trainer'['nn_trainer'] at line 208: Saving model\n",
      "2025-10-01 12:07:28.956 INFO in 'deeppavlov.core.models.torch_model'['torch_model'] at line 175: Saving model to C:\\Users\\lexan\\OneDrive\\Documents\\hackaton_lct\\models\\model.pth.tar.\n"
     ]
    },
    {
     "name": "stdout",
     "output_type": "stream",
     "text": [
      "{\"valid\": {\"eval_examples_count\": 4761, \"metrics\": {\"ner_f1\": 92.3655, \"ner_token_f1\": 94.0238}, \"time_spent\": \"0:03:29\", \"epochs_done\": 3, \"batches_seen\": 290, \"train_examples_seen\": 158183, \"impatience\": 0, \"patience_limit\": 100}}\n"
     ]
    },
    {
     "name": "stderr",
     "output_type": "stream",
     "text": [
      "1it [00:00,  6.14it/s]]"
     ]
    },
    {
     "name": "stdout",
     "output_type": "stream",
     "text": [
      "{\"train\": {\"eval_examples_count\": 550, \"metrics\": {\"ner_f1\": 98.7085, \"ner_token_f1\": 99.0091}, \"time_spent\": \"0:03:35\", \"epochs_done\": 3, \"batches_seen\": 300, \"train_examples_seen\": 163683, \"loss\": 0.029026220180094243}}\n"
     ]
    },
    {
     "name": "stderr",
     "output_type": "stream",
     "text": [
      "\n",
      "9it [00:01,  8.88it/s]\n",
      "2025-10-01 12:07:36.197 INFO in 'deeppavlov.core.trainers.nn_trainer'['nn_trainer'] at line 206: Improved best ner_f1 from 92.3655 to 92.4135\n",
      "2025-10-01 12:07:36.197 INFO in 'deeppavlov.core.trainers.nn_trainer'['nn_trainer'] at line 208: Saving model\n",
      "2025-10-01 12:07:36.198 INFO in 'deeppavlov.core.models.torch_model'['torch_model'] at line 175: Saving model to C:\\Users\\lexan\\OneDrive\\Documents\\hackaton_lct\\models\\model.pth.tar.\n"
     ]
    },
    {
     "name": "stdout",
     "output_type": "stream",
     "text": [
      "{\"valid\": {\"eval_examples_count\": 4761, \"metrics\": {\"ner_f1\": 92.4135, \"ner_token_f1\": 93.9612}, \"time_spent\": \"0:03:36\", \"epochs_done\": 3, \"batches_seen\": 300, \"train_examples_seen\": 163683, \"impatience\": 0, \"patience_limit\": 100}}\n"
     ]
    },
    {
     "name": "stderr",
     "output_type": "stream",
     "text": [
      "76it [00:50,  1.51it/s]\n",
      "1it [00:00,  5.65it/s]\n"
     ]
    },
    {
     "name": "stdout",
     "output_type": "stream",
     "text": [
      "{\"train\": {\"eval_examples_count\": 550, \"metrics\": {\"ner_f1\": 99.3129, \"ner_token_f1\": 99.5406}, \"time_spent\": \"0:03:43\", \"epochs_done\": 4, \"batches_seen\": 310, \"train_examples_seen\": 168744, \"loss\": 0.028219213895499706}}\n"
     ]
    },
    {
     "name": "stderr",
     "output_type": "stream",
     "text": [
      "9it [00:00,  9.19it/s]\n",
      "2025-10-01 12:07:43.323 INFO in 'deeppavlov.core.trainers.nn_trainer'['nn_trainer'] at line 211: Did not improve on the ner_f1 of 92.4135\n"
     ]
    },
    {
     "name": "stdout",
     "output_type": "stream",
     "text": [
      "{\"valid\": {\"eval_examples_count\": 4761, \"metrics\": {\"ner_f1\": 92.1909, \"ner_token_f1\": 93.779}, \"time_spent\": \"0:03:44\", \"epochs_done\": 4, \"batches_seen\": 310, \"train_examples_seen\": 168744, \"impatience\": 1, \"patience_limit\": 100}}\n"
     ]
    },
    {
     "name": "stderr",
     "output_type": "stream",
     "text": [
      "1it [00:00,  6.49it/s]]"
     ]
    },
    {
     "name": "stdout",
     "output_type": "stream",
     "text": [
      "{\"train\": {\"eval_examples_count\": 550, \"metrics\": {\"ner_f1\": 94.2308, \"ner_token_f1\": 98.779}, \"time_spent\": \"0:03:47\", \"epochs_done\": 4, \"batches_seen\": 320, \"train_examples_seen\": 174244, \"loss\": 0.024730734154582025}}\n"
     ]
    },
    {
     "name": "stderr",
     "output_type": "stream",
     "text": [
      "\n",
      "9it [00:01,  7.90it/s]\n",
      "2025-10-01 12:07:48.150 INFO in 'deeppavlov.core.trainers.nn_trainer'['nn_trainer'] at line 206: Improved best ner_f1 from 92.4135 to 92.5312\n",
      "2025-10-01 12:07:48.150 INFO in 'deeppavlov.core.trainers.nn_trainer'['nn_trainer'] at line 208: Saving model\n",
      "2025-10-01 12:07:48.151 INFO in 'deeppavlov.core.models.torch_model'['torch_model'] at line 175: Saving model to C:\\Users\\lexan\\OneDrive\\Documents\\hackaton_lct\\models\\model.pth.tar.\n"
     ]
    },
    {
     "name": "stdout",
     "output_type": "stream",
     "text": [
      "{\"valid\": {\"eval_examples_count\": 4761, \"metrics\": {\"ner_f1\": 92.5312, \"ner_token_f1\": 94.2586}, \"time_spent\": \"0:03:48\", \"epochs_done\": 4, \"batches_seen\": 320, \"train_examples_seen\": 174244, \"impatience\": 0, \"patience_limit\": 100}}\n"
     ]
    },
    {
     "name": "stderr",
     "output_type": "stream",
     "text": [
      "1it [00:00,  6.25it/s]]"
     ]
    },
    {
     "name": "stdout",
     "output_type": "stream",
     "text": [
      "{\"train\": {\"eval_examples_count\": 550, \"metrics\": {\"ner_f1\": 99.1453, \"ner_token_f1\": 99.1968}, \"time_spent\": \"0:03:55\", \"epochs_done\": 4, \"batches_seen\": 330, \"train_examples_seen\": 179744, \"loss\": 0.023775873146951197}}\n"
     ]
    },
    {
     "name": "stderr",
     "output_type": "stream",
     "text": [
      "\n",
      "9it [00:01,  8.28it/s]\n",
      "2025-10-01 12:07:55.439 INFO in 'deeppavlov.core.trainers.nn_trainer'['nn_trainer'] at line 211: Did not improve on the ner_f1 of 92.5312\n"
     ]
    },
    {
     "name": "stdout",
     "output_type": "stream",
     "text": [
      "{\"valid\": {\"eval_examples_count\": 4761, \"metrics\": {\"ner_f1\": 92.0587, \"ner_token_f1\": 93.8384}, \"time_spent\": \"0:03:56\", \"epochs_done\": 4, \"batches_seen\": 330, \"train_examples_seen\": 179744, \"impatience\": 1, \"patience_limit\": 100}}\n"
     ]
    },
    {
     "name": "stderr",
     "output_type": "stream",
     "text": [
      "1it [00:00,  5.72it/s]]"
     ]
    },
    {
     "name": "stdout",
     "output_type": "stream",
     "text": [
      "{\"train\": {\"eval_examples_count\": 550, \"metrics\": {\"ner_f1\": 98.9786, \"ner_token_f1\": 99.1826}, \"time_spent\": \"0:04:00\", \"epochs_done\": 4, \"batches_seen\": 340, \"train_examples_seen\": 185244, \"loss\": 0.0251077888533473}}\n"
     ]
    },
    {
     "name": "stderr",
     "output_type": "stream",
     "text": [
      "\n",
      "9it [00:01,  8.28it/s]\n",
      "2025-10-01 12:08:00.735 INFO in 'deeppavlov.core.trainers.nn_trainer'['nn_trainer'] at line 211: Did not improve on the ner_f1 of 92.5312\n"
     ]
    },
    {
     "name": "stdout",
     "output_type": "stream",
     "text": [
      "{\"valid\": {\"eval_examples_count\": 4761, \"metrics\": {\"ner_f1\": 92.3532, \"ner_token_f1\": 94.0556}, \"time_spent\": \"0:04:01\", \"epochs_done\": 4, \"batches_seen\": 340, \"train_examples_seen\": 185244, \"impatience\": 2, \"patience_limit\": 100}}\n"
     ]
    },
    {
     "name": "stderr",
     "output_type": "stream",
     "text": [
      "1it [00:00,  5.76it/s]]"
     ]
    },
    {
     "name": "stdout",
     "output_type": "stream",
     "text": [
      "{\"train\": {\"eval_examples_count\": 550, \"metrics\": {\"ner_f1\": 98.1079, \"ner_token_f1\": 99.0514}, \"time_spent\": \"0:04:05\", \"epochs_done\": 4, \"batches_seen\": 350, \"train_examples_seen\": 190744, \"loss\": 0.02247916553169489}}\n"
     ]
    },
    {
     "name": "stderr",
     "output_type": "stream",
     "text": [
      "\n",
      "9it [00:01,  7.61it/s]\n",
      "2025-10-01 12:08:06.192 INFO in 'deeppavlov.core.trainers.nn_trainer'['nn_trainer'] at line 211: Did not improve on the ner_f1 of 92.5312\n"
     ]
    },
    {
     "name": "stdout",
     "output_type": "stream",
     "text": [
      "{\"valid\": {\"eval_examples_count\": 4761, \"metrics\": {\"ner_f1\": 92.4955, \"ner_token_f1\": 94.2627}, \"time_spent\": \"0:04:06\", \"epochs_done\": 4, \"batches_seen\": 350, \"train_examples_seen\": 190744, \"impatience\": 3, \"patience_limit\": 100}}\n"
     ]
    },
    {
     "name": "stderr",
     "output_type": "stream",
     "text": [
      "1it [00:00,  6.11it/s]]"
     ]
    },
    {
     "name": "stdout",
     "output_type": "stream",
     "text": [
      "{\"train\": {\"eval_examples_count\": 550, \"metrics\": {\"ner_f1\": 98.2488, \"ner_token_f1\": 98.6502}, \"time_spent\": \"0:04:10\", \"epochs_done\": 4, \"batches_seen\": 360, \"train_examples_seen\": 196244, \"loss\": 0.023674188926815987}}\n"
     ]
    },
    {
     "name": "stderr",
     "output_type": "stream",
     "text": [
      "\n",
      "9it [00:01,  8.76it/s]\n",
      "2025-10-01 12:08:10.912 INFO in 'deeppavlov.core.trainers.nn_trainer'['nn_trainer'] at line 206: Improved best ner_f1 from 92.5312 to 93.0071\n",
      "2025-10-01 12:08:10.912 INFO in 'deeppavlov.core.trainers.nn_trainer'['nn_trainer'] at line 208: Saving model\n",
      "2025-10-01 12:08:10.913 INFO in 'deeppavlov.core.models.torch_model'['torch_model'] at line 175: Saving model to C:\\Users\\lexan\\OneDrive\\Documents\\hackaton_lct\\models\\model.pth.tar.\n"
     ]
    },
    {
     "name": "stdout",
     "output_type": "stream",
     "text": [
      "{\"valid\": {\"eval_examples_count\": 4761, \"metrics\": {\"ner_f1\": 93.0071, \"ner_token_f1\": 94.5143}, \"time_spent\": \"0:04:11\", \"epochs_done\": 4, \"batches_seen\": 360, \"train_examples_seen\": 196244, \"impatience\": 0, \"patience_limit\": 100}}\n"
     ]
    },
    {
     "name": "stderr",
     "output_type": "stream",
     "text": [
      "1it [00:00,  6.08it/s]]"
     ]
    },
    {
     "name": "stdout",
     "output_type": "stream",
     "text": [
      "{\"train\": {\"eval_examples_count\": 550, \"metrics\": {\"ner_f1\": 97.4432, \"ner_token_f1\": 98.9666}, \"time_spent\": \"0:04:18\", \"epochs_done\": 4, \"batches_seen\": 370, \"train_examples_seen\": 201744, \"loss\": 0.02415350191295147}}\n"
     ]
    },
    {
     "name": "stderr",
     "output_type": "stream",
     "text": [
      "\n",
      "9it [00:01,  8.78it/s]\n",
      "2025-10-01 12:08:18.765 INFO in 'deeppavlov.core.trainers.nn_trainer'['nn_trainer'] at line 211: Did not improve on the ner_f1 of 93.0071\n"
     ]
    },
    {
     "name": "stdout",
     "output_type": "stream",
     "text": [
      "{\"valid\": {\"eval_examples_count\": 4761, \"metrics\": {\"ner_f1\": 92.3959, \"ner_token_f1\": 94.1685}, \"time_spent\": \"0:04:19\", \"epochs_done\": 4, \"batches_seen\": 370, \"train_examples_seen\": 201744, \"impatience\": 1, \"patience_limit\": 100}}\n"
     ]
    },
    {
     "name": "stderr",
     "output_type": "stream",
     "text": [
      "1it [00:00,  6.05it/s]]"
     ]
    },
    {
     "name": "stdout",
     "output_type": "stream",
     "text": [
      "{\"train\": {\"eval_examples_count\": 550, \"metrics\": {\"ner_f1\": 98.22, \"ner_token_f1\": 98.6439}, \"time_spent\": \"0:04:23\", \"epochs_done\": 4, \"batches_seen\": 380, \"train_examples_seen\": 206805, \"loss\": 0.022021244280040264}}\n"
     ]
    },
    {
     "name": "stderr",
     "output_type": "stream",
     "text": [
      "\n",
      "9it [00:00,  9.02it/s]\n",
      "2025-10-01 12:08:24.48 INFO in 'deeppavlov.core.trainers.nn_trainer'['nn_trainer'] at line 211: Did not improve on the ner_f1 of 93.0071\n"
     ]
    },
    {
     "name": "stdout",
     "output_type": "stream",
     "text": [
      "{\"valid\": {\"eval_examples_count\": 4761, \"metrics\": {\"ner_f1\": 92.1401, \"ner_token_f1\": 93.9947}, \"time_spent\": \"0:04:24\", \"epochs_done\": 4, \"batches_seen\": 380, \"train_examples_seen\": 206805, \"impatience\": 2, \"patience_limit\": 100}}\n"
     ]
    },
    {
     "name": "stderr",
     "output_type": "stream",
     "text": [
      "76it [00:44,  1.72it/s]\n",
      "1it [00:00,  6.19it/s]"
     ]
    },
    {
     "name": "stdout",
     "output_type": "stream",
     "text": [
      "{\"train\": {\"eval_examples_count\": 550, \"metrics\": {\"ner_f1\": 94.3907, \"ner_token_f1\": 99.0902}, \"time_spent\": \"0:04:28\", \"epochs_done\": 5, \"batches_seen\": 390, \"train_examples_seen\": 212305, \"loss\": 0.019395283237099648}}\n"
     ]
    },
    {
     "name": "stderr",
     "output_type": "stream",
     "text": [
      "\n",
      "9it [00:01,  8.85it/s]\n",
      "2025-10-01 12:08:28.858 INFO in 'deeppavlov.core.trainers.nn_trainer'['nn_trainer'] at line 211: Did not improve on the ner_f1 of 93.0071\n"
     ]
    },
    {
     "name": "stdout",
     "output_type": "stream",
     "text": [
      "{\"valid\": {\"eval_examples_count\": 4761, \"metrics\": {\"ner_f1\": 92.0259, \"ner_token_f1\": 93.8356}, \"time_spent\": \"0:04:29\", \"epochs_done\": 5, \"batches_seen\": 390, \"train_examples_seen\": 212305, \"impatience\": 3, \"patience_limit\": 100}}\n"
     ]
    },
    {
     "name": "stderr",
     "output_type": "stream",
     "text": [
      "1it [00:00,  5.95it/s]]"
     ]
    },
    {
     "name": "stdout",
     "output_type": "stream",
     "text": [
      "{\"train\": {\"eval_examples_count\": 550, \"metrics\": {\"ner_f1\": 99.2785, \"ner_token_f1\": 99.4341}, \"time_spent\": \"0:04:33\", \"epochs_done\": 5, \"batches_seen\": 400, \"train_examples_seen\": 217805, \"loss\": 0.020525165647268296}}\n"
     ]
    },
    {
     "name": "stderr",
     "output_type": "stream",
     "text": [
      "\n",
      "9it [00:00,  9.01it/s]\n",
      "2025-10-01 12:08:33.594 INFO in 'deeppavlov.core.trainers.nn_trainer'['nn_trainer'] at line 211: Did not improve on the ner_f1 of 93.0071\n"
     ]
    },
    {
     "name": "stdout",
     "output_type": "stream",
     "text": [
      "{\"valid\": {\"eval_examples_count\": 4761, \"metrics\": {\"ner_f1\": 92.1655, \"ner_token_f1\": 93.8921}, \"time_spent\": \"0:04:34\", \"epochs_done\": 5, \"batches_seen\": 400, \"train_examples_seen\": 217805, \"impatience\": 4, \"patience_limit\": 100}}\n"
     ]
    },
    {
     "name": "stderr",
     "output_type": "stream",
     "text": [
      "1it [00:00,  6.17it/s]]"
     ]
    },
    {
     "name": "stdout",
     "output_type": "stream",
     "text": [
      "{\"train\": {\"eval_examples_count\": 550, \"metrics\": {\"ner_f1\": 98.1651, \"ner_token_f1\": 99.3822}, \"time_spent\": \"0:04:37\", \"epochs_done\": 5, \"batches_seen\": 410, \"train_examples_seen\": 223305, \"loss\": 0.02145858686417341}}\n"
     ]
    },
    {
     "name": "stderr",
     "output_type": "stream",
     "text": [
      "\n",
      "9it [00:01,  8.74it/s]\n",
      "2025-10-01 12:08:38.120 INFO in 'deeppavlov.core.trainers.nn_trainer'['nn_trainer'] at line 211: Did not improve on the ner_f1 of 93.0071\n"
     ]
    },
    {
     "name": "stdout",
     "output_type": "stream",
     "text": [
      "{\"valid\": {\"eval_examples_count\": 4761, \"metrics\": {\"ner_f1\": 92.0265, \"ner_token_f1\": 93.7941}, \"time_spent\": \"0:04:38\", \"epochs_done\": 5, \"batches_seen\": 410, \"train_examples_seen\": 223305, \"impatience\": 5, \"patience_limit\": 100}}\n"
     ]
    },
    {
     "name": "stderr",
     "output_type": "stream",
     "text": [
      "1it [00:00,  4.88it/s]]"
     ]
    },
    {
     "name": "stdout",
     "output_type": "stream",
     "text": [
      "{\"train\": {\"eval_examples_count\": 550, \"metrics\": {\"ner_f1\": 99.2799, \"ner_token_f1\": 99.323}, \"time_spent\": \"0:04:42\", \"epochs_done\": 5, \"batches_seen\": 420, \"train_examples_seen\": 228805, \"loss\": 0.02056955099105835}}\n"
     ]
    },
    {
     "name": "stderr",
     "output_type": "stream",
     "text": [
      "\n",
      "9it [00:01,  7.48it/s]\n",
      "2025-10-01 12:08:43.267 INFO in 'deeppavlov.core.trainers.nn_trainer'['nn_trainer'] at line 211: Did not improve on the ner_f1 of 93.0071\n"
     ]
    },
    {
     "name": "stdout",
     "output_type": "stream",
     "text": [
      "{\"valid\": {\"eval_examples_count\": 4761, \"metrics\": {\"ner_f1\": 92.5087, \"ner_token_f1\": 94.1622}, \"time_spent\": \"0:04:43\", \"epochs_done\": 5, \"batches_seen\": 420, \"train_examples_seen\": 228805, \"impatience\": 6, \"patience_limit\": 100}}\n"
     ]
    },
    {
     "name": "stderr",
     "output_type": "stream",
     "text": [
      "1it [00:00,  5.88it/s]]\n"
     ]
    },
    {
     "name": "stdout",
     "output_type": "stream",
     "text": [
      "{\"train\": {\"eval_examples_count\": 550, \"metrics\": {\"ner_f1\": 98.2957, \"ner_token_f1\": 99.1406}, \"time_spent\": \"0:04:48\", \"epochs_done\": 5, \"batches_seen\": 430, \"train_examples_seen\": 234305, \"loss\": 0.020955345407128335}}\n"
     ]
    },
    {
     "name": "stderr",
     "output_type": "stream",
     "text": [
      "9it [00:01,  8.41it/s]\n",
      "2025-10-01 12:08:48.534 INFO in 'deeppavlov.core.trainers.nn_trainer'['nn_trainer'] at line 211: Did not improve on the ner_f1 of 93.0071\n"
     ]
    },
    {
     "name": "stdout",
     "output_type": "stream",
     "text": [
      "{\"valid\": {\"eval_examples_count\": 4761, \"metrics\": {\"ner_f1\": 92.3893, \"ner_token_f1\": 94.074}, \"time_spent\": \"0:04:49\", \"epochs_done\": 5, \"batches_seen\": 430, \"train_examples_seen\": 234305, \"impatience\": 7, \"patience_limit\": 100}}\n"
     ]
    },
    {
     "name": "stderr",
     "output_type": "stream",
     "text": [
      "1it [00:00,  5.19it/s]]"
     ]
    },
    {
     "name": "stdout",
     "output_type": "stream",
     "text": [
      "{\"train\": {\"eval_examples_count\": 550, \"metrics\": {\"ner_f1\": 98.9286, \"ner_token_f1\": 99.3989}, \"time_spent\": \"0:04:53\", \"epochs_done\": 5, \"batches_seen\": 440, \"train_examples_seen\": 239805, \"loss\": 0.020395767223089934}}\n"
     ]
    },
    {
     "name": "stderr",
     "output_type": "stream",
     "text": [
      "\n",
      "9it [00:01,  7.97it/s]\n",
      "2025-10-01 12:08:54.135 INFO in 'deeppavlov.core.trainers.nn_trainer'['nn_trainer'] at line 211: Did not improve on the ner_f1 of 93.0071\n"
     ]
    },
    {
     "name": "stdout",
     "output_type": "stream",
     "text": [
      "{\"valid\": {\"eval_examples_count\": 4761, \"metrics\": {\"ner_f1\": 92.6288, \"ner_token_f1\": 94.2502}, \"time_spent\": \"0:04:54\", \"epochs_done\": 5, \"batches_seen\": 440, \"train_examples_seen\": 239805, \"impatience\": 8, \"patience_limit\": 100}}\n"
     ]
    },
    {
     "name": "stderr",
     "output_type": "stream",
     "text": [
      "1it [00:00,  4.69it/s]]"
     ]
    },
    {
     "name": "stdout",
     "output_type": "stream",
     "text": [
      "{\"train\": {\"eval_examples_count\": 550, \"metrics\": {\"ner_f1\": 99.3197, \"ner_token_f1\": 99.634}, \"time_spent\": \"0:04:58\", \"epochs_done\": 5, \"batches_seen\": 450, \"train_examples_seen\": 245305, \"loss\": 0.021185095049440862}}\n"
     ]
    },
    {
     "name": "stderr",
     "output_type": "stream",
     "text": [
      "\n",
      "9it [00:01,  7.02it/s]\n",
      "2025-10-01 12:08:59.583 INFO in 'deeppavlov.core.trainers.nn_trainer'['nn_trainer'] at line 211: Did not improve on the ner_f1 of 93.0071\n"
     ]
    },
    {
     "name": "stdout",
     "output_type": "stream",
     "text": [
      "{\"valid\": {\"eval_examples_count\": 4761, \"metrics\": {\"ner_f1\": 92.5946, \"ner_token_f1\": 94.2515}, \"time_spent\": \"0:05:00\", \"epochs_done\": 5, \"batches_seen\": 450, \"train_examples_seen\": 245305, \"impatience\": 9, \"patience_limit\": 100}}\n"
     ]
    },
    {
     "name": "stderr",
     "output_type": "stream",
     "text": [
      "76it [00:39,  1.94it/s]\n",
      "1it [00:00,  5.63it/s]"
     ]
    },
    {
     "name": "stdout",
     "output_type": "stream",
     "text": [
      "{\"train\": {\"eval_examples_count\": 550, \"metrics\": {\"ner_f1\": 99.0442, \"ner_token_f1\": 99.4681}, \"time_spent\": \"0:05:05\", \"epochs_done\": 6, \"batches_seen\": 460, \"train_examples_seen\": 250366, \"loss\": 0.01806175410747528}}\n"
     ]
    },
    {
     "name": "stderr",
     "output_type": "stream",
     "text": [
      "\n",
      "9it [00:01,  8.31it/s]\n",
      "2025-10-01 12:09:06.266 INFO in 'deeppavlov.core.trainers.nn_trainer'['nn_trainer'] at line 211: Did not improve on the ner_f1 of 93.0071\n"
     ]
    },
    {
     "name": "stdout",
     "output_type": "stream",
     "text": [
      "{\"valid\": {\"eval_examples_count\": 4761, \"metrics\": {\"ner_f1\": 92.8034, \"ner_token_f1\": 94.4629}, \"time_spent\": \"0:05:06\", \"epochs_done\": 6, \"batches_seen\": 460, \"train_examples_seen\": 250366, \"impatience\": 10, \"patience_limit\": 100}}\n"
     ]
    },
    {
     "name": "stderr",
     "output_type": "stream",
     "text": [
      "1it [00:00,  4.89it/s]]"
     ]
    },
    {
     "name": "stdout",
     "output_type": "stream",
     "text": [
      "{\"train\": {\"eval_examples_count\": 550, \"metrics\": {\"ner_f1\": 99.0201, \"ner_token_f1\": 99.2885}, \"time_spent\": \"0:05:11\", \"epochs_done\": 6, \"batches_seen\": 470, \"train_examples_seen\": 255866, \"loss\": 0.017216437961906195}}\n"
     ]
    },
    {
     "name": "stderr",
     "output_type": "stream",
     "text": [
      "\n",
      "9it [00:01,  8.70it/s]\n",
      "2025-10-01 12:09:11.479 INFO in 'deeppavlov.core.trainers.nn_trainer'['nn_trainer'] at line 211: Did not improve on the ner_f1 of 93.0071\n"
     ]
    },
    {
     "name": "stdout",
     "output_type": "stream",
     "text": [
      "{\"valid\": {\"eval_examples_count\": 4761, \"metrics\": {\"ner_f1\": 92.8105, \"ner_token_f1\": 94.4148}, \"time_spent\": \"0:05:12\", \"epochs_done\": 6, \"batches_seen\": 470, \"train_examples_seen\": 255866, \"impatience\": 11, \"patience_limit\": 100}}\n"
     ]
    },
    {
     "name": "stderr",
     "output_type": "stream",
     "text": [
      "1it [00:00,  3.36it/s]]"
     ]
    },
    {
     "name": "stdout",
     "output_type": "stream",
     "text": [
      "{\"train\": {\"eval_examples_count\": 550, \"metrics\": {\"ner_f1\": 95.8955, \"ner_token_f1\": 99.5588}, \"time_spent\": \"0:05:16\", \"epochs_done\": 6, \"batches_seen\": 480, \"train_examples_seen\": 261366, \"loss\": 0.018229555524885654}}\n"
     ]
    },
    {
     "name": "stderr",
     "output_type": "stream",
     "text": [
      "\n",
      "9it [00:01,  8.48it/s]\n",
      "2025-10-01 12:09:16.529 INFO in 'deeppavlov.core.trainers.nn_trainer'['nn_trainer'] at line 211: Did not improve on the ner_f1 of 93.0071\n"
     ]
    },
    {
     "name": "stdout",
     "output_type": "stream",
     "text": [
      "{\"valid\": {\"eval_examples_count\": 4761, \"metrics\": {\"ner_f1\": 92.7341, \"ner_token_f1\": 94.4346}, \"time_spent\": \"0:05:17\", \"epochs_done\": 6, \"batches_seen\": 480, \"train_examples_seen\": 261366, \"impatience\": 12, \"patience_limit\": 100}}\n"
     ]
    },
    {
     "name": "stderr",
     "output_type": "stream",
     "text": [
      "1it [00:00,  6.33it/s]]"
     ]
    },
    {
     "name": "stdout",
     "output_type": "stream",
     "text": [
      "{\"train\": {\"eval_examples_count\": 550, \"metrics\": {\"ner_f1\": 99.2874, \"ner_token_f1\": 99.392}, \"time_spent\": \"0:05:20\", \"epochs_done\": 6, \"batches_seen\": 490, \"train_examples_seen\": 266866, \"loss\": 0.01828978080302477}}\n"
     ]
    },
    {
     "name": "stderr",
     "output_type": "stream",
     "text": [
      "\n",
      "9it [00:01,  8.55it/s]\n",
      "2025-10-01 12:09:21.382 INFO in 'deeppavlov.core.trainers.nn_trainer'['nn_trainer'] at line 211: Did not improve on the ner_f1 of 93.0071\n"
     ]
    },
    {
     "name": "stdout",
     "output_type": "stream",
     "text": [
      "{\"valid\": {\"eval_examples_count\": 4761, \"metrics\": {\"ner_f1\": 92.6445, \"ner_token_f1\": 94.2471}, \"time_spent\": \"0:05:22\", \"epochs_done\": 6, \"batches_seen\": 490, \"train_examples_seen\": 266866, \"impatience\": 13, \"patience_limit\": 100}}\n"
     ]
    },
    {
     "name": "stderr",
     "output_type": "stream",
     "text": [
      "1it [00:00,  6.09it/s]]"
     ]
    },
    {
     "name": "stdout",
     "output_type": "stream",
     "text": [
      "{\"train\": {\"eval_examples_count\": 550, \"metrics\": {\"ner_f1\": 98.5741, \"ner_token_f1\": 99.2089}, \"time_spent\": \"0:05:26\", \"epochs_done\": 6, \"batches_seen\": 500, \"train_examples_seen\": 272366, \"loss\": 0.01581791713833809}}\n"
     ]
    },
    {
     "name": "stderr",
     "output_type": "stream",
     "text": [
      "\n",
      "9it [00:01,  8.12it/s]\n",
      "2025-10-01 12:09:27.99 INFO in 'deeppavlov.core.trainers.nn_trainer'['nn_trainer'] at line 206: Improved best ner_f1 from 93.0071 to 93.0562\n",
      "2025-10-01 12:09:27.99 INFO in 'deeppavlov.core.trainers.nn_trainer'['nn_trainer'] at line 208: Saving model\n",
      "2025-10-01 12:09:27.100 INFO in 'deeppavlov.core.models.torch_model'['torch_model'] at line 175: Saving model to C:\\Users\\lexan\\OneDrive\\Documents\\hackaton_lct\\models\\model.pth.tar.\n"
     ]
    },
    {
     "name": "stdout",
     "output_type": "stream",
     "text": [
      "{\"valid\": {\"eval_examples_count\": 4761, \"metrics\": {\"ner_f1\": 93.0562, \"ner_token_f1\": 94.5984}, \"time_spent\": \"0:05:27\", \"epochs_done\": 6, \"batches_seen\": 500, \"train_examples_seen\": 272366, \"impatience\": 0, \"patience_limit\": 100}}\n"
     ]
    },
    {
     "name": "stderr",
     "output_type": "stream",
     "text": [
      "1it [00:00,  5.94it/s]]"
     ]
    },
    {
     "name": "stdout",
     "output_type": "stream",
     "text": [
      "{\"train\": {\"eval_examples_count\": 550, \"metrics\": {\"ner_f1\": 99.0926, \"ner_token_f1\": 99.3898}, \"time_spent\": \"0:05:34\", \"epochs_done\": 6, \"batches_seen\": 510, \"train_examples_seen\": 277866, \"loss\": 0.017470711562782525}}\n"
     ]
    },
    {
     "name": "stderr",
     "output_type": "stream",
     "text": [
      "\n",
      "9it [00:01,  7.61it/s]\n",
      "2025-10-01 12:09:34.661 INFO in 'deeppavlov.core.trainers.nn_trainer'['nn_trainer'] at line 206: Improved best ner_f1 from 93.0562 to 93.2046\n",
      "2025-10-01 12:09:34.662 INFO in 'deeppavlov.core.trainers.nn_trainer'['nn_trainer'] at line 208: Saving model\n",
      "2025-10-01 12:09:34.662 INFO in 'deeppavlov.core.models.torch_model'['torch_model'] at line 175: Saving model to C:\\Users\\lexan\\OneDrive\\Documents\\hackaton_lct\\models\\model.pth.tar.\n"
     ]
    },
    {
     "name": "stdout",
     "output_type": "stream",
     "text": [
      "{\"valid\": {\"eval_examples_count\": 4761, \"metrics\": {\"ner_f1\": 93.2046, \"ner_token_f1\": 94.6809}, \"time_spent\": \"0:05:35\", \"epochs_done\": 6, \"batches_seen\": 510, \"train_examples_seen\": 277866, \"impatience\": 0, \"patience_limit\": 100}}\n"
     ]
    },
    {
     "name": "stderr",
     "output_type": "stream",
     "text": [
      "1it [00:00,  5.19it/s]]"
     ]
    },
    {
     "name": "stdout",
     "output_type": "stream",
     "text": [
      "{\"train\": {\"eval_examples_count\": 550, \"metrics\": {\"ner_f1\": 98.956, \"ner_token_f1\": 99.4721}, \"time_spent\": \"0:05:42\", \"epochs_done\": 6, \"batches_seen\": 520, \"train_examples_seen\": 283366, \"loss\": 0.01813231371343136}}\n"
     ]
    },
    {
     "name": "stderr",
     "output_type": "stream",
     "text": [
      "\n",
      "9it [00:01,  8.23it/s]\n",
      "2025-10-01 12:09:42.671 INFO in 'deeppavlov.core.trainers.nn_trainer'['nn_trainer'] at line 211: Did not improve on the ner_f1 of 93.2046\n"
     ]
    },
    {
     "name": "stdout",
     "output_type": "stream",
     "text": [
      "{\"valid\": {\"eval_examples_count\": 4761, \"metrics\": {\"ner_f1\": 92.3621, \"ner_token_f1\": 94.0929}, \"time_spent\": \"0:05:43\", \"epochs_done\": 6, \"batches_seen\": 520, \"train_examples_seen\": 283366, \"impatience\": 1, \"patience_limit\": 100}}\n"
     ]
    },
    {
     "name": "stderr",
     "output_type": "stream",
     "text": [
      "1it [00:00,  5.95it/s]]\n"
     ]
    },
    {
     "name": "stdout",
     "output_type": "stream",
     "text": [
      "{\"train\": {\"eval_examples_count\": 550, \"metrics\": {\"ner_f1\": 99.7243, \"ner_token_f1\": 99.8037}, \"time_spent\": \"0:05:47\", \"epochs_done\": 6, \"batches_seen\": 530, \"train_examples_seen\": 288866, \"loss\": 0.01862359866499901}}\n"
     ]
    },
    {
     "name": "stderr",
     "output_type": "stream",
     "text": [
      "9it [00:01,  8.57it/s]\n",
      "2025-10-01 12:09:48.345 INFO in 'deeppavlov.core.trainers.nn_trainer'['nn_trainer'] at line 211: Did not improve on the ner_f1 of 93.2046\n"
     ]
    },
    {
     "name": "stdout",
     "output_type": "stream",
     "text": [
      "{\"valid\": {\"eval_examples_count\": 4761, \"metrics\": {\"ner_f1\": 93.0503, \"ner_token_f1\": 94.5398}, \"time_spent\": \"0:05:49\", \"epochs_done\": 6, \"batches_seen\": 530, \"train_examples_seen\": 288866, \"impatience\": 2, \"patience_limit\": 100}}\n"
     ]
    },
    {
     "name": "stderr",
     "output_type": "stream",
     "text": [
      "76it [00:45,  1.67it/s]\n",
      "1it [00:00,  5.93it/s]"
     ]
    },
    {
     "name": "stdout",
     "output_type": "stream",
     "text": [
      "{\"train\": {\"eval_examples_count\": 550, \"metrics\": {\"ner_f1\": 97.492, \"ner_token_f1\": 99.6154}, \"time_spent\": \"0:05:53\", \"epochs_done\": 7, \"batches_seen\": 540, \"train_examples_seen\": 293927, \"loss\": 0.015496291592717171}}\n"
     ]
    },
    {
     "name": "stderr",
     "output_type": "stream",
     "text": [
      "\n",
      "9it [00:01,  8.03it/s]\n",
      "2025-10-01 12:09:53.680 INFO in 'deeppavlov.core.trainers.nn_trainer'['nn_trainer'] at line 211: Did not improve on the ner_f1 of 93.2046\n"
     ]
    },
    {
     "name": "stdout",
     "output_type": "stream",
     "text": [
      "{\"valid\": {\"eval_examples_count\": 4761, \"metrics\": {\"ner_f1\": 92.8833, \"ner_token_f1\": 94.4552}, \"time_spent\": \"0:05:54\", \"epochs_done\": 7, \"batches_seen\": 540, \"train_examples_seen\": 293927, \"impatience\": 3, \"patience_limit\": 100}}\n"
     ]
    },
    {
     "name": "stderr",
     "output_type": "stream",
     "text": [
      "1it [00:00,  5.07it/s]]"
     ]
    },
    {
     "name": "stdout",
     "output_type": "stream",
     "text": [
      "{\"train\": {\"eval_examples_count\": 550, \"metrics\": {\"ner_f1\": 96.3619, \"ner_token_f1\": 99.6787}, \"time_spent\": \"0:05:58\", \"epochs_done\": 7, \"batches_seen\": 550, \"train_examples_seen\": 299427, \"loss\": 0.014394327998161316}}\n"
     ]
    },
    {
     "name": "stderr",
     "output_type": "stream",
     "text": [
      "\n",
      "9it [00:01,  8.87it/s]\n",
      "2025-10-01 12:09:59.45 INFO in 'deeppavlov.core.trainers.nn_trainer'['nn_trainer'] at line 211: Did not improve on the ner_f1 of 93.2046\n"
     ]
    },
    {
     "name": "stdout",
     "output_type": "stream",
     "text": [
      "{\"valid\": {\"eval_examples_count\": 4761, \"metrics\": {\"ner_f1\": 92.0844, \"ner_token_f1\": 93.9941}, \"time_spent\": \"0:05:59\", \"epochs_done\": 7, \"batches_seen\": 550, \"train_examples_seen\": 299427, \"impatience\": 4, \"patience_limit\": 100}}\n"
     ]
    },
    {
     "name": "stderr",
     "output_type": "stream",
     "text": [
      "1it [00:00,  6.04it/s]]"
     ]
    },
    {
     "name": "stdout",
     "output_type": "stream",
     "text": [
      "{\"train\": {\"eval_examples_count\": 550, \"metrics\": {\"ner_f1\": 99.6303, \"ner_token_f1\": 99.6475}, \"time_spent\": \"0:06:03\", \"epochs_done\": 7, \"batches_seen\": 560, \"train_examples_seen\": 304927, \"loss\": 0.0134894915856421}}\n"
     ]
    },
    {
     "name": "stderr",
     "output_type": "stream",
     "text": [
      "\n",
      "9it [00:00,  9.02it/s]\n",
      "2025-10-01 12:10:03.888 INFO in 'deeppavlov.core.trainers.nn_trainer'['nn_trainer'] at line 211: Did not improve on the ner_f1 of 93.2046\n"
     ]
    },
    {
     "name": "stdout",
     "output_type": "stream",
     "text": [
      "{\"valid\": {\"eval_examples_count\": 4761, \"metrics\": {\"ner_f1\": 92.3187, \"ner_token_f1\": 93.9712}, \"time_spent\": \"0:06:04\", \"epochs_done\": 7, \"batches_seen\": 560, \"train_examples_seen\": 304927, \"impatience\": 5, \"patience_limit\": 100}}\n"
     ]
    },
    {
     "name": "stderr",
     "output_type": "stream",
     "text": [
      "1it [00:00,  6.13it/s]]"
     ]
    },
    {
     "name": "stdout",
     "output_type": "stream",
     "text": [
      "{\"train\": {\"eval_examples_count\": 550, \"metrics\": {\"ner_f1\": 96.4154, \"ner_token_f1\": 99.2242}, \"time_spent\": \"0:06:08\", \"epochs_done\": 7, \"batches_seen\": 570, \"train_examples_seen\": 310427, \"loss\": 0.01571933152154088}}\n"
     ]
    },
    {
     "name": "stderr",
     "output_type": "stream",
     "text": [
      "\n",
      "9it [00:01,  7.88it/s]\n",
      "2025-10-01 12:10:08.715 INFO in 'deeppavlov.core.trainers.nn_trainer'['nn_trainer'] at line 211: Did not improve on the ner_f1 of 93.2046\n"
     ]
    },
    {
     "name": "stdout",
     "output_type": "stream",
     "text": [
      "{\"valid\": {\"eval_examples_count\": 4761, \"metrics\": {\"ner_f1\": 92.5483, \"ner_token_f1\": 94.237}, \"time_spent\": \"0:06:09\", \"epochs_done\": 7, \"batches_seen\": 570, \"train_examples_seen\": 310427, \"impatience\": 6, \"patience_limit\": 100}}\n"
     ]
    },
    {
     "name": "stderr",
     "output_type": "stream",
     "text": [
      "1it [00:00,  6.08it/s]]"
     ]
    },
    {
     "name": "stdout",
     "output_type": "stream",
     "text": [
      "{\"train\": {\"eval_examples_count\": 550, \"metrics\": {\"ner_f1\": 99.4106, \"ner_token_f1\": 99.5453}, \"time_spent\": \"0:06:13\", \"epochs_done\": 7, \"batches_seen\": 580, \"train_examples_seen\": 315927, \"loss\": 0.01606470001861453}}\n"
     ]
    },
    {
     "name": "stderr",
     "output_type": "stream",
     "text": [
      "\n",
      "9it [00:01,  8.87it/s]\n",
      "2025-10-01 12:10:13.444 INFO in 'deeppavlov.core.trainers.nn_trainer'['nn_trainer'] at line 211: Did not improve on the ner_f1 of 93.2046\n"
     ]
    },
    {
     "name": "stdout",
     "output_type": "stream",
     "text": [
      "{\"valid\": {\"eval_examples_count\": 4761, \"metrics\": {\"ner_f1\": 93.0112, \"ner_token_f1\": 94.4879}, \"time_spent\": \"0:06:14\", \"epochs_done\": 7, \"batches_seen\": 580, \"train_examples_seen\": 315927, \"impatience\": 7, \"patience_limit\": 100}}\n"
     ]
    },
    {
     "name": "stderr",
     "output_type": "stream",
     "text": [
      "1it [00:00,  5.15it/s]]"
     ]
    },
    {
     "name": "stdout",
     "output_type": "stream",
     "text": [
      "{\"train\": {\"eval_examples_count\": 550, \"metrics\": {\"ner_f1\": 99.2352, \"ner_token_f1\": 99.4007}, \"time_spent\": \"0:06:17\", \"epochs_done\": 7, \"batches_seen\": 590, \"train_examples_seen\": 321427, \"loss\": 0.01693667462095618}}\n"
     ]
    },
    {
     "name": "stderr",
     "output_type": "stream",
     "text": [
      "\n",
      "9it [00:01,  8.96it/s]\n",
      "2025-10-01 12:10:18.237 INFO in 'deeppavlov.core.trainers.nn_trainer'['nn_trainer'] at line 211: Did not improve on the ner_f1 of 93.2046\n"
     ]
    },
    {
     "name": "stdout",
     "output_type": "stream",
     "text": [
      "{\"valid\": {\"eval_examples_count\": 4761, \"metrics\": {\"ner_f1\": 91.7274, \"ner_token_f1\": 93.4574}, \"time_spent\": \"0:06:18\", \"epochs_done\": 7, \"batches_seen\": 590, \"train_examples_seen\": 321427, \"impatience\": 8, \"patience_limit\": 100}}\n"
     ]
    },
    {
     "name": "stderr",
     "output_type": "stream",
     "text": [
      "1it [00:00,  5.17it/s]]"
     ]
    },
    {
     "name": "stdout",
     "output_type": "stream",
     "text": [
      "{\"train\": {\"eval_examples_count\": 550, \"metrics\": {\"ner_f1\": 99.2488, \"ner_token_f1\": 99.4501}, \"time_spent\": \"0:06:22\", \"epochs_done\": 7, \"batches_seen\": 600, \"train_examples_seen\": 326927, \"loss\": 0.016534795332700015}}\n"
     ]
    },
    {
     "name": "stderr",
     "output_type": "stream",
     "text": [
      "\n",
      "9it [00:01,  8.05it/s]\n",
      "2025-10-01 12:10:23.34 INFO in 'deeppavlov.core.trainers.nn_trainer'['nn_trainer'] at line 211: Did not improve on the ner_f1 of 93.2046\n"
     ]
    },
    {
     "name": "stdout",
     "output_type": "stream",
     "text": [
      "{\"valid\": {\"eval_examples_count\": 4761, \"metrics\": {\"ner_f1\": 92.7983, \"ner_token_f1\": 94.299}, \"time_spent\": \"0:06:23\", \"epochs_done\": 7, \"batches_seen\": 600, \"train_examples_seen\": 326927, \"impatience\": 9, \"patience_limit\": 100}}\n"
     ]
    },
    {
     "name": "stderr",
     "output_type": "stream",
     "text": [
      "76it [00:36,  2.06it/s]\n",
      "1it [00:00,  5.92it/s]"
     ]
    },
    {
     "name": "stdout",
     "output_type": "stream",
     "text": [
      "{\"train\": {\"eval_examples_count\": 550, \"metrics\": {\"ner_f1\": 97.9116, \"ner_token_f1\": 99.0058}, \"time_spent\": \"0:06:27\", \"epochs_done\": 8, \"batches_seen\": 610, \"train_examples_seen\": 331988, \"loss\": 0.014961621724069118}}\n"
     ]
    },
    {
     "name": "stderr",
     "output_type": "stream",
     "text": [
      "\n",
      "9it [00:01,  8.94it/s]\n",
      "2025-10-01 12:10:27.672 INFO in 'deeppavlov.core.trainers.nn_trainer'['nn_trainer'] at line 211: Did not improve on the ner_f1 of 93.2046\n"
     ]
    },
    {
     "name": "stdout",
     "output_type": "stream",
     "text": [
      "{\"valid\": {\"eval_examples_count\": 4761, \"metrics\": {\"ner_f1\": 92.4238, \"ner_token_f1\": 94.0482}, \"time_spent\": \"0:06:28\", \"epochs_done\": 8, \"batches_seen\": 610, \"train_examples_seen\": 331988, \"impatience\": 10, \"patience_limit\": 100}}\n"
     ]
    },
    {
     "name": "stderr",
     "output_type": "stream",
     "text": [
      "1it [00:00,  5.09it/s]]"
     ]
    },
    {
     "name": "stdout",
     "output_type": "stream",
     "text": [
      "{\"train\": {\"eval_examples_count\": 550, \"metrics\": {\"ner_f1\": 99.0536, \"ner_token_f1\": 99.4237}, \"time_spent\": \"0:06:32\", \"epochs_done\": 8, \"batches_seen\": 620, \"train_examples_seen\": 337488, \"loss\": 0.012953599728643895}}\n"
     ]
    },
    {
     "name": "stderr",
     "output_type": "stream",
     "text": [
      "\n",
      "9it [00:01,  8.94it/s]\n",
      "2025-10-01 12:10:32.451 INFO in 'deeppavlov.core.trainers.nn_trainer'['nn_trainer'] at line 211: Did not improve on the ner_f1 of 93.2046\n"
     ]
    },
    {
     "name": "stdout",
     "output_type": "stream",
     "text": [
      "{\"valid\": {\"eval_examples_count\": 4761, \"metrics\": {\"ner_f1\": 92.913, \"ner_token_f1\": 94.4531}, \"time_spent\": \"0:06:33\", \"epochs_done\": 8, \"batches_seen\": 620, \"train_examples_seen\": 337488, \"impatience\": 11, \"patience_limit\": 100}}\n"
     ]
    },
    {
     "name": "stderr",
     "output_type": "stream",
     "text": [
      "1it [00:00,  5.10it/s]]"
     ]
    },
    {
     "name": "stdout",
     "output_type": "stream",
     "text": [
      "{\"train\": {\"eval_examples_count\": 550, \"metrics\": {\"ner_f1\": 99.5413, \"ner_token_f1\": 99.6534}, \"time_spent\": \"0:06:37\", \"epochs_done\": 8, \"batches_seen\": 630, \"train_examples_seen\": 342988, \"loss\": 0.01363372141495347}}\n"
     ]
    },
    {
     "name": "stderr",
     "output_type": "stream",
     "text": [
      "\n",
      "9it [00:01,  7.61it/s]\n",
      "2025-10-01 12:10:37.743 INFO in 'deeppavlov.core.trainers.nn_trainer'['nn_trainer'] at line 211: Did not improve on the ner_f1 of 93.2046\n"
     ]
    },
    {
     "name": "stdout",
     "output_type": "stream",
     "text": [
      "{\"valid\": {\"eval_examples_count\": 4761, \"metrics\": {\"ner_f1\": 92.9479, \"ner_token_f1\": 94.5365}, \"time_spent\": \"0:06:38\", \"epochs_done\": 8, \"batches_seen\": 630, \"train_examples_seen\": 342988, \"impatience\": 12, \"patience_limit\": 100}}\n"
     ]
    },
    {
     "name": "stderr",
     "output_type": "stream",
     "text": [
      "1it [00:00,  5.41it/s]]\n"
     ]
    },
    {
     "name": "stdout",
     "output_type": "stream",
     "text": [
      "{\"train\": {\"eval_examples_count\": 550, \"metrics\": {\"ner_f1\": 99.2213, \"ner_token_f1\": 99.618}, \"time_spent\": \"0:06:42\", \"epochs_done\": 8, \"batches_seen\": 640, \"train_examples_seen\": 348488, \"loss\": 0.016055430006235837}}\n"
     ]
    },
    {
     "name": "stderr",
     "output_type": "stream",
     "text": [
      "9it [00:01,  8.51it/s]\n",
      "2025-10-01 12:10:43.95 INFO in 'deeppavlov.core.trainers.nn_trainer'['nn_trainer'] at line 211: Did not improve on the ner_f1 of 93.2046\n"
     ]
    },
    {
     "name": "stdout",
     "output_type": "stream",
     "text": [
      "{\"valid\": {\"eval_examples_count\": 4761, \"metrics\": {\"ner_f1\": 93.1031, \"ner_token_f1\": 94.6451}, \"time_spent\": \"0:06:43\", \"epochs_done\": 8, \"batches_seen\": 640, \"train_examples_seen\": 348488, \"impatience\": 13, \"patience_limit\": 100}}\n"
     ]
    },
    {
     "name": "stderr",
     "output_type": "stream",
     "text": [
      "1it [00:00,  5.63it/s]]"
     ]
    },
    {
     "name": "stdout",
     "output_type": "stream",
     "text": [
      "{\"train\": {\"eval_examples_count\": 550, \"metrics\": {\"ner_f1\": 98.5668, \"ner_token_f1\": 99.8058}, \"time_spent\": \"0:06:48\", \"epochs_done\": 8, \"batches_seen\": 650, \"train_examples_seen\": 353988, \"loss\": 0.013661285489797592}}\n"
     ]
    },
    {
     "name": "stderr",
     "output_type": "stream",
     "text": [
      "\n",
      "9it [00:01,  8.29it/s]\n",
      "2025-10-01 12:10:48.573 INFO in 'deeppavlov.core.trainers.nn_trainer'['nn_trainer'] at line 211: Did not improve on the ner_f1 of 93.2046\n"
     ]
    },
    {
     "name": "stdout",
     "output_type": "stream",
     "text": [
      "{\"valid\": {\"eval_examples_count\": 4761, \"metrics\": {\"ner_f1\": 93.0976, \"ner_token_f1\": 94.6478}, \"time_spent\": \"0:06:49\", \"epochs_done\": 8, \"batches_seen\": 650, \"train_examples_seen\": 353988, \"impatience\": 14, \"patience_limit\": 100}}\n"
     ]
    },
    {
     "name": "stderr",
     "output_type": "stream",
     "text": [
      "1it [00:00,  3.03it/s]]"
     ]
    },
    {
     "name": "stdout",
     "output_type": "stream",
     "text": [
      "{\"train\": {\"eval_examples_count\": 550, \"metrics\": {\"ner_f1\": 99.1565, \"ner_token_f1\": 99.6066}, \"time_spent\": \"0:06:59\", \"epochs_done\": 8, \"batches_seen\": 660, \"train_examples_seen\": 359488, \"loss\": 0.012709764949977397}}\n"
     ]
    },
    {
     "name": "stderr",
     "output_type": "stream",
     "text": [
      "\n",
      "9it [00:02,  4.10it/s]\n",
      "2025-10-01 12:11:01.328 INFO in 'deeppavlov.core.trainers.nn_trainer'['nn_trainer'] at line 211: Did not improve on the ner_f1 of 93.2046\n"
     ]
    },
    {
     "name": "stdout",
     "output_type": "stream",
     "text": [
      "{\"valid\": {\"eval_examples_count\": 4761, \"metrics\": {\"ner_f1\": 92.7251, \"ner_token_f1\": 94.3681}, \"time_spent\": \"0:07:02\", \"epochs_done\": 8, \"batches_seen\": 660, \"train_examples_seen\": 359488, \"impatience\": 15, \"patience_limit\": 100}}\n"
     ]
    },
    {
     "name": "stderr",
     "output_type": "stream",
     "text": [
      "1it [00:00,  4.57it/s]]"
     ]
    },
    {
     "name": "stdout",
     "output_type": "stream",
     "text": [
      "{\"train\": {\"eval_examples_count\": 550, \"metrics\": {\"ner_f1\": 100.0, \"ner_token_f1\": 100.0}, \"time_spent\": \"0:07:07\", \"epochs_done\": 8, \"batches_seen\": 670, \"train_examples_seen\": 364988, \"loss\": 0.01221230234950781}}\n"
     ]
    },
    {
     "name": "stderr",
     "output_type": "stream",
     "text": [
      "\n",
      "9it [00:01,  7.86it/s]\n",
      "2025-10-01 12:11:07.913 INFO in 'deeppavlov.core.trainers.nn_trainer'['nn_trainer'] at line 211: Did not improve on the ner_f1 of 93.2046\n"
     ]
    },
    {
     "name": "stdout",
     "output_type": "stream",
     "text": [
      "{\"valid\": {\"eval_examples_count\": 4761, \"metrics\": {\"ner_f1\": 93.05, \"ner_token_f1\": 94.5686}, \"time_spent\": \"0:07:08\", \"epochs_done\": 8, \"batches_seen\": 670, \"train_examples_seen\": 364988, \"impatience\": 16, \"patience_limit\": 100}}\n"
     ]
    },
    {
     "name": "stderr",
     "output_type": "stream",
     "text": [
      "1it [00:00,  5.57it/s]]\n"
     ]
    },
    {
     "name": "stdout",
     "output_type": "stream",
     "text": [
      "{\"train\": {\"eval_examples_count\": 550, \"metrics\": {\"ner_f1\": 95.7983, \"ner_token_f1\": 99.719}, \"time_spent\": \"0:07:13\", \"epochs_done\": 8, \"batches_seen\": 680, \"train_examples_seen\": 370488, \"loss\": 0.014460714906454087}}\n"
     ]
    },
    {
     "name": "stderr",
     "output_type": "stream",
     "text": [
      "9it [00:01,  7.83it/s]\n",
      "2025-10-01 12:11:13.507 INFO in 'deeppavlov.core.trainers.nn_trainer'['nn_trainer'] at line 211: Did not improve on the ner_f1 of 93.2046\n"
     ]
    },
    {
     "name": "stdout",
     "output_type": "stream",
     "text": [
      "{\"valid\": {\"eval_examples_count\": 4761, \"metrics\": {\"ner_f1\": 93.0905, \"ner_token_f1\": 94.7173}, \"time_spent\": \"0:07:14\", \"epochs_done\": 8, \"batches_seen\": 680, \"train_examples_seen\": 370488, \"impatience\": 17, \"patience_limit\": 100}}\n"
     ]
    },
    {
     "name": "stderr",
     "output_type": "stream",
     "text": [
      "76it [00:49,  1.54it/s]\n",
      "1it [00:00,  5.57it/s]\n"
     ]
    },
    {
     "name": "stdout",
     "output_type": "stream",
     "text": [
      "{\"train\": {\"eval_examples_count\": 550, \"metrics\": {\"ner_f1\": 99.8569, \"ner_token_f1\": 99.9194}, \"time_spent\": \"0:07:18\", \"epochs_done\": 9, \"batches_seen\": 690, \"train_examples_seen\": 375549, \"loss\": 0.011872432753443718}}\n"
     ]
    },
    {
     "name": "stderr",
     "output_type": "stream",
     "text": [
      "9it [00:01,  7.75it/s]\n",
      "2025-10-01 12:11:18.892 INFO in 'deeppavlov.core.trainers.nn_trainer'['nn_trainer'] at line 211: Did not improve on the ner_f1 of 93.2046\n"
     ]
    },
    {
     "name": "stdout",
     "output_type": "stream",
     "text": [
      "{\"valid\": {\"eval_examples_count\": 4761, \"metrics\": {\"ner_f1\": 93.1851, \"ner_token_f1\": 94.6799}, \"time_spent\": \"0:07:19\", \"epochs_done\": 9, \"batches_seen\": 690, \"train_examples_seen\": 375549, \"impatience\": 18, \"patience_limit\": 100}}\n"
     ]
    },
    {
     "name": "stderr",
     "output_type": "stream",
     "text": [
      "1it [00:00,  3.18it/s]]"
     ]
    },
    {
     "name": "stdout",
     "output_type": "stream",
     "text": [
      "{\"train\": {\"eval_examples_count\": 550, \"metrics\": {\"ner_f1\": 96.0183, \"ner_token_f1\": 99.9218}, \"time_spent\": \"0:07:24\", \"epochs_done\": 9, \"batches_seen\": 700, \"train_examples_seen\": 381049, \"loss\": 0.011196399666368961}}\n"
     ]
    },
    {
     "name": "stderr",
     "output_type": "stream",
     "text": [
      "\n",
      "9it [00:01,  5.41it/s]\n",
      "2025-10-01 12:11:25.620 INFO in 'deeppavlov.core.trainers.nn_trainer'['nn_trainer'] at line 211: Did not improve on the ner_f1 of 93.2046\n"
     ]
    },
    {
     "name": "stdout",
     "output_type": "stream",
     "text": [
      "{\"valid\": {\"eval_examples_count\": 4761, \"metrics\": {\"ner_f1\": 92.795, \"ner_token_f1\": 94.4526}, \"time_spent\": \"0:07:26\", \"epochs_done\": 9, \"batches_seen\": 700, \"train_examples_seen\": 381049, \"impatience\": 19, \"patience_limit\": 100}}\n"
     ]
    },
    {
     "name": "stderr",
     "output_type": "stream",
     "text": [
      "1it [00:00,  2.68it/s]]"
     ]
    },
    {
     "name": "stdout",
     "output_type": "stream",
     "text": [
      "{\"train\": {\"eval_examples_count\": 550, \"metrics\": {\"ner_f1\": 99.3723, \"ner_token_f1\": 99.637}, \"time_spent\": \"0:07:37\", \"epochs_done\": 9, \"batches_seen\": 710, \"train_examples_seen\": 386549, \"loss\": 0.012101446278393269}}\n"
     ]
    },
    {
     "name": "stderr",
     "output_type": "stream",
     "text": [
      "\n",
      "9it [00:01,  5.72it/s]\n",
      "2025-10-01 12:11:38.626 INFO in 'deeppavlov.core.trainers.nn_trainer'['nn_trainer'] at line 211: Did not improve on the ner_f1 of 93.2046\n",
      "2025-10-01 12:11:38.626 INFO in 'deeppavlov.core.models.torch_model'['torch_model'] at line 206: ----------Current LR is decreased in 1.5 times----------\n"
     ]
    },
    {
     "name": "stdout",
     "output_type": "stream",
     "text": [
      "{\"valid\": {\"eval_examples_count\": 4761, \"metrics\": {\"ner_f1\": 92.836, \"ner_token_f1\": 94.3425}, \"time_spent\": \"0:07:39\", \"epochs_done\": 9, \"batches_seen\": 710, \"train_examples_seen\": 386549, \"impatience\": 20, \"patience_limit\": 100}}\n"
     ]
    },
    {
     "name": "stderr",
     "output_type": "stream",
     "text": [
      "1it [00:00,  5.39it/s]]"
     ]
    },
    {
     "name": "stdout",
     "output_type": "stream",
     "text": [
      "{\"train\": {\"eval_examples_count\": 550, \"metrics\": {\"ner_f1\": 96.6031, \"ner_token_f1\": 99.6057}, \"time_spent\": \"0:07:46\", \"epochs_done\": 9, \"batches_seen\": 720, \"train_examples_seen\": 392049, \"loss\": 0.010853224899619818}}\n"
     ]
    },
    {
     "name": "stderr",
     "output_type": "stream",
     "text": [
      "\n",
      "9it [00:01,  7.71it/s]\n",
      "2025-10-01 12:11:47.311 INFO in 'deeppavlov.core.trainers.nn_trainer'['nn_trainer'] at line 211: Did not improve on the ner_f1 of 93.2046\n"
     ]
    },
    {
     "name": "stdout",
     "output_type": "stream",
     "text": [
      "{\"valid\": {\"eval_examples_count\": 4761, \"metrics\": {\"ner_f1\": 92.5572, \"ner_token_f1\": 94.1983}, \"time_spent\": \"0:07:48\", \"epochs_done\": 9, \"batches_seen\": 720, \"train_examples_seen\": 392049, \"impatience\": 21, \"patience_limit\": 100}}\n"
     ]
    },
    {
     "name": "stderr",
     "output_type": "stream",
     "text": [
      "1it [00:00,  5.65it/s]]\n"
     ]
    },
    {
     "name": "stdout",
     "output_type": "stream",
     "text": [
      "{\"train\": {\"eval_examples_count\": 550, \"metrics\": {\"ner_f1\": 99.3488, \"ner_token_f1\": 99.7254}, \"time_spent\": \"0:07:55\", \"epochs_done\": 9, \"batches_seen\": 730, \"train_examples_seen\": 397549, \"loss\": 0.014856025483459235}}\n"
     ]
    },
    {
     "name": "stderr",
     "output_type": "stream",
     "text": [
      "9it [00:01,  7.15it/s]\n",
      "2025-10-01 12:11:56.480 INFO in 'deeppavlov.core.trainers.nn_trainer'['nn_trainer'] at line 211: Did not improve on the ner_f1 of 93.2046\n"
     ]
    },
    {
     "name": "stdout",
     "output_type": "stream",
     "text": [
      "{\"valid\": {\"eval_examples_count\": 4761, \"metrics\": {\"ner_f1\": 92.8591, \"ner_token_f1\": 94.3839}, \"time_spent\": \"0:07:57\", \"epochs_done\": 9, \"batches_seen\": 730, \"train_examples_seen\": 397549, \"impatience\": 22, \"patience_limit\": 100}}\n"
     ]
    },
    {
     "name": "stderr",
     "output_type": "stream",
     "text": [
      "1it [00:00,  5.82it/s]]\n"
     ]
    },
    {
     "name": "stdout",
     "output_type": "stream",
     "text": [
      "{\"train\": {\"eval_examples_count\": 550, \"metrics\": {\"ner_f1\": 99.0164, \"ner_token_f1\": 99.2817}, \"time_spent\": \"0:08:04\", \"epochs_done\": 9, \"batches_seen\": 740, \"train_examples_seen\": 403049, \"loss\": 0.014704914949834346}}\n"
     ]
    },
    {
     "name": "stderr",
     "output_type": "stream",
     "text": [
      "9it [00:01,  8.09it/s]\n",
      "2025-10-01 12:12:04.557 INFO in 'deeppavlov.core.trainers.nn_trainer'['nn_trainer'] at line 206: Improved best ner_f1 from 93.2046 to 93.2843\n",
      "2025-10-01 12:12:04.558 INFO in 'deeppavlov.core.trainers.nn_trainer'['nn_trainer'] at line 208: Saving model\n",
      "2025-10-01 12:12:04.559 INFO in 'deeppavlov.core.models.torch_model'['torch_model'] at line 175: Saving model to C:\\Users\\lexan\\OneDrive\\Documents\\hackaton_lct\\models\\model.pth.tar.\n"
     ]
    },
    {
     "name": "stdout",
     "output_type": "stream",
     "text": [
      "{\"valid\": {\"eval_examples_count\": 4761, \"metrics\": {\"ner_f1\": 93.2843, \"ner_token_f1\": 94.7687}, \"time_spent\": \"0:08:05\", \"epochs_done\": 9, \"batches_seen\": 740, \"train_examples_seen\": 403049, \"impatience\": 0, \"patience_limit\": 100}}\n"
     ]
    },
    {
     "name": "stderr",
     "output_type": "stream",
     "text": [
      "1it [00:00,  4.66it/s]]"
     ]
    },
    {
     "name": "stdout",
     "output_type": "stream",
     "text": [
      "{\"train\": {\"eval_examples_count\": 550, \"metrics\": {\"ner_f1\": 97.0856, \"ner_token_f1\": 99.7339}, \"time_spent\": \"0:08:15\", \"epochs_done\": 9, \"batches_seen\": 750, \"train_examples_seen\": 408549, \"loss\": 0.015013786032795906}}\n"
     ]
    },
    {
     "name": "stderr",
     "output_type": "stream",
     "text": [
      "\n",
      "9it [00:01,  7.84it/s]\n",
      "2025-10-01 12:12:16.436 INFO in 'deeppavlov.core.trainers.nn_trainer'['nn_trainer'] at line 211: Did not improve on the ner_f1 of 93.2843\n"
     ]
    },
    {
     "name": "stdout",
     "output_type": "stream",
     "text": [
      "{\"valid\": {\"eval_examples_count\": 4761, \"metrics\": {\"ner_f1\": 92.2814, \"ner_token_f1\": 94.0084}, \"time_spent\": \"0:08:17\", \"epochs_done\": 9, \"batches_seen\": 750, \"train_examples_seen\": 408549, \"impatience\": 1, \"patience_limit\": 100}}\n"
     ]
    },
    {
     "name": "stderr",
     "output_type": "stream",
     "text": [
      "1it [00:00,  2.98it/s]]"
     ]
    },
    {
     "name": "stdout",
     "output_type": "stream",
     "text": [
      "{\"train\": {\"eval_examples_count\": 550, \"metrics\": {\"ner_f1\": 98.5624, \"ner_token_f1\": 99.6979}, \"time_spent\": \"0:08:24\", \"epochs_done\": 9, \"batches_seen\": 760, \"train_examples_seen\": 413610, \"loss\": 0.01564702820032835}}\n"
     ]
    },
    {
     "name": "stderr",
     "output_type": "stream",
     "text": [
      "\n",
      "9it [00:01,  8.03it/s]\n",
      "2025-10-01 12:12:24.612 INFO in 'deeppavlov.core.trainers.nn_trainer'['nn_trainer'] at line 211: Did not improve on the ner_f1 of 93.2843\n"
     ]
    },
    {
     "name": "stdout",
     "output_type": "stream",
     "text": [
      "{\"valid\": {\"eval_examples_count\": 4761, \"metrics\": {\"ner_f1\": 92.795, \"ner_token_f1\": 94.325}, \"time_spent\": \"0:08:25\", \"epochs_done\": 9, \"batches_seen\": 760, \"train_examples_seen\": 413610, \"impatience\": 2, \"patience_limit\": 100}}\n"
     ]
    },
    {
     "name": "stderr",
     "output_type": "stream",
     "text": [
      "76it [01:09,  1.09it/s]\n",
      "1it [00:00,  5.33it/s]"
     ]
    },
    {
     "name": "stdout",
     "output_type": "stream",
     "text": [
      "{\"train\": {\"eval_examples_count\": 550, \"metrics\": {\"ner_f1\": 99.1613, \"ner_token_f1\": 99.5819}, \"time_spent\": \"0:08:32\", \"epochs_done\": 10, \"batches_seen\": 770, \"train_examples_seen\": 419110, \"loss\": 0.014943714626133442}}\n"
     ]
    },
    {
     "name": "stderr",
     "output_type": "stream",
     "text": [
      "\n",
      "9it [00:01,  7.76it/s]\n",
      "2025-10-01 12:12:33.166 INFO in 'deeppavlov.core.trainers.nn_trainer'['nn_trainer'] at line 211: Did not improve on the ner_f1 of 93.2843\n"
     ]
    },
    {
     "name": "stdout",
     "output_type": "stream",
     "text": [
      "{\"valid\": {\"eval_examples_count\": 4761, \"metrics\": {\"ner_f1\": 92.6475, \"ner_token_f1\": 94.2288}, \"time_spent\": \"0:08:33\", \"epochs_done\": 10, \"batches_seen\": 770, \"train_examples_seen\": 419110, \"impatience\": 3, \"patience_limit\": 100}}\n"
     ]
    },
    {
     "name": "stderr",
     "output_type": "stream",
     "text": [
      "1it [00:00,  2.82it/s]]"
     ]
    },
    {
     "name": "stdout",
     "output_type": "stream",
     "text": [
      "{\"train\": {\"eval_examples_count\": 550, \"metrics\": {\"ner_f1\": 99.0663, \"ner_token_f1\": 99.3267}, \"time_spent\": \"0:08:42\", \"epochs_done\": 10, \"batches_seen\": 780, \"train_examples_seen\": 424610, \"loss\": 0.014090494997799397}}\n"
     ]
    },
    {
     "name": "stderr",
     "output_type": "stream",
     "text": [
      "\n",
      "9it [00:02,  3.73it/s]\n",
      "2025-10-01 12:12:43.911 INFO in 'deeppavlov.core.trainers.nn_trainer'['nn_trainer'] at line 211: Did not improve on the ner_f1 of 93.2843\n"
     ]
    },
    {
     "name": "stdout",
     "output_type": "stream",
     "text": [
      "{\"valid\": {\"eval_examples_count\": 4761, \"metrics\": {\"ner_f1\": 92.8277, \"ner_token_f1\": 94.4315}, \"time_spent\": \"0:08:44\", \"epochs_done\": 10, \"batches_seen\": 780, \"train_examples_seen\": 424610, \"impatience\": 4, \"patience_limit\": 100}}\n"
     ]
    },
    {
     "name": "stderr",
     "output_type": "stream",
     "text": [
      "1it [00:00,  4.77it/s]]"
     ]
    },
    {
     "name": "stdout",
     "output_type": "stream",
     "text": [
      "{\"train\": {\"eval_examples_count\": 550, \"metrics\": {\"ner_f1\": 95.5998, \"ner_token_f1\": 99.6833}, \"time_spent\": \"0:09:01\", \"epochs_done\": 10, \"batches_seen\": 790, \"train_examples_seen\": 430110, \"loss\": 0.013854904007166624}}\n"
     ]
    },
    {
     "name": "stderr",
     "output_type": "stream",
     "text": [
      "\n",
      "9it [00:01,  8.08it/s]\n",
      "2025-10-01 12:13:02.418 INFO in 'deeppavlov.core.trainers.nn_trainer'['nn_trainer'] at line 211: Did not improve on the ner_f1 of 93.2843\n"
     ]
    },
    {
     "name": "stdout",
     "output_type": "stream",
     "text": [
      "{\"valid\": {\"eval_examples_count\": 4761, \"metrics\": {\"ner_f1\": 92.8648, \"ner_token_f1\": 94.5}, \"time_spent\": \"0:09:03\", \"epochs_done\": 10, \"batches_seen\": 790, \"train_examples_seen\": 430110, \"impatience\": 5, \"patience_limit\": 100}}\n"
     ]
    },
    {
     "name": "stderr",
     "output_type": "stream",
     "text": [
      "1it [00:00,  5.41it/s]]"
     ]
    },
    {
     "name": "stdout",
     "output_type": "stream",
     "text": [
      "{\"train\": {\"eval_examples_count\": 550, \"metrics\": {\"ner_f1\": 99.339, \"ner_token_f1\": 99.6858}, \"time_spent\": \"0:09:10\", \"epochs_done\": 10, \"batches_seen\": 800, \"train_examples_seen\": 435610, \"loss\": 0.013728065695613623}}\n"
     ]
    },
    {
     "name": "stderr",
     "output_type": "stream",
     "text": [
      "\n",
      "9it [00:01,  7.74it/s]\n",
      "2025-10-01 12:13:10.586 INFO in 'deeppavlov.core.trainers.nn_trainer'['nn_trainer'] at line 211: Did not improve on the ner_f1 of 93.2843\n"
     ]
    },
    {
     "name": "stdout",
     "output_type": "stream",
     "text": [
      "{\"valid\": {\"eval_examples_count\": 4761, \"metrics\": {\"ner_f1\": 92.7217, \"ner_token_f1\": 94.244}, \"time_spent\": \"0:09:11\", \"epochs_done\": 10, \"batches_seen\": 800, \"train_examples_seen\": 435610, \"impatience\": 6, \"patience_limit\": 100}}\n"
     ]
    },
    {
     "name": "stderr",
     "output_type": "stream",
     "text": [
      "1it [00:00,  4.83it/s]]"
     ]
    },
    {
     "name": "stdout",
     "output_type": "stream",
     "text": [
      "{\"train\": {\"eval_examples_count\": 550, \"metrics\": {\"ner_f1\": 97.8371, \"ner_token_f1\": 99.8092}, \"time_spent\": \"0:09:18\", \"epochs_done\": 10, \"batches_seen\": 810, \"train_examples_seen\": 441110, \"loss\": 0.015392365958541631}}\n"
     ]
    },
    {
     "name": "stderr",
     "output_type": "stream",
     "text": [
      "\n",
      "9it [00:01,  7.22it/s]\n",
      "2025-10-01 12:13:18.833 INFO in 'deeppavlov.core.trainers.nn_trainer'['nn_trainer'] at line 211: Did not improve on the ner_f1 of 93.2843\n"
     ]
    },
    {
     "name": "stdout",
     "output_type": "stream",
     "text": [
      "{\"valid\": {\"eval_examples_count\": 4761, \"metrics\": {\"ner_f1\": 92.2703, \"ner_token_f1\": 94.0344}, \"time_spent\": \"0:09:19\", \"epochs_done\": 10, \"batches_seen\": 810, \"train_examples_seen\": 441110, \"impatience\": 7, \"patience_limit\": 100}}\n"
     ]
    },
    {
     "name": "stderr",
     "output_type": "stream",
     "text": [
      "1it [00:00,  5.01it/s]]"
     ]
    },
    {
     "name": "stdout",
     "output_type": "stream",
     "text": [
      "{\"train\": {\"eval_examples_count\": 550, \"metrics\": {\"ner_f1\": 99.5438, \"ner_token_f1\": 99.6914}, \"time_spent\": \"0:09:27\", \"epochs_done\": 10, \"batches_seen\": 820, \"train_examples_seen\": 446610, \"loss\": 0.0131496986374259}}\n"
     ]
    },
    {
     "name": "stderr",
     "output_type": "stream",
     "text": [
      "\n",
      "9it [00:01,  7.90it/s]\n",
      "2025-10-01 12:13:27.756 INFO in 'deeppavlov.core.trainers.nn_trainer'['nn_trainer'] at line 211: Did not improve on the ner_f1 of 93.2843\n"
     ]
    },
    {
     "name": "stdout",
     "output_type": "stream",
     "text": [
      "{\"valid\": {\"eval_examples_count\": 4761, \"metrics\": {\"ner_f1\": 93.0358, \"ner_token_f1\": 94.552}, \"time_spent\": \"0:09:28\", \"epochs_done\": 10, \"batches_seen\": 820, \"train_examples_seen\": 446610, \"impatience\": 8, \"patience_limit\": 100}}\n"
     ]
    },
    {
     "name": "stderr",
     "output_type": "stream",
     "text": [
      "1it [00:00,  4.58it/s]]"
     ]
    },
    {
     "name": "stdout",
     "output_type": "stream",
     "text": [
      "{\"train\": {\"eval_examples_count\": 550, \"metrics\": {\"ner_f1\": 99.7691, \"ner_token_f1\": 99.8426}, \"time_spent\": \"0:09:35\", \"epochs_done\": 10, \"batches_seen\": 830, \"train_examples_seen\": 452110, \"loss\": 0.014384765923023225}}\n"
     ]
    },
    {
     "name": "stderr",
     "output_type": "stream",
     "text": [
      "\n",
      "9it [00:01,  7.53it/s]\n",
      "2025-10-01 12:13:35.908 INFO in 'deeppavlov.core.trainers.nn_trainer'['nn_trainer'] at line 211: Did not improve on the ner_f1 of 93.2843\n"
     ]
    },
    {
     "name": "stdout",
     "output_type": "stream",
     "text": [
      "{\"valid\": {\"eval_examples_count\": 4761, \"metrics\": {\"ner_f1\": 92.9965, \"ner_token_f1\": 94.6252}, \"time_spent\": \"0:09:36\", \"epochs_done\": 10, \"batches_seen\": 830, \"train_examples_seen\": 452110, \"impatience\": 9, \"patience_limit\": 100}}\n"
     ]
    },
    {
     "name": "stderr",
     "output_type": "stream",
     "text": [
      "76it [01:15,  1.01it/s]\n",
      "1it [00:00,  4.98it/s]"
     ]
    },
    {
     "name": "stdout",
     "output_type": "stream",
     "text": [
      "{\"train\": {\"eval_examples_count\": 550, \"metrics\": {\"ner_f1\": 99.6697, \"ner_token_f1\": 99.719}, \"time_spent\": \"0:09:43\", \"epochs_done\": 11, \"batches_seen\": 840, \"train_examples_seen\": 457171, \"loss\": 0.013029324635863305}}\n"
     ]
    },
    {
     "name": "stderr",
     "output_type": "stream",
     "text": [
      "\n",
      "9it [00:01,  4.69it/s]\n",
      "2025-10-01 12:13:44.909 INFO in 'deeppavlov.core.trainers.nn_trainer'['nn_trainer'] at line 211: Did not improve on the ner_f1 of 93.2843\n"
     ]
    },
    {
     "name": "stdout",
     "output_type": "stream",
     "text": [
      "{\"valid\": {\"eval_examples_count\": 4761, \"metrics\": {\"ner_f1\": 93.13, \"ner_token_f1\": 94.6823}, \"time_spent\": \"0:09:45\", \"epochs_done\": 11, \"batches_seen\": 840, \"train_examples_seen\": 457171, \"impatience\": 10, \"patience_limit\": 100}}\n"
     ]
    },
    {
     "name": "stderr",
     "output_type": "stream",
     "text": [
      "1it [00:00,  4.67it/s]]"
     ]
    },
    {
     "name": "stdout",
     "output_type": "stream",
     "text": [
      "{\"train\": {\"eval_examples_count\": 550, \"metrics\": {\"ner_f1\": 98.9796, \"ner_token_f1\": 99.5352}, \"time_spent\": \"0:10:00\", \"epochs_done\": 11, \"batches_seen\": 850, \"train_examples_seen\": 462671, \"loss\": 0.012212383840233088}}\n"
     ]
    },
    {
     "name": "stderr",
     "output_type": "stream",
     "text": [
      "\n",
      "9it [00:01,  7.63it/s]\n",
      "2025-10-01 12:14:01.316 INFO in 'deeppavlov.core.trainers.nn_trainer'['nn_trainer'] at line 211: Did not improve on the ner_f1 of 93.2843\n"
     ]
    },
    {
     "name": "stdout",
     "output_type": "stream",
     "text": [
      "{\"valid\": {\"eval_examples_count\": 4761, \"metrics\": {\"ner_f1\": 92.9818, \"ner_token_f1\": 94.6535}, \"time_spent\": \"0:10:02\", \"epochs_done\": 11, \"batches_seen\": 850, \"train_examples_seen\": 462671, \"impatience\": 11, \"patience_limit\": 100}}\n"
     ]
    },
    {
     "name": "stderr",
     "output_type": "stream",
     "text": [
      "1it [00:00,  4.87it/s]]"
     ]
    },
    {
     "name": "stdout",
     "output_type": "stream",
     "text": [
      "{\"train\": {\"eval_examples_count\": 550, \"metrics\": {\"ner_f1\": 99.4709, \"ner_token_f1\": 99.5196}, \"time_spent\": \"0:10:09\", \"epochs_done\": 11, \"batches_seen\": 860, \"train_examples_seen\": 468171, \"loss\": 0.014047638047486544}}\n"
     ]
    },
    {
     "name": "stderr",
     "output_type": "stream",
     "text": [
      "\n",
      "9it [00:01,  7.60it/s]\n",
      "2025-10-01 12:14:10.207 INFO in 'deeppavlov.core.trainers.nn_trainer'['nn_trainer'] at line 211: Did not improve on the ner_f1 of 93.2843\n"
     ]
    },
    {
     "name": "stdout",
     "output_type": "stream",
     "text": [
      "{\"valid\": {\"eval_examples_count\": 4761, \"metrics\": {\"ner_f1\": 93.1038, \"ner_token_f1\": 94.6238}, \"time_spent\": \"0:10:10\", \"epochs_done\": 11, \"batches_seen\": 860, \"train_examples_seen\": 468171, \"impatience\": 12, \"patience_limit\": 100}}\n"
     ]
    },
    {
     "name": "stderr",
     "output_type": "stream",
     "text": [
      "1it [00:00,  5.24it/s]]"
     ]
    },
    {
     "name": "stdout",
     "output_type": "stream",
     "text": [
      "{\"train\": {\"eval_examples_count\": 550, \"metrics\": {\"ner_f1\": 99.6646, \"ner_token_f1\": 99.7973}, \"time_spent\": \"0:10:18\", \"epochs_done\": 11, \"batches_seen\": 870, \"train_examples_seen\": 473671, \"loss\": 0.012641202565282584}}\n"
     ]
    },
    {
     "name": "stderr",
     "output_type": "stream",
     "text": [
      "\n",
      "9it [00:01,  7.68it/s]\n",
      "2025-10-01 12:14:18.744 INFO in 'deeppavlov.core.trainers.nn_trainer'['nn_trainer'] at line 211: Did not improve on the ner_f1 of 93.2843\n"
     ]
    },
    {
     "name": "stdout",
     "output_type": "stream",
     "text": [
      "{\"valid\": {\"eval_examples_count\": 4761, \"metrics\": {\"ner_f1\": 92.7735, \"ner_token_f1\": 94.3629}, \"time_spent\": \"0:10:19\", \"epochs_done\": 11, \"batches_seen\": 870, \"train_examples_seen\": 473671, \"impatience\": 13, \"patience_limit\": 100}}\n"
     ]
    },
    {
     "name": "stderr",
     "output_type": "stream",
     "text": [
      "1it [00:00,  5.45it/s]]\n"
     ]
    },
    {
     "name": "stdout",
     "output_type": "stream",
     "text": [
      "{\"train\": {\"eval_examples_count\": 550, \"metrics\": {\"ner_f1\": 99.5404, \"ner_token_f1\": 99.7325}, \"time_spent\": \"0:10:26\", \"epochs_done\": 11, \"batches_seen\": 880, \"train_examples_seen\": 479171, \"loss\": 0.013630780298262835}}\n"
     ]
    },
    {
     "name": "stderr",
     "output_type": "stream",
     "text": [
      "9it [00:01,  7.37it/s]\n",
      "2025-10-01 12:14:27.37 INFO in 'deeppavlov.core.trainers.nn_trainer'['nn_trainer'] at line 211: Did not improve on the ner_f1 of 93.2843\n"
     ]
    },
    {
     "name": "stdout",
     "output_type": "stream",
     "text": [
      "{\"valid\": {\"eval_examples_count\": 4761, \"metrics\": {\"ner_f1\": 92.7273, \"ner_token_f1\": 94.4406}, \"time_spent\": \"0:10:27\", \"epochs_done\": 11, \"batches_seen\": 880, \"train_examples_seen\": 479171, \"impatience\": 14, \"patience_limit\": 100}}\n"
     ]
    },
    {
     "name": "stderr",
     "output_type": "stream",
     "text": [
      "1it [00:00,  5.06it/s]]"
     ]
    },
    {
     "name": "stdout",
     "output_type": "stream",
     "text": [
      "{\"train\": {\"eval_examples_count\": 550, \"metrics\": {\"ner_f1\": 97.7633, \"ner_token_f1\": 99.8021}, \"time_spent\": \"0:10:34\", \"epochs_done\": 11, \"batches_seen\": 890, \"train_examples_seen\": 484671, \"loss\": 0.014174251724034548}}\n"
     ]
    },
    {
     "name": "stderr",
     "output_type": "stream",
     "text": [
      "\n",
      "9it [00:01,  7.69it/s]\n",
      "2025-10-01 12:14:35.348 INFO in 'deeppavlov.core.trainers.nn_trainer'['nn_trainer'] at line 211: Did not improve on the ner_f1 of 93.2843\n"
     ]
    },
    {
     "name": "stdout",
     "output_type": "stream",
     "text": [
      "{\"valid\": {\"eval_examples_count\": 4761, \"metrics\": {\"ner_f1\": 92.9327, \"ner_token_f1\": 94.5896}, \"time_spent\": \"0:10:36\", \"epochs_done\": 11, \"batches_seen\": 890, \"train_examples_seen\": 484671, \"impatience\": 15, \"patience_limit\": 100}}\n"
     ]
    },
    {
     "name": "stderr",
     "output_type": "stream",
     "text": [
      "1it [00:00,  4.61it/s]]"
     ]
    },
    {
     "name": "stdout",
     "output_type": "stream",
     "text": [
      "{\"train\": {\"eval_examples_count\": 550, \"metrics\": {\"ner_f1\": 98.7586, \"ner_token_f1\": 99.6521}, \"time_spent\": \"0:10:42\", \"epochs_done\": 11, \"batches_seen\": 900, \"train_examples_seen\": 490171, \"loss\": 0.01366668390110135}}\n"
     ]
    },
    {
     "name": "stderr",
     "output_type": "stream",
     "text": [
      "\n",
      "9it [00:01,  7.81it/s]\n",
      "2025-10-01 12:14:43.232 INFO in 'deeppavlov.core.trainers.nn_trainer'['nn_trainer'] at line 211: Did not improve on the ner_f1 of 93.2843\n"
     ]
    },
    {
     "name": "stdout",
     "output_type": "stream",
     "text": [
      "{\"valid\": {\"eval_examples_count\": 4761, \"metrics\": {\"ner_f1\": 92.1595, \"ner_token_f1\": 93.801}, \"time_spent\": \"0:10:43\", \"epochs_done\": 11, \"batches_seen\": 900, \"train_examples_seen\": 490171, \"impatience\": 16, \"patience_limit\": 100}}\n"
     ]
    },
    {
     "name": "stderr",
     "output_type": "stream",
     "text": [
      "1it [00:00,  5.80it/s]]"
     ]
    },
    {
     "name": "stdout",
     "output_type": "stream",
     "text": [
      "{\"train\": {\"eval_examples_count\": 550, \"metrics\": {\"ner_f1\": 99.282, \"ner_token_f1\": 99.5945}, \"time_spent\": \"0:10:51\", \"epochs_done\": 11, \"batches_seen\": 910, \"train_examples_seen\": 495671, \"loss\": 0.011739403940737247}}\n"
     ]
    },
    {
     "name": "stderr",
     "output_type": "stream",
     "text": [
      "\n",
      "9it [00:01,  7.76it/s]\n",
      "2025-10-01 12:14:51.660 INFO in 'deeppavlov.core.trainers.nn_trainer'['nn_trainer'] at line 211: Did not improve on the ner_f1 of 93.2843\n"
     ]
    },
    {
     "name": "stdout",
     "output_type": "stream",
     "text": [
      "{\"valid\": {\"eval_examples_count\": 4761, \"metrics\": {\"ner_f1\": 93.0716, \"ner_token_f1\": 94.5499}, \"time_spent\": \"0:10:52\", \"epochs_done\": 11, \"batches_seen\": 910, \"train_examples_seen\": 495671, \"impatience\": 17, \"patience_limit\": 100}}\n"
     ]
    },
    {
     "name": "stderr",
     "output_type": "stream",
     "text": [
      "76it [01:12,  1.04it/s]\n",
      "1it [00:00,  4.27it/s]"
     ]
    },
    {
     "name": "stdout",
     "output_type": "stream",
     "text": [
      "{\"train\": {\"eval_examples_count\": 550, \"metrics\": {\"ner_f1\": 99.3116, \"ner_token_f1\": 99.4603}, \"time_spent\": \"0:11:00\", \"epochs_done\": 12, \"batches_seen\": 920, \"train_examples_seen\": 500732, \"loss\": 0.010865415260195733}}\n"
     ]
    },
    {
     "name": "stderr",
     "output_type": "stream",
     "text": [
      "\n",
      "9it [00:01,  7.51it/s]\n",
      "2025-10-01 12:15:00.853 INFO in 'deeppavlov.core.trainers.nn_trainer'['nn_trainer'] at line 211: Did not improve on the ner_f1 of 93.2843\n"
     ]
    },
    {
     "name": "stdout",
     "output_type": "stream",
     "text": [
      "{\"valid\": {\"eval_examples_count\": 4761, \"metrics\": {\"ner_f1\": 92.9671, \"ner_token_f1\": 94.5014}, \"time_spent\": \"0:11:01\", \"epochs_done\": 12, \"batches_seen\": 920, \"train_examples_seen\": 500732, \"impatience\": 18, \"patience_limit\": 100}}\n"
     ]
    },
    {
     "name": "stderr",
     "output_type": "stream",
     "text": [
      "1it [00:00,  4.47it/s]]"
     ]
    },
    {
     "name": "stdout",
     "output_type": "stream",
     "text": [
      "{\"train\": {\"eval_examples_count\": 550, \"metrics\": {\"ner_f1\": 99.5211, \"ner_token_f1\": 99.5961}, \"time_spent\": \"0:11:08\", \"epochs_done\": 12, \"batches_seen\": 930, \"train_examples_seen\": 506232, \"loss\": 0.012076578848063946}}\n"
     ]
    },
    {
     "name": "stderr",
     "output_type": "stream",
     "text": [
      "\n",
      "9it [00:01,  7.11it/s]\n",
      "2025-10-01 12:15:09.116 INFO in 'deeppavlov.core.trainers.nn_trainer'['nn_trainer'] at line 211: Did not improve on the ner_f1 of 93.2843\n"
     ]
    },
    {
     "name": "stdout",
     "output_type": "stream",
     "text": [
      "{\"valid\": {\"eval_examples_count\": 4761, \"metrics\": {\"ner_f1\": 92.805, \"ner_token_f1\": 94.4151}, \"time_spent\": \"0:11:09\", \"epochs_done\": 12, \"batches_seen\": 930, \"train_examples_seen\": 506232, \"impatience\": 19, \"patience_limit\": 100}}\n"
     ]
    },
    {
     "name": "stderr",
     "output_type": "stream",
     "text": [
      "1it [00:00,  2.74it/s]]"
     ]
    },
    {
     "name": "stdout",
     "output_type": "stream",
     "text": [
      "{\"train\": {\"eval_examples_count\": 550, \"metrics\": {\"ner_f1\": 98.9307, \"ner_token_f1\": 99.9214}, \"time_spent\": \"0:11:23\", \"epochs_done\": 12, \"batches_seen\": 940, \"train_examples_seen\": 511732, \"loss\": 0.012093578185886144}}\n"
     ]
    },
    {
     "name": "stderr",
     "output_type": "stream",
     "text": [
      "\n",
      "9it [00:01,  4.54it/s]\n",
      "2025-10-01 12:15:25.224 INFO in 'deeppavlov.core.trainers.nn_trainer'['nn_trainer'] at line 211: Did not improve on the ner_f1 of 93.2843\n",
      "2025-10-01 12:15:25.224 INFO in 'deeppavlov.core.models.torch_model'['torch_model'] at line 206: ----------Current LR is decreased in 1.5 times----------\n"
     ]
    },
    {
     "name": "stdout",
     "output_type": "stream",
     "text": [
      "{\"valid\": {\"eval_examples_count\": 4761, \"metrics\": {\"ner_f1\": 92.5593, \"ner_token_f1\": 94.1879}, \"time_spent\": \"0:11:25\", \"epochs_done\": 12, \"batches_seen\": 940, \"train_examples_seen\": 511732, \"impatience\": 20, \"patience_limit\": 100}}\n"
     ]
    },
    {
     "name": "stderr",
     "output_type": "stream",
     "text": [
      "1it [00:00,  1.75it/s]]"
     ]
    },
    {
     "name": "stdout",
     "output_type": "stream",
     "text": [
      "{\"train\": {\"eval_examples_count\": 550, \"metrics\": {\"ner_f1\": 96.0739, \"ner_token_f1\": 99.3998}, \"time_spent\": \"0:11:53\", \"epochs_done\": 12, \"batches_seen\": 950, \"train_examples_seen\": 517232, \"loss\": 0.009886302798986436}}\n"
     ]
    },
    {
     "name": "stderr",
     "output_type": "stream",
     "text": [
      "\n",
      "9it [00:02,  3.13it/s]\n",
      "2025-10-01 12:15:55.313 INFO in 'deeppavlov.core.trainers.nn_trainer'['nn_trainer'] at line 211: Did not improve on the ner_f1 of 93.2843\n"
     ]
    },
    {
     "name": "stdout",
     "output_type": "stream",
     "text": [
      "{\"valid\": {\"eval_examples_count\": 4761, \"metrics\": {\"ner_f1\": 92.9193, \"ner_token_f1\": 94.5034}, \"time_spent\": \"0:11:56\", \"epochs_done\": 12, \"batches_seen\": 950, \"train_examples_seen\": 517232, \"impatience\": 21, \"patience_limit\": 100}}\n"
     ]
    },
    {
     "name": "stderr",
     "output_type": "stream",
     "text": [
      "1it [00:00,  2.47it/s]]"
     ]
    },
    {
     "name": "stdout",
     "output_type": "stream",
     "text": [
      "{\"train\": {\"eval_examples_count\": 550, \"metrics\": {\"ner_f1\": 99.2727, \"ner_token_f1\": 99.4656}, \"time_spent\": \"0:12:17\", \"epochs_done\": 12, \"batches_seen\": 960, \"train_examples_seen\": 522732, \"loss\": 0.014892871677875518}}\n"
     ]
    },
    {
     "name": "stderr",
     "output_type": "stream",
     "text": [
      "\n",
      "9it [00:02,  3.94it/s]\n",
      "2025-10-01 12:16:18.635 INFO in 'deeppavlov.core.trainers.nn_trainer'['nn_trainer'] at line 211: Did not improve on the ner_f1 of 93.2843\n"
     ]
    },
    {
     "name": "stdout",
     "output_type": "stream",
     "text": [
      "{\"valid\": {\"eval_examples_count\": 4761, \"metrics\": {\"ner_f1\": 92.984, \"ner_token_f1\": 94.4832}, \"time_spent\": \"0:12:19\", \"epochs_done\": 12, \"batches_seen\": 960, \"train_examples_seen\": 522732, \"impatience\": 22, \"patience_limit\": 100}}\n"
     ]
    },
    {
     "name": "stderr",
     "output_type": "stream",
     "text": [
      "48it [01:30,  1.89s/it]\n",
      "2025-10-01 12:16:23.325 INFO in 'deeppavlov.core.trainers.nn_trainer'['nn_trainer'] at line 336: Stopped training\n",
      "Some weights of the model checkpoint at DeepPavlov/rubert-base-cased were not used when initializing BertForTokenClassification: ['cls.seq_relationship.bias', 'cls.predictions.decoder.bias', 'cls.predictions.transform.dense.weight', 'cls.predictions.bias', 'cls.predictions.transform.LayerNorm.bias', 'cls.predictions.transform.LayerNorm.weight', 'cls.predictions.transform.dense.bias', 'cls.predictions.decoder.weight', 'cls.seq_relationship.weight']\n",
      "- This IS expected if you are initializing BertForTokenClassification from the checkpoint of a model trained on another task or with another architecture (e.g. initializing a BertForSequenceClassification model from a BertForPreTraining model).\n",
      "- This IS NOT expected if you are initializing BertForTokenClassification from the checkpoint of a model that you expect to be exactly identical (initializing a BertForSequenceClassification model from a BertForSequenceClassification model).\n",
      "Some weights of BertForTokenClassification were not initialized from the model checkpoint at DeepPavlov/rubert-base-cased and are newly initialized: ['classifier.weight', 'classifier.bias']\n",
      "You should probably TRAIN this model on a down-stream task to be able to use it for predictions and inference.\n",
      "9it [00:02,  3.78it/s]"
     ]
    },
    {
     "name": "stdout",
     "output_type": "stream",
     "text": [
      "{\"valid\": {\"eval_examples_count\": 4761, \"metrics\": {\"ner_f1\": 93.2843, \"ner_token_f1\": 94.7687}, \"time_spent\": \"0:00:03\"}}\n"
     ]
    },
    {
     "name": "stderr",
     "output_type": "stream",
     "text": [
      "\n",
      "1it [00:00,  3.97it/s]"
     ]
    },
    {
     "name": "stdout",
     "output_type": "stream",
     "text": [
      "{\"test\": {\"eval_examples_count\": 529, \"metrics\": {\"ner_f1\": 91.3658, \"ner_token_f1\": 91.8587}, \"time_spent\": \"0:00:01\"}}\n"
     ]
    },
    {
     "name": "stderr",
     "output_type": "stream",
     "text": [
      "\n",
      "Some weights of the model checkpoint at DeepPavlov/rubert-base-cased were not used when initializing BertForTokenClassification: ['cls.seq_relationship.bias', 'cls.predictions.decoder.bias', 'cls.predictions.transform.dense.weight', 'cls.predictions.bias', 'cls.predictions.transform.LayerNorm.bias', 'cls.predictions.transform.LayerNorm.weight', 'cls.predictions.transform.dense.bias', 'cls.predictions.decoder.weight', 'cls.seq_relationship.weight']\n",
      "- This IS expected if you are initializing BertForTokenClassification from the checkpoint of a model trained on another task or with another architecture (e.g. initializing a BertForSequenceClassification model from a BertForPreTraining model).\n",
      "- This IS NOT expected if you are initializing BertForTokenClassification from the checkpoint of a model that you expect to be exactly identical (initializing a BertForSequenceClassification model from a BertForSequenceClassification model).\n",
      "Some weights of BertForTokenClassification were not initialized from the model checkpoint at DeepPavlov/rubert-base-cased and are newly initialized: ['classifier.weight', 'classifier.bias']\n",
      "You should probably TRAIN this model on a down-stream task to be able to use it for predictions and inference.\n"
     ]
    }
   ],
   "source": [
    "\n",
    "ner_model = train_model(model_config, download=True)"
   ]
  },
  {
   "cell_type": "code",
   "execution_count": 10,
   "id": "c25a8b85",
   "metadata": {},
   "outputs": [
    {
     "data": {
      "text/plain": [
       "{'dataset_reader': {'class_name': 'conll2003_reader',\n",
       "  'data_path': '../datasets/conll/',\n",
       "  'dataset_name': 'collection3',\n",
       "  'provide_pos': False,\n",
       "  'provide_chunk': False,\n",
       "  'iobes': True},\n",
       " 'dataset_iterator': {'class_name': 'data_learning_iterator'},\n",
       " 'chainer': {'in': ['x'],\n",
       "  'in_y': ['y'],\n",
       "  'pipe': [{'class_name': 'torch_transformers_ner_preprocessor',\n",
       "    'vocab_file': 'DeepPavlov/rubert-base-cased',\n",
       "    'do_lower_case': False,\n",
       "    'max_seq_length': 512,\n",
       "    'max_subword_length': 15,\n",
       "    'token_masking_prob': 0.0,\n",
       "    'in': ['x'],\n",
       "    'out': ['x_tokens',\n",
       "     'x_subword_tokens',\n",
       "     'x_subword_tok_ids',\n",
       "     'startofword_markers',\n",
       "     'attention_mask',\n",
       "     'tokens_offsets']},\n",
       "   {'id': 'tag_vocab',\n",
       "    'class_name': 'simple_vocab',\n",
       "    'unk_token': ['O'],\n",
       "    'pad_with_zeros': True,\n",
       "    'save_path': '../models/tag.dict',\n",
       "    'load_path': '../models/tag.dict',\n",
       "    'fit_on': ['y'],\n",
       "    'in': ['y'],\n",
       "    'out': ['y_ind']},\n",
       "   {'class_name': 'torch_transformers_sequence_tagger',\n",
       "    'n_tags': '#tag_vocab.len',\n",
       "    'pretrained_bert': 'DeepPavlov/rubert-base-cased',\n",
       "    'attention_probs_keep_prob': 0.5,\n",
       "    'encoder_layer_ids': [-1],\n",
       "    'optimizer': 'AdamW',\n",
       "    'optimizer_parameters': {'lr': 2e-05,\n",
       "     'weight_decay': 1e-06,\n",
       "     'betas': [0.9, 0.999],\n",
       "     'eps': 1e-06},\n",
       "    'clip_norm': 1.0,\n",
       "    'min_learning_rate': 1e-07,\n",
       "    'learning_rate_drop_patience': 30,\n",
       "    'learning_rate_drop_div': 1.5,\n",
       "    'load_before_drop': True,\n",
       "    'save_path': '../models',\n",
       "    'load_path': '../models',\n",
       "    'in': ['x_subword_tok_ids', 'attention_mask', 'startofword_markers'],\n",
       "    'in_y': ['y_ind'],\n",
       "    'out': ['y_pred_ind', 'probas']},\n",
       "   {'ref': 'tag_vocab', 'in': ['y_pred_ind'], 'out': ['y_pred']}],\n",
       "  'out': ['x_tokens', 'y_pred']},\n",
       " 'train': {'epochs': 30,\n",
       "  'batch_size': 14,\n",
       "  'metrics': [{'name': 'ner_f1', 'inputs': ['y', 'y_pred']},\n",
       "   {'name': 'ner_token_f1', 'inputs': ['y', 'y_pred']}],\n",
       "  'validation_patience': 100,\n",
       "  'val_every_n_batches': 20,\n",
       "  'log_every_n_batches': 20,\n",
       "  'show_examples': False,\n",
       "  'pytest_max_batches': 2,\n",
       "  'pytest_batch_size': 8,\n",
       "  'evaluation_targets': ['valid', 'test'],\n",
       "  'class_name': 'torch_trainer'},\n",
       " 'metadata': {'variables': {'ROOT_PATH': '~/.deeppavlov',\n",
       "   'DOWNLOADS_PATH': '~/.deeppavlov/downloads',\n",
       "   'MODELS_PATH': '~/.deeppavlov/models',\n",
       "   'TRANSFORMER': 'DeepPavlov/rubert-base-cased',\n",
       "   'MODEL_PATH': '../models'},\n",
       "  'requirements': ['c:\\\\Users\\\\lexan\\\\miniconda3\\\\envs\\\\dp310\\\\lib\\\\site-packages\\\\deeppavlov/requirements/transformers.txt',\n",
       "   'c:\\\\Users\\\\lexan\\\\miniconda3\\\\envs\\\\dp310\\\\lib\\\\site-packages\\\\deeppavlov/requirements/pytorch.txt',\n",
       "   'c:\\\\Users\\\\lexan\\\\miniconda3\\\\envs\\\\dp310\\\\lib\\\\site-packages\\\\deeppavlov/requirements/torchcrf.txt',\n",
       "   'c:\\\\Users\\\\lexan\\\\miniconda3\\\\envs\\\\dp310\\\\lib\\\\site-packages\\\\deeppavlov/requirements/sentencepiece.txt',\n",
       "   'c:\\\\Users\\\\lexan\\\\miniconda3\\\\envs\\\\dp310\\\\lib\\\\site-packages\\\\deeppavlov/requirements/protobuf.txt']}}"
      ]
     },
     "execution_count": 10,
     "metadata": {},
     "output_type": "execute_result"
    }
   ],
   "source": [
    "model_config"
   ]
  },
  {
   "cell_type": "code",
   "execution_count": null,
   "id": "d5e399f2",
   "metadata": {},
   "outputs": [],
   "source": []
  },
  {
   "cell_type": "code",
   "execution_count": 3,
   "id": "ca8fc0e0",
   "metadata": {},
   "outputs": [
    {
     "name": "stderr",
     "output_type": "stream",
     "text": [
      "c:\\Users\\lexan\\miniconda3\\envs\\dp310\\lib\\site-packages\\tqdm\\auto.py:22: TqdmWarning: IProgress not found. Please update jupyter and ipywidgets. See https://ipywidgets.readthedocs.io/en/stable/user_install.html\n",
      "  from .autonotebook import tqdm as notebook_tqdm\n",
      "c:\\Users\\lexan\\miniconda3\\envs\\dp310\\lib\\site-packages\\huggingface_hub\\file_download.py:945: FutureWarning: `resume_download` is deprecated and will be removed in version 1.0.0. Downloads always resume when possible. If you want to force a new download, use `force_download=True`.\n",
      "  warnings.warn(\n",
      "Some weights of the model checkpoint at DeepPavlov/rubert-base-cased were not used when initializing BertForTokenClassification: ['cls.seq_relationship.bias', 'cls.seq_relationship.weight', 'cls.predictions.decoder.bias', 'cls.predictions.decoder.weight', 'cls.predictions.transform.dense.weight', 'cls.predictions.bias', 'cls.predictions.transform.dense.bias', 'cls.predictions.transform.LayerNorm.weight', 'cls.predictions.transform.LayerNorm.bias']\n",
      "- This IS expected if you are initializing BertForTokenClassification from the checkpoint of a model trained on another task or with another architecture (e.g. initializing a BertForSequenceClassification model from a BertForPreTraining model).\n",
      "- This IS NOT expected if you are initializing BertForTokenClassification from the checkpoint of a model that you expect to be exactly identical (initializing a BertForSequenceClassification model from a BertForSequenceClassification model).\n",
      "Some weights of BertForTokenClassification were not initialized from the model checkpoint at DeepPavlov/rubert-base-cased and are newly initialized: ['classifier.weight', 'classifier.bias']\n",
      "You should probably TRAIN this model on a down-stream task to be able to use it for predictions and inference.\n"
     ]
    }
   ],
   "source": [
    "from deeppavlov import build_model\n",
    "\n",
    "ner_model = build_model(model_config, download=False)"
   ]
  },
  {
   "cell_type": "code",
   "execution_count": 19,
   "id": "e346a202",
   "metadata": {},
   "outputs": [
    {
     "data": {
      "text/plain": [
       "[[['artfruit', 'нектари']], [['S-BRAND', 'S-TYPE']]]"
      ]
     },
     "execution_count": 19,
     "metadata": {},
     "output_type": "execute_result"
    }
   ],
   "source": [
    "ner_model(['artfruit нектари'])"
   ]
  },
  {
   "cell_type": "code",
   "execution_count": null,
   "id": "3d4d8fee",
   "metadata": {},
   "outputs": [],
   "source": []
  }
 ],
 "metadata": {
  "kernelspec": {
   "display_name": "dp310",
   "language": "python",
   "name": "python3"
  },
  "language_info": {
   "codemirror_mode": {
    "name": "ipython",
    "version": 3
   },
   "file_extension": ".py",
   "mimetype": "text/x-python",
   "name": "python",
   "nbconvert_exporter": "python",
   "pygments_lexer": "ipython3",
   "version": "3.10.18"
  }
 },
 "nbformat": 4,
 "nbformat_minor": 5
}
