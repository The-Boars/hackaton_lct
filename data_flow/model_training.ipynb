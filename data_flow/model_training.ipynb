{
 "cells": [
  {
   "cell_type": "code",
   "execution_count": 4,
   "id": "57024b6b",
   "metadata": {},
   "outputs": [
    {
     "name": "stderr",
     "output_type": "stream",
     "text": [
      "2025-09-23 17:21:53.233 INFO in 'deeppavlov.core.data.utils'['utils'] at line 97: Downloading from http://files.deeppavlov.ai/v1/ner/ner_rus_bert_coll3_torch.tar.gz to C:\\Users\\lexan\\.deeppavlov\\models\\ner_rus_bert_coll3_torch.tar.gz\n",
      "100%|██████████| 1.44G/1.44G [02:20<00:00, 10.2MB/s]\n",
      "2025-09-23 17:24:14.675 INFO in 'deeppavlov.core.data.utils'['utils'] at line 284: Extracting C:\\Users\\lexan\\.deeppavlov\\models\\ner_rus_bert_coll3_torch.tar.gz archive into C:\\Users\\lexan\\.deeppavlov\\models\\ner_rus_bert_coll3_torch\n",
      "c:\\Users\\lexan\\miniconda3\\envs\\dp310\\lib\\site-packages\\huggingface_hub\\file_download.py:945: FutureWarning: `resume_download` is deprecated and will be removed in version 1.0.0. Downloads always resume when possible. If you want to force a new download, use `force_download=True`.\n",
      "  warnings.warn(\n",
      "Some weights of the model checkpoint at DeepPavlov/rubert-base-cased were not used when initializing BertForTokenClassification: ['cls.predictions.decoder.weight', 'cls.seq_relationship.weight', 'cls.predictions.transform.LayerNorm.bias', 'cls.predictions.transform.dense.weight', 'cls.predictions.decoder.bias', 'cls.seq_relationship.bias', 'cls.predictions.transform.dense.bias', 'cls.predictions.bias', 'cls.predictions.transform.LayerNorm.weight']\n",
      "- This IS expected if you are initializing BertForTokenClassification from the checkpoint of a model trained on another task or with another architecture (e.g. initializing a BertForSequenceClassification model from a BertForPreTraining model).\n",
      "- This IS NOT expected if you are initializing BertForTokenClassification from the checkpoint of a model that you expect to be exactly identical (initializing a BertForSequenceClassification model from a BertForSequenceClassification model).\n",
      "Some weights of BertForTokenClassification were not initialized from the model checkpoint at DeepPavlov/rubert-base-cased and are newly initialized: ['classifier.weight', 'classifier.bias']\n",
      "You should probably TRAIN this model on a down-stream task to be able to use it for predictions and inference.\n"
     ]
    }
   ],
   "source": [
    "from deeppavlov import build_model\n",
    "\n",
    "ner_model = build_model('ner_collection3_bert', download=True, install=True)\n"
   ]
  },
  {
   "cell_type": "code",
   "execution_count": 1,
   "id": "cebaef7b",
   "metadata": {},
   "outputs": [
    {
     "name": "stdout",
     "output_type": "stream",
     "text": [
      "~/.deeppavlov/downloads/collection3/\n"
     ]
    }
   ],
   "source": [
    "from deeppavlov import train_model, build_model \n",
    "from deeppavlov.core.commands.utils import parse_config\n",
    "\n",
    "PROJECT_DIR = '..'\n",
    "\n",
    "model_config = parse_config('ner_collection3_bert')\n",
    "\n",
    "# dataset that the model was trained on\n",
    "print(model_config['dataset_reader']['data_path'])\n",
    "\n",
    "model_config['dataset_reader']['data_path'] = PROJECT_DIR + '/datasets/conll/'\n",
    "\n",
    "del model_config['metadata']['download']\n",
    "\n",
    "model_config['metadata']['variables']['MODEL_PATH'] = PROJECT_DIR + '/models'\n",
    "\n",
    "model_config['chainer']['pipe'][1]['save_path'] = PROJECT_DIR + '/models/tag.dict'\n",
    "model_config['chainer']['pipe'][1]['load_path'] = PROJECT_DIR + '/models/tag.dict'\n",
    "\n",
    "model_config['chainer']['pipe'][2]['save_path'] = PROJECT_DIR + '/models'\n",
    "model_config['chainer']['pipe'][2]['load_path'] = PROJECT_DIR + '/models'\n",
    "\n",
    "model_config['train']['batch_size'] = 500\n",
    "\n",
    "model_config['train']['log_every_n_batches'] = 10\n",
    "model_config['train']['val_every_n_batches'] = 10\n",
    "\n"
   ]
  },
  {
   "cell_type": "code",
   "execution_count": 2,
   "id": "ecd27e03",
   "metadata": {},
   "outputs": [
    {
     "name": "stderr",
     "output_type": "stream",
     "text": [
      "2025-09-24 12:22:46.400 WARNING in 'deeppavlov.core.trainers.fit_trainer'['fit_trainer'] at line 66: TorchTrainer got additional init parameters ['pytest_max_batches', 'pytest_batch_size'] that will be ignored:\n",
      "c:\\Users\\lexan\\miniconda3\\envs\\dp310\\lib\\site-packages\\tqdm\\auto.py:22: TqdmWarning: IProgress not found. Please update jupyter and ipywidgets. See https://ipywidgets.readthedocs.io/en/stable/user_install.html\n",
      "  from .autonotebook import tqdm as notebook_tqdm\n",
      "c:\\Users\\lexan\\miniconda3\\envs\\dp310\\lib\\site-packages\\huggingface_hub\\file_download.py:945: FutureWarning: `resume_download` is deprecated and will be removed in version 1.0.0. Downloads always resume when possible. If you want to force a new download, use `force_download=True`.\n",
      "  warnings.warn(\n",
      "2025-09-24 12:22:49.182 INFO in 'deeppavlov.core.data.simple_vocab'['simple_vocab'] at line 104: [saving vocabulary to C:\\Users\\lexan\\OneDrive\\Documents\\hackaton_lct\\models\\tag.dict]\n",
      "Some weights of the model checkpoint at DeepPavlov/rubert-base-cased were not used when initializing BertForTokenClassification: ['cls.predictions.decoder.weight', 'cls.predictions.decoder.bias', 'cls.seq_relationship.weight', 'cls.predictions.bias', 'cls.predictions.transform.LayerNorm.weight', 'cls.seq_relationship.bias', 'cls.predictions.transform.dense.bias', 'cls.predictions.transform.dense.weight', 'cls.predictions.transform.LayerNorm.bias']\n",
      "- This IS expected if you are initializing BertForTokenClassification from the checkpoint of a model trained on another task or with another architecture (e.g. initializing a BertForSequenceClassification model from a BertForPreTraining model).\n",
      "- This IS NOT expected if you are initializing BertForTokenClassification from the checkpoint of a model that you expect to be exactly identical (initializing a BertForSequenceClassification model from a BertForSequenceClassification model).\n",
      "Some weights of BertForTokenClassification were not initialized from the model checkpoint at DeepPavlov/rubert-base-cased and are newly initialized: ['classifier.weight', 'classifier.bias']\n",
      "You should probably TRAIN this model on a down-stream task to be able to use it for predictions and inference.\n",
      "2025-09-24 12:22:50.552 WARNING in 'deeppavlov.core.models.torch_model'['torch_model'] at line 151: Init from scratch. Load path C:\\Users\\lexan\\OneDrive\\Documents\\hackaton_lct\\models.pth.tar does not exist.\n",
      "9it [00:01,  6.29it/s]\n",
      "2025-09-24 12:22:52.30 INFO in 'deeppavlov.core.trainers.nn_trainer'['nn_trainer'] at line 198: Initial best ner_f1 of 12.9292\n"
     ]
    },
    {
     "name": "stdout",
     "output_type": "stream",
     "text": [
      "{\"valid\": {\"eval_examples_count\": 4088, \"metrics\": {\"ner_f1\": 12.9292, \"ner_token_f1\": 17.8201}, \"time_spent\": \"0:00:02\", \"epochs_done\": 0, \"batches_seen\": 0, \"train_examples_seen\": 0, \"impatience\": 0, \"patience_limit\": 100}}\n"
     ]
    },
    {
     "name": "stderr",
     "output_type": "stream",
     "text": [
      "1it [00:00, 10.52it/s]"
     ]
    },
    {
     "name": "stdout",
     "output_type": "stream",
     "text": [
      "{\"train\": {\"eval_examples_count\": 500, \"metrics\": {\"ner_f1\": 56.8713, \"ner_token_f1\": 73.8589}, \"time_spent\": \"0:00:04\", \"epochs_done\": 0, \"batches_seen\": 10, \"train_examples_seen\": 5000, \"loss\": 1.2295032143592834}}\n"
     ]
    },
    {
     "name": "stderr",
     "output_type": "stream",
     "text": [
      "\n",
      "9it [00:00, 10.96it/s]\n",
      "2025-09-24 12:22:55.270 INFO in 'deeppavlov.core.trainers.nn_trainer'['nn_trainer'] at line 206: Improved best ner_f1 from 12.9292 to 54.1126\n",
      "2025-09-24 12:22:55.270 INFO in 'deeppavlov.core.trainers.nn_trainer'['nn_trainer'] at line 208: Saving model\n",
      "2025-09-24 12:22:55.271 INFO in 'deeppavlov.core.models.torch_model'['torch_model'] at line 175: Saving model to C:\\Users\\lexan\\OneDrive\\Documents\\hackaton_lct\\models.pth.tar.\n"
     ]
    },
    {
     "name": "stdout",
     "output_type": "stream",
     "text": [
      "{\"valid\": {\"eval_examples_count\": 4088, \"metrics\": {\"ner_f1\": 54.1126, \"ner_token_f1\": 73.4321}, \"time_spent\": \"0:00:05\", \"epochs_done\": 0, \"batches_seen\": 10, \"train_examples_seen\": 5000, \"impatience\": 0, \"patience_limit\": 100}}\n"
     ]
    },
    {
     "name": "stderr",
     "output_type": "stream",
     "text": [
      "1it [00:00, 11.49it/s]]"
     ]
    },
    {
     "name": "stdout",
     "output_type": "stream",
     "text": [
      "{\"train\": {\"eval_examples_count\": 500, \"metrics\": {\"ner_f1\": 58.0311, \"ner_token_f1\": 75.5525}, \"time_spent\": \"0:00:10\", \"epochs_done\": 0, \"batches_seen\": 20, \"train_examples_seen\": 10000, \"loss\": 0.5166712731122971}}\n"
     ]
    },
    {
     "name": "stderr",
     "output_type": "stream",
     "text": [
      "\n",
      "9it [00:00, 11.46it/s]\n",
      "2025-09-24 12:23:00.785 INFO in 'deeppavlov.core.trainers.nn_trainer'['nn_trainer'] at line 206: Improved best ner_f1 from 54.1126 to 59.3898\n",
      "2025-09-24 12:23:00.786 INFO in 'deeppavlov.core.trainers.nn_trainer'['nn_trainer'] at line 208: Saving model\n",
      "2025-09-24 12:23:00.787 INFO in 'deeppavlov.core.models.torch_model'['torch_model'] at line 175: Saving model to C:\\Users\\lexan\\OneDrive\\Documents\\hackaton_lct\\models.pth.tar.\n"
     ]
    },
    {
     "name": "stdout",
     "output_type": "stream",
     "text": [
      "{\"valid\": {\"eval_examples_count\": 4088, \"metrics\": {\"ner_f1\": 59.3898, \"ner_token_f1\": 77.6075}, \"time_spent\": \"0:00:11\", \"epochs_done\": 0, \"batches_seen\": 20, \"train_examples_seen\": 10000, \"impatience\": 0, \"patience_limit\": 100}}\n"
     ]
    },
    {
     "name": "stderr",
     "output_type": "stream",
     "text": [
      "1it [00:00, 11.34it/s]]"
     ]
    },
    {
     "name": "stdout",
     "output_type": "stream",
     "text": [
      "{\"train\": {\"eval_examples_count\": 500, \"metrics\": {\"ner_f1\": 69.6629, \"ner_token_f1\": 83.9273}, \"time_spent\": \"0:00:16\", \"epochs_done\": 0, \"batches_seen\": 30, \"train_examples_seen\": 15000, \"loss\": 0.3329033076763153}}\n"
     ]
    },
    {
     "name": "stderr",
     "output_type": "stream",
     "text": [
      "\n",
      "9it [00:00,  9.88it/s]\n",
      "2025-09-24 12:23:06.532 INFO in 'deeppavlov.core.trainers.nn_trainer'['nn_trainer'] at line 206: Improved best ner_f1 from 59.3898 to 73.3741\n",
      "2025-09-24 12:23:06.533 INFO in 'deeppavlov.core.trainers.nn_trainer'['nn_trainer'] at line 208: Saving model\n",
      "2025-09-24 12:23:06.534 INFO in 'deeppavlov.core.models.torch_model'['torch_model'] at line 175: Saving model to C:\\Users\\lexan\\OneDrive\\Documents\\hackaton_lct\\models.pth.tar.\n"
     ]
    },
    {
     "name": "stdout",
     "output_type": "stream",
     "text": [
      "{\"valid\": {\"eval_examples_count\": 4088, \"metrics\": {\"ner_f1\": 73.3741, \"ner_token_f1\": 85.0708}, \"time_spent\": \"0:00:16\", \"epochs_done\": 0, \"batches_seen\": 30, \"train_examples_seen\": 15000, \"impatience\": 0, \"patience_limit\": 100}}\n"
     ]
    },
    {
     "name": "stderr",
     "output_type": "stream",
     "text": [
      "39it [00:18,  2.08it/s]\n",
      "1it [00:00,  9.62it/s]"
     ]
    },
    {
     "name": "stdout",
     "output_type": "stream",
     "text": [
      "{\"train\": {\"eval_examples_count\": 500, \"metrics\": {\"ner_f1\": 81.7814, \"ner_token_f1\": 87.401}, \"time_spent\": \"0:00:21\", \"epochs_done\": 1, \"batches_seen\": 40, \"train_examples_seen\": 19575, \"loss\": 0.2350741758942604}}\n"
     ]
    },
    {
     "name": "stderr",
     "output_type": "stream",
     "text": [
      "\n",
      "9it [00:00, 11.77it/s]\n",
      "2025-09-24 12:23:11.924 INFO in 'deeppavlov.core.trainers.nn_trainer'['nn_trainer'] at line 206: Improved best ner_f1 from 73.3741 to 79.9636\n",
      "2025-09-24 12:23:11.925 INFO in 'deeppavlov.core.trainers.nn_trainer'['nn_trainer'] at line 208: Saving model\n",
      "2025-09-24 12:23:11.925 INFO in 'deeppavlov.core.models.torch_model'['torch_model'] at line 175: Saving model to C:\\Users\\lexan\\OneDrive\\Documents\\hackaton_lct\\models.pth.tar.\n"
     ]
    },
    {
     "name": "stdout",
     "output_type": "stream",
     "text": [
      "{\"valid\": {\"eval_examples_count\": 4088, \"metrics\": {\"ner_f1\": 79.9636, \"ner_token_f1\": 87.6485}, \"time_spent\": \"0:00:22\", \"epochs_done\": 1, \"batches_seen\": 40, \"train_examples_seen\": 19575, \"impatience\": 0, \"patience_limit\": 100}}\n"
     ]
    },
    {
     "name": "stderr",
     "output_type": "stream",
     "text": [
      "1it [00:00, 11.52it/s]]"
     ]
    },
    {
     "name": "stdout",
     "output_type": "stream",
     "text": [
      "{\"train\": {\"eval_examples_count\": 500, \"metrics\": {\"ner_f1\": 83.1255, \"ner_token_f1\": 89.0694}, \"time_spent\": \"0:00:27\", \"epochs_done\": 1, \"batches_seen\": 50, \"train_examples_seen\": 24575, \"loss\": 0.17585826218128203}}\n"
     ]
    },
    {
     "name": "stderr",
     "output_type": "stream",
     "text": [
      "\n",
      "9it [00:00, 11.57it/s]\n",
      "2025-09-24 12:23:17.760 INFO in 'deeppavlov.core.trainers.nn_trainer'['nn_trainer'] at line 206: Improved best ner_f1 from 79.9636 to 83.6778\n",
      "2025-09-24 12:23:17.760 INFO in 'deeppavlov.core.trainers.nn_trainer'['nn_trainer'] at line 208: Saving model\n",
      "2025-09-24 12:23:17.761 INFO in 'deeppavlov.core.models.torch_model'['torch_model'] at line 175: Saving model to C:\\Users\\lexan\\OneDrive\\Documents\\hackaton_lct\\models.pth.tar.\n"
     ]
    },
    {
     "name": "stdout",
     "output_type": "stream",
     "text": [
      "{\"valid\": {\"eval_examples_count\": 4088, \"metrics\": {\"ner_f1\": 83.6778, \"ner_token_f1\": 89.0485}, \"time_spent\": \"0:00:28\", \"epochs_done\": 1, \"batches_seen\": 50, \"train_examples_seen\": 24575, \"impatience\": 0, \"patience_limit\": 100}}\n"
     ]
    },
    {
     "name": "stderr",
     "output_type": "stream",
     "text": [
      "1it [00:00, 11.16it/s]]"
     ]
    },
    {
     "name": "stdout",
     "output_type": "stream",
     "text": [
      "{\"train\": {\"eval_examples_count\": 500, \"metrics\": {\"ner_f1\": 87.9325, \"ner_token_f1\": 91.3819}, \"time_spent\": \"0:00:33\", \"epochs_done\": 1, \"batches_seen\": 60, \"train_examples_seen\": 29575, \"loss\": 0.17046552747488022}}\n"
     ]
    },
    {
     "name": "stderr",
     "output_type": "stream",
     "text": [
      "\n",
      "9it [00:01,  8.37it/s]\n",
      "2025-09-24 12:23:23.836 INFO in 'deeppavlov.core.trainers.nn_trainer'['nn_trainer'] at line 206: Improved best ner_f1 from 83.6778 to 85.9637\n",
      "2025-09-24 12:23:23.837 INFO in 'deeppavlov.core.trainers.nn_trainer'['nn_trainer'] at line 208: Saving model\n",
      "2025-09-24 12:23:23.838 INFO in 'deeppavlov.core.models.torch_model'['torch_model'] at line 175: Saving model to C:\\Users\\lexan\\OneDrive\\Documents\\hackaton_lct\\models.pth.tar.\n"
     ]
    },
    {
     "name": "stdout",
     "output_type": "stream",
     "text": [
      "{\"valid\": {\"eval_examples_count\": 4088, \"metrics\": {\"ner_f1\": 85.9637, \"ner_token_f1\": 90.1381}, \"time_spent\": \"0:00:34\", \"epochs_done\": 1, \"batches_seen\": 60, \"train_examples_seen\": 29575, \"impatience\": 0, \"patience_limit\": 100}}\n"
     ]
    },
    {
     "name": "stderr",
     "output_type": "stream",
     "text": [
      "1it [00:00,  9.09it/s]]"
     ]
    },
    {
     "name": "stdout",
     "output_type": "stream",
     "text": [
      "{\"train\": {\"eval_examples_count\": 500, \"metrics\": {\"ner_f1\": 89.4694, \"ner_token_f1\": 92.893}, \"time_spent\": \"0:00:39\", \"epochs_done\": 1, \"batches_seen\": 70, \"train_examples_seen\": 34575, \"loss\": 0.13348217606544494}}\n"
     ]
    },
    {
     "name": "stderr",
     "output_type": "stream",
     "text": [
      "\n",
      "9it [00:00, 10.28it/s]\n",
      "2025-09-24 12:23:29.937 INFO in 'deeppavlov.core.trainers.nn_trainer'['nn_trainer'] at line 206: Improved best ner_f1 from 85.9637 to 87.2421\n",
      "2025-09-24 12:23:29.938 INFO in 'deeppavlov.core.trainers.nn_trainer'['nn_trainer'] at line 208: Saving model\n",
      "2025-09-24 12:23:29.939 INFO in 'deeppavlov.core.models.torch_model'['torch_model'] at line 175: Saving model to C:\\Users\\lexan\\OneDrive\\Documents\\hackaton_lct\\models.pth.tar.\n"
     ]
    },
    {
     "name": "stdout",
     "output_type": "stream",
     "text": [
      "{\"valid\": {\"eval_examples_count\": 4088, \"metrics\": {\"ner_f1\": 87.2421, \"ner_token_f1\": 91.076}, \"time_spent\": \"0:00:40\", \"epochs_done\": 1, \"batches_seen\": 70, \"train_examples_seen\": 34575, \"impatience\": 0, \"patience_limit\": 100}}\n"
     ]
    },
    {
     "name": "stderr",
     "output_type": "stream",
     "text": [
      "39it [00:34,  1.14it/s]\n",
      "1it [00:00,  9.50it/s]"
     ]
    },
    {
     "name": "stdout",
     "output_type": "stream",
     "text": [
      "{\"train\": {\"eval_examples_count\": 500, \"metrics\": {\"ner_f1\": 87.3191, \"ner_token_f1\": 90.9492}, \"time_spent\": \"0:00:56\", \"epochs_done\": 2, \"batches_seen\": 80, \"train_examples_seen\": 39150, \"loss\": 0.13160640075802804}}\n"
     ]
    },
    {
     "name": "stderr",
     "output_type": "stream",
     "text": [
      "\n",
      "9it [00:00, 10.41it/s]\n",
      "2025-09-24 12:23:46.526 INFO in 'deeppavlov.core.trainers.nn_trainer'['nn_trainer'] at line 211: Did not improve on the ner_f1 of 87.2421\n"
     ]
    },
    {
     "name": "stdout",
     "output_type": "stream",
     "text": [
      "{\"valid\": {\"eval_examples_count\": 4088, \"metrics\": {\"ner_f1\": 87.2321, \"ner_token_f1\": 90.914}, \"time_spent\": \"0:00:56\", \"epochs_done\": 2, \"batches_seen\": 80, \"train_examples_seen\": 39150, \"impatience\": 1, \"patience_limit\": 100}}\n"
     ]
    },
    {
     "name": "stderr",
     "output_type": "stream",
     "text": [
      "1it [00:00,  9.64it/s]]"
     ]
    },
    {
     "name": "stdout",
     "output_type": "stream",
     "text": [
      "{\"train\": {\"eval_examples_count\": 500, \"metrics\": {\"ner_f1\": 91.5966, \"ner_token_f1\": 93.4317}, \"time_spent\": \"0:00:59\", \"epochs_done\": 2, \"batches_seen\": 90, \"train_examples_seen\": 44150, \"loss\": 0.11817527264356613}}\n"
     ]
    },
    {
     "name": "stderr",
     "output_type": "stream",
     "text": [
      "\n",
      "9it [00:00, 10.33it/s]\n",
      "2025-09-24 12:23:49.870 INFO in 'deeppavlov.core.trainers.nn_trainer'['nn_trainer'] at line 206: Improved best ner_f1 from 87.2421 to 89.8677\n",
      "2025-09-24 12:23:49.871 INFO in 'deeppavlov.core.trainers.nn_trainer'['nn_trainer'] at line 208: Saving model\n",
      "2025-09-24 12:23:49.872 INFO in 'deeppavlov.core.models.torch_model'['torch_model'] at line 175: Saving model to C:\\Users\\lexan\\OneDrive\\Documents\\hackaton_lct\\models.pth.tar.\n"
     ]
    },
    {
     "name": "stdout",
     "output_type": "stream",
     "text": [
      "{\"valid\": {\"eval_examples_count\": 4088, \"metrics\": {\"ner_f1\": 89.8677, \"ner_token_f1\": 92.7207}, \"time_spent\": \"0:01:00\", \"epochs_done\": 2, \"batches_seen\": 90, \"train_examples_seen\": 44150, \"impatience\": 0, \"patience_limit\": 100}}\n"
     ]
    },
    {
     "name": "stderr",
     "output_type": "stream",
     "text": [
      "1it [00:00, 10.74it/s]]"
     ]
    },
    {
     "name": "stdout",
     "output_type": "stream",
     "text": [
      "{\"train\": {\"eval_examples_count\": 500, \"metrics\": {\"ner_f1\": 89.9563, \"ner_token_f1\": 92.5843}, \"time_spent\": \"0:01:06\", \"epochs_done\": 2, \"batches_seen\": 100, \"train_examples_seen\": 49150, \"loss\": 0.10539829358458519}}\n"
     ]
    },
    {
     "name": "stderr",
     "output_type": "stream",
     "text": [
      "\n",
      "9it [00:00,  9.43it/s]\n",
      "2025-09-24 12:23:57.327 INFO in 'deeppavlov.core.trainers.nn_trainer'['nn_trainer'] at line 206: Improved best ner_f1 from 89.8677 to 90.1534\n",
      "2025-09-24 12:23:57.328 INFO in 'deeppavlov.core.trainers.nn_trainer'['nn_trainer'] at line 208: Saving model\n",
      "2025-09-24 12:23:57.329 INFO in 'deeppavlov.core.models.torch_model'['torch_model'] at line 175: Saving model to C:\\Users\\lexan\\OneDrive\\Documents\\hackaton_lct\\models.pth.tar.\n"
     ]
    },
    {
     "name": "stdout",
     "output_type": "stream",
     "text": [
      "{\"valid\": {\"eval_examples_count\": 4088, \"metrics\": {\"ner_f1\": 90.1534, \"ner_token_f1\": 92.7356}, \"time_spent\": \"0:01:07\", \"epochs_done\": 2, \"batches_seen\": 100, \"train_examples_seen\": 49150, \"impatience\": 0, \"patience_limit\": 100}}\n"
     ]
    },
    {
     "name": "stderr",
     "output_type": "stream",
     "text": [
      "1it [00:00, 10.34it/s]]"
     ]
    },
    {
     "name": "stdout",
     "output_type": "stream",
     "text": [
      "{\"train\": {\"eval_examples_count\": 500, \"metrics\": {\"ner_f1\": 94.7997, \"ner_token_f1\": 95.7871}, \"time_spent\": \"0:01:12\", \"epochs_done\": 2, \"batches_seen\": 110, \"train_examples_seen\": 54150, \"loss\": 0.08763326108455657}}\n"
     ]
    },
    {
     "name": "stderr",
     "output_type": "stream",
     "text": [
      "\n",
      "9it [00:00, 10.75it/s]\n",
      "2025-09-24 12:24:03.399 INFO in 'deeppavlov.core.trainers.nn_trainer'['nn_trainer'] at line 206: Improved best ner_f1 from 90.1534 to 91.2487\n",
      "2025-09-24 12:24:03.399 INFO in 'deeppavlov.core.trainers.nn_trainer'['nn_trainer'] at line 208: Saving model\n",
      "2025-09-24 12:24:03.400 INFO in 'deeppavlov.core.models.torch_model'['torch_model'] at line 175: Saving model to C:\\Users\\lexan\\OneDrive\\Documents\\hackaton_lct\\models.pth.tar.\n"
     ]
    },
    {
     "name": "stdout",
     "output_type": "stream",
     "text": [
      "{\"valid\": {\"eval_examples_count\": 4088, \"metrics\": {\"ner_f1\": 91.2487, \"ner_token_f1\": 93.6973}, \"time_spent\": \"0:01:13\", \"epochs_done\": 2, \"batches_seen\": 110, \"train_examples_seen\": 54150, \"impatience\": 0, \"patience_limit\": 100}}\n"
     ]
    },
    {
     "name": "stderr",
     "output_type": "stream",
     "text": [
      "39it [00:22,  1.73it/s]\n",
      "1it [00:00,  8.32it/s]"
     ]
    },
    {
     "name": "stdout",
     "output_type": "stream",
     "text": [
      "{\"train\": {\"eval_examples_count\": 500, \"metrics\": {\"ner_f1\": 95.382, \"ner_token_f1\": 96.9253}, \"time_spent\": \"0:01:18\", \"epochs_done\": 3, \"batches_seen\": 120, \"train_examples_seen\": 58725, \"loss\": 0.0872465044260025}}\n"
     ]
    },
    {
     "name": "stderr",
     "output_type": "stream",
     "text": [
      "\n",
      "9it [00:00,  9.60it/s]\n",
      "2025-09-24 12:24:09.398 INFO in 'deeppavlov.core.trainers.nn_trainer'['nn_trainer'] at line 206: Improved best ner_f1 from 91.2487 to 91.5971\n",
      "2025-09-24 12:24:09.399 INFO in 'deeppavlov.core.trainers.nn_trainer'['nn_trainer'] at line 208: Saving model\n",
      "2025-09-24 12:24:09.400 INFO in 'deeppavlov.core.models.torch_model'['torch_model'] at line 175: Saving model to C:\\Users\\lexan\\OneDrive\\Documents\\hackaton_lct\\models.pth.tar.\n"
     ]
    },
    {
     "name": "stdout",
     "output_type": "stream",
     "text": [
      "{\"valid\": {\"eval_examples_count\": 4088, \"metrics\": {\"ner_f1\": 91.5971, \"ner_token_f1\": 93.8234}, \"time_spent\": \"0:01:19\", \"epochs_done\": 3, \"batches_seen\": 120, \"train_examples_seen\": 58725, \"impatience\": 0, \"patience_limit\": 100}}\n"
     ]
    },
    {
     "name": "stderr",
     "output_type": "stream",
     "text": [
      "1it [00:00,  9.39it/s]]"
     ]
    },
    {
     "name": "stdout",
     "output_type": "stream",
     "text": [
      "{\"train\": {\"eval_examples_count\": 500, \"metrics\": {\"ner_f1\": 94.1569, \"ner_token_f1\": 95.4915}, \"time_spent\": \"0:01:25\", \"epochs_done\": 3, \"batches_seen\": 130, \"train_examples_seen\": 63725, \"loss\": 0.07739191725850106}}\n"
     ]
    },
    {
     "name": "stderr",
     "output_type": "stream",
     "text": [
      "\n",
      "9it [00:00,  9.19it/s]\n",
      "2025-09-24 12:24:15.859 INFO in 'deeppavlov.core.trainers.nn_trainer'['nn_trainer'] at line 211: Did not improve on the ner_f1 of 91.5971\n"
     ]
    },
    {
     "name": "stdout",
     "output_type": "stream",
     "text": [
      "{\"valid\": {\"eval_examples_count\": 4088, \"metrics\": {\"ner_f1\": 91.3795, \"ner_token_f1\": 93.5849}, \"time_spent\": \"0:01:26\", \"epochs_done\": 3, \"batches_seen\": 130, \"train_examples_seen\": 63725, \"impatience\": 1, \"patience_limit\": 100}}\n"
     ]
    },
    {
     "name": "stderr",
     "output_type": "stream",
     "text": [
      "1it [00:00, 10.41it/s]]"
     ]
    },
    {
     "name": "stdout",
     "output_type": "stream",
     "text": [
      "{\"train\": {\"eval_examples_count\": 500, \"metrics\": {\"ner_f1\": 95.515, \"ner_token_f1\": 96.8108}, \"time_spent\": \"0:01:28\", \"epochs_done\": 3, \"batches_seen\": 140, \"train_examples_seen\": 68725, \"loss\": 0.08050289154052734}}\n"
     ]
    },
    {
     "name": "stderr",
     "output_type": "stream",
     "text": [
      "\n",
      "9it [00:00, 10.46it/s]\n",
      "2025-09-24 12:24:19.176 INFO in 'deeppavlov.core.trainers.nn_trainer'['nn_trainer'] at line 206: Improved best ner_f1 from 91.5971 to 91.7395\n",
      "2025-09-24 12:24:19.176 INFO in 'deeppavlov.core.trainers.nn_trainer'['nn_trainer'] at line 208: Saving model\n",
      "2025-09-24 12:24:19.177 INFO in 'deeppavlov.core.models.torch_model'['torch_model'] at line 175: Saving model to C:\\Users\\lexan\\OneDrive\\Documents\\hackaton_lct\\models.pth.tar.\n"
     ]
    },
    {
     "name": "stdout",
     "output_type": "stream",
     "text": [
      "{\"valid\": {\"eval_examples_count\": 4088, \"metrics\": {\"ner_f1\": 91.7395, \"ner_token_f1\": 93.8272}, \"time_spent\": \"0:01:29\", \"epochs_done\": 3, \"batches_seen\": 140, \"train_examples_seen\": 68725, \"impatience\": 0, \"patience_limit\": 100}}\n"
     ]
    },
    {
     "name": "stderr",
     "output_type": "stream",
     "text": [
      "1it [00:00,  9.75it/s]]"
     ]
    },
    {
     "name": "stdout",
     "output_type": "stream",
     "text": [
      "{\"train\": {\"eval_examples_count\": 500, \"metrics\": {\"ner_f1\": 94.7819, \"ner_token_f1\": 95.6069}, \"time_spent\": \"0:01:39\", \"epochs_done\": 3, \"batches_seen\": 150, \"train_examples_seen\": 73725, \"loss\": 0.07441850639879703}}\n"
     ]
    },
    {
     "name": "stderr",
     "output_type": "stream",
     "text": [
      "\n",
      "9it [00:00, 10.23it/s]\n",
      "2025-09-24 12:24:30.448 INFO in 'deeppavlov.core.trainers.nn_trainer'['nn_trainer'] at line 206: Improved best ner_f1 from 91.7395 to 91.9854\n",
      "2025-09-24 12:24:30.449 INFO in 'deeppavlov.core.trainers.nn_trainer'['nn_trainer'] at line 208: Saving model\n",
      "2025-09-24 12:24:30.450 INFO in 'deeppavlov.core.models.torch_model'['torch_model'] at line 175: Saving model to C:\\Users\\lexan\\OneDrive\\Documents\\hackaton_lct\\models.pth.tar.\n"
     ]
    },
    {
     "name": "stdout",
     "output_type": "stream",
     "text": [
      "{\"valid\": {\"eval_examples_count\": 4088, \"metrics\": {\"ner_f1\": 91.9854, \"ner_token_f1\": 93.9906}, \"time_spent\": \"0:01:40\", \"epochs_done\": 3, \"batches_seen\": 150, \"train_examples_seen\": 73725, \"impatience\": 0, \"patience_limit\": 100}}\n"
     ]
    },
    {
     "name": "stderr",
     "output_type": "stream",
     "text": [
      "39it [00:40,  1.04s/it]\n",
      "1it [00:00,  9.59it/s]"
     ]
    },
    {
     "name": "stdout",
     "output_type": "stream",
     "text": [
      "{\"train\": {\"eval_examples_count\": 500, \"metrics\": {\"ner_f1\": 95.4205, \"ner_token_f1\": 96.4132}, \"time_spent\": \"0:01:59\", \"epochs_done\": 4, \"batches_seen\": 160, \"train_examples_seen\": 78300, \"loss\": 0.0747322428971529}}\n"
     ]
    },
    {
     "name": "stderr",
     "output_type": "stream",
     "text": [
      "\n",
      "9it [00:00, 10.46it/s]\n",
      "2025-09-24 12:24:50.22 INFO in 'deeppavlov.core.trainers.nn_trainer'['nn_trainer'] at line 211: Did not improve on the ner_f1 of 91.9854\n"
     ]
    },
    {
     "name": "stdout",
     "output_type": "stream",
     "text": [
      "{\"valid\": {\"eval_examples_count\": 4088, \"metrics\": {\"ner_f1\": 91.7907, \"ner_token_f1\": 94.032}, \"time_spent\": \"0:02:00\", \"epochs_done\": 4, \"batches_seen\": 160, \"train_examples_seen\": 78300, \"impatience\": 1, \"patience_limit\": 100}}\n"
     ]
    },
    {
     "name": "stderr",
     "output_type": "stream",
     "text": [
      "1it [00:00,  9.59it/s]]"
     ]
    },
    {
     "name": "stdout",
     "output_type": "stream",
     "text": [
      "{\"train\": {\"eval_examples_count\": 500, \"metrics\": {\"ner_f1\": 94.4732, \"ner_token_f1\": 95.4579}, \"time_spent\": \"0:02:02\", \"epochs_done\": 4, \"batches_seen\": 170, \"train_examples_seen\": 83300, \"loss\": 0.06719946004450321}}\n"
     ]
    },
    {
     "name": "stderr",
     "output_type": "stream",
     "text": [
      "\n",
      "9it [00:00, 10.89it/s]\n",
      "2025-09-24 12:24:53.303 INFO in 'deeppavlov.core.trainers.nn_trainer'['nn_trainer'] at line 206: Improved best ner_f1 from 91.9854 to 92.2678\n",
      "2025-09-24 12:24:53.303 INFO in 'deeppavlov.core.trainers.nn_trainer'['nn_trainer'] at line 208: Saving model\n",
      "2025-09-24 12:24:53.304 INFO in 'deeppavlov.core.models.torch_model'['torch_model'] at line 175: Saving model to C:\\Users\\lexan\\OneDrive\\Documents\\hackaton_lct\\models.pth.tar.\n"
     ]
    },
    {
     "name": "stdout",
     "output_type": "stream",
     "text": [
      "{\"valid\": {\"eval_examples_count\": 4088, \"metrics\": {\"ner_f1\": 92.2678, \"ner_token_f1\": 94.1862}, \"time_spent\": \"0:02:03\", \"epochs_done\": 4, \"batches_seen\": 170, \"train_examples_seen\": 83300, \"impatience\": 0, \"patience_limit\": 100}}\n"
     ]
    },
    {
     "name": "stderr",
     "output_type": "stream",
     "text": [
      "1it [00:00, 10.86it/s]]"
     ]
    },
    {
     "name": "stdout",
     "output_type": "stream",
     "text": [
      "{\"train\": {\"eval_examples_count\": 500, \"metrics\": {\"ner_f1\": 94.7103, \"ner_token_f1\": 96.1622}, \"time_spent\": \"0:02:08\", \"epochs_done\": 4, \"batches_seen\": 180, \"train_examples_seen\": 88300, \"loss\": 0.05905720889568329}}\n"
     ]
    },
    {
     "name": "stderr",
     "output_type": "stream",
     "text": [
      "\n",
      "9it [00:00, 10.65it/s]\n",
      "2025-09-24 12:24:59.235 INFO in 'deeppavlov.core.trainers.nn_trainer'['nn_trainer'] at line 206: Improved best ner_f1 from 92.2678 to 92.6824\n",
      "2025-09-24 12:24:59.236 INFO in 'deeppavlov.core.trainers.nn_trainer'['nn_trainer'] at line 208: Saving model\n",
      "2025-09-24 12:24:59.236 INFO in 'deeppavlov.core.models.torch_model'['torch_model'] at line 175: Saving model to C:\\Users\\lexan\\OneDrive\\Documents\\hackaton_lct\\models.pth.tar.\n"
     ]
    },
    {
     "name": "stdout",
     "output_type": "stream",
     "text": [
      "{\"valid\": {\"eval_examples_count\": 4088, \"metrics\": {\"ner_f1\": 92.6824, \"ner_token_f1\": 94.2657}, \"time_spent\": \"0:02:09\", \"epochs_done\": 4, \"batches_seen\": 180, \"train_examples_seen\": 88300, \"impatience\": 0, \"patience_limit\": 100}}\n"
     ]
    },
    {
     "name": "stderr",
     "output_type": "stream",
     "text": [
      "1it [00:00, 10.38it/s]]"
     ]
    },
    {
     "name": "stdout",
     "output_type": "stream",
     "text": [
      "{\"train\": {\"eval_examples_count\": 500, \"metrics\": {\"ner_f1\": 97.006, \"ner_token_f1\": 97.5428}, \"time_spent\": \"0:02:14\", \"epochs_done\": 4, \"batches_seen\": 190, \"train_examples_seen\": 93300, \"loss\": 0.05967274233698845}}\n"
     ]
    },
    {
     "name": "stderr",
     "output_type": "stream",
     "text": [
      "\n",
      "9it [00:00, 10.29it/s]\n",
      "2025-09-24 12:25:05.150 INFO in 'deeppavlov.core.trainers.nn_trainer'['nn_trainer'] at line 211: Did not improve on the ner_f1 of 92.6824\n"
     ]
    },
    {
     "name": "stdout",
     "output_type": "stream",
     "text": [
      "{\"valid\": {\"eval_examples_count\": 4088, \"metrics\": {\"ner_f1\": 92.6743, \"ner_token_f1\": 94.2373}, \"time_spent\": \"0:02:15\", \"epochs_done\": 4, \"batches_seen\": 190, \"train_examples_seen\": 93300, \"impatience\": 1, \"patience_limit\": 100}}\n"
     ]
    },
    {
     "name": "stderr",
     "output_type": "stream",
     "text": [
      "39it [00:18,  2.15it/s]\n",
      "1it [00:00,  9.39it/s]"
     ]
    },
    {
     "name": "stdout",
     "output_type": "stream",
     "text": [
      "{\"train\": {\"eval_examples_count\": 500, \"metrics\": {\"ner_f1\": 96.5347, \"ner_token_f1\": 97.7305}, \"time_spent\": \"0:02:17\", \"epochs_done\": 5, \"batches_seen\": 200, \"train_examples_seen\": 97875, \"loss\": 0.05726950392127037}}\n"
     ]
    },
    {
     "name": "stderr",
     "output_type": "stream",
     "text": [
      "\n",
      "9it [00:00,  9.24it/s]\n",
      "2025-09-24 12:25:08.456 INFO in 'deeppavlov.core.trainers.nn_trainer'['nn_trainer'] at line 211: Did not improve on the ner_f1 of 92.6824\n"
     ]
    },
    {
     "name": "stdout",
     "output_type": "stream",
     "text": [
      "{\"valid\": {\"eval_examples_count\": 4088, \"metrics\": {\"ner_f1\": 92.2884, \"ner_token_f1\": 93.8536}, \"time_spent\": \"0:02:18\", \"epochs_done\": 5, \"batches_seen\": 200, \"train_examples_seen\": 97875, \"impatience\": 2, \"patience_limit\": 100}}\n"
     ]
    },
    {
     "name": "stderr",
     "output_type": "stream",
     "text": [
      "1it [00:00, 10.63it/s]]"
     ]
    },
    {
     "name": "stdout",
     "output_type": "stream",
     "text": [
      "{\"train\": {\"eval_examples_count\": 500, \"metrics\": {\"ner_f1\": 95.2775, \"ner_token_f1\": 96.4672}, \"time_spent\": \"0:02:21\", \"epochs_done\": 5, \"batches_seen\": 210, \"train_examples_seen\": 102875, \"loss\": 0.04845524281263351}}\n"
     ]
    },
    {
     "name": "stderr",
     "output_type": "stream",
     "text": [
      "\n",
      "9it [00:00, 10.39it/s]\n",
      "2025-09-24 12:25:11.767 INFO in 'deeppavlov.core.trainers.nn_trainer'['nn_trainer'] at line 211: Did not improve on the ner_f1 of 92.6824\n"
     ]
    },
    {
     "name": "stdout",
     "output_type": "stream",
     "text": [
      "{\"valid\": {\"eval_examples_count\": 4088, \"metrics\": {\"ner_f1\": 92.3574, \"ner_token_f1\": 94.1483}, \"time_spent\": \"0:02:22\", \"epochs_done\": 5, \"batches_seen\": 210, \"train_examples_seen\": 102875, \"impatience\": 3, \"patience_limit\": 100}}\n"
     ]
    },
    {
     "name": "stderr",
     "output_type": "stream",
     "text": [
      "1it [00:00,  8.16it/s]]"
     ]
    },
    {
     "name": "stdout",
     "output_type": "stream",
     "text": [
      "{\"train\": {\"eval_examples_count\": 500, \"metrics\": {\"ner_f1\": 96.4103, \"ner_token_f1\": 97.5717}, \"time_spent\": \"0:02:24\", \"epochs_done\": 5, \"batches_seen\": 220, \"train_examples_seen\": 107875, \"loss\": 0.051786848530173304}}\n"
     ]
    },
    {
     "name": "stderr",
     "output_type": "stream",
     "text": [
      "\n",
      "9it [00:00,  9.53it/s]\n",
      "2025-09-24 12:25:15.383 INFO in 'deeppavlov.core.trainers.nn_trainer'['nn_trainer'] at line 206: Improved best ner_f1 from 92.6824 to 92.756\n",
      "2025-09-24 12:25:15.383 INFO in 'deeppavlov.core.trainers.nn_trainer'['nn_trainer'] at line 208: Saving model\n",
      "2025-09-24 12:25:15.384 INFO in 'deeppavlov.core.models.torch_model'['torch_model'] at line 175: Saving model to C:\\Users\\lexan\\OneDrive\\Documents\\hackaton_lct\\models.pth.tar.\n"
     ]
    },
    {
     "name": "stdout",
     "output_type": "stream",
     "text": [
      "{\"valid\": {\"eval_examples_count\": 4088, \"metrics\": {\"ner_f1\": 92.756, \"ner_token_f1\": 94.3403}, \"time_spent\": \"0:02:25\", \"epochs_done\": 5, \"batches_seen\": 220, \"train_examples_seen\": 107875, \"impatience\": 0, \"patience_limit\": 100}}\n"
     ]
    },
    {
     "name": "stderr",
     "output_type": "stream",
     "text": [
      "1it [00:00, 10.15it/s]]"
     ]
    },
    {
     "name": "stdout",
     "output_type": "stream",
     "text": [
      "{\"train\": {\"eval_examples_count\": 500, \"metrics\": {\"ner_f1\": 96.2585, \"ner_token_f1\": 97.4508}, \"time_spent\": \"0:02:30\", \"epochs_done\": 5, \"batches_seen\": 230, \"train_examples_seen\": 112875, \"loss\": 0.052445721626281736}}\n"
     ]
    },
    {
     "name": "stderr",
     "output_type": "stream",
     "text": [
      "\n",
      "9it [00:00,  9.28it/s]\n",
      "2025-09-24 12:25:21.484 INFO in 'deeppavlov.core.trainers.nn_trainer'['nn_trainer'] at line 206: Improved best ner_f1 from 92.756 to 93.2256\n",
      "2025-09-24 12:25:21.485 INFO in 'deeppavlov.core.trainers.nn_trainer'['nn_trainer'] at line 208: Saving model\n",
      "2025-09-24 12:25:21.486 INFO in 'deeppavlov.core.models.torch_model'['torch_model'] at line 175: Saving model to C:\\Users\\lexan\\OneDrive\\Documents\\hackaton_lct\\models.pth.tar.\n"
     ]
    },
    {
     "name": "stdout",
     "output_type": "stream",
     "text": [
      "{\"valid\": {\"eval_examples_count\": 4088, \"metrics\": {\"ner_f1\": 93.2256, \"ner_token_f1\": 94.8492}, \"time_spent\": \"0:02:31\", \"epochs_done\": 5, \"batches_seen\": 230, \"train_examples_seen\": 112875, \"impatience\": 0, \"patience_limit\": 100}}\n"
     ]
    },
    {
     "name": "stderr",
     "output_type": "stream",
     "text": [
      "39it [00:18,  2.08it/s]\n",
      "1it [00:00, 10.41it/s]"
     ]
    },
    {
     "name": "stdout",
     "output_type": "stream",
     "text": [
      "{\"train\": {\"eval_examples_count\": 500, \"metrics\": {\"ner_f1\": 98.5726, \"ner_token_f1\": 98.8962}, \"time_spent\": \"0:02:36\", \"epochs_done\": 6, \"batches_seen\": 240, \"train_examples_seen\": 117450, \"loss\": 0.0446699395775795}}\n"
     ]
    },
    {
     "name": "stderr",
     "output_type": "stream",
     "text": [
      "\n",
      "9it [00:00, 10.35it/s]\n",
      "2025-09-24 12:25:27.242 INFO in 'deeppavlov.core.trainers.nn_trainer'['nn_trainer'] at line 211: Did not improve on the ner_f1 of 93.2256\n"
     ]
    },
    {
     "name": "stdout",
     "output_type": "stream",
     "text": [
      "{\"valid\": {\"eval_examples_count\": 4088, \"metrics\": {\"ner_f1\": 93.1424, \"ner_token_f1\": 94.6868}, \"time_spent\": \"0:02:37\", \"epochs_done\": 6, \"batches_seen\": 240, \"train_examples_seen\": 117450, \"impatience\": 1, \"patience_limit\": 100}}\n"
     ]
    },
    {
     "name": "stderr",
     "output_type": "stream",
     "text": [
      "1it [00:00, 10.47it/s]]"
     ]
    },
    {
     "name": "stdout",
     "output_type": "stream",
     "text": [
      "{\"train\": {\"eval_examples_count\": 500, \"metrics\": {\"ner_f1\": 97.201, \"ner_token_f1\": 97.9122}, \"time_spent\": \"0:02:40\", \"epochs_done\": 6, \"batches_seen\": 250, \"train_examples_seen\": 122450, \"loss\": 0.041009615361690524}}\n"
     ]
    },
    {
     "name": "stderr",
     "output_type": "stream",
     "text": [
      "\n",
      "9it [00:00, 10.42it/s]\n",
      "2025-09-24 12:25:30.627 INFO in 'deeppavlov.core.trainers.nn_trainer'['nn_trainer'] at line 211: Did not improve on the ner_f1 of 93.2256\n"
     ]
    },
    {
     "name": "stdout",
     "output_type": "stream",
     "text": [
      "{\"valid\": {\"eval_examples_count\": 4088, \"metrics\": {\"ner_f1\": 93.0242, \"ner_token_f1\": 94.6233}, \"time_spent\": \"0:02:41\", \"epochs_done\": 6, \"batches_seen\": 250, \"train_examples_seen\": 122450, \"impatience\": 2, \"patience_limit\": 100}}\n"
     ]
    },
    {
     "name": "stderr",
     "output_type": "stream",
     "text": [
      "1it [00:00,  9.70it/s]]"
     ]
    },
    {
     "name": "stdout",
     "output_type": "stream",
     "text": [
      "{\"train\": {\"eval_examples_count\": 500, \"metrics\": {\"ner_f1\": 97.6231, \"ner_token_f1\": 98.3051}, \"time_spent\": \"0:02:43\", \"epochs_done\": 6, \"batches_seen\": 260, \"train_examples_seen\": 127450, \"loss\": 0.0436351552605629}}\n"
     ]
    },
    {
     "name": "stderr",
     "output_type": "stream",
     "text": [
      "\n",
      "9it [00:00, 10.80it/s]\n",
      "2025-09-24 12:25:33.900 INFO in 'deeppavlov.core.trainers.nn_trainer'['nn_trainer'] at line 206: Improved best ner_f1 from 93.2256 to 93.3028\n",
      "2025-09-24 12:25:33.900 INFO in 'deeppavlov.core.trainers.nn_trainer'['nn_trainer'] at line 208: Saving model\n",
      "2025-09-24 12:25:33.901 INFO in 'deeppavlov.core.models.torch_model'['torch_model'] at line 175: Saving model to C:\\Users\\lexan\\OneDrive\\Documents\\hackaton_lct\\models.pth.tar.\n"
     ]
    },
    {
     "name": "stdout",
     "output_type": "stream",
     "text": [
      "{\"valid\": {\"eval_examples_count\": 4088, \"metrics\": {\"ner_f1\": 93.3028, \"ner_token_f1\": 94.8326}, \"time_spent\": \"0:02:44\", \"epochs_done\": 6, \"batches_seen\": 260, \"train_examples_seen\": 127450, \"impatience\": 0, \"patience_limit\": 100}}\n"
     ]
    },
    {
     "name": "stderr",
     "output_type": "stream",
     "text": [
      "1it [00:00,  8.40it/s]]"
     ]
    },
    {
     "name": "stdout",
     "output_type": "stream",
     "text": [
      "{\"train\": {\"eval_examples_count\": 500, \"metrics\": {\"ner_f1\": 97.8003, \"ner_token_f1\": 98.6162}, \"time_spent\": \"0:02:56\", \"epochs_done\": 6, \"batches_seen\": 270, \"train_examples_seen\": 132450, \"loss\": 0.03859170861542225}}\n"
     ]
    },
    {
     "name": "stderr",
     "output_type": "stream",
     "text": [
      "\n",
      "9it [00:01,  8.63it/s]\n",
      "2025-09-24 12:25:46.883 INFO in 'deeppavlov.core.trainers.nn_trainer'['nn_trainer'] at line 211: Did not improve on the ner_f1 of 93.3028\n"
     ]
    },
    {
     "name": "stdout",
     "output_type": "stream",
     "text": [
      "{\"valid\": {\"eval_examples_count\": 4088, \"metrics\": {\"ner_f1\": 92.837, \"ner_token_f1\": 94.4909}, \"time_spent\": \"0:02:57\", \"epochs_done\": 6, \"batches_seen\": 270, \"train_examples_seen\": 132450, \"impatience\": 1, \"patience_limit\": 100}}\n"
     ]
    },
    {
     "name": "stderr",
     "output_type": "stream",
     "text": [
      "39it [00:22,  1.73it/s]\n",
      "1it [00:00, 10.17it/s]"
     ]
    },
    {
     "name": "stdout",
     "output_type": "stream",
     "text": [
      "{\"train\": {\"eval_examples_count\": 500, \"metrics\": {\"ner_f1\": 97.9239, \"ner_token_f1\": 98.797}, \"time_spent\": \"0:02:59\", \"epochs_done\": 7, \"batches_seen\": 280, \"train_examples_seen\": 137025, \"loss\": 0.03987431656569242}}\n"
     ]
    },
    {
     "name": "stderr",
     "output_type": "stream",
     "text": [
      "\n",
      "9it [00:00, 10.25it/s]\n",
      "2025-09-24 12:25:50.303 INFO in 'deeppavlov.core.trainers.nn_trainer'['nn_trainer'] at line 206: Improved best ner_f1 from 93.3028 to 93.3625\n",
      "2025-09-24 12:25:50.304 INFO in 'deeppavlov.core.trainers.nn_trainer'['nn_trainer'] at line 208: Saving model\n",
      "2025-09-24 12:25:50.304 INFO in 'deeppavlov.core.models.torch_model'['torch_model'] at line 175: Saving model to C:\\Users\\lexan\\OneDrive\\Documents\\hackaton_lct\\models.pth.tar.\n"
     ]
    },
    {
     "name": "stdout",
     "output_type": "stream",
     "text": [
      "{\"valid\": {\"eval_examples_count\": 4088, \"metrics\": {\"ner_f1\": 93.3625, \"ner_token_f1\": 94.9092}, \"time_spent\": \"0:03:00\", \"epochs_done\": 7, \"batches_seen\": 280, \"train_examples_seen\": 137025, \"impatience\": 0, \"patience_limit\": 100}}\n"
     ]
    },
    {
     "name": "stderr",
     "output_type": "stream",
     "text": [
      "1it [00:00,  9.55it/s]]"
     ]
    },
    {
     "name": "stdout",
     "output_type": "stream",
     "text": [
      "{\"train\": {\"eval_examples_count\": 500, \"metrics\": {\"ner_f1\": 98.3691, \"ner_token_f1\": 98.7072}, \"time_spent\": \"0:03:06\", \"epochs_done\": 7, \"batches_seen\": 290, \"train_examples_seen\": 142025, \"loss\": 0.03372369352728129}}\n"
     ]
    },
    {
     "name": "stderr",
     "output_type": "stream",
     "text": [
      "\n",
      "9it [00:00,  9.97it/s]\n",
      "2025-09-24 12:25:56.505 INFO in 'deeppavlov.core.trainers.nn_trainer'['nn_trainer'] at line 211: Did not improve on the ner_f1 of 93.3625\n"
     ]
    },
    {
     "name": "stdout",
     "output_type": "stream",
     "text": [
      "{\"valid\": {\"eval_examples_count\": 4088, \"metrics\": {\"ner_f1\": 93.1124, \"ner_token_f1\": 94.7814}, \"time_spent\": \"0:03:06\", \"epochs_done\": 7, \"batches_seen\": 290, \"train_examples_seen\": 142025, \"impatience\": 1, \"patience_limit\": 100}}\n"
     ]
    },
    {
     "name": "stderr",
     "output_type": "stream",
     "text": [
      "1it [00:00, 10.65it/s]]"
     ]
    },
    {
     "name": "stdout",
     "output_type": "stream",
     "text": [
      "{\"train\": {\"eval_examples_count\": 500, \"metrics\": {\"ner_f1\": 99.3209, \"ner_token_f1\": 99.1342}, \"time_spent\": \"0:03:09\", \"epochs_done\": 7, \"batches_seen\": 300, \"train_examples_seen\": 147025, \"loss\": 0.03345347847789526}}\n"
     ]
    },
    {
     "name": "stderr",
     "output_type": "stream",
     "text": [
      "\n",
      "9it [00:00,  9.24it/s]\n",
      "2025-09-24 12:26:00.67 INFO in 'deeppavlov.core.trainers.nn_trainer'['nn_trainer'] at line 206: Improved best ner_f1 from 93.3625 to 93.4851\n",
      "2025-09-24 12:26:00.67 INFO in 'deeppavlov.core.trainers.nn_trainer'['nn_trainer'] at line 208: Saving model\n",
      "2025-09-24 12:26:00.68 INFO in 'deeppavlov.core.models.torch_model'['torch_model'] at line 175: Saving model to C:\\Users\\lexan\\OneDrive\\Documents\\hackaton_lct\\models.pth.tar.\n"
     ]
    },
    {
     "name": "stdout",
     "output_type": "stream",
     "text": [
      "{\"valid\": {\"eval_examples_count\": 4088, \"metrics\": {\"ner_f1\": 93.4851, \"ner_token_f1\": 95.0374}, \"time_spent\": \"0:03:10\", \"epochs_done\": 7, \"batches_seen\": 300, \"train_examples_seen\": 147025, \"impatience\": 0, \"patience_limit\": 100}}\n"
     ]
    },
    {
     "name": "stderr",
     "output_type": "stream",
     "text": [
      "1it [00:00, 10.15it/s]]"
     ]
    },
    {
     "name": "stdout",
     "output_type": "stream",
     "text": [
      "{\"train\": {\"eval_examples_count\": 500, \"metrics\": {\"ner_f1\": 98.0936, \"ner_token_f1\": 98.6784}, \"time_spent\": \"0:03:16\", \"epochs_done\": 7, \"batches_seen\": 310, \"train_examples_seen\": 152025, \"loss\": 0.03501552399247885}}\n"
     ]
    },
    {
     "name": "stderr",
     "output_type": "stream",
     "text": [
      "\n",
      "9it [00:00, 10.33it/s]\n",
      "2025-09-24 12:26:06.726 INFO in 'deeppavlov.core.trainers.nn_trainer'['nn_trainer'] at line 206: Improved best ner_f1 from 93.4851 to 93.5168\n",
      "2025-09-24 12:26:06.726 INFO in 'deeppavlov.core.trainers.nn_trainer'['nn_trainer'] at line 208: Saving model\n",
      "2025-09-24 12:26:06.727 INFO in 'deeppavlov.core.models.torch_model'['torch_model'] at line 175: Saving model to C:\\Users\\lexan\\OneDrive\\Documents\\hackaton_lct\\models.pth.tar.\n"
     ]
    },
    {
     "name": "stdout",
     "output_type": "stream",
     "text": [
      "{\"valid\": {\"eval_examples_count\": 4088, \"metrics\": {\"ner_f1\": 93.5168, \"ner_token_f1\": 94.9238}, \"time_spent\": \"0:03:17\", \"epochs_done\": 7, \"batches_seen\": 310, \"train_examples_seen\": 152025, \"impatience\": 0, \"patience_limit\": 100}}\n"
     ]
    },
    {
     "name": "stderr",
     "output_type": "stream",
     "text": [
      "39it [00:22,  1.70it/s]\n",
      "1it [00:00,  9.71it/s]"
     ]
    },
    {
     "name": "stdout",
     "output_type": "stream",
     "text": [
      "{\"train\": {\"eval_examples_count\": 500, \"metrics\": {\"ner_f1\": 98.3141, \"ner_token_f1\": 98.5704}, \"time_spent\": \"0:03:22\", \"epochs_done\": 8, \"batches_seen\": 320, \"train_examples_seen\": 156600, \"loss\": 0.032723874971270564}}\n"
     ]
    },
    {
     "name": "stderr",
     "output_type": "stream",
     "text": [
      "\n",
      "9it [00:00, 10.19it/s]\n",
      "2025-09-24 12:26:13.173 INFO in 'deeppavlov.core.trainers.nn_trainer'['nn_trainer'] at line 211: Did not improve on the ner_f1 of 93.5168\n"
     ]
    },
    {
     "name": "stdout",
     "output_type": "stream",
     "text": [
      "{\"valid\": {\"eval_examples_count\": 4088, \"metrics\": {\"ner_f1\": 93.4744, \"ner_token_f1\": 94.9771}, \"time_spent\": \"0:03:23\", \"epochs_done\": 8, \"batches_seen\": 320, \"train_examples_seen\": 156600, \"impatience\": 1, \"patience_limit\": 100}}\n"
     ]
    },
    {
     "name": "stderr",
     "output_type": "stream",
     "text": [
      "1it [00:00, 10.15it/s]]"
     ]
    },
    {
     "name": "stdout",
     "output_type": "stream",
     "text": [
      "{\"train\": {\"eval_examples_count\": 500, \"metrics\": {\"ner_f1\": 98.575, \"ner_token_f1\": 99.2625}, \"time_spent\": \"0:03:26\", \"epochs_done\": 8, \"batches_seen\": 330, \"train_examples_seen\": 161600, \"loss\": 0.025769612565636636}}\n"
     ]
    },
    {
     "name": "stderr",
     "output_type": "stream",
     "text": [
      "\n",
      "9it [00:00,  9.30it/s]\n",
      "2025-09-24 12:26:16.649 INFO in 'deeppavlov.core.trainers.nn_trainer'['nn_trainer'] at line 211: Did not improve on the ner_f1 of 93.5168\n"
     ]
    },
    {
     "name": "stdout",
     "output_type": "stream",
     "text": [
      "{\"valid\": {\"eval_examples_count\": 4088, \"metrics\": {\"ner_f1\": 93.0436, \"ner_token_f1\": 94.7491}, \"time_spent\": \"0:03:27\", \"epochs_done\": 8, \"batches_seen\": 330, \"train_examples_seen\": 161600, \"impatience\": 2, \"patience_limit\": 100}}\n"
     ]
    },
    {
     "name": "stderr",
     "output_type": "stream",
     "text": [
      "1it [00:00,  9.34it/s]]"
     ]
    },
    {
     "name": "stdout",
     "output_type": "stream",
     "text": [
      "{\"train\": {\"eval_examples_count\": 500, \"metrics\": {\"ner_f1\": 98.719, \"ner_token_f1\": 99.3318}, \"time_spent\": \"0:03:29\", \"epochs_done\": 8, \"batches_seen\": 340, \"train_examples_seen\": 166600, \"loss\": 0.02991380784660578}}\n"
     ]
    },
    {
     "name": "stderr",
     "output_type": "stream",
     "text": [
      "\n",
      "9it [00:00, 10.05it/s]\n",
      "2025-09-24 12:26:20.67 INFO in 'deeppavlov.core.trainers.nn_trainer'['nn_trainer'] at line 211: Did not improve on the ner_f1 of 93.5168\n"
     ]
    },
    {
     "name": "stdout",
     "output_type": "stream",
     "text": [
      "{\"valid\": {\"eval_examples_count\": 4088, \"metrics\": {\"ner_f1\": 93.3222, \"ner_token_f1\": 94.8942}, \"time_spent\": \"0:03:30\", \"epochs_done\": 8, \"batches_seen\": 340, \"train_examples_seen\": 166600, \"impatience\": 3, \"patience_limit\": 100}}\n"
     ]
    },
    {
     "name": "stderr",
     "output_type": "stream",
     "text": [
      "1it [00:00,  8.29it/s]]"
     ]
    },
    {
     "name": "stdout",
     "output_type": "stream",
     "text": [
      "{\"train\": {\"eval_examples_count\": 500, \"metrics\": {\"ner_f1\": 98.8176, \"ner_token_f1\": 98.9751}, \"time_spent\": \"0:03:33\", \"epochs_done\": 8, \"batches_seen\": 350, \"train_examples_seen\": 171600, \"loss\": 0.029839427396655082}}\n"
     ]
    },
    {
     "name": "stderr",
     "output_type": "stream",
     "text": [
      "\n",
      "9it [00:00, 10.16it/s]\n",
      "2025-09-24 12:26:23.697 INFO in 'deeppavlov.core.trainers.nn_trainer'['nn_trainer'] at line 211: Did not improve on the ner_f1 of 93.5168\n"
     ]
    },
    {
     "name": "stdout",
     "output_type": "stream",
     "text": [
      "{\"valid\": {\"eval_examples_count\": 4088, \"metrics\": {\"ner_f1\": 93.0505, \"ner_token_f1\": 94.7141}, \"time_spent\": \"0:03:34\", \"epochs_done\": 8, \"batches_seen\": 350, \"train_examples_seen\": 171600, \"impatience\": 4, \"patience_limit\": 100}}\n"
     ]
    },
    {
     "name": "stderr",
     "output_type": "stream",
     "text": [
      "39it [00:13,  2.91it/s]\n",
      "1it [00:00,  9.75it/s]"
     ]
    },
    {
     "name": "stdout",
     "output_type": "stream",
     "text": [
      "{\"train\": {\"eval_examples_count\": 500, \"metrics\": {\"ner_f1\": 98.3193, \"ner_token_f1\": 98.604}, \"time_spent\": \"0:03:36\", \"epochs_done\": 9, \"batches_seen\": 360, \"train_examples_seen\": 176175, \"loss\": 0.024374621361494063}}\n"
     ]
    },
    {
     "name": "stderr",
     "output_type": "stream",
     "text": [
      "\n",
      "9it [00:00, 10.31it/s]\n",
      "2025-09-24 12:26:26.933 INFO in 'deeppavlov.core.trainers.nn_trainer'['nn_trainer'] at line 211: Did not improve on the ner_f1 of 93.5168\n"
     ]
    },
    {
     "name": "stdout",
     "output_type": "stream",
     "text": [
      "{\"valid\": {\"eval_examples_count\": 4088, \"metrics\": {\"ner_f1\": 93.3596, \"ner_token_f1\": 94.9735}, \"time_spent\": \"0:03:37\", \"epochs_done\": 9, \"batches_seen\": 360, \"train_examples_seen\": 176175, \"impatience\": 5, \"patience_limit\": 100}}\n"
     ]
    },
    {
     "name": "stderr",
     "output_type": "stream",
     "text": [
      "1it [00:00, 10.41it/s]]"
     ]
    },
    {
     "name": "stdout",
     "output_type": "stream",
     "text": [
      "{\"train\": {\"eval_examples_count\": 500, \"metrics\": {\"ner_f1\": 99.234, \"ner_token_f1\": 99.2625}, \"time_spent\": \"0:03:39\", \"epochs_done\": 9, \"batches_seen\": 370, \"train_examples_seen\": 181175, \"loss\": 0.022700757998973132}}\n"
     ]
    },
    {
     "name": "stderr",
     "output_type": "stream",
     "text": [
      "\n",
      "9it [00:01,  8.97it/s]\n",
      "2025-09-24 12:26:30.503 INFO in 'deeppavlov.core.trainers.nn_trainer'['nn_trainer'] at line 211: Did not improve on the ner_f1 of 93.5168\n"
     ]
    },
    {
     "name": "stdout",
     "output_type": "stream",
     "text": [
      "{\"valid\": {\"eval_examples_count\": 4088, \"metrics\": {\"ner_f1\": 93.2778, \"ner_token_f1\": 94.7983}, \"time_spent\": \"0:03:40\", \"epochs_done\": 9, \"batches_seen\": 370, \"train_examples_seen\": 181175, \"impatience\": 6, \"patience_limit\": 100}}\n"
     ]
    },
    {
     "name": "stderr",
     "output_type": "stream",
     "text": [
      "1it [00:00,  9.46it/s]]"
     ]
    },
    {
     "name": "stdout",
     "output_type": "stream",
     "text": [
      "{\"train\": {\"eval_examples_count\": 500, \"metrics\": {\"ner_f1\": 98.0721, \"ner_token_f1\": 98.688}, \"time_spent\": \"0:03:43\", \"epochs_done\": 9, \"batches_seen\": 380, \"train_examples_seen\": 186175, \"loss\": 0.025039388798177242}}\n"
     ]
    },
    {
     "name": "stderr",
     "output_type": "stream",
     "text": [
      "\n",
      "9it [00:00, 10.50it/s]\n",
      "2025-09-24 12:26:33.749 INFO in 'deeppavlov.core.trainers.nn_trainer'['nn_trainer'] at line 211: Did not improve on the ner_f1 of 93.5168\n"
     ]
    },
    {
     "name": "stdout",
     "output_type": "stream",
     "text": [
      "{\"valid\": {\"eval_examples_count\": 4088, \"metrics\": {\"ner_f1\": 93.3055, \"ner_token_f1\": 94.8642}, \"time_spent\": \"0:03:44\", \"epochs_done\": 9, \"batches_seen\": 380, \"train_examples_seen\": 186175, \"impatience\": 7, \"patience_limit\": 100}}\n"
     ]
    },
    {
     "name": "stderr",
     "output_type": "stream",
     "text": [
      "1it [00:00, 10.29it/s]]"
     ]
    },
    {
     "name": "stdout",
     "output_type": "stream",
     "text": [
      "{\"train\": {\"eval_examples_count\": 500, \"metrics\": {\"ner_f1\": 99.1438, \"ner_token_f1\": 99.193}, \"time_spent\": \"0:03:46\", \"epochs_done\": 9, \"batches_seen\": 390, \"train_examples_seen\": 190750, \"loss\": 0.02755683530122042}}\n"
     ]
    },
    {
     "name": "stderr",
     "output_type": "stream",
     "text": [
      "\n",
      "9it [00:00, 10.47it/s]\n",
      "2025-09-24 12:26:36.806 INFO in 'deeppavlov.core.trainers.nn_trainer'['nn_trainer'] at line 211: Did not improve on the ner_f1 of 93.5168\n"
     ]
    },
    {
     "name": "stdout",
     "output_type": "stream",
     "text": [
      "{\"valid\": {\"eval_examples_count\": 4088, \"metrics\": {\"ner_f1\": 93.4774, \"ner_token_f1\": 95.0152}, \"time_spent\": \"0:03:47\", \"epochs_done\": 9, \"batches_seen\": 390, \"train_examples_seen\": 190750, \"impatience\": 8, \"patience_limit\": 100}}\n"
     ]
    },
    {
     "name": "stderr",
     "output_type": "stream",
     "text": [
      "39it [00:13,  2.99it/s]\n",
      "1it [00:00, 10.24it/s]"
     ]
    },
    {
     "name": "stdout",
     "output_type": "stream",
     "text": [
      "{\"train\": {\"eval_examples_count\": 500, \"metrics\": {\"ner_f1\": 98.9813, \"ner_token_f1\": 99.193}, \"time_spent\": \"0:03:49\", \"epochs_done\": 10, \"batches_seen\": 400, \"train_examples_seen\": 195750, \"loss\": 0.023010311648249626}}\n"
     ]
    },
    {
     "name": "stderr",
     "output_type": "stream",
     "text": [
      "\n",
      "9it [00:00,  9.41it/s]\n",
      "2025-09-24 12:26:40.137 INFO in 'deeppavlov.core.trainers.nn_trainer'['nn_trainer'] at line 206: Improved best ner_f1 from 93.5168 to 93.7668\n",
      "2025-09-24 12:26:40.138 INFO in 'deeppavlov.core.trainers.nn_trainer'['nn_trainer'] at line 208: Saving model\n",
      "2025-09-24 12:26:40.138 INFO in 'deeppavlov.core.models.torch_model'['torch_model'] at line 175: Saving model to C:\\Users\\lexan\\OneDrive\\Documents\\hackaton_lct\\models.pth.tar.\n"
     ]
    },
    {
     "name": "stdout",
     "output_type": "stream",
     "text": [
      "{\"valid\": {\"eval_examples_count\": 4088, \"metrics\": {\"ner_f1\": 93.7668, \"ner_token_f1\": 95.2534}, \"time_spent\": \"0:03:50\", \"epochs_done\": 10, \"batches_seen\": 400, \"train_examples_seen\": 195750, \"impatience\": 0, \"patience_limit\": 100}}\n"
     ]
    },
    {
     "name": "stderr",
     "output_type": "stream",
     "text": [
      "1it [00:00, 10.86it/s]]"
     ]
    },
    {
     "name": "stdout",
     "output_type": "stream",
     "text": [
      "{\"train\": {\"eval_examples_count\": 500, \"metrics\": {\"ner_f1\": 98.2067, \"ner_token_f1\": 98.7285}, \"time_spent\": \"0:03:57\", \"epochs_done\": 10, \"batches_seen\": 410, \"train_examples_seen\": 200750, \"loss\": 0.02223623627796769}}\n"
     ]
    },
    {
     "name": "stderr",
     "output_type": "stream",
     "text": [
      "\n",
      "9it [00:00, 10.68it/s]\n",
      "2025-09-24 12:26:47.784 INFO in 'deeppavlov.core.trainers.nn_trainer'['nn_trainer'] at line 211: Did not improve on the ner_f1 of 93.7668\n"
     ]
    },
    {
     "name": "stdout",
     "output_type": "stream",
     "text": [
      "{\"valid\": {\"eval_examples_count\": 4088, \"metrics\": {\"ner_f1\": 93.5032, \"ner_token_f1\": 94.9946}, \"time_spent\": \"0:03:58\", \"epochs_done\": 10, \"batches_seen\": 410, \"train_examples_seen\": 200750, \"impatience\": 1, \"patience_limit\": 100}}\n"
     ]
    },
    {
     "name": "stderr",
     "output_type": "stream",
     "text": [
      "1it [00:00,  9.76it/s]]"
     ]
    },
    {
     "name": "stdout",
     "output_type": "stream",
     "text": [
      "{\"train\": {\"eval_examples_count\": 500, \"metrics\": {\"ner_f1\": 99.4103, \"ner_token_f1\": 99.6315}, \"time_spent\": \"0:04:00\", \"epochs_done\": 10, \"batches_seen\": 420, \"train_examples_seen\": 205750, \"loss\": 0.01882805712521076}}\n"
     ]
    },
    {
     "name": "stderr",
     "output_type": "stream",
     "text": [
      "\n",
      "9it [00:00, 10.67it/s]\n",
      "2025-09-24 12:26:51.75 INFO in 'deeppavlov.core.trainers.nn_trainer'['nn_trainer'] at line 211: Did not improve on the ner_f1 of 93.7668\n"
     ]
    },
    {
     "name": "stdout",
     "output_type": "stream",
     "text": [
      "{\"valid\": {\"eval_examples_count\": 4088, \"metrics\": {\"ner_f1\": 93.7037, \"ner_token_f1\": 95.1875}, \"time_spent\": \"0:04:01\", \"epochs_done\": 10, \"batches_seen\": 420, \"train_examples_seen\": 205750, \"impatience\": 2, \"patience_limit\": 100}}\n"
     ]
    },
    {
     "name": "stderr",
     "output_type": "stream",
     "text": [
      "39it [00:16,  2.40it/s]\n",
      "1it [00:00,  8.51it/s]"
     ]
    },
    {
     "name": "stdout",
     "output_type": "stream",
     "text": [
      "{\"train\": {\"eval_examples_count\": 500, \"metrics\": {\"ner_f1\": 99.1611, \"ner_token_f1\": 99.4294}, \"time_spent\": \"0:04:03\", \"epochs_done\": 11, \"batches_seen\": 430, \"train_examples_seen\": 210325, \"loss\": 0.020292092673480512}}\n"
     ]
    },
    {
     "name": "stderr",
     "output_type": "stream",
     "text": [
      "\n",
      "9it [00:00, 10.15it/s]\n",
      "2025-09-24 12:26:54.319 INFO in 'deeppavlov.core.trainers.nn_trainer'['nn_trainer'] at line 211: Did not improve on the ner_f1 of 93.7668\n"
     ]
    },
    {
     "name": "stdout",
     "output_type": "stream",
     "text": [
      "{\"valid\": {\"eval_examples_count\": 4088, \"metrics\": {\"ner_f1\": 93.7098, \"ner_token_f1\": 95.1801}, \"time_spent\": \"0:04:04\", \"epochs_done\": 11, \"batches_seen\": 430, \"train_examples_seen\": 210325, \"impatience\": 3, \"patience_limit\": 100}}\n"
     ]
    },
    {
     "name": "stderr",
     "output_type": "stream",
     "text": [
      "1it [00:00, 10.15it/s]]"
     ]
    },
    {
     "name": "stdout",
     "output_type": "stream",
     "text": [
      "{\"train\": {\"eval_examples_count\": 500, \"metrics\": {\"ner_f1\": 99.4132, \"ner_token_f1\": 99.4152}, \"time_spent\": \"0:04:07\", \"epochs_done\": 11, \"batches_seen\": 440, \"train_examples_seen\": 215325, \"loss\": 0.017560532130301}}\n"
     ]
    },
    {
     "name": "stderr",
     "output_type": "stream",
     "text": [
      "\n",
      "9it [00:00, 10.51it/s]\n",
      "2025-09-24 12:26:57.930 INFO in 'deeppavlov.core.trainers.nn_trainer'['nn_trainer'] at line 206: Improved best ner_f1 from 93.7668 to 93.8707\n",
      "2025-09-24 12:26:57.931 INFO in 'deeppavlov.core.trainers.nn_trainer'['nn_trainer'] at line 208: Saving model\n",
      "2025-09-24 12:26:57.931 INFO in 'deeppavlov.core.models.torch_model'['torch_model'] at line 175: Saving model to C:\\Users\\lexan\\OneDrive\\Documents\\hackaton_lct\\models.pth.tar.\n"
     ]
    },
    {
     "name": "stdout",
     "output_type": "stream",
     "text": [
      "{\"valid\": {\"eval_examples_count\": 4088, \"metrics\": {\"ner_f1\": 93.8707, \"ner_token_f1\": 95.1926}, \"time_spent\": \"0:04:08\", \"epochs_done\": 11, \"batches_seen\": 440, \"train_examples_seen\": 215325, \"impatience\": 0, \"patience_limit\": 100}}\n"
     ]
    },
    {
     "name": "stderr",
     "output_type": "stream",
     "text": [
      "1it [00:00,  9.71it/s]]"
     ]
    },
    {
     "name": "stdout",
     "output_type": "stream",
     "text": [
      "{\"train\": {\"eval_examples_count\": 500, \"metrics\": {\"ner_f1\": 98.6945, \"ner_token_f1\": 98.8389}, \"time_spent\": \"0:04:13\", \"epochs_done\": 11, \"batches_seen\": 450, \"train_examples_seen\": 220325, \"loss\": 0.019253906980156898}}\n"
     ]
    },
    {
     "name": "stderr",
     "output_type": "stream",
     "text": [
      "\n",
      "9it [00:00, 10.14it/s]\n",
      "2025-09-24 12:27:04.413 INFO in 'deeppavlov.core.trainers.nn_trainer'['nn_trainer'] at line 211: Did not improve on the ner_f1 of 93.8707\n"
     ]
    },
    {
     "name": "stdout",
     "output_type": "stream",
     "text": [
      "{\"valid\": {\"eval_examples_count\": 4088, \"metrics\": {\"ner_f1\": 93.763, \"ner_token_f1\": 95.2227}, \"time_spent\": \"0:04:14\", \"epochs_done\": 11, \"batches_seen\": 450, \"train_examples_seen\": 220325, \"impatience\": 1, \"patience_limit\": 100}}\n"
     ]
    },
    {
     "name": "stderr",
     "output_type": "stream",
     "text": [
      "1it [00:00,  8.14it/s]]"
     ]
    },
    {
     "name": "stdout",
     "output_type": "stream",
     "text": [
      "{\"train\": {\"eval_examples_count\": 500, \"metrics\": {\"ner_f1\": 99.0509, \"ner_token_f1\": 99.3902}, \"time_spent\": \"0:04:17\", \"epochs_done\": 11, \"batches_seen\": 460, \"train_examples_seen\": 225325, \"loss\": 0.019630466774106025}}\n"
     ]
    },
    {
     "name": "stderr",
     "output_type": "stream",
     "text": [
      "\n",
      "9it [00:00,  9.62it/s]\n",
      "2025-09-24 12:27:08.179 INFO in 'deeppavlov.core.trainers.nn_trainer'['nn_trainer'] at line 211: Did not improve on the ner_f1 of 93.8707\n"
     ]
    },
    {
     "name": "stdout",
     "output_type": "stream",
     "text": [
      "{\"valid\": {\"eval_examples_count\": 4088, \"metrics\": {\"ner_f1\": 93.4372, \"ner_token_f1\": 94.8901}, \"time_spent\": \"0:04:18\", \"epochs_done\": 11, \"batches_seen\": 460, \"train_examples_seen\": 225325, \"impatience\": 2, \"patience_limit\": 100}}\n"
     ]
    },
    {
     "name": "stderr",
     "output_type": "stream",
     "text": [
      "39it [00:16,  2.31it/s]\n",
      "1it [00:00,  9.47it/s]"
     ]
    },
    {
     "name": "stdout",
     "output_type": "stream",
     "text": [
      "{\"train\": {\"eval_examples_count\": 500, \"metrics\": {\"ner_f1\": 98.7342, \"ner_token_f1\": 99.2701}, \"time_spent\": \"0:04:20\", \"epochs_done\": 12, \"batches_seen\": 470, \"train_examples_seen\": 229900, \"loss\": 0.0219302118755877}}\n"
     ]
    },
    {
     "name": "stderr",
     "output_type": "stream",
     "text": [
      "\n",
      "9it [00:01,  8.94it/s]\n",
      "2025-09-24 12:27:11.526 INFO in 'deeppavlov.core.trainers.nn_trainer'['nn_trainer'] at line 211: Did not improve on the ner_f1 of 93.8707\n"
     ]
    },
    {
     "name": "stdout",
     "output_type": "stream",
     "text": [
      "{\"valid\": {\"eval_examples_count\": 4088, \"metrics\": {\"ner_f1\": 93.5688, \"ner_token_f1\": 95.1661}, \"time_spent\": \"0:04:21\", \"epochs_done\": 12, \"batches_seen\": 470, \"train_examples_seen\": 229900, \"impatience\": 3, \"patience_limit\": 100}}\n"
     ]
    },
    {
     "name": "stderr",
     "output_type": "stream",
     "text": [
      "1it [00:00, 10.41it/s]]"
     ]
    },
    {
     "name": "stdout",
     "output_type": "stream",
     "text": [
      "{\"train\": {\"eval_examples_count\": 500, \"metrics\": {\"ner_f1\": 98.6395, \"ner_token_f1\": 99.3511}, \"time_spent\": \"0:04:24\", \"epochs_done\": 12, \"batches_seen\": 480, \"train_examples_seen\": 234900, \"loss\": 0.015206156112253667}}\n"
     ]
    },
    {
     "name": "stderr",
     "output_type": "stream",
     "text": [
      "\n",
      "9it [00:00, 10.01it/s]\n",
      "2025-09-24 12:27:14.940 INFO in 'deeppavlov.core.trainers.nn_trainer'['nn_trainer'] at line 211: Did not improve on the ner_f1 of 93.8707\n"
     ]
    },
    {
     "name": "stdout",
     "output_type": "stream",
     "text": [
      "{\"valid\": {\"eval_examples_count\": 4088, \"metrics\": {\"ner_f1\": 93.5803, \"ner_token_f1\": 95.185}, \"time_spent\": \"0:04:25\", \"epochs_done\": 12, \"batches_seen\": 480, \"train_examples_seen\": 234900, \"impatience\": 4, \"patience_limit\": 100}}\n"
     ]
    },
    {
     "name": "stderr",
     "output_type": "stream",
     "text": [
      "1it [00:00, 11.33it/s]]"
     ]
    },
    {
     "name": "stdout",
     "output_type": "stream",
     "text": [
      "{\"train\": {\"eval_examples_count\": 500, \"metrics\": {\"ner_f1\": 99.4836, \"ner_token_f1\": 99.8489}, \"time_spent\": \"0:04:27\", \"epochs_done\": 12, \"batches_seen\": 490, \"train_examples_seen\": 239900, \"loss\": 0.01700535723939538}}\n"
     ]
    },
    {
     "name": "stderr",
     "output_type": "stream",
     "text": [
      "\n",
      "9it [00:00, 10.06it/s]\n",
      "2025-09-24 12:27:18.265 INFO in 'deeppavlov.core.trainers.nn_trainer'['nn_trainer'] at line 211: Did not improve on the ner_f1 of 93.8707\n"
     ]
    },
    {
     "name": "stdout",
     "output_type": "stream",
     "text": [
      "{\"valid\": {\"eval_examples_count\": 4088, \"metrics\": {\"ner_f1\": 93.2515, \"ner_token_f1\": 94.8587}, \"time_spent\": \"0:04:28\", \"epochs_done\": 12, \"batches_seen\": 490, \"train_examples_seen\": 239900, \"impatience\": 5, \"patience_limit\": 100}}\n"
     ]
    },
    {
     "name": "stderr",
     "output_type": "stream",
     "text": [
      "1it [00:00, 10.57it/s]]"
     ]
    },
    {
     "name": "stdout",
     "output_type": "stream",
     "text": [
      "{\"train\": {\"eval_examples_count\": 500, \"metrics\": {\"ner_f1\": 99.2167, \"ner_token_f1\": 99.3949}, \"time_spent\": \"0:04:31\", \"epochs_done\": 12, \"batches_seen\": 500, \"train_examples_seen\": 244900, \"loss\": 0.015373208187520504}}\n"
     ]
    },
    {
     "name": "stderr",
     "output_type": "stream",
     "text": [
      "\n",
      "9it [00:00, 10.05it/s]\n",
      "2025-09-24 12:27:21.551 INFO in 'deeppavlov.core.trainers.nn_trainer'['nn_trainer'] at line 206: Improved best ner_f1 from 93.8707 to 93.9564\n",
      "2025-09-24 12:27:21.551 INFO in 'deeppavlov.core.trainers.nn_trainer'['nn_trainer'] at line 208: Saving model\n",
      "2025-09-24 12:27:21.552 INFO in 'deeppavlov.core.models.torch_model'['torch_model'] at line 175: Saving model to C:\\Users\\lexan\\OneDrive\\Documents\\hackaton_lct\\models.pth.tar.\n"
     ]
    },
    {
     "name": "stdout",
     "output_type": "stream",
     "text": [
      "{\"valid\": {\"eval_examples_count\": 4088, \"metrics\": {\"ner_f1\": 93.9564, \"ner_token_f1\": 95.37}, \"time_spent\": \"0:04:31\", \"epochs_done\": 12, \"batches_seen\": 500, \"train_examples_seen\": 244900, \"impatience\": 0, \"patience_limit\": 100}}\n"
     ]
    },
    {
     "name": "stderr",
     "output_type": "stream",
     "text": [
      "39it [00:15,  2.47it/s]\n",
      "1it [00:00,  9.48it/s]"
     ]
    },
    {
     "name": "stdout",
     "output_type": "stream",
     "text": [
      "{\"train\": {\"eval_examples_count\": 500, \"metrics\": {\"ner_f1\": 99.4941, \"ner_token_f1\": 99.7046}, \"time_spent\": \"0:04:36\", \"epochs_done\": 13, \"batches_seen\": 510, \"train_examples_seen\": 249475, \"loss\": 0.01619895901530981}}\n"
     ]
    },
    {
     "name": "stderr",
     "output_type": "stream",
     "text": [
      "\n",
      "9it [00:01,  8.74it/s]\n",
      "2025-09-24 12:27:27.542 INFO in 'deeppavlov.core.trainers.nn_trainer'['nn_trainer'] at line 206: Improved best ner_f1 from 93.9564 to 94.0035\n",
      "2025-09-24 12:27:27.542 INFO in 'deeppavlov.core.trainers.nn_trainer'['nn_trainer'] at line 208: Saving model\n",
      "2025-09-24 12:27:27.543 INFO in 'deeppavlov.core.models.torch_model'['torch_model'] at line 175: Saving model to C:\\Users\\lexan\\OneDrive\\Documents\\hackaton_lct\\models.pth.tar.\n"
     ]
    },
    {
     "name": "stdout",
     "output_type": "stream",
     "text": [
      "{\"valid\": {\"eval_examples_count\": 4088, \"metrics\": {\"ner_f1\": 94.0035, \"ner_token_f1\": 95.2655}, \"time_spent\": \"0:04:37\", \"epochs_done\": 13, \"batches_seen\": 510, \"train_examples_seen\": 249475, \"impatience\": 0, \"patience_limit\": 100}}\n"
     ]
    },
    {
     "name": "stderr",
     "output_type": "stream",
     "text": [
      "1it [00:00, 11.10it/s]]"
     ]
    },
    {
     "name": "stdout",
     "output_type": "stream",
     "text": [
      "{\"train\": {\"eval_examples_count\": 500, \"metrics\": {\"ner_f1\": 99.5701, \"ner_token_f1\": 99.8492}, \"time_spent\": \"0:04:43\", \"epochs_done\": 13, \"batches_seen\": 520, \"train_examples_seen\": 254475, \"loss\": 0.014818335883319378}}\n"
     ]
    },
    {
     "name": "stderr",
     "output_type": "stream",
     "text": [
      "\n",
      "9it [00:00, 10.04it/s]\n",
      "2025-09-24 12:27:34.238 INFO in 'deeppavlov.core.trainers.nn_trainer'['nn_trainer'] at line 211: Did not improve on the ner_f1 of 94.0035\n"
     ]
    },
    {
     "name": "stdout",
     "output_type": "stream",
     "text": [
      "{\"valid\": {\"eval_examples_count\": 4088, \"metrics\": {\"ner_f1\": 93.3652, \"ner_token_f1\": 94.7975}, \"time_spent\": \"0:04:44\", \"epochs_done\": 13, \"batches_seen\": 520, \"train_examples_seen\": 254475, \"impatience\": 1, \"patience_limit\": 100}}\n"
     ]
    },
    {
     "name": "stderr",
     "output_type": "stream",
     "text": [
      "1it [00:00, 11.27it/s]]"
     ]
    },
    {
     "name": "stdout",
     "output_type": "stream",
     "text": [
      "{\"train\": {\"eval_examples_count\": 500, \"metrics\": {\"ner_f1\": 99.3127, \"ner_token_f1\": 99.4118}, \"time_spent\": \"0:04:47\", \"epochs_done\": 13, \"batches_seen\": 530, \"train_examples_seen\": 259475, \"loss\": 0.013605352398008108}}\n"
     ]
    },
    {
     "name": "stderr",
     "output_type": "stream",
     "text": [
      "\n",
      "9it [00:00, 10.36it/s]\n",
      "2025-09-24 12:27:37.549 INFO in 'deeppavlov.core.trainers.nn_trainer'['nn_trainer'] at line 211: Did not improve on the ner_f1 of 94.0035\n"
     ]
    },
    {
     "name": "stdout",
     "output_type": "stream",
     "text": [
      "{\"valid\": {\"eval_examples_count\": 4088, \"metrics\": {\"ner_f1\": 93.6675, \"ner_token_f1\": 95.1627}, \"time_spent\": \"0:04:47\", \"epochs_done\": 13, \"batches_seen\": 530, \"train_examples_seen\": 259475, \"impatience\": 2, \"patience_limit\": 100}}\n"
     ]
    },
    {
     "name": "stderr",
     "output_type": "stream",
     "text": [
      "1it [00:00, 11.75it/s]]"
     ]
    },
    {
     "name": "stdout",
     "output_type": "stream",
     "text": [
      "{\"train\": {\"eval_examples_count\": 500, \"metrics\": {\"ner_f1\": 99.469, \"ner_token_f1\": 99.8466}, \"time_spent\": \"0:04:50\", \"epochs_done\": 13, \"batches_seen\": 540, \"train_examples_seen\": 264475, \"loss\": 0.011947674490511418}}\n"
     ]
    },
    {
     "name": "stderr",
     "output_type": "stream",
     "text": [
      "\n",
      "9it [00:00, 11.57it/s]\n",
      "2025-09-24 12:27:40.725 INFO in 'deeppavlov.core.trainers.nn_trainer'['nn_trainer'] at line 211: Did not improve on the ner_f1 of 94.0035\n"
     ]
    },
    {
     "name": "stdout",
     "output_type": "stream",
     "text": [
      "{\"valid\": {\"eval_examples_count\": 4088, \"metrics\": {\"ner_f1\": 93.7051, \"ner_token_f1\": 95.1671}, \"time_spent\": \"0:04:51\", \"epochs_done\": 13, \"batches_seen\": 540, \"train_examples_seen\": 264475, \"impatience\": 3, \"patience_limit\": 100}}\n"
     ]
    },
    {
     "name": "stderr",
     "output_type": "stream",
     "text": [
      "39it [00:16,  2.41it/s]\n",
      "1it [00:00, 10.30it/s]"
     ]
    },
    {
     "name": "stdout",
     "output_type": "stream",
     "text": [
      "{\"train\": {\"eval_examples_count\": 500, \"metrics\": {\"ner_f1\": 98.9565, \"ner_token_f1\": 99.3177}, \"time_spent\": \"0:04:53\", \"epochs_done\": 14, \"batches_seen\": 550, \"train_examples_seen\": 269050, \"loss\": 0.01581961251795292}}\n"
     ]
    },
    {
     "name": "stderr",
     "output_type": "stream",
     "text": [
      "\n",
      "9it [00:00, 11.39it/s]\n",
      "2025-09-24 12:27:43.748 INFO in 'deeppavlov.core.trainers.nn_trainer'['nn_trainer'] at line 211: Did not improve on the ner_f1 of 94.0035\n"
     ]
    },
    {
     "name": "stdout",
     "output_type": "stream",
     "text": [
      "{\"valid\": {\"eval_examples_count\": 4088, \"metrics\": {\"ner_f1\": 93.9192, \"ner_token_f1\": 95.2338}, \"time_spent\": \"0:04:54\", \"epochs_done\": 14, \"batches_seen\": 550, \"train_examples_seen\": 269050, \"impatience\": 4, \"patience_limit\": 100}}\n"
     ]
    },
    {
     "name": "stderr",
     "output_type": "stream",
     "text": [
      "1it [00:00, 11.21it/s]]"
     ]
    },
    {
     "name": "stdout",
     "output_type": "stream",
     "text": [
      "{\"train\": {\"eval_examples_count\": 500, \"metrics\": {\"ner_f1\": 99.6639, \"ner_token_f1\": 99.6974}, \"time_spent\": \"0:04:56\", \"epochs_done\": 14, \"batches_seen\": 560, \"train_examples_seen\": 274050, \"loss\": 0.013921314245089888}}\n"
     ]
    },
    {
     "name": "stderr",
     "output_type": "stream",
     "text": [
      "\n",
      "9it [00:00, 11.41it/s]\n",
      "2025-09-24 12:27:46.820 INFO in 'deeppavlov.core.trainers.nn_trainer'['nn_trainer'] at line 206: Improved best ner_f1 from 94.0035 to 94.1225\n",
      "2025-09-24 12:27:46.820 INFO in 'deeppavlov.core.trainers.nn_trainer'['nn_trainer'] at line 208: Saving model\n",
      "2025-09-24 12:27:46.821 INFO in 'deeppavlov.core.models.torch_model'['torch_model'] at line 175: Saving model to C:\\Users\\lexan\\OneDrive\\Documents\\hackaton_lct\\models.pth.tar.\n"
     ]
    },
    {
     "name": "stdout",
     "output_type": "stream",
     "text": [
      "{\"valid\": {\"eval_examples_count\": 4088, \"metrics\": {\"ner_f1\": 94.1225, \"ner_token_f1\": 95.4048}, \"time_spent\": \"0:04:57\", \"epochs_done\": 14, \"batches_seen\": 560, \"train_examples_seen\": 274050, \"impatience\": 0, \"patience_limit\": 100}}\n"
     ]
    },
    {
     "name": "stderr",
     "output_type": "stream",
     "text": [
      "1it [00:00, 10.45it/s]]"
     ]
    },
    {
     "name": "stdout",
     "output_type": "stream",
     "text": [
      "{\"train\": {\"eval_examples_count\": 500, \"metrics\": {\"ner_f1\": 99.3918, \"ner_token_f1\": 99.7812}, \"time_spent\": \"0:05:02\", \"epochs_done\": 14, \"batches_seen\": 570, \"train_examples_seen\": 279050, \"loss\": 0.011924962000921368}}\n"
     ]
    },
    {
     "name": "stderr",
     "output_type": "stream",
     "text": [
      "\n",
      "9it [00:00, 11.17it/s]\n",
      "2025-09-24 12:27:52.613 INFO in 'deeppavlov.core.trainers.nn_trainer'['nn_trainer'] at line 211: Did not improve on the ner_f1 of 94.1225\n"
     ]
    },
    {
     "name": "stdout",
     "output_type": "stream",
     "text": [
      "{\"valid\": {\"eval_examples_count\": 4088, \"metrics\": {\"ner_f1\": 93.6712, \"ner_token_f1\": 95.1449}, \"time_spent\": \"0:05:03\", \"epochs_done\": 14, \"batches_seen\": 570, \"train_examples_seen\": 279050, \"impatience\": 1, \"patience_limit\": 100}}\n"
     ]
    },
    {
     "name": "stderr",
     "output_type": "stream",
     "text": [
      "1it [00:00, 11.49it/s]]"
     ]
    },
    {
     "name": "stdout",
     "output_type": "stream",
     "text": [
      "{\"train\": {\"eval_examples_count\": 500, \"metrics\": {\"ner_f1\": 99.8273, \"ner_token_f1\": 99.9266}, \"time_spent\": \"0:05:05\", \"epochs_done\": 14, \"batches_seen\": 580, \"train_examples_seen\": 284050, \"loss\": 0.010526633867993952}}\n"
     ]
    },
    {
     "name": "stderr",
     "output_type": "stream",
     "text": [
      "\n",
      "9it [00:00, 10.22it/s]\n",
      "2025-09-24 12:27:55.831 INFO in 'deeppavlov.core.trainers.nn_trainer'['nn_trainer'] at line 211: Did not improve on the ner_f1 of 94.1225\n"
     ]
    },
    {
     "name": "stdout",
     "output_type": "stream",
     "text": [
      "{\"valid\": {\"eval_examples_count\": 4088, \"metrics\": {\"ner_f1\": 93.8259, \"ner_token_f1\": 95.2509}, \"time_spent\": \"0:05:06\", \"epochs_done\": 14, \"batches_seen\": 580, \"train_examples_seen\": 284050, \"impatience\": 2, \"patience_limit\": 100}}\n"
     ]
    },
    {
     "name": "stderr",
     "output_type": "stream",
     "text": [
      "39it [00:14,  2.62it/s]\n",
      "1it [00:00, 12.33it/s]"
     ]
    },
    {
     "name": "stdout",
     "output_type": "stream",
     "text": [
      "{\"train\": {\"eval_examples_count\": 500, \"metrics\": {\"ner_f1\": 99.9152, \"ner_token_f1\": 99.927}, \"time_spent\": \"0:05:08\", \"epochs_done\": 15, \"batches_seen\": 590, \"train_examples_seen\": 288625, \"loss\": 0.012489147065207363}}\n"
     ]
    },
    {
     "name": "stderr",
     "output_type": "stream",
     "text": [
      "\n",
      "9it [00:00, 11.25it/s]\n",
      "2025-09-24 12:27:58.811 INFO in 'deeppavlov.core.trainers.nn_trainer'['nn_trainer'] at line 211: Did not improve on the ner_f1 of 94.1225\n"
     ]
    },
    {
     "name": "stdout",
     "output_type": "stream",
     "text": [
      "{\"valid\": {\"eval_examples_count\": 4088, \"metrics\": {\"ner_f1\": 93.4351, \"ner_token_f1\": 94.9311}, \"time_spent\": \"0:05:09\", \"epochs_done\": 15, \"batches_seen\": 590, \"train_examples_seen\": 288625, \"impatience\": 3, \"patience_limit\": 100}}\n"
     ]
    },
    {
     "name": "stderr",
     "output_type": "stream",
     "text": [
      "1it [00:00, 10.44it/s]]"
     ]
    },
    {
     "name": "stdout",
     "output_type": "stream",
     "text": [
      "{\"train\": {\"eval_examples_count\": 500, \"metrics\": {\"ner_f1\": 100.0, \"ner_token_f1\": 100.0}, \"time_spent\": \"0:05:11\", \"epochs_done\": 15, \"batches_seen\": 600, \"train_examples_seen\": 293625, \"loss\": 0.012359544727951288}}\n"
     ]
    },
    {
     "name": "stderr",
     "output_type": "stream",
     "text": [
      "\n",
      "9it [00:00, 11.15it/s]\n",
      "2025-09-24 12:28:01.984 INFO in 'deeppavlov.core.trainers.nn_trainer'['nn_trainer'] at line 211: Did not improve on the ner_f1 of 94.1225\n"
     ]
    },
    {
     "name": "stdout",
     "output_type": "stream",
     "text": [
      "{\"valid\": {\"eval_examples_count\": 4088, \"metrics\": {\"ner_f1\": 93.7967, \"ner_token_f1\": 95.2458}, \"time_spent\": \"0:05:12\", \"epochs_done\": 15, \"batches_seen\": 600, \"train_examples_seen\": 293625, \"impatience\": 4, \"patience_limit\": 100}}\n"
     ]
    },
    {
     "name": "stderr",
     "output_type": "stream",
     "text": [
      "1it [00:00,  9.57it/s]]"
     ]
    },
    {
     "name": "stdout",
     "output_type": "stream",
     "text": [
      "{\"train\": {\"eval_examples_count\": 500, \"metrics\": {\"ner_f1\": 99.5041, \"ner_token_f1\": 99.7167}, \"time_spent\": \"0:05:14\", \"epochs_done\": 15, \"batches_seen\": 610, \"train_examples_seen\": 298625, \"loss\": 0.011166178667917848}}\n"
     ]
    },
    {
     "name": "stderr",
     "output_type": "stream",
     "text": [
      "\n",
      "9it [00:00, 10.62it/s]\n",
      "2025-09-24 12:28:05.193 INFO in 'deeppavlov.core.trainers.nn_trainer'['nn_trainer'] at line 211: Did not improve on the ner_f1 of 94.1225\n"
     ]
    },
    {
     "name": "stdout",
     "output_type": "stream",
     "text": [
      "{\"valid\": {\"eval_examples_count\": 4088, \"metrics\": {\"ner_f1\": 94.0292, \"ner_token_f1\": 95.2956}, \"time_spent\": \"0:05:15\", \"epochs_done\": 15, \"batches_seen\": 610, \"train_examples_seen\": 298625, \"impatience\": 5, \"patience_limit\": 100}}\n"
     ]
    },
    {
     "name": "stderr",
     "output_type": "stream",
     "text": [
      "1it [00:00, 11.69it/s]]"
     ]
    },
    {
     "name": "stdout",
     "output_type": "stream",
     "text": [
      "{\"train\": {\"eval_examples_count\": 500, \"metrics\": {\"ner_f1\": 99.4975, \"ner_token_f1\": 99.8544}, \"time_spent\": \"0:05:17\", \"epochs_done\": 15, \"batches_seen\": 620, \"train_examples_seen\": 303625, \"loss\": 0.011385546810925008}}\n"
     ]
    },
    {
     "name": "stderr",
     "output_type": "stream",
     "text": [
      "\n",
      "9it [00:00, 11.54it/s]\n",
      "2025-09-24 12:28:08.334 INFO in 'deeppavlov.core.trainers.nn_trainer'['nn_trainer'] at line 211: Did not improve on the ner_f1 of 94.1225\n"
     ]
    },
    {
     "name": "stdout",
     "output_type": "stream",
     "text": [
      "{\"valid\": {\"eval_examples_count\": 4088, \"metrics\": {\"ner_f1\": 93.9822, \"ner_token_f1\": 95.3098}, \"time_spent\": \"0:05:18\", \"epochs_done\": 15, \"batches_seen\": 620, \"train_examples_seen\": 303625, \"impatience\": 6, \"patience_limit\": 100}}\n"
     ]
    },
    {
     "name": "stderr",
     "output_type": "stream",
     "text": [
      "39it [00:12,  3.18it/s]\n",
      "1it [00:00, 10.63it/s]"
     ]
    },
    {
     "name": "stdout",
     "output_type": "stream",
     "text": [
      "{\"train\": {\"eval_examples_count\": 500, \"metrics\": {\"ner_f1\": 99.7494, \"ner_token_f1\": 99.8571}, \"time_spent\": \"0:05:20\", \"epochs_done\": 16, \"batches_seen\": 630, \"train_examples_seen\": 308200, \"loss\": 0.011320583010092377}}\n"
     ]
    },
    {
     "name": "stderr",
     "output_type": "stream",
     "text": [
      "\n",
      "9it [00:00, 11.55it/s]\n",
      "2025-09-24 12:28:11.341 INFO in 'deeppavlov.core.trainers.nn_trainer'['nn_trainer'] at line 211: Did not improve on the ner_f1 of 94.1225\n"
     ]
    },
    {
     "name": "stdout",
     "output_type": "stream",
     "text": [
      "{\"valid\": {\"eval_examples_count\": 4088, \"metrics\": {\"ner_f1\": 93.9252, \"ner_token_f1\": 95.2715}, \"time_spent\": \"0:05:21\", \"epochs_done\": 16, \"batches_seen\": 630, \"train_examples_seen\": 308200, \"impatience\": 7, \"patience_limit\": 100}}\n"
     ]
    },
    {
     "name": "stderr",
     "output_type": "stream",
     "text": [
      "1it [00:00, 11.76it/s]]"
     ]
    },
    {
     "name": "stdout",
     "output_type": "stream",
     "text": [
      "{\"train\": {\"eval_examples_count\": 500, \"metrics\": {\"ner_f1\": 99.6546, \"ner_token_f1\": 99.6294}, \"time_spent\": \"0:05:24\", \"epochs_done\": 16, \"batches_seen\": 640, \"train_examples_seen\": 313200, \"loss\": 0.008237894112244248}}\n"
     ]
    },
    {
     "name": "stderr",
     "output_type": "stream",
     "text": [
      "\n",
      "9it [00:00, 11.57it/s]\n",
      "2025-09-24 12:28:14.437 INFO in 'deeppavlov.core.trainers.nn_trainer'['nn_trainer'] at line 211: Did not improve on the ner_f1 of 94.1225\n"
     ]
    },
    {
     "name": "stdout",
     "output_type": "stream",
     "text": [
      "{\"valid\": {\"eval_examples_count\": 4088, \"metrics\": {\"ner_f1\": 94.0417, \"ner_token_f1\": 95.3263}, \"time_spent\": \"0:05:24\", \"epochs_done\": 16, \"batches_seen\": 640, \"train_examples_seen\": 313200, \"impatience\": 8, \"patience_limit\": 100}}\n"
     ]
    },
    {
     "name": "stderr",
     "output_type": "stream",
     "text": [
      "1it [00:00, 10.58it/s]]"
     ]
    },
    {
     "name": "stdout",
     "output_type": "stream",
     "text": [
      "{\"train\": {\"eval_examples_count\": 500, \"metrics\": {\"ner_f1\": 99.8296, \"ner_token_f1\": 99.9249}, \"time_spent\": \"0:05:27\", \"epochs_done\": 16, \"batches_seen\": 650, \"train_examples_seen\": 318200, \"loss\": 0.00982208289206028}}\n"
     ]
    },
    {
     "name": "stderr",
     "output_type": "stream",
     "text": [
      "\n",
      "9it [00:00, 10.50it/s]\n",
      "2025-09-24 12:28:17.622 INFO in 'deeppavlov.core.trainers.nn_trainer'['nn_trainer'] at line 211: Did not improve on the ner_f1 of 94.1225\n"
     ]
    },
    {
     "name": "stdout",
     "output_type": "stream",
     "text": [
      "{\"valid\": {\"eval_examples_count\": 4088, \"metrics\": {\"ner_f1\": 94.0235, \"ner_token_f1\": 95.2714}, \"time_spent\": \"0:05:28\", \"epochs_done\": 16, \"batches_seen\": 650, \"train_examples_seen\": 318200, \"impatience\": 9, \"patience_limit\": 100}}\n"
     ]
    },
    {
     "name": "stderr",
     "output_type": "stream",
     "text": [
      "1it [00:00, 10.64it/s]]"
     ]
    },
    {
     "name": "stdout",
     "output_type": "stream",
     "text": [
      "{\"train\": {\"eval_examples_count\": 500, \"metrics\": {\"ner_f1\": 99.4924, \"ner_token_f1\": 100.0}, \"time_spent\": \"0:05:30\", \"epochs_done\": 16, \"batches_seen\": 660, \"train_examples_seen\": 323200, \"loss\": 0.010181395197287202}}\n"
     ]
    },
    {
     "name": "stderr",
     "output_type": "stream",
     "text": [
      "\n",
      "9it [00:00, 11.49it/s]\n",
      "2025-09-24 12:28:20.631 INFO in 'deeppavlov.core.trainers.nn_trainer'['nn_trainer'] at line 211: Did not improve on the ner_f1 of 94.1225\n"
     ]
    },
    {
     "name": "stdout",
     "output_type": "stream",
     "text": [
      "{\"valid\": {\"eval_examples_count\": 4088, \"metrics\": {\"ner_f1\": 93.8099, \"ner_token_f1\": 95.0858}, \"time_spent\": \"0:05:31\", \"epochs_done\": 16, \"batches_seen\": 660, \"train_examples_seen\": 323200, \"impatience\": 10, \"patience_limit\": 100}}\n"
     ]
    },
    {
     "name": "stderr",
     "output_type": "stream",
     "text": [
      "39it [00:12,  3.24it/s]\n",
      "1it [00:00, 10.64it/s]"
     ]
    },
    {
     "name": "stdout",
     "output_type": "stream",
     "text": [
      "{\"train\": {\"eval_examples_count\": 500, \"metrics\": {\"ner_f1\": 100.0, \"ner_token_f1\": 100.0}, \"time_spent\": \"0:05:33\", \"epochs_done\": 17, \"batches_seen\": 670, \"train_examples_seen\": 327775, \"loss\": 0.009089492680504917}}\n"
     ]
    },
    {
     "name": "stderr",
     "output_type": "stream",
     "text": [
      "\n",
      "9it [00:00, 11.54it/s]\n",
      "2025-09-24 12:28:23.581 INFO in 'deeppavlov.core.trainers.nn_trainer'['nn_trainer'] at line 211: Did not improve on the ner_f1 of 94.1225\n"
     ]
    },
    {
     "name": "stdout",
     "output_type": "stream",
     "text": [
      "{\"valid\": {\"eval_examples_count\": 4088, \"metrics\": {\"ner_f1\": 93.6059, \"ner_token_f1\": 95.0693}, \"time_spent\": \"0:05:34\", \"epochs_done\": 17, \"batches_seen\": 670, \"train_examples_seen\": 327775, \"impatience\": 11, \"patience_limit\": 100}}\n"
     ]
    },
    {
     "name": "stderr",
     "output_type": "stream",
     "text": [
      "1it [00:00, 11.76it/s]]"
     ]
    },
    {
     "name": "stdout",
     "output_type": "stream",
     "text": [
      "{\"train\": {\"eval_examples_count\": 500, \"metrics\": {\"ner_f1\": 99.646, \"ner_token_f1\": 99.4677}, \"time_spent\": \"0:05:36\", \"epochs_done\": 17, \"batches_seen\": 680, \"train_examples_seen\": 332775, \"loss\": 0.006383562088012695}}\n"
     ]
    },
    {
     "name": "stderr",
     "output_type": "stream",
     "text": [
      "\n",
      "9it [00:00, 10.43it/s]\n",
      "2025-09-24 12:28:26.756 INFO in 'deeppavlov.core.trainers.nn_trainer'['nn_trainer'] at line 211: Did not improve on the ner_f1 of 94.1225\n"
     ]
    },
    {
     "name": "stdout",
     "output_type": "stream",
     "text": [
      "{\"valid\": {\"eval_examples_count\": 4088, \"metrics\": {\"ner_f1\": 93.7396, \"ner_token_f1\": 95.0568}, \"time_spent\": \"0:05:37\", \"epochs_done\": 17, \"batches_seen\": 680, \"train_examples_seen\": 332775, \"impatience\": 12, \"patience_limit\": 100}}\n"
     ]
    },
    {
     "name": "stderr",
     "output_type": "stream",
     "text": [
      "1it [00:00, 10.36it/s]]"
     ]
    },
    {
     "name": "stdout",
     "output_type": "stream",
     "text": [
      "{\"train\": {\"eval_examples_count\": 500, \"metrics\": {\"ner_f1\": 99.4002, \"ner_token_f1\": 99.3912}, \"time_spent\": \"0:05:39\", \"epochs_done\": 17, \"batches_seen\": 690, \"train_examples_seen\": 337775, \"loss\": 0.008209910988807679}}\n"
     ]
    },
    {
     "name": "stderr",
     "output_type": "stream",
     "text": [
      "\n",
      "9it [00:00, 11.22it/s]\n",
      "2025-09-24 12:28:29.797 INFO in 'deeppavlov.core.trainers.nn_trainer'['nn_trainer'] at line 211: Did not improve on the ner_f1 of 94.1225\n"
     ]
    },
    {
     "name": "stdout",
     "output_type": "stream",
     "text": [
      "{\"valid\": {\"eval_examples_count\": 4088, \"metrics\": {\"ner_f1\": 93.7272, \"ner_token_f1\": 95.1813}, \"time_spent\": \"0:05:40\", \"epochs_done\": 17, \"batches_seen\": 690, \"train_examples_seen\": 337775, \"impatience\": 13, \"patience_limit\": 100}}\n"
     ]
    },
    {
     "name": "stderr",
     "output_type": "stream",
     "text": [
      "1it [00:00, 11.23it/s]]"
     ]
    },
    {
     "name": "stdout",
     "output_type": "stream",
     "text": [
      "{\"train\": {\"eval_examples_count\": 500, \"metrics\": {\"ner_f1\": 100.0, \"ner_token_f1\": 100.0}, \"time_spent\": \"0:05:42\", \"epochs_done\": 17, \"batches_seen\": 700, \"train_examples_seen\": 342775, \"loss\": 0.009926291997544467}}\n"
     ]
    },
    {
     "name": "stderr",
     "output_type": "stream",
     "text": [
      "\n",
      "9it [00:00, 11.47it/s]\n",
      "2025-09-24 12:28:32.851 INFO in 'deeppavlov.core.trainers.nn_trainer'['nn_trainer'] at line 211: Did not improve on the ner_f1 of 94.1225\n"
     ]
    },
    {
     "name": "stdout",
     "output_type": "stream",
     "text": [
      "{\"valid\": {\"eval_examples_count\": 4088, \"metrics\": {\"ner_f1\": 94.1225, \"ner_token_f1\": 95.3451}, \"time_spent\": \"0:05:43\", \"epochs_done\": 17, \"batches_seen\": 700, \"train_examples_seen\": 342775, \"impatience\": 14, \"patience_limit\": 100}}\n"
     ]
    },
    {
     "name": "stderr",
     "output_type": "stream",
     "text": [
      "39it [00:12,  3.25it/s]\n",
      "1it [00:00, 11.90it/s]"
     ]
    },
    {
     "name": "stdout",
     "output_type": "stream",
     "text": [
      "{\"train\": {\"eval_examples_count\": 500, \"metrics\": {\"ner_f1\": 99.5781, \"ner_token_f1\": 99.7041}, \"time_spent\": \"0:05:45\", \"epochs_done\": 18, \"batches_seen\": 710, \"train_examples_seen\": 347350, \"loss\": 0.008126651705242693}}\n"
     ]
    },
    {
     "name": "stderr",
     "output_type": "stream",
     "text": [
      "\n",
      "9it [00:00, 11.04it/s]\n",
      "2025-09-24 12:28:35.818 INFO in 'deeppavlov.core.trainers.nn_trainer'['nn_trainer'] at line 211: Did not improve on the ner_f1 of 94.1225\n"
     ]
    },
    {
     "name": "stdout",
     "output_type": "stream",
     "text": [
      "{\"valid\": {\"eval_examples_count\": 4088, \"metrics\": {\"ner_f1\": 93.7955, \"ner_token_f1\": 95.1817}, \"time_spent\": \"0:05:46\", \"epochs_done\": 18, \"batches_seen\": 710, \"train_examples_seen\": 347350, \"impatience\": 15, \"patience_limit\": 100}}\n"
     ]
    },
    {
     "name": "stderr",
     "output_type": "stream",
     "text": [
      "1it [00:00, 10.80it/s]]"
     ]
    },
    {
     "name": "stdout",
     "output_type": "stream",
     "text": [
      "{\"train\": {\"eval_examples_count\": 500, \"metrics\": {\"ner_f1\": 99.5745, \"ner_token_f1\": 99.7779}, \"time_spent\": \"0:05:48\", \"epochs_done\": 18, \"batches_seen\": 720, \"train_examples_seen\": 352350, \"loss\": 0.007995516154915094}}\n"
     ]
    },
    {
     "name": "stderr",
     "output_type": "stream",
     "text": [
      "\n",
      "9it [00:00,  9.77it/s]\n",
      "2025-09-24 12:28:39.156 INFO in 'deeppavlov.core.trainers.nn_trainer'['nn_trainer'] at line 211: Did not improve on the ner_f1 of 94.1225\n"
     ]
    },
    {
     "name": "stdout",
     "output_type": "stream",
     "text": [
      "{\"valid\": {\"eval_examples_count\": 4088, \"metrics\": {\"ner_f1\": 93.7051, \"ner_token_f1\": 95.1739}, \"time_spent\": \"0:05:49\", \"epochs_done\": 18, \"batches_seen\": 720, \"train_examples_seen\": 352350, \"impatience\": 16, \"patience_limit\": 100}}\n"
     ]
    },
    {
     "name": "stderr",
     "output_type": "stream",
     "text": [
      "1it [00:00, 11.76it/s]]"
     ]
    },
    {
     "name": "stdout",
     "output_type": "stream",
     "text": [
      "{\"train\": {\"eval_examples_count\": 500, \"metrics\": {\"ner_f1\": 99.7394, \"ner_token_f1\": 99.701}, \"time_spent\": \"0:05:51\", \"epochs_done\": 18, \"batches_seen\": 730, \"train_examples_seen\": 357350, \"loss\": 0.0077845843508839606}}\n"
     ]
    },
    {
     "name": "stderr",
     "output_type": "stream",
     "text": [
      "\n",
      "9it [00:00, 11.67it/s]\n",
      "2025-09-24 12:28:42.219 INFO in 'deeppavlov.core.trainers.nn_trainer'['nn_trainer'] at line 211: Did not improve on the ner_f1 of 94.1225\n"
     ]
    },
    {
     "name": "stdout",
     "output_type": "stream",
     "text": [
      "{\"valid\": {\"eval_examples_count\": 4088, \"metrics\": {\"ner_f1\": 93.7072, \"ner_token_f1\": 95.1468}, \"time_spent\": \"0:05:52\", \"epochs_done\": 18, \"batches_seen\": 730, \"train_examples_seen\": 357350, \"impatience\": 17, \"patience_limit\": 100}}\n"
     ]
    },
    {
     "name": "stderr",
     "output_type": "stream",
     "text": [
      "1it [00:00, 11.17it/s]]"
     ]
    },
    {
     "name": "stdout",
     "output_type": "stream",
     "text": [
      "{\"train\": {\"eval_examples_count\": 500, \"metrics\": {\"ner_f1\": 100.0, \"ner_token_f1\": 100.0}, \"time_spent\": \"0:05:54\", \"epochs_done\": 18, \"batches_seen\": 740, \"train_examples_seen\": 362350, \"loss\": 0.009538798360154033}}\n"
     ]
    },
    {
     "name": "stderr",
     "output_type": "stream",
     "text": [
      "\n",
      "9it [00:00, 11.60it/s]\n",
      "2025-09-24 12:28:45.196 INFO in 'deeppavlov.core.trainers.nn_trainer'['nn_trainer'] at line 211: Did not improve on the ner_f1 of 94.1225\n"
     ]
    },
    {
     "name": "stdout",
     "output_type": "stream",
     "text": [
      "{\"valid\": {\"eval_examples_count\": 4088, \"metrics\": {\"ner_f1\": 93.7884, \"ner_token_f1\": 95.1876}, \"time_spent\": \"0:05:55\", \"epochs_done\": 18, \"batches_seen\": 740, \"train_examples_seen\": 362350, \"impatience\": 18, \"patience_limit\": 100}}\n"
     ]
    },
    {
     "name": "stderr",
     "output_type": "stream",
     "text": [
      "39it [00:12,  3.21it/s]\n",
      "1it [00:00, 11.60it/s]"
     ]
    },
    {
     "name": "stdout",
     "output_type": "stream",
     "text": [
      "{\"train\": {\"eval_examples_count\": 500, \"metrics\": {\"ner_f1\": 99.8314, \"ner_token_f1\": 99.8538}, \"time_spent\": \"0:05:57\", \"epochs_done\": 19, \"batches_seen\": 750, \"train_examples_seen\": 366925, \"loss\": 0.007224620133638382}}\n"
     ]
    },
    {
     "name": "stderr",
     "output_type": "stream",
     "text": [
      "\n",
      "9it [00:00, 10.61it/s]\n",
      "2025-09-24 12:28:48.151 INFO in 'deeppavlov.core.trainers.nn_trainer'['nn_trainer'] at line 211: Did not improve on the ner_f1 of 94.1225\n"
     ]
    },
    {
     "name": "stdout",
     "output_type": "stream",
     "text": [
      "{\"valid\": {\"eval_examples_count\": 4088, \"metrics\": {\"ner_f1\": 93.6987, \"ner_token_f1\": 95.1049}, \"time_spent\": \"0:05:58\", \"epochs_done\": 19, \"batches_seen\": 750, \"train_examples_seen\": 366925, \"impatience\": 19, \"patience_limit\": 100}}\n"
     ]
    },
    {
     "name": "stderr",
     "output_type": "stream",
     "text": [
      "1it [00:00, 11.90it/s]]"
     ]
    },
    {
     "name": "stdout",
     "output_type": "stream",
     "text": [
      "{\"train\": {\"eval_examples_count\": 500, \"metrics\": {\"ner_f1\": 99.2208, \"ner_token_f1\": 99.8527}, \"time_spent\": \"0:06:00\", \"epochs_done\": 19, \"batches_seen\": 760, \"train_examples_seen\": 371925, \"loss\": 0.007054888643324375}}\n"
     ]
    },
    {
     "name": "stderr",
     "output_type": "stream",
     "text": [
      "\n",
      "9it [00:00, 11.32it/s]\n",
      "2025-09-24 12:28:51.240 INFO in 'deeppavlov.core.trainers.nn_trainer'['nn_trainer'] at line 211: Did not improve on the ner_f1 of 94.1225\n"
     ]
    },
    {
     "name": "stdout",
     "output_type": "stream",
     "text": [
      "{\"valid\": {\"eval_examples_count\": 4088, \"metrics\": {\"ner_f1\": 93.9328, \"ner_token_f1\": 95.2928}, \"time_spent\": \"0:06:01\", \"epochs_done\": 19, \"batches_seen\": 760, \"train_examples_seen\": 371925, \"impatience\": 20, \"patience_limit\": 100}}\n"
     ]
    },
    {
     "name": "stderr",
     "output_type": "stream",
     "text": [
      "1it [00:00, 11.30it/s]]"
     ]
    },
    {
     "name": "stdout",
     "output_type": "stream",
     "text": [
      "{\"train\": {\"eval_examples_count\": 500, \"metrics\": {\"ner_f1\": 99.4152, \"ner_token_f1\": 99.7825}, \"time_spent\": \"0:06:03\", \"epochs_done\": 19, \"batches_seen\": 770, \"train_examples_seen\": 376925, \"loss\": 0.006187452049925923}}\n"
     ]
    },
    {
     "name": "stderr",
     "output_type": "stream",
     "text": [
      "\n",
      "9it [00:00, 11.84it/s]\n",
      "2025-09-24 12:28:54.358 INFO in 'deeppavlov.core.trainers.nn_trainer'['nn_trainer'] at line 211: Did not improve on the ner_f1 of 94.1225\n"
     ]
    },
    {
     "name": "stdout",
     "output_type": "stream",
     "text": [
      "{\"valid\": {\"eval_examples_count\": 4088, \"metrics\": {\"ner_f1\": 93.5276, \"ner_token_f1\": 95.0726}, \"time_spent\": \"0:06:04\", \"epochs_done\": 19, \"batches_seen\": 770, \"train_examples_seen\": 376925, \"impatience\": 21, \"patience_limit\": 100}}\n"
     ]
    },
    {
     "name": "stderr",
     "output_type": "stream",
     "text": [
      "1it [00:00, 10.41it/s]]"
     ]
    },
    {
     "name": "stdout",
     "output_type": "stream",
     "text": [
      "{\"train\": {\"eval_examples_count\": 500, \"metrics\": {\"ner_f1\": 100.0, \"ner_token_f1\": 100.0}, \"time_spent\": \"0:06:06\", \"epochs_done\": 19, \"batches_seen\": 780, \"train_examples_seen\": 381500, \"loss\": 0.006093076372053474}}\n"
     ]
    },
    {
     "name": "stderr",
     "output_type": "stream",
     "text": [
      "\n",
      "9it [00:00, 11.37it/s]\n",
      "2025-09-24 12:28:57.300 INFO in 'deeppavlov.core.trainers.nn_trainer'['nn_trainer'] at line 206: Improved best ner_f1 from 94.1225 to 94.2486\n",
      "2025-09-24 12:28:57.300 INFO in 'deeppavlov.core.trainers.nn_trainer'['nn_trainer'] at line 208: Saving model\n",
      "2025-09-24 12:28:57.301 INFO in 'deeppavlov.core.models.torch_model'['torch_model'] at line 175: Saving model to C:\\Users\\lexan\\OneDrive\\Documents\\hackaton_lct\\models.pth.tar.\n"
     ]
    },
    {
     "name": "stdout",
     "output_type": "stream",
     "text": [
      "{\"valid\": {\"eval_examples_count\": 4088, \"metrics\": {\"ner_f1\": 94.2486, \"ner_token_f1\": 95.5747}, \"time_spent\": \"0:06:07\", \"epochs_done\": 19, \"batches_seen\": 780, \"train_examples_seen\": 381500, \"impatience\": 0, \"patience_limit\": 100}}\n"
     ]
    },
    {
     "name": "stderr",
     "output_type": "stream",
     "text": [
      "39it [00:14,  2.68it/s]\n",
      "1it [00:00, 10.69it/s]"
     ]
    },
    {
     "name": "stdout",
     "output_type": "stream",
     "text": [
      "{\"train\": {\"eval_examples_count\": 500, \"metrics\": {\"ner_f1\": 99.9131, \"ner_token_f1\": 99.927}, \"time_spent\": \"0:06:12\", \"epochs_done\": 20, \"batches_seen\": 790, \"train_examples_seen\": 386500, \"loss\": 0.007049183454364538}}\n"
     ]
    },
    {
     "name": "stderr",
     "output_type": "stream",
     "text": [
      "\n",
      "9it [00:00, 11.88it/s]\n",
      "2025-09-24 12:29:02.943 INFO in 'deeppavlov.core.trainers.nn_trainer'['nn_trainer'] at line 211: Did not improve on the ner_f1 of 94.2486\n"
     ]
    },
    {
     "name": "stdout",
     "output_type": "stream",
     "text": [
      "{\"valid\": {\"eval_examples_count\": 4088, \"metrics\": {\"ner_f1\": 94.0368, \"ner_token_f1\": 95.4056}, \"time_spent\": \"0:06:13\", \"epochs_done\": 20, \"batches_seen\": 790, \"train_examples_seen\": 386500, \"impatience\": 1, \"patience_limit\": 100}}\n"
     ]
    },
    {
     "name": "stderr",
     "output_type": "stream",
     "text": [
      "1it [00:00, 11.29it/s]]"
     ]
    },
    {
     "name": "stdout",
     "output_type": "stream",
     "text": [
      "{\"train\": {\"eval_examples_count\": 500, \"metrics\": {\"ner_f1\": 99.7412, \"ner_token_f1\": 100.0}, \"time_spent\": \"0:06:15\", \"epochs_done\": 20, \"batches_seen\": 800, \"train_examples_seen\": 391500, \"loss\": 0.005366539605893195}}\n"
     ]
    },
    {
     "name": "stderr",
     "output_type": "stream",
     "text": [
      "\n",
      "9it [00:00, 11.33it/s]\n",
      "2025-09-24 12:29:06.34 INFO in 'deeppavlov.core.trainers.nn_trainer'['nn_trainer'] at line 211: Did not improve on the ner_f1 of 94.2486\n"
     ]
    },
    {
     "name": "stdout",
     "output_type": "stream",
     "text": [
      "{\"valid\": {\"eval_examples_count\": 4088, \"metrics\": {\"ner_f1\": 93.9536, \"ner_token_f1\": 95.4227}, \"time_spent\": \"0:06:16\", \"epochs_done\": 20, \"batches_seen\": 800, \"train_examples_seen\": 391500, \"impatience\": 2, \"patience_limit\": 100}}\n"
     ]
    },
    {
     "name": "stderr",
     "output_type": "stream",
     "text": [
      "1it [00:00, 10.25it/s]]"
     ]
    },
    {
     "name": "stdout",
     "output_type": "stream",
     "text": [
      "{\"train\": {\"eval_examples_count\": 500, \"metrics\": {\"ner_f1\": 99.6564, \"ner_token_f1\": 99.7063}, \"time_spent\": \"0:06:18\", \"epochs_done\": 20, \"batches_seen\": 810, \"train_examples_seen\": 396500, \"loss\": 0.005534945847466588}}\n"
     ]
    },
    {
     "name": "stderr",
     "output_type": "stream",
     "text": [
      "\n",
      "9it [00:00, 11.15it/s]\n",
      "2025-09-24 12:29:09.164 INFO in 'deeppavlov.core.trainers.nn_trainer'['nn_trainer'] at line 211: Did not improve on the ner_f1 of 94.2486\n"
     ]
    },
    {
     "name": "stdout",
     "output_type": "stream",
     "text": [
      "{\"valid\": {\"eval_examples_count\": 4088, \"metrics\": {\"ner_f1\": 93.9571, \"ner_token_f1\": 95.2518}, \"time_spent\": \"0:06:19\", \"epochs_done\": 20, \"batches_seen\": 810, \"train_examples_seen\": 396500, \"impatience\": 3, \"patience_limit\": 100}}\n"
     ]
    },
    {
     "name": "stderr",
     "output_type": "stream",
     "text": [
      "39it [00:11,  3.46it/s]\n",
      "1it [00:00, 10.87it/s]"
     ]
    },
    {
     "name": "stdout",
     "output_type": "stream",
     "text": [
      "{\"train\": {\"eval_examples_count\": 500, \"metrics\": {\"ner_f1\": 99.7451, \"ner_token_f1\": 99.7821}, \"time_spent\": \"0:06:21\", \"epochs_done\": 21, \"batches_seen\": 820, \"train_examples_seen\": 401075, \"loss\": 0.00633132157381624}}\n"
     ]
    },
    {
     "name": "stderr",
     "output_type": "stream",
     "text": [
      "\n",
      "9it [00:00, 11.13it/s]\n",
      "2025-09-24 12:29:12.308 INFO in 'deeppavlov.core.trainers.nn_trainer'['nn_trainer'] at line 211: Did not improve on the ner_f1 of 94.2486\n"
     ]
    },
    {
     "name": "stdout",
     "output_type": "stream",
     "text": [
      "{\"valid\": {\"eval_examples_count\": 4088, \"metrics\": {\"ner_f1\": 94.0992, \"ner_token_f1\": 95.3522}, \"time_spent\": \"0:06:22\", \"epochs_done\": 21, \"batches_seen\": 820, \"train_examples_seen\": 401075, \"impatience\": 4, \"patience_limit\": 100}}\n"
     ]
    },
    {
     "name": "stderr",
     "output_type": "stream",
     "text": [
      "1it [00:00, 10.42it/s]]"
     ]
    },
    {
     "name": "stdout",
     "output_type": "stream",
     "text": [
      "{\"train\": {\"eval_examples_count\": 500, \"metrics\": {\"ner_f1\": 100.0, \"ner_token_f1\": 100.0}, \"time_spent\": \"0:06:24\", \"epochs_done\": 21, \"batches_seen\": 830, \"train_examples_seen\": 406075, \"loss\": 0.006112705357372761}}\n"
     ]
    },
    {
     "name": "stderr",
     "output_type": "stream",
     "text": [
      "\n",
      "9it [00:00, 11.37it/s]\n",
      "2025-09-24 12:29:15.323 INFO in 'deeppavlov.core.trainers.nn_trainer'['nn_trainer'] at line 211: Did not improve on the ner_f1 of 94.2486\n"
     ]
    },
    {
     "name": "stdout",
     "output_type": "stream",
     "text": [
      "{\"valid\": {\"eval_examples_count\": 4088, \"metrics\": {\"ner_f1\": 93.7591, \"ner_token_f1\": 95.123}, \"time_spent\": \"0:06:25\", \"epochs_done\": 21, \"batches_seen\": 830, \"train_examples_seen\": 406075, \"impatience\": 5, \"patience_limit\": 100}}\n"
     ]
    },
    {
     "name": "stderr",
     "output_type": "stream",
     "text": [
      "1it [00:00, 11.37it/s]]"
     ]
    },
    {
     "name": "stdout",
     "output_type": "stream",
     "text": [
      "{\"train\": {\"eval_examples_count\": 500, \"metrics\": {\"ner_f1\": 99.7442, \"ner_token_f1\": 99.9278}, \"time_spent\": \"0:06:28\", \"epochs_done\": 21, \"batches_seen\": 840, \"train_examples_seen\": 411075, \"loss\": 0.0054438835708424445}}\n"
     ]
    },
    {
     "name": "stderr",
     "output_type": "stream",
     "text": [
      "\n",
      "9it [00:00, 11.60it/s]\n",
      "2025-09-24 12:29:18.419 INFO in 'deeppavlov.core.trainers.nn_trainer'['nn_trainer'] at line 211: Did not improve on the ner_f1 of 94.2486\n"
     ]
    },
    {
     "name": "stdout",
     "output_type": "stream",
     "text": [
      "{\"valid\": {\"eval_examples_count\": 4088, \"metrics\": {\"ner_f1\": 93.8022, \"ner_token_f1\": 95.2201}, \"time_spent\": \"0:06:28\", \"epochs_done\": 21, \"batches_seen\": 840, \"train_examples_seen\": 411075, \"impatience\": 6, \"patience_limit\": 100}}\n"
     ]
    },
    {
     "name": "stderr",
     "output_type": "stream",
     "text": [
      "1it [00:00, 10.16it/s]]"
     ]
    },
    {
     "name": "stdout",
     "output_type": "stream",
     "text": [
      "{\"train\": {\"eval_examples_count\": 500, \"metrics\": {\"ner_f1\": 99.5648, \"ner_token_f1\": 99.925}, \"time_spent\": \"0:06:31\", \"epochs_done\": 21, \"batches_seen\": 850, \"train_examples_seen\": 416075, \"loss\": 0.006127957790158689}}\n"
     ]
    },
    {
     "name": "stderr",
     "output_type": "stream",
     "text": [
      "\n",
      "9it [00:00,  9.89it/s]\n",
      "2025-09-24 12:29:21.625 INFO in 'deeppavlov.core.trainers.nn_trainer'['nn_trainer'] at line 211: Did not improve on the ner_f1 of 94.2486\n"
     ]
    },
    {
     "name": "stdout",
     "output_type": "stream",
     "text": [
      "{\"valid\": {\"eval_examples_count\": 4088, \"metrics\": {\"ner_f1\": 94.1714, \"ner_token_f1\": 95.5141}, \"time_spent\": \"0:06:32\", \"epochs_done\": 21, \"batches_seen\": 850, \"train_examples_seen\": 416075, \"impatience\": 7, \"patience_limit\": 100}}\n"
     ]
    },
    {
     "name": "stderr",
     "output_type": "stream",
     "text": [
      "39it [00:12,  3.23it/s]\n",
      "1it [00:00, 10.41it/s]"
     ]
    },
    {
     "name": "stdout",
     "output_type": "stream",
     "text": [
      "{\"train\": {\"eval_examples_count\": 500, \"metrics\": {\"ner_f1\": 100.0, \"ner_token_f1\": 100.0}, \"time_spent\": \"0:06:34\", \"epochs_done\": 22, \"batches_seen\": 860, \"train_examples_seen\": 420650, \"loss\": 0.004859017650596797}}\n"
     ]
    },
    {
     "name": "stderr",
     "output_type": "stream",
     "text": [
      "\n",
      "9it [00:00, 11.37it/s]\n",
      "2025-09-24 12:29:24.572 INFO in 'deeppavlov.core.trainers.nn_trainer'['nn_trainer'] at line 211: Did not improve on the ner_f1 of 94.2486\n"
     ]
    },
    {
     "name": "stdout",
     "output_type": "stream",
     "text": [
      "{\"valid\": {\"eval_examples_count\": 4088, \"metrics\": {\"ner_f1\": 94.081, \"ner_token_f1\": 95.4003}, \"time_spent\": \"0:06:35\", \"epochs_done\": 22, \"batches_seen\": 860, \"train_examples_seen\": 420650, \"impatience\": 8, \"patience_limit\": 100}}\n"
     ]
    },
    {
     "name": "stderr",
     "output_type": "stream",
     "text": [
      "1it [00:00, 10.31it/s]]"
     ]
    },
    {
     "name": "stdout",
     "output_type": "stream",
     "text": [
      "{\"train\": {\"eval_examples_count\": 500, \"metrics\": {\"ner_f1\": 98.9708, \"ner_token_f1\": 99.41}, \"time_spent\": \"0:06:37\", \"epochs_done\": 22, \"batches_seen\": 870, \"train_examples_seen\": 425650, \"loss\": 0.004730650479905308}}\n"
     ]
    },
    {
     "name": "stderr",
     "output_type": "stream",
     "text": [
      "\n",
      "9it [00:00, 11.38it/s]\n",
      "2025-09-24 12:29:27.690 INFO in 'deeppavlov.core.trainers.nn_trainer'['nn_trainer'] at line 211: Did not improve on the ner_f1 of 94.2486\n"
     ]
    },
    {
     "name": "stdout",
     "output_type": "stream",
     "text": [
      "{\"valid\": {\"eval_examples_count\": 4088, \"metrics\": {\"ner_f1\": 93.9634, \"ner_token_f1\": 95.3169}, \"time_spent\": \"0:06:38\", \"epochs_done\": 22, \"batches_seen\": 870, \"train_examples_seen\": 425650, \"impatience\": 9, \"patience_limit\": 100}}\n"
     ]
    },
    {
     "name": "stderr",
     "output_type": "stream",
     "text": [
      "1it [00:00, 10.93it/s]]"
     ]
    },
    {
     "name": "stdout",
     "output_type": "stream",
     "text": [
      "{\"train\": {\"eval_examples_count\": 500, \"metrics\": {\"ner_f1\": 100.0, \"ner_token_f1\": 100.0}, \"time_spent\": \"0:06:40\", \"epochs_done\": 22, \"batches_seen\": 880, \"train_examples_seen\": 430650, \"loss\": 0.006331456266343594}}\n"
     ]
    },
    {
     "name": "stderr",
     "output_type": "stream",
     "text": [
      "\n",
      "9it [00:00, 10.12it/s]\n",
      "2025-09-24 12:29:30.891 INFO in 'deeppavlov.core.trainers.nn_trainer'['nn_trainer'] at line 211: Did not improve on the ner_f1 of 94.2486\n"
     ]
    },
    {
     "name": "stdout",
     "output_type": "stream",
     "text": [
      "{\"valid\": {\"eval_examples_count\": 4088, \"metrics\": {\"ner_f1\": 93.4402, \"ner_token_f1\": 94.9219}, \"time_spent\": \"0:06:41\", \"epochs_done\": 22, \"batches_seen\": 880, \"train_examples_seen\": 430650, \"impatience\": 10, \"patience_limit\": 100}}\n"
     ]
    },
    {
     "name": "stderr",
     "output_type": "stream",
     "text": [
      "1it [00:00, 10.93it/s]]"
     ]
    },
    {
     "name": "stdout",
     "output_type": "stream",
     "text": [
      "{\"train\": {\"eval_examples_count\": 500, \"metrics\": {\"ner_f1\": 100.0, \"ner_token_f1\": 100.0}, \"time_spent\": \"0:06:43\", \"epochs_done\": 22, \"batches_seen\": 890, \"train_examples_seen\": 435650, \"loss\": 0.005509330285713076}}\n"
     ]
    },
    {
     "name": "stderr",
     "output_type": "stream",
     "text": [
      "\n",
      "9it [00:00, 11.61it/s]\n",
      "2025-09-24 12:29:33.904 INFO in 'deeppavlov.core.trainers.nn_trainer'['nn_trainer'] at line 211: Did not improve on the ner_f1 of 94.2486\n"
     ]
    },
    {
     "name": "stdout",
     "output_type": "stream",
     "text": [
      "{\"valid\": {\"eval_examples_count\": 4088, \"metrics\": {\"ner_f1\": 93.9731, \"ner_token_f1\": 95.363}, \"time_spent\": \"0:06:44\", \"epochs_done\": 22, \"batches_seen\": 890, \"train_examples_seen\": 435650, \"impatience\": 11, \"patience_limit\": 100}}\n"
     ]
    },
    {
     "name": "stderr",
     "output_type": "stream",
     "text": [
      "39it [00:12,  3.21it/s]\n",
      "1it [00:00, 11.43it/s]"
     ]
    },
    {
     "name": "stdout",
     "output_type": "stream",
     "text": [
      "{\"train\": {\"eval_examples_count\": 500, \"metrics\": {\"ner_f1\": 99.7447, \"ner_token_f1\": 99.9261}, \"time_spent\": \"0:06:46\", \"epochs_done\": 23, \"batches_seen\": 900, \"train_examples_seen\": 440225, \"loss\": 0.007654830324463546}}\n"
     ]
    },
    {
     "name": "stderr",
     "output_type": "stream",
     "text": [
      "\n",
      "9it [00:00, 11.75it/s]\n",
      "2025-09-24 12:29:36.902 INFO in 'deeppavlov.core.trainers.nn_trainer'['nn_trainer'] at line 211: Did not improve on the ner_f1 of 94.2486\n"
     ]
    },
    {
     "name": "stdout",
     "output_type": "stream",
     "text": [
      "{\"valid\": {\"eval_examples_count\": 4088, \"metrics\": {\"ner_f1\": 93.8164, \"ner_token_f1\": 95.2039}, \"time_spent\": \"0:06:47\", \"epochs_done\": 23, \"batches_seen\": 900, \"train_examples_seen\": 440225, \"impatience\": 12, \"patience_limit\": 100}}\n"
     ]
    },
    {
     "name": "stderr",
     "output_type": "stream",
     "text": [
      "1it [00:00, 10.03it/s]]"
     ]
    },
    {
     "name": "stdout",
     "output_type": "stream",
     "text": [
      "{\"train\": {\"eval_examples_count\": 500, \"metrics\": {\"ner_f1\": 100.0, \"ner_token_f1\": 100.0}, \"time_spent\": \"0:06:49\", \"epochs_done\": 23, \"batches_seen\": 910, \"train_examples_seen\": 445225, \"loss\": 0.005206578550860286}}\n"
     ]
    },
    {
     "name": "stderr",
     "output_type": "stream",
     "text": [
      "\n",
      "9it [00:00, 11.46it/s]\n",
      "2025-09-24 12:29:39.916 INFO in 'deeppavlov.core.trainers.nn_trainer'['nn_trainer'] at line 211: Did not improve on the ner_f1 of 94.2486\n"
     ]
    },
    {
     "name": "stdout",
     "output_type": "stream",
     "text": [
      "{\"valid\": {\"eval_examples_count\": 4088, \"metrics\": {\"ner_f1\": 93.9111, \"ner_token_f1\": 95.2988}, \"time_spent\": \"0:06:50\", \"epochs_done\": 23, \"batches_seen\": 910, \"train_examples_seen\": 445225, \"impatience\": 13, \"patience_limit\": 100}}\n"
     ]
    },
    {
     "name": "stderr",
     "output_type": "stream",
     "text": [
      "1it [00:00, 10.80it/s]]"
     ]
    },
    {
     "name": "stdout",
     "output_type": "stream",
     "text": [
      "{\"train\": {\"eval_examples_count\": 500, \"metrics\": {\"ner_f1\": 99.7425, \"ner_token_f1\": 99.7763}, \"time_spent\": \"0:06:52\", \"epochs_done\": 23, \"batches_seen\": 920, \"train_examples_seen\": 450225, \"loss\": 0.004766881628893316}}\n"
     ]
    },
    {
     "name": "stderr",
     "output_type": "stream",
     "text": [
      "\n",
      "9it [00:00,  9.92it/s]\n",
      "2025-09-24 12:29:43.194 INFO in 'deeppavlov.core.trainers.nn_trainer'['nn_trainer'] at line 211: Did not improve on the ner_f1 of 94.2486\n"
     ]
    },
    {
     "name": "stdout",
     "output_type": "stream",
     "text": [
      "{\"valid\": {\"eval_examples_count\": 4088, \"metrics\": {\"ner_f1\": 93.9293, \"ner_token_f1\": 95.3705}, \"time_spent\": \"0:06:53\", \"epochs_done\": 23, \"batches_seen\": 920, \"train_examples_seen\": 450225, \"impatience\": 14, \"patience_limit\": 100}}\n"
     ]
    },
    {
     "name": "stderr",
     "output_type": "stream",
     "text": [
      "1it [00:00, 10.88it/s]]"
     ]
    },
    {
     "name": "stdout",
     "output_type": "stream",
     "text": [
      "{\"train\": {\"eval_examples_count\": 500, \"metrics\": {\"ner_f1\": 99.9128, \"ner_token_f1\": 99.9261}, \"time_spent\": \"0:06:55\", \"epochs_done\": 23, \"batches_seen\": 930, \"train_examples_seen\": 455225, \"loss\": 0.004639707913156599}}\n"
     ]
    },
    {
     "name": "stderr",
     "output_type": "stream",
     "text": [
      "\n",
      "9it [00:00, 11.27it/s]\n",
      "2025-09-24 12:29:46.378 INFO in 'deeppavlov.core.trainers.nn_trainer'['nn_trainer'] at line 211: Did not improve on the ner_f1 of 94.2486\n"
     ]
    },
    {
     "name": "stdout",
     "output_type": "stream",
     "text": [
      "{\"valid\": {\"eval_examples_count\": 4088, \"metrics\": {\"ner_f1\": 94.0285, \"ner_token_f1\": 95.3593}, \"time_spent\": \"0:06:56\", \"epochs_done\": 23, \"batches_seen\": 930, \"train_examples_seen\": 455225, \"impatience\": 15, \"patience_limit\": 100}}\n"
     ]
    },
    {
     "name": "stderr",
     "output_type": "stream",
     "text": [
      "39it [00:12,  3.20it/s]\n",
      "1it [00:00, 10.08it/s]"
     ]
    },
    {
     "name": "stdout",
     "output_type": "stream",
     "text": [
      "{\"train\": {\"eval_examples_count\": 500, \"metrics\": {\"ner_f1\": 99.3019, \"ner_token_f1\": 99.5461}, \"time_spent\": \"0:06:58\", \"epochs_done\": 24, \"batches_seen\": 940, \"train_examples_seen\": 459800, \"loss\": 0.004243093216791749}}\n"
     ]
    },
    {
     "name": "stderr",
     "output_type": "stream",
     "text": [
      "\n",
      "9it [00:00, 11.77it/s]\n",
      "2025-09-24 12:29:49.297 INFO in 'deeppavlov.core.trainers.nn_trainer'['nn_trainer'] at line 211: Did not improve on the ner_f1 of 94.2486\n"
     ]
    },
    {
     "name": "stdout",
     "output_type": "stream",
     "text": [
      "{\"valid\": {\"eval_examples_count\": 4088, \"metrics\": {\"ner_f1\": 94.1545, \"ner_token_f1\": 95.41}, \"time_spent\": \"0:06:59\", \"epochs_done\": 24, \"batches_seen\": 940, \"train_examples_seen\": 459800, \"impatience\": 16, \"patience_limit\": 100}}\n"
     ]
    },
    {
     "name": "stderr",
     "output_type": "stream",
     "text": [
      "1it [00:00, 10.64it/s]]"
     ]
    },
    {
     "name": "stdout",
     "output_type": "stream",
     "text": [
      "{\"train\": {\"eval_examples_count\": 500, \"metrics\": {\"ner_f1\": 100.0, \"ner_token_f1\": 100.0}, \"time_spent\": \"0:07:01\", \"epochs_done\": 24, \"batches_seen\": 950, \"train_examples_seen\": 464800, \"loss\": 0.004831517045386135}}\n"
     ]
    },
    {
     "name": "stderr",
     "output_type": "stream",
     "text": [
      "\n",
      "9it [00:00, 11.61it/s]\n",
      "2025-09-24 12:29:52.349 INFO in 'deeppavlov.core.trainers.nn_trainer'['nn_trainer'] at line 206: Improved best ner_f1 from 94.2486 to 94.3631\n",
      "2025-09-24 12:29:52.350 INFO in 'deeppavlov.core.trainers.nn_trainer'['nn_trainer'] at line 208: Saving model\n",
      "2025-09-24 12:29:52.350 INFO in 'deeppavlov.core.models.torch_model'['torch_model'] at line 175: Saving model to C:\\Users\\lexan\\OneDrive\\Documents\\hackaton_lct\\models.pth.tar.\n"
     ]
    },
    {
     "name": "stdout",
     "output_type": "stream",
     "text": [
      "{\"valid\": {\"eval_examples_count\": 4088, \"metrics\": {\"ner_f1\": 94.3631, \"ner_token_f1\": 95.5484}, \"time_spent\": \"0:07:02\", \"epochs_done\": 24, \"batches_seen\": 950, \"train_examples_seen\": 464800, \"impatience\": 0, \"patience_limit\": 100}}\n"
     ]
    },
    {
     "name": "stderr",
     "output_type": "stream",
     "text": [
      "1it [00:00, 11.17it/s]]"
     ]
    },
    {
     "name": "stdout",
     "output_type": "stream",
     "text": [
      "{\"train\": {\"eval_examples_count\": 500, \"metrics\": {\"ner_f1\": 99.913, \"ner_token_f1\": 99.9253}, \"time_spent\": \"0:07:07\", \"epochs_done\": 24, \"batches_seen\": 960, \"train_examples_seen\": 469800, \"loss\": 0.0050231826142407955}}\n"
     ]
    },
    {
     "name": "stderr",
     "output_type": "stream",
     "text": [
      "\n",
      "9it [00:00, 11.81it/s]\n",
      "2025-09-24 12:29:58.62 INFO in 'deeppavlov.core.trainers.nn_trainer'['nn_trainer'] at line 211: Did not improve on the ner_f1 of 94.3631\n"
     ]
    },
    {
     "name": "stdout",
     "output_type": "stream",
     "text": [
      "{\"valid\": {\"eval_examples_count\": 4088, \"metrics\": {\"ner_f1\": 93.9679, \"ner_token_f1\": 95.3125}, \"time_spent\": \"0:07:08\", \"epochs_done\": 24, \"batches_seen\": 960, \"train_examples_seen\": 469800, \"impatience\": 1, \"patience_limit\": 100}}\n"
     ]
    },
    {
     "name": "stderr",
     "output_type": "stream",
     "text": [
      "1it [00:00, 11.83it/s]]"
     ]
    },
    {
     "name": "stdout",
     "output_type": "stream",
     "text": [
      "{\"train\": {\"eval_examples_count\": 500, \"metrics\": {\"ner_f1\": 100.0, \"ner_token_f1\": 100.0}, \"time_spent\": \"0:07:10\", \"epochs_done\": 24, \"batches_seen\": 970, \"train_examples_seen\": 474800, \"loss\": 0.006370861944742501}}\n"
     ]
    },
    {
     "name": "stderr",
     "output_type": "stream",
     "text": [
      "\n",
      "9it [00:00, 11.53it/s]\n",
      "2025-09-24 12:30:01.174 INFO in 'deeppavlov.core.trainers.nn_trainer'['nn_trainer'] at line 211: Did not improve on the ner_f1 of 94.3631\n"
     ]
    },
    {
     "name": "stdout",
     "output_type": "stream",
     "text": [
      "{\"valid\": {\"eval_examples_count\": 4088, \"metrics\": {\"ner_f1\": 94.3596, \"ner_token_f1\": 95.5765}, \"time_spent\": \"0:07:11\", \"epochs_done\": 24, \"batches_seen\": 970, \"train_examples_seen\": 474800, \"impatience\": 2, \"patience_limit\": 100}}\n"
     ]
    },
    {
     "name": "stderr",
     "output_type": "stream",
     "text": [
      "39it [00:14,  2.68it/s]\n",
      "1it [00:00, 10.42it/s]"
     ]
    },
    {
     "name": "stdout",
     "output_type": "stream",
     "text": [
      "{\"train\": {\"eval_examples_count\": 500, \"metrics\": {\"ner_f1\": 100.0, \"ner_token_f1\": 100.0}, \"time_spent\": \"0:07:13\", \"epochs_done\": 25, \"batches_seen\": 980, \"train_examples_seen\": 479375, \"loss\": 0.005954665376339108}}\n"
     ]
    },
    {
     "name": "stderr",
     "output_type": "stream",
     "text": [
      "\n",
      "9it [00:00, 11.56it/s]\n",
      "2025-09-24 12:30:04.126 INFO in 'deeppavlov.core.trainers.nn_trainer'['nn_trainer'] at line 211: Did not improve on the ner_f1 of 94.3631\n"
     ]
    },
    {
     "name": "stdout",
     "output_type": "stream",
     "text": [
      "{\"valid\": {\"eval_examples_count\": 4088, \"metrics\": {\"ner_f1\": 93.9109, \"ner_token_f1\": 95.2132}, \"time_spent\": \"0:07:14\", \"epochs_done\": 25, \"batches_seen\": 980, \"train_examples_seen\": 479375, \"impatience\": 3, \"patience_limit\": 100}}\n"
     ]
    },
    {
     "name": "stderr",
     "output_type": "stream",
     "text": [
      "1it [00:00, 11.54it/s]]"
     ]
    },
    {
     "name": "stdout",
     "output_type": "stream",
     "text": [
      "{\"train\": {\"eval_examples_count\": 500, \"metrics\": {\"ner_f1\": 100.0, \"ner_token_f1\": 100.0}, \"time_spent\": \"0:07:16\", \"epochs_done\": 25, \"batches_seen\": 990, \"train_examples_seen\": 484375, \"loss\": 0.004295351565815508}}\n"
     ]
    },
    {
     "name": "stderr",
     "output_type": "stream",
     "text": [
      "\n",
      "9it [00:00, 10.29it/s]\n",
      "2025-09-24 12:30:07.292 INFO in 'deeppavlov.core.trainers.nn_trainer'['nn_trainer'] at line 211: Did not improve on the ner_f1 of 94.3631\n"
     ]
    },
    {
     "name": "stdout",
     "output_type": "stream",
     "text": [
      "{\"valid\": {\"eval_examples_count\": 4088, \"metrics\": {\"ner_f1\": 94.2118, \"ner_token_f1\": 95.5023}, \"time_spent\": \"0:07:17\", \"epochs_done\": 25, \"batches_seen\": 990, \"train_examples_seen\": 484375, \"impatience\": 4, \"patience_limit\": 100}}\n"
     ]
    },
    {
     "name": "stderr",
     "output_type": "stream",
     "text": [
      "1it [00:00, 11.42it/s]]"
     ]
    },
    {
     "name": "stdout",
     "output_type": "stream",
     "text": [
      "{\"train\": {\"eval_examples_count\": 500, \"metrics\": {\"ner_f1\": 100.0, \"ner_token_f1\": 100.0}, \"time_spent\": \"0:07:20\", \"epochs_done\": 25, \"batches_seen\": 1000, \"train_examples_seen\": 489375, \"loss\": 0.0025969577254727483}}\n"
     ]
    },
    {
     "name": "stderr",
     "output_type": "stream",
     "text": [
      "\n",
      "9it [00:00, 11.75it/s]\n",
      "2025-09-24 12:30:10.376 INFO in 'deeppavlov.core.trainers.nn_trainer'['nn_trainer'] at line 211: Did not improve on the ner_f1 of 94.3631\n"
     ]
    },
    {
     "name": "stdout",
     "output_type": "stream",
     "text": [
      "{\"valid\": {\"eval_examples_count\": 4088, \"metrics\": {\"ner_f1\": 94.076, \"ner_token_f1\": 95.3586}, \"time_spent\": \"0:07:20\", \"epochs_done\": 25, \"batches_seen\": 1000, \"train_examples_seen\": 489375, \"impatience\": 5, \"patience_limit\": 100}}\n"
     ]
    },
    {
     "name": "stderr",
     "output_type": "stream",
     "text": [
      "1it [00:00, 10.64it/s]]"
     ]
    },
    {
     "name": "stdout",
     "output_type": "stream",
     "text": [
      "{\"train\": {\"eval_examples_count\": 500, \"metrics\": {\"ner_f1\": 100.0, \"ner_token_f1\": 100.0}, \"time_spent\": \"0:07:23\", \"epochs_done\": 25, \"batches_seen\": 1010, \"train_examples_seen\": 494375, \"loss\": 0.004251655878033489}}\n"
     ]
    },
    {
     "name": "stderr",
     "output_type": "stream",
     "text": [
      "\n",
      "9it [00:00, 11.12it/s]\n",
      "2025-09-24 12:30:13.434 INFO in 'deeppavlov.core.trainers.nn_trainer'['nn_trainer'] at line 211: Did not improve on the ner_f1 of 94.3631\n"
     ]
    },
    {
     "name": "stdout",
     "output_type": "stream",
     "text": [
      "{\"valid\": {\"eval_examples_count\": 4088, \"metrics\": {\"ner_f1\": 94.0151, \"ner_token_f1\": 95.3268}, \"time_spent\": \"0:07:23\", \"epochs_done\": 25, \"batches_seen\": 1010, \"train_examples_seen\": 494375, \"impatience\": 6, \"patience_limit\": 100}}\n"
     ]
    },
    {
     "name": "stderr",
     "output_type": "stream",
     "text": [
      "39it [00:12,  3.23it/s]\n",
      "1it [00:00, 11.43it/s]"
     ]
    },
    {
     "name": "stdout",
     "output_type": "stream",
     "text": [
      "{\"train\": {\"eval_examples_count\": 500, \"metrics\": {\"ner_f1\": 99.8316, \"ner_token_f1\": 99.8544}, \"time_spent\": \"0:07:25\", \"epochs_done\": 26, \"batches_seen\": 1020, \"train_examples_seen\": 498950, \"loss\": 0.004364606947638095}}\n"
     ]
    },
    {
     "name": "stderr",
     "output_type": "stream",
     "text": [
      "\n",
      "9it [00:00, 10.93it/s]\n",
      "2025-09-24 12:30:16.406 INFO in 'deeppavlov.core.trainers.nn_trainer'['nn_trainer'] at line 211: Did not improve on the ner_f1 of 94.3631\n"
     ]
    },
    {
     "name": "stdout",
     "output_type": "stream",
     "text": [
      "{\"valid\": {\"eval_examples_count\": 4088, \"metrics\": {\"ner_f1\": 93.7865, \"ner_token_f1\": 95.1268}, \"time_spent\": \"0:07:26\", \"epochs_done\": 26, \"batches_seen\": 1020, \"train_examples_seen\": 498950, \"impatience\": 7, \"patience_limit\": 100}}\n"
     ]
    },
    {
     "name": "stderr",
     "output_type": "stream",
     "text": [
      "1it [00:00, 10.20it/s]]"
     ]
    },
    {
     "name": "stdout",
     "output_type": "stream",
     "text": [
      "{\"train\": {\"eval_examples_count\": 500, \"metrics\": {\"ner_f1\": 99.661, \"ner_token_f1\": 99.9267}, \"time_spent\": \"0:07:29\", \"epochs_done\": 26, \"batches_seen\": 1030, \"train_examples_seen\": 503950, \"loss\": 0.004673884646035731}}\n"
     ]
    },
    {
     "name": "stderr",
     "output_type": "stream",
     "text": [
      "\n",
      "9it [00:00,  9.80it/s]\n",
      "2025-09-24 12:30:19.753 INFO in 'deeppavlov.core.trainers.nn_trainer'['nn_trainer'] at line 211: Did not improve on the ner_f1 of 94.3631\n"
     ]
    },
    {
     "name": "stdout",
     "output_type": "stream",
     "text": [
      "{\"valid\": {\"eval_examples_count\": 4088, \"metrics\": {\"ner_f1\": 94.1457, \"ner_token_f1\": 95.3499}, \"time_spent\": \"0:07:30\", \"epochs_done\": 26, \"batches_seen\": 1030, \"train_examples_seen\": 503950, \"impatience\": 8, \"patience_limit\": 100}}\n"
     ]
    },
    {
     "name": "stderr",
     "output_type": "stream",
     "text": [
      "1it [00:00, 11.79it/s]]"
     ]
    },
    {
     "name": "stdout",
     "output_type": "stream",
     "text": [
      "{\"train\": {\"eval_examples_count\": 500, \"metrics\": {\"ner_f1\": 99.8276, \"ner_token_f1\": 99.9245}, \"time_spent\": \"0:07:32\", \"epochs_done\": 26, \"batches_seen\": 1040, \"train_examples_seen\": 508950, \"loss\": 0.005235506687313318}}\n"
     ]
    },
    {
     "name": "stderr",
     "output_type": "stream",
     "text": [
      "\n",
      "9it [00:00, 11.52it/s]\n",
      "2025-09-24 12:30:22.880 INFO in 'deeppavlov.core.trainers.nn_trainer'['nn_trainer'] at line 211: Did not improve on the ner_f1 of 94.3631\n"
     ]
    },
    {
     "name": "stdout",
     "output_type": "stream",
     "text": [
      "{\"valid\": {\"eval_examples_count\": 4088, \"metrics\": {\"ner_f1\": 93.7038, \"ner_token_f1\": 95.0767}, \"time_spent\": \"0:07:33\", \"epochs_done\": 26, \"batches_seen\": 1040, \"train_examples_seen\": 508950, \"impatience\": 9, \"patience_limit\": 100}}\n"
     ]
    },
    {
     "name": "stderr",
     "output_type": "stream",
     "text": [
      "1it [00:00, 10.52it/s]]"
     ]
    },
    {
     "name": "stdout",
     "output_type": "stream",
     "text": [
      "{\"train\": {\"eval_examples_count\": 500, \"metrics\": {\"ner_f1\": 100.0, \"ner_token_f1\": 100.0}, \"time_spent\": \"0:07:35\", \"epochs_done\": 26, \"batches_seen\": 1050, \"train_examples_seen\": 513950, \"loss\": 0.004211551183834672}}\n"
     ]
    },
    {
     "name": "stderr",
     "output_type": "stream",
     "text": [
      "\n",
      "9it [00:00, 11.13it/s]\n",
      "2025-09-24 12:30:25.962 INFO in 'deeppavlov.core.trainers.nn_trainer'['nn_trainer'] at line 211: Did not improve on the ner_f1 of 94.3631\n"
     ]
    },
    {
     "name": "stdout",
     "output_type": "stream",
     "text": [
      "{\"valid\": {\"eval_examples_count\": 4088, \"metrics\": {\"ner_f1\": 93.7643, \"ner_token_f1\": 95.186}, \"time_spent\": \"0:07:36\", \"epochs_done\": 26, \"batches_seen\": 1050, \"train_examples_seen\": 513950, \"impatience\": 10, \"patience_limit\": 100}}\n"
     ]
    },
    {
     "name": "stderr",
     "output_type": "stream",
     "text": [
      "39it [00:12,  3.17it/s]\n",
      "1it [00:00, 10.75it/s]"
     ]
    },
    {
     "name": "stdout",
     "output_type": "stream",
     "text": [
      "{\"train\": {\"eval_examples_count\": 500, \"metrics\": {\"ner_f1\": 100.0, \"ner_token_f1\": 100.0}, \"time_spent\": \"0:07:38\", \"epochs_done\": 27, \"batches_seen\": 1060, \"train_examples_seen\": 518525, \"loss\": 0.004686145239975304}}\n"
     ]
    },
    {
     "name": "stderr",
     "output_type": "stream",
     "text": [
      "\n",
      "9it [00:00, 11.27it/s]\n",
      "2025-09-24 12:30:28.941 INFO in 'deeppavlov.core.trainers.nn_trainer'['nn_trainer'] at line 211: Did not improve on the ner_f1 of 94.3631\n"
     ]
    },
    {
     "name": "stdout",
     "output_type": "stream",
     "text": [
      "{\"valid\": {\"eval_examples_count\": 4088, \"metrics\": {\"ner_f1\": 94.0347, \"ner_token_f1\": 95.4272}, \"time_spent\": \"0:07:39\", \"epochs_done\": 27, \"batches_seen\": 1060, \"train_examples_seen\": 518525, \"impatience\": 11, \"patience_limit\": 100}}\n"
     ]
    },
    {
     "name": "stderr",
     "output_type": "stream",
     "text": [
      "1it [00:00, 11.56it/s]]"
     ]
    },
    {
     "name": "stdout",
     "output_type": "stream",
     "text": [
      "{\"train\": {\"eval_examples_count\": 500, \"metrics\": {\"ner_f1\": 100.0, \"ner_token_f1\": 100.0}, \"time_spent\": \"0:07:41\", \"epochs_done\": 27, \"batches_seen\": 1070, \"train_examples_seen\": 523525, \"loss\": 0.004113743244670331}}\n"
     ]
    },
    {
     "name": "stderr",
     "output_type": "stream",
     "text": [
      "\n",
      "9it [00:00, 11.50it/s]\n",
      "2025-09-24 12:30:32.56 INFO in 'deeppavlov.core.trainers.nn_trainer'['nn_trainer'] at line 211: Did not improve on the ner_f1 of 94.3631\n"
     ]
    },
    {
     "name": "stdout",
     "output_type": "stream",
     "text": [
      "{\"valid\": {\"eval_examples_count\": 4088, \"metrics\": {\"ner_f1\": 93.3903, \"ner_token_f1\": 94.8815}, \"time_spent\": \"0:07:42\", \"epochs_done\": 27, \"batches_seen\": 1070, \"train_examples_seen\": 523525, \"impatience\": 12, \"patience_limit\": 100}}\n"
     ]
    },
    {
     "name": "stderr",
     "output_type": "stream",
     "text": [
      "1it [00:00, 11.36it/s]]"
     ]
    },
    {
     "name": "stdout",
     "output_type": "stream",
     "text": [
      "{\"train\": {\"eval_examples_count\": 500, \"metrics\": {\"ner_f1\": 100.0, \"ner_token_f1\": 100.0}, \"time_spent\": \"0:07:44\", \"epochs_done\": 27, \"batches_seen\": 1080, \"train_examples_seen\": 528525, \"loss\": 0.003261506150010973}}\n"
     ]
    },
    {
     "name": "stderr",
     "output_type": "stream",
     "text": [
      "\n",
      "9it [00:00, 11.40it/s]\n",
      "2025-09-24 12:30:35.174 INFO in 'deeppavlov.core.trainers.nn_trainer'['nn_trainer'] at line 211: Did not improve on the ner_f1 of 94.3631\n"
     ]
    },
    {
     "name": "stdout",
     "output_type": "stream",
     "text": [
      "{\"valid\": {\"eval_examples_count\": 4088, \"metrics\": {\"ner_f1\": 93.4235, \"ner_token_f1\": 94.9627}, \"time_spent\": \"0:07:45\", \"epochs_done\": 27, \"batches_seen\": 1080, \"train_examples_seen\": 528525, \"impatience\": 13, \"patience_limit\": 100}}\n"
     ]
    },
    {
     "name": "stderr",
     "output_type": "stream",
     "text": [
      "1it [00:00, 12.46it/s]]"
     ]
    },
    {
     "name": "stdout",
     "output_type": "stream",
     "text": [
      "{\"train\": {\"eval_examples_count\": 500, \"metrics\": {\"ner_f1\": 99.9147, \"ner_token_f1\": 99.9258}, \"time_spent\": \"0:07:47\", \"epochs_done\": 27, \"batches_seen\": 1090, \"train_examples_seen\": 533525, \"loss\": 0.004064625804312527}}\n"
     ]
    },
    {
     "name": "stderr",
     "output_type": "stream",
     "text": [
      "\n",
      "9it [00:00, 11.49it/s]\n",
      "2025-09-24 12:30:38.235 INFO in 'deeppavlov.core.trainers.nn_trainer'['nn_trainer'] at line 211: Did not improve on the ner_f1 of 94.3631\n"
     ]
    },
    {
     "name": "stdout",
     "output_type": "stream",
     "text": [
      "{\"valid\": {\"eval_examples_count\": 4088, \"metrics\": {\"ner_f1\": 93.5484, \"ner_token_f1\": 95.0858}, \"time_spent\": \"0:07:48\", \"epochs_done\": 27, \"batches_seen\": 1090, \"train_examples_seen\": 533525, \"impatience\": 14, \"patience_limit\": 100}}\n"
     ]
    },
    {
     "name": "stderr",
     "output_type": "stream",
     "text": [
      "39it [00:12,  3.24it/s]\n",
      "1it [00:00, 10.50it/s]"
     ]
    },
    {
     "name": "stdout",
     "output_type": "stream",
     "text": [
      "{\"train\": {\"eval_examples_count\": 500, \"metrics\": {\"ner_f1\": 99.9136, \"ner_token_f1\": 99.9254}, \"time_spent\": \"0:07:50\", \"epochs_done\": 28, \"batches_seen\": 1100, \"train_examples_seen\": 538100, \"loss\": 0.0026831738010514527}}\n"
     ]
    },
    {
     "name": "stderr",
     "output_type": "stream",
     "text": [
      "\n",
      "9it [00:00, 10.47it/s]\n",
      "2025-09-24 12:30:41.224 INFO in 'deeppavlov.core.trainers.nn_trainer'['nn_trainer'] at line 211: Did not improve on the ner_f1 of 94.3631\n"
     ]
    },
    {
     "name": "stdout",
     "output_type": "stream",
     "text": [
      "{\"valid\": {\"eval_examples_count\": 4088, \"metrics\": {\"ner_f1\": 93.861, \"ner_token_f1\": 95.2167}, \"time_spent\": \"0:07:51\", \"epochs_done\": 28, \"batches_seen\": 1100, \"train_examples_seen\": 538100, \"impatience\": 15, \"patience_limit\": 100}}\n"
     ]
    },
    {
     "name": "stderr",
     "output_type": "stream",
     "text": [
      "1it [00:00, 11.43it/s]]"
     ]
    },
    {
     "name": "stdout",
     "output_type": "stream",
     "text": [
      "{\"train\": {\"eval_examples_count\": 500, \"metrics\": {\"ner_f1\": 99.6581, \"ner_token_f1\": 99.7763}, \"time_spent\": \"0:07:53\", \"epochs_done\": 28, \"batches_seen\": 1110, \"train_examples_seen\": 543100, \"loss\": 0.0035151926800608634}}\n"
     ]
    },
    {
     "name": "stderr",
     "output_type": "stream",
     "text": [
      "\n",
      "9it [00:00, 11.56it/s]\n",
      "2025-09-24 12:30:44.307 INFO in 'deeppavlov.core.trainers.nn_trainer'['nn_trainer'] at line 211: Did not improve on the ner_f1 of 94.3631\n"
     ]
    },
    {
     "name": "stdout",
     "output_type": "stream",
     "text": [
      "{\"valid\": {\"eval_examples_count\": 4088, \"metrics\": {\"ner_f1\": 93.6643, \"ner_token_f1\": 94.9696}, \"time_spent\": \"0:07:54\", \"epochs_done\": 28, \"batches_seen\": 1110, \"train_examples_seen\": 543100, \"impatience\": 16, \"patience_limit\": 100}}\n"
     ]
    },
    {
     "name": "stderr",
     "output_type": "stream",
     "text": [
      "1it [00:00, 11.24it/s]]"
     ]
    },
    {
     "name": "stdout",
     "output_type": "stream",
     "text": [
      "{\"train\": {\"eval_examples_count\": 500, \"metrics\": {\"ner_f1\": 100.0, \"ner_token_f1\": 100.0}, \"time_spent\": \"0:07:57\", \"epochs_done\": 28, \"batches_seen\": 1120, \"train_examples_seen\": 548100, \"loss\": 0.004971897916402668}}\n"
     ]
    },
    {
     "name": "stderr",
     "output_type": "stream",
     "text": [
      "\n",
      "9it [00:00, 11.46it/s]\n",
      "2025-09-24 12:30:47.407 INFO in 'deeppavlov.core.trainers.nn_trainer'['nn_trainer'] at line 211: Did not improve on the ner_f1 of 94.3631\n"
     ]
    },
    {
     "name": "stdout",
     "output_type": "stream",
     "text": [
      "{\"valid\": {\"eval_examples_count\": 4088, \"metrics\": {\"ner_f1\": 93.7317, \"ner_token_f1\": 95.1053}, \"time_spent\": \"0:07:57\", \"epochs_done\": 28, \"batches_seen\": 1120, \"train_examples_seen\": 548100, \"impatience\": 17, \"patience_limit\": 100}}\n"
     ]
    },
    {
     "name": "stderr",
     "output_type": "stream",
     "text": [
      "1it [00:00, 11.04it/s]]"
     ]
    },
    {
     "name": "stdout",
     "output_type": "stream",
     "text": [
      "{\"train\": {\"eval_examples_count\": 500, \"metrics\": {\"ner_f1\": 99.7447, \"ner_token_f1\": 99.7766}, \"time_spent\": \"0:08:00\", \"epochs_done\": 28, \"batches_seen\": 1130, \"train_examples_seen\": 553100, \"loss\": 0.005329018016345799}}\n"
     ]
    },
    {
     "name": "stderr",
     "output_type": "stream",
     "text": [
      "\n",
      "9it [00:00, 10.63it/s]\n",
      "2025-09-24 12:30:50.586 INFO in 'deeppavlov.core.trainers.nn_trainer'['nn_trainer'] at line 211: Did not improve on the ner_f1 of 94.3631\n"
     ]
    },
    {
     "name": "stdout",
     "output_type": "stream",
     "text": [
      "{\"valid\": {\"eval_examples_count\": 4088, \"metrics\": {\"ner_f1\": 93.8737, \"ner_token_f1\": 95.2764}, \"time_spent\": \"0:08:01\", \"epochs_done\": 28, \"batches_seen\": 1130, \"train_examples_seen\": 553100, \"impatience\": 18, \"patience_limit\": 100}}\n"
     ]
    },
    {
     "name": "stderr",
     "output_type": "stream",
     "text": [
      "39it [00:12,  3.21it/s]\n",
      "1it [00:00, 11.43it/s]"
     ]
    },
    {
     "name": "stdout",
     "output_type": "stream",
     "text": [
      "{\"train\": {\"eval_examples_count\": 500, \"metrics\": {\"ner_f1\": 100.0, \"ner_token_f1\": 100.0}, \"time_spent\": \"0:08:03\", \"epochs_done\": 29, \"batches_seen\": 1140, \"train_examples_seen\": 557675, \"loss\": 0.003899564011953771}}\n"
     ]
    },
    {
     "name": "stderr",
     "output_type": "stream",
     "text": [
      "\n",
      "9it [00:00, 10.46it/s]\n",
      "2025-09-24 12:30:53.762 INFO in 'deeppavlov.core.trainers.nn_trainer'['nn_trainer'] at line 211: Did not improve on the ner_f1 of 94.3631\n"
     ]
    },
    {
     "name": "stdout",
     "output_type": "stream",
     "text": [
      "{\"valid\": {\"eval_examples_count\": 4088, \"metrics\": {\"ner_f1\": 93.9334, \"ner_token_f1\": 95.3774}, \"time_spent\": \"0:08:04\", \"epochs_done\": 29, \"batches_seen\": 1140, \"train_examples_seen\": 557675, \"impatience\": 19, \"patience_limit\": 100}}\n"
     ]
    },
    {
     "name": "stderr",
     "output_type": "stream",
     "text": [
      "1it [00:00,  9.71it/s]]"
     ]
    },
    {
     "name": "stdout",
     "output_type": "stream",
     "text": [
      "{\"train\": {\"eval_examples_count\": 500, \"metrics\": {\"ner_f1\": 99.8296, \"ner_token_f1\": 99.9265}, \"time_spent\": \"0:08:06\", \"epochs_done\": 29, \"batches_seen\": 1150, \"train_examples_seen\": 562675, \"loss\": 0.003281988704111427}}\n"
     ]
    },
    {
     "name": "stderr",
     "output_type": "stream",
     "text": [
      "\n",
      "9it [00:00, 10.94it/s]\n",
      "2025-09-24 12:30:56.890 INFO in 'deeppavlov.core.trainers.nn_trainer'['nn_trainer'] at line 211: Did not improve on the ner_f1 of 94.3631\n"
     ]
    },
    {
     "name": "stdout",
     "output_type": "stream",
     "text": [
      "{\"valid\": {\"eval_examples_count\": 4088, \"metrics\": {\"ner_f1\": 93.6948, \"ner_token_f1\": 95.0858}, \"time_spent\": \"0:08:07\", \"epochs_done\": 29, \"batches_seen\": 1150, \"train_examples_seen\": 562675, \"impatience\": 20, \"patience_limit\": 100}}\n"
     ]
    },
    {
     "name": "stderr",
     "output_type": "stream",
     "text": [
      "1it [00:00, 11.54it/s]]"
     ]
    },
    {
     "name": "stdout",
     "output_type": "stream",
     "text": [
      "{\"train\": {\"eval_examples_count\": 500, \"metrics\": {\"ner_f1\": 99.4836, \"ner_token_f1\": 99.777}, \"time_spent\": \"0:08:09\", \"epochs_done\": 29, \"batches_seen\": 1160, \"train_examples_seen\": 567675, \"loss\": 0.00315151431132108}}\n"
     ]
    },
    {
     "name": "stderr",
     "output_type": "stream",
     "text": [
      "\n",
      "9it [00:00, 11.20it/s]\n",
      "2025-09-24 12:30:59.958 INFO in 'deeppavlov.core.trainers.nn_trainer'['nn_trainer'] at line 211: Did not improve on the ner_f1 of 94.3631\n"
     ]
    },
    {
     "name": "stdout",
     "output_type": "stream",
     "text": [
      "{\"valid\": {\"eval_examples_count\": 4088, \"metrics\": {\"ner_f1\": 93.7552, \"ner_token_f1\": 95.221}, \"time_spent\": \"0:08:10\", \"epochs_done\": 29, \"batches_seen\": 1160, \"train_examples_seen\": 567675, \"impatience\": 21, \"patience_limit\": 100}}\n"
     ]
    },
    {
     "name": "stderr",
     "output_type": "stream",
     "text": [
      "1it [00:00, 10.15it/s]]"
     ]
    },
    {
     "name": "stdout",
     "output_type": "stream",
     "text": [
      "{\"train\": {\"eval_examples_count\": 500, \"metrics\": {\"ner_f1\": 99.9136, \"ner_token_f1\": 99.9249}, \"time_spent\": \"0:08:12\", \"epochs_done\": 29, \"batches_seen\": 1170, \"train_examples_seen\": 572250, \"loss\": 0.003767141894786619}}\n"
     ]
    },
    {
     "name": "stderr",
     "output_type": "stream",
     "text": [
      "\n",
      "9it [00:00, 11.04it/s]\n",
      "2025-09-24 12:31:02.972 INFO in 'deeppavlov.core.trainers.nn_trainer'['nn_trainer'] at line 211: Did not improve on the ner_f1 of 94.3631\n"
     ]
    },
    {
     "name": "stdout",
     "output_type": "stream",
     "text": [
      "{\"valid\": {\"eval_examples_count\": 4088, \"metrics\": {\"ner_f1\": 93.6896, \"ner_token_f1\": 95.1714}, \"time_spent\": \"0:08:13\", \"epochs_done\": 29, \"batches_seen\": 1170, \"train_examples_seen\": 572250, \"impatience\": 22, \"patience_limit\": 100}}\n"
     ]
    },
    {
     "name": "stderr",
     "output_type": "stream",
     "text": [
      "39it [00:12,  3.17it/s]\n",
      "Some weights of the model checkpoint at DeepPavlov/rubert-base-cased were not used when initializing BertForTokenClassification: ['cls.predictions.decoder.weight', 'cls.predictions.decoder.bias', 'cls.seq_relationship.weight', 'cls.predictions.bias', 'cls.predictions.transform.LayerNorm.weight', 'cls.seq_relationship.bias', 'cls.predictions.transform.dense.bias', 'cls.predictions.transform.dense.weight', 'cls.predictions.transform.LayerNorm.bias']\n",
      "- This IS expected if you are initializing BertForTokenClassification from the checkpoint of a model trained on another task or with another architecture (e.g. initializing a BertForSequenceClassification model from a BertForPreTraining model).\n",
      "- This IS NOT expected if you are initializing BertForTokenClassification from the checkpoint of a model that you expect to be exactly identical (initializing a BertForSequenceClassification model from a BertForSequenceClassification model).\n",
      "Some weights of BertForTokenClassification were not initialized from the model checkpoint at DeepPavlov/rubert-base-cased and are newly initialized: ['classifier.weight', 'classifier.bias']\n",
      "You should probably TRAIN this model on a down-stream task to be able to use it for predictions and inference.\n",
      "9it [00:00, 11.24it/s]"
     ]
    },
    {
     "name": "stdout",
     "output_type": "stream",
     "text": [
      "{\"valid\": {\"eval_examples_count\": 4088, \"metrics\": {\"ner_f1\": 94.3631, \"ner_token_f1\": 95.5484}, \"time_spent\": \"0:00:01\"}}\n"
     ]
    },
    {
     "name": "stderr",
     "output_type": "stream",
     "text": [
      "\n",
      "9it [00:00, 11.13it/s]"
     ]
    },
    {
     "name": "stdout",
     "output_type": "stream",
     "text": [
      "{\"test\": {\"eval_examples_count\": 4088, \"metrics\": {\"ner_f1\": 93.5014, \"ner_token_f1\": 94.8994}, \"time_spent\": \"0:00:01\"}}\n"
     ]
    },
    {
     "name": "stderr",
     "output_type": "stream",
     "text": [
      "\n",
      "Some weights of the model checkpoint at DeepPavlov/rubert-base-cased were not used when initializing BertForTokenClassification: ['cls.predictions.decoder.weight', 'cls.predictions.decoder.bias', 'cls.seq_relationship.weight', 'cls.predictions.bias', 'cls.predictions.transform.LayerNorm.weight', 'cls.seq_relationship.bias', 'cls.predictions.transform.dense.bias', 'cls.predictions.transform.dense.weight', 'cls.predictions.transform.LayerNorm.bias']\n",
      "- This IS expected if you are initializing BertForTokenClassification from the checkpoint of a model trained on another task or with another architecture (e.g. initializing a BertForSequenceClassification model from a BertForPreTraining model).\n",
      "- This IS NOT expected if you are initializing BertForTokenClassification from the checkpoint of a model that you expect to be exactly identical (initializing a BertForSequenceClassification model from a BertForSequenceClassification model).\n",
      "Some weights of BertForTokenClassification were not initialized from the model checkpoint at DeepPavlov/rubert-base-cased and are newly initialized: ['classifier.weight', 'classifier.bias']\n",
      "You should probably TRAIN this model on a down-stream task to be able to use it for predictions and inference.\n"
     ]
    }
   ],
   "source": [
    "\n",
    "ner_model = train_model(model_config, download=True)"
   ]
  },
  {
   "cell_type": "code",
   "execution_count": 10,
   "id": "c25a8b85",
   "metadata": {},
   "outputs": [
    {
     "data": {
      "text/plain": [
       "{'dataset_reader': {'class_name': 'conll2003_reader',\n",
       "  'data_path': '../datasets/conll/',\n",
       "  'dataset_name': 'collection3',\n",
       "  'provide_pos': False,\n",
       "  'provide_chunk': False,\n",
       "  'iobes': True},\n",
       " 'dataset_iterator': {'class_name': 'data_learning_iterator'},\n",
       " 'chainer': {'in': ['x'],\n",
       "  'in_y': ['y'],\n",
       "  'pipe': [{'class_name': 'torch_transformers_ner_preprocessor',\n",
       "    'vocab_file': 'DeepPavlov/rubert-base-cased',\n",
       "    'do_lower_case': False,\n",
       "    'max_seq_length': 512,\n",
       "    'max_subword_length': 15,\n",
       "    'token_masking_prob': 0.0,\n",
       "    'in': ['x'],\n",
       "    'out': ['x_tokens',\n",
       "     'x_subword_tokens',\n",
       "     'x_subword_tok_ids',\n",
       "     'startofword_markers',\n",
       "     'attention_mask',\n",
       "     'tokens_offsets']},\n",
       "   {'id': 'tag_vocab',\n",
       "    'class_name': 'simple_vocab',\n",
       "    'unk_token': ['O'],\n",
       "    'pad_with_zeros': True,\n",
       "    'save_path': '../models/tag.dict',\n",
       "    'load_path': '../models/tag.dict',\n",
       "    'fit_on': ['y'],\n",
       "    'in': ['y'],\n",
       "    'out': ['y_ind']},\n",
       "   {'class_name': 'torch_transformers_sequence_tagger',\n",
       "    'n_tags': '#tag_vocab.len',\n",
       "    'pretrained_bert': 'DeepPavlov/rubert-base-cased',\n",
       "    'attention_probs_keep_prob': 0.5,\n",
       "    'encoder_layer_ids': [-1],\n",
       "    'optimizer': 'AdamW',\n",
       "    'optimizer_parameters': {'lr': 2e-05,\n",
       "     'weight_decay': 1e-06,\n",
       "     'betas': [0.9, 0.999],\n",
       "     'eps': 1e-06},\n",
       "    'clip_norm': 1.0,\n",
       "    'min_learning_rate': 1e-07,\n",
       "    'learning_rate_drop_patience': 30,\n",
       "    'learning_rate_drop_div': 1.5,\n",
       "    'load_before_drop': True,\n",
       "    'save_path': '../models',\n",
       "    'load_path': '../models',\n",
       "    'in': ['x_subword_tok_ids', 'attention_mask', 'startofword_markers'],\n",
       "    'in_y': ['y_ind'],\n",
       "    'out': ['y_pred_ind', 'probas']},\n",
       "   {'ref': 'tag_vocab', 'in': ['y_pred_ind'], 'out': ['y_pred']}],\n",
       "  'out': ['x_tokens', 'y_pred']},\n",
       " 'train': {'epochs': 30,\n",
       "  'batch_size': 14,\n",
       "  'metrics': [{'name': 'ner_f1', 'inputs': ['y', 'y_pred']},\n",
       "   {'name': 'ner_token_f1', 'inputs': ['y', 'y_pred']}],\n",
       "  'validation_patience': 100,\n",
       "  'val_every_n_batches': 20,\n",
       "  'log_every_n_batches': 20,\n",
       "  'show_examples': False,\n",
       "  'pytest_max_batches': 2,\n",
       "  'pytest_batch_size': 8,\n",
       "  'evaluation_targets': ['valid', 'test'],\n",
       "  'class_name': 'torch_trainer'},\n",
       " 'metadata': {'variables': {'ROOT_PATH': '~/.deeppavlov',\n",
       "   'DOWNLOADS_PATH': '~/.deeppavlov/downloads',\n",
       "   'MODELS_PATH': '~/.deeppavlov/models',\n",
       "   'TRANSFORMER': 'DeepPavlov/rubert-base-cased',\n",
       "   'MODEL_PATH': '../models'},\n",
       "  'requirements': ['c:\\\\Users\\\\lexan\\\\miniconda3\\\\envs\\\\dp310\\\\lib\\\\site-packages\\\\deeppavlov/requirements/transformers.txt',\n",
       "   'c:\\\\Users\\\\lexan\\\\miniconda3\\\\envs\\\\dp310\\\\lib\\\\site-packages\\\\deeppavlov/requirements/pytorch.txt',\n",
       "   'c:\\\\Users\\\\lexan\\\\miniconda3\\\\envs\\\\dp310\\\\lib\\\\site-packages\\\\deeppavlov/requirements/torchcrf.txt',\n",
       "   'c:\\\\Users\\\\lexan\\\\miniconda3\\\\envs\\\\dp310\\\\lib\\\\site-packages\\\\deeppavlov/requirements/sentencepiece.txt',\n",
       "   'c:\\\\Users\\\\lexan\\\\miniconda3\\\\envs\\\\dp310\\\\lib\\\\site-packages\\\\deeppavlov/requirements/protobuf.txt']}}"
      ]
     },
     "execution_count": 10,
     "metadata": {},
     "output_type": "execute_result"
    }
   ],
   "source": [
    "model_config"
   ]
  },
  {
   "cell_type": "code",
   "execution_count": null,
   "id": "d5e399f2",
   "metadata": {},
   "outputs": [],
   "source": []
  },
  {
   "cell_type": "code",
   "execution_count": 3,
   "id": "ca8fc0e0",
   "metadata": {},
   "outputs": [
    {
     "name": "stderr",
     "output_type": "stream",
     "text": [
      "c:\\Users\\lexan\\miniconda3\\envs\\dp310\\lib\\site-packages\\tqdm\\auto.py:22: TqdmWarning: IProgress not found. Please update jupyter and ipywidgets. See https://ipywidgets.readthedocs.io/en/stable/user_install.html\n",
      "  from .autonotebook import tqdm as notebook_tqdm\n",
      "c:\\Users\\lexan\\miniconda3\\envs\\dp310\\lib\\site-packages\\huggingface_hub\\file_download.py:945: FutureWarning: `resume_download` is deprecated and will be removed in version 1.0.0. Downloads always resume when possible. If you want to force a new download, use `force_download=True`.\n",
      "  warnings.warn(\n",
      "Some weights of the model checkpoint at DeepPavlov/rubert-base-cased were not used when initializing BertForTokenClassification: ['cls.seq_relationship.bias', 'cls.seq_relationship.weight', 'cls.predictions.decoder.bias', 'cls.predictions.decoder.weight', 'cls.predictions.transform.dense.weight', 'cls.predictions.bias', 'cls.predictions.transform.dense.bias', 'cls.predictions.transform.LayerNorm.weight', 'cls.predictions.transform.LayerNorm.bias']\n",
      "- This IS expected if you are initializing BertForTokenClassification from the checkpoint of a model trained on another task or with another architecture (e.g. initializing a BertForSequenceClassification model from a BertForPreTraining model).\n",
      "- This IS NOT expected if you are initializing BertForTokenClassification from the checkpoint of a model that you expect to be exactly identical (initializing a BertForSequenceClassification model from a BertForSequenceClassification model).\n",
      "Some weights of BertForTokenClassification were not initialized from the model checkpoint at DeepPavlov/rubert-base-cased and are newly initialized: ['classifier.weight', 'classifier.bias']\n",
      "You should probably TRAIN this model on a down-stream task to be able to use it for predictions and inference.\n"
     ]
    }
   ],
   "source": [
    "from deeppavlov import build_model\n",
    "\n",
    "ner_model = build_model(model_config, download=False)"
   ]
  },
  {
   "cell_type": "code",
   "execution_count": 19,
   "id": "e346a202",
   "metadata": {},
   "outputs": [
    {
     "data": {
      "text/plain": [
       "[[['artfruit', 'нектари']], [['S-BRAND', 'S-TYPE']]]"
      ]
     },
     "execution_count": 19,
     "metadata": {},
     "output_type": "execute_result"
    }
   ],
   "source": [
    "ner_model(['artfruit нектари'])"
   ]
  },
  {
   "cell_type": "code",
   "execution_count": null,
   "id": "3d4d8fee",
   "metadata": {},
   "outputs": [],
   "source": []
  }
 ],
 "metadata": {
  "kernelspec": {
   "display_name": "dp310",
   "language": "python",
   "name": "python3"
  },
  "language_info": {
   "codemirror_mode": {
    "name": "ipython",
    "version": 3
   },
   "file_extension": ".py",
   "mimetype": "text/x-python",
   "name": "python",
   "nbconvert_exporter": "python",
   "pygments_lexer": "ipython3",
   "version": "3.10.18"
  }
 },
 "nbformat": 4,
 "nbformat_minor": 5
}
