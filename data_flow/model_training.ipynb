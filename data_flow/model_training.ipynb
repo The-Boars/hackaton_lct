{
 "cells": [
  {
   "cell_type": "code",
   "execution_count": 4,
   "id": "57024b6b",
   "metadata": {},
   "outputs": [
    {
     "name": "stderr",
     "output_type": "stream",
     "text": [
      "2025-09-23 17:21:53.233 INFO in 'deeppavlov.core.data.utils'['utils'] at line 97: Downloading from http://files.deeppavlov.ai/v1/ner/ner_rus_bert_coll3_torch.tar.gz to C:\\Users\\lexan\\.deeppavlov\\models\\ner_rus_bert_coll3_torch.tar.gz\n",
      "100%|██████████| 1.44G/1.44G [02:20<00:00, 10.2MB/s]\n",
      "2025-09-23 17:24:14.675 INFO in 'deeppavlov.core.data.utils'['utils'] at line 284: Extracting C:\\Users\\lexan\\.deeppavlov\\models\\ner_rus_bert_coll3_torch.tar.gz archive into C:\\Users\\lexan\\.deeppavlov\\models\\ner_rus_bert_coll3_torch\n",
      "c:\\Users\\lexan\\miniconda3\\envs\\dp310\\lib\\site-packages\\huggingface_hub\\file_download.py:945: FutureWarning: `resume_download` is deprecated and will be removed in version 1.0.0. Downloads always resume when possible. If you want to force a new download, use `force_download=True`.\n",
      "  warnings.warn(\n",
      "Some weights of the model checkpoint at DeepPavlov/rubert-base-cased were not used when initializing BertForTokenClassification: ['cls.predictions.decoder.weight', 'cls.seq_relationship.weight', 'cls.predictions.transform.LayerNorm.bias', 'cls.predictions.transform.dense.weight', 'cls.predictions.decoder.bias', 'cls.seq_relationship.bias', 'cls.predictions.transform.dense.bias', 'cls.predictions.bias', 'cls.predictions.transform.LayerNorm.weight']\n",
      "- This IS expected if you are initializing BertForTokenClassification from the checkpoint of a model trained on another task or with another architecture (e.g. initializing a BertForSequenceClassification model from a BertForPreTraining model).\n",
      "- This IS NOT expected if you are initializing BertForTokenClassification from the checkpoint of a model that you expect to be exactly identical (initializing a BertForSequenceClassification model from a BertForSequenceClassification model).\n",
      "Some weights of BertForTokenClassification were not initialized from the model checkpoint at DeepPavlov/rubert-base-cased and are newly initialized: ['classifier.weight', 'classifier.bias']\n",
      "You should probably TRAIN this model on a down-stream task to be able to use it for predictions and inference.\n"
     ]
    }
   ],
   "source": [
    "from deeppavlov import build_model\n",
    "\n",
    "ner_model = build_model('ner_collection3_bert', download=True, install=True)\n"
   ]
  },
  {
   "cell_type": "code",
   "execution_count": 1,
   "id": "cebaef7b",
   "metadata": {},
   "outputs": [
    {
     "name": "stdout",
     "output_type": "stream",
     "text": [
      "~/.deeppavlov/downloads/collection3/\n"
     ]
    }
   ],
   "source": [
    "from deeppavlov import train_model, build_model \n",
    "from deeppavlov.core.commands.utils import parse_config\n",
    "\n",
    "PROJECT_DIR = '..'\n",
    "\n",
    "model_config = parse_config('ner_collection3_bert')\n",
    "\n",
    "# dataset that the model was trained on\n",
    "print(model_config['dataset_reader']['data_path'])\n",
    "\n",
    "model_config['dataset_reader']['data_path'] = PROJECT_DIR + '/datasets/conll/'\n",
    "\n",
    "del model_config['metadata']['download']\n",
    "\n",
    "model_config['metadata']['variables']['MODEL_PATH'] = PROJECT_DIR + '/models'\n",
    "\n",
    "model_config['chainer']['pipe'][1]['save_path'] = PROJECT_DIR + '/models/tag.dict'\n",
    "model_config['chainer']['pipe'][1]['load_path'] = PROJECT_DIR + '/models/tag.dict'\n",
    "\n",
    "model_config['chainer']['pipe'][2]['save_path'] = PROJECT_DIR + '/models'\n",
    "model_config['chainer']['pipe'][2]['load_path'] = PROJECT_DIR + '/models'\n",
    "\n"
   ]
  },
  {
   "cell_type": "code",
   "execution_count": 3,
   "id": "ecd27e03",
   "metadata": {},
   "outputs": [
    {
     "name": "stderr",
     "output_type": "stream",
     "text": [
      "2025-09-24 11:32:13.897 WARNING in 'deeppavlov.core.trainers.fit_trainer'['fit_trainer'] at line 66: TorchTrainer got additional init parameters ['pytest_max_batches', 'pytest_batch_size'] that will be ignored:\n",
      "2025-09-24 11:32:14.707 INFO in 'deeppavlov.core.data.simple_vocab'['simple_vocab'] at line 104: [saving vocabulary to C:\\Users\\lexan\\OneDrive\\Documents\\hackaton_lct\\models\\tag.dict]\n",
      "Some weights of the model checkpoint at DeepPavlov/rubert-base-cased were not used when initializing BertForTokenClassification: ['cls.predictions.transform.dense.bias', 'cls.predictions.transform.LayerNorm.weight', 'cls.predictions.transform.dense.weight', 'cls.seq_relationship.weight', 'cls.predictions.decoder.weight', 'cls.seq_relationship.bias', 'cls.predictions.bias', 'cls.predictions.transform.LayerNorm.bias', 'cls.predictions.decoder.bias']\n",
      "- This IS expected if you are initializing BertForTokenClassification from the checkpoint of a model trained on another task or with another architecture (e.g. initializing a BertForSequenceClassification model from a BertForPreTraining model).\n",
      "- This IS NOT expected if you are initializing BertForTokenClassification from the checkpoint of a model that you expect to be exactly identical (initializing a BertForSequenceClassification model from a BertForSequenceClassification model).\n",
      "Some weights of BertForTokenClassification were not initialized from the model checkpoint at DeepPavlov/rubert-base-cased and are newly initialized: ['classifier.bias', 'classifier.weight']\n",
      "You should probably TRAIN this model on a down-stream task to be able to use it for predictions and inference.\n",
      "409it [00:03, 126.13it/s]\n",
      "2025-09-24 11:32:21.116 INFO in 'deeppavlov.core.trainers.nn_trainer'['nn_trainer'] at line 198: Initial best ner_f1 of 93.3749\n"
     ]
    },
    {
     "name": "stdout",
     "output_type": "stream",
     "text": [
      "{\"valid\": {\"eval_examples_count\": 4088, \"metrics\": {\"ner_f1\": 93.3749, \"ner_token_f1\": 94.9019}, \"time_spent\": \"0:00:04\", \"epochs_done\": 0, \"batches_seen\": 0, \"train_examples_seen\": 0, \"impatience\": 0, \"patience_limit\": 100}}\n"
     ]
    },
    {
     "name": "stderr",
     "output_type": "stream",
     "text": [
      "1it [00:00, 76.90it/s]]"
     ]
    },
    {
     "name": "stdout",
     "output_type": "stream",
     "text": [
      "{\"train\": {\"eval_examples_count\": 10, \"metrics\": {\"ner_f1\": 96.0, \"ner_token_f1\": 96.2963}, \"time_spent\": \"0:00:05\", \"epochs_done\": 0, \"batches_seen\": 20, \"train_examples_seen\": 200, \"loss\": 0.07038422269979491}}\n"
     ]
    },
    {
     "name": "stderr",
     "output_type": "stream",
     "text": [
      "\n",
      "409it [00:03, 135.88it/s]\n",
      "2025-09-24 11:32:25.614 INFO in 'deeppavlov.core.trainers.nn_trainer'['nn_trainer'] at line 211: Did not improve on the ner_f1 of 93.3749\n"
     ]
    },
    {
     "name": "stdout",
     "output_type": "stream",
     "text": [
      "{\"valid\": {\"eval_examples_count\": 4088, \"metrics\": {\"ner_f1\": 92.6201, \"ner_token_f1\": 94.4818}, \"time_spent\": \"0:00:08\", \"epochs_done\": 0, \"batches_seen\": 20, \"train_examples_seen\": 200, \"impatience\": 1, \"patience_limit\": 100}}\n"
     ]
    },
    {
     "name": "stderr",
     "output_type": "stream",
     "text": [
      "1it [00:00, 36.96it/s]]"
     ]
    },
    {
     "name": "stdout",
     "output_type": "stream",
     "text": [
      "{\"train\": {\"eval_examples_count\": 10, \"metrics\": {\"ner_f1\": 100.0, \"ner_token_f1\": 100.0}, \"time_spent\": \"0:00:10\", \"epochs_done\": 0, \"batches_seen\": 40, \"train_examples_seen\": 400, \"loss\": 0.11908845218131318}}\n"
     ]
    },
    {
     "name": "stderr",
     "output_type": "stream",
     "text": [
      "\n",
      "409it [00:03, 128.97it/s]\n",
      "2025-09-24 11:32:30.455 INFO in 'deeppavlov.core.trainers.nn_trainer'['nn_trainer'] at line 211: Did not improve on the ner_f1 of 93.3749\n"
     ]
    },
    {
     "name": "stdout",
     "output_type": "stream",
     "text": [
      "{\"valid\": {\"eval_examples_count\": 4088, \"metrics\": {\"ner_f1\": 93.096, \"ner_token_f1\": 94.6023}, \"time_spent\": \"0:00:13\", \"epochs_done\": 0, \"batches_seen\": 40, \"train_examples_seen\": 400, \"impatience\": 2, \"patience_limit\": 100}}\n"
     ]
    },
    {
     "name": "stderr",
     "output_type": "stream",
     "text": [
      "1it [00:00, 47.62it/s]]"
     ]
    },
    {
     "name": "stdout",
     "output_type": "stream",
     "text": [
      "{\"train\": {\"eval_examples_count\": 10, \"metrics\": {\"ner_f1\": 100.0, \"ner_token_f1\": 100.0}, \"time_spent\": \"0:00:15\", \"epochs_done\": 0, \"batches_seen\": 60, \"train_examples_seen\": 600, \"loss\": 0.06245205688173883}}\n"
     ]
    },
    {
     "name": "stderr",
     "output_type": "stream",
     "text": [
      "\n",
      "409it [00:04, 98.79it/s]\n",
      "2025-09-24 11:32:36.284 INFO in 'deeppavlov.core.trainers.nn_trainer'['nn_trainer'] at line 211: Did not improve on the ner_f1 of 93.3749\n"
     ]
    },
    {
     "name": "stdout",
     "output_type": "stream",
     "text": [
      "{\"valid\": {\"eval_examples_count\": 4088, \"metrics\": {\"ner_f1\": 92.7346, \"ner_token_f1\": 94.3913}, \"time_spent\": \"0:00:19\", \"epochs_done\": 0, \"batches_seen\": 60, \"train_examples_seen\": 600, \"impatience\": 3, \"patience_limit\": 100}}\n"
     ]
    },
    {
     "name": "stderr",
     "output_type": "stream",
     "text": [
      "1it [00:00, 45.46it/s]]"
     ]
    },
    {
     "name": "stdout",
     "output_type": "stream",
     "text": [
      "{\"train\": {\"eval_examples_count\": 10, \"metrics\": {\"ner_f1\": 100.0, \"ner_token_f1\": 100.0}, \"time_spent\": \"0:00:21\", \"epochs_done\": 0, \"batches_seen\": 80, \"train_examples_seen\": 800, \"loss\": 0.06754860524088144}}\n"
     ]
    },
    {
     "name": "stderr",
     "output_type": "stream",
     "text": [
      "\n",
      "409it [00:03, 103.71it/s]\n",
      "2025-09-24 11:32:41.994 INFO in 'deeppavlov.core.trainers.nn_trainer'['nn_trainer'] at line 211: Did not improve on the ner_f1 of 93.3749\n"
     ]
    },
    {
     "name": "stdout",
     "output_type": "stream",
     "text": [
      "{\"valid\": {\"eval_examples_count\": 4088, \"metrics\": {\"ner_f1\": 92.8445, \"ner_token_f1\": 94.5791}, \"time_spent\": \"0:00:25\", \"epochs_done\": 0, \"batches_seen\": 80, \"train_examples_seen\": 800, \"impatience\": 4, \"patience_limit\": 100}}\n"
     ]
    },
    {
     "name": "stderr",
     "output_type": "stream",
     "text": [
      "1it [00:00, 55.37it/s]]"
     ]
    },
    {
     "name": "stdout",
     "output_type": "stream",
     "text": [
      "{\"train\": {\"eval_examples_count\": 10, \"metrics\": {\"ner_f1\": 90.0, \"ner_token_f1\": 90.9091}, \"time_spent\": \"0:00:26\", \"epochs_done\": 0, \"batches_seen\": 100, \"train_examples_seen\": 1000, \"loss\": 0.12937811557203532}}\n"
     ]
    },
    {
     "name": "stderr",
     "output_type": "stream",
     "text": [
      "\n",
      "409it [00:03, 103.39it/s]\n",
      "2025-09-24 11:32:47.644 INFO in 'deeppavlov.core.trainers.nn_trainer'['nn_trainer'] at line 206: Improved best ner_f1 from 93.3749 to 93.4906\n",
      "2025-09-24 11:32:47.645 INFO in 'deeppavlov.core.trainers.nn_trainer'['nn_trainer'] at line 208: Saving model\n",
      "2025-09-24 11:32:47.645 INFO in 'deeppavlov.core.models.torch_model'['torch_model'] at line 175: Saving model to C:\\Users\\lexan\\OneDrive\\Documents\\hackaton_lct\\models.pth.tar.\n"
     ]
    },
    {
     "name": "stdout",
     "output_type": "stream",
     "text": [
      "{\"valid\": {\"eval_examples_count\": 4088, \"metrics\": {\"ner_f1\": 93.4906, \"ner_token_f1\": 94.9973}, \"time_spent\": \"0:00:30\", \"epochs_done\": 0, \"batches_seen\": 100, \"train_examples_seen\": 1000, \"impatience\": 0, \"patience_limit\": 100}}\n"
     ]
    },
    {
     "name": "stderr",
     "output_type": "stream",
     "text": [
      "1it [00:00, 83.33it/s]s]"
     ]
    },
    {
     "name": "stdout",
     "output_type": "stream",
     "text": [
      "{\"train\": {\"eval_examples_count\": 10, \"metrics\": {\"ner_f1\": 100.0, \"ner_token_f1\": 100.0}, \"time_spent\": \"0:00:35\", \"epochs_done\": 0, \"batches_seen\": 120, \"train_examples_seen\": 1200, \"loss\": 0.08232171487761661}}\n"
     ]
    },
    {
     "name": "stderr",
     "output_type": "stream",
     "text": [
      "\n",
      "409it [00:02, 136.94it/s]\n",
      "2025-09-24 11:32:55.286 INFO in 'deeppavlov.core.trainers.nn_trainer'['nn_trainer'] at line 211: Did not improve on the ner_f1 of 93.4906\n"
     ]
    },
    {
     "name": "stdout",
     "output_type": "stream",
     "text": [
      "{\"valid\": {\"eval_examples_count\": 4088, \"metrics\": {\"ner_f1\": 93.2725, \"ner_token_f1\": 94.8054}, \"time_spent\": \"0:00:38\", \"epochs_done\": 0, \"batches_seen\": 120, \"train_examples_seen\": 1200, \"impatience\": 1, \"patience_limit\": 100}}\n"
     ]
    },
    {
     "name": "stderr",
     "output_type": "stream",
     "text": [
      "1it [00:00, 73.61it/s]s]"
     ]
    },
    {
     "name": "stdout",
     "output_type": "stream",
     "text": [
      "{\"train\": {\"eval_examples_count\": 10, \"metrics\": {\"ner_f1\": 100.0, \"ner_token_f1\": 100.0}, \"time_spent\": \"0:00:39\", \"epochs_done\": 0, \"batches_seen\": 140, \"train_examples_seen\": 1400, \"loss\": 0.1371918241493404}}\n"
     ]
    },
    {
     "name": "stderr",
     "output_type": "stream",
     "text": [
      "\n",
      "409it [00:03, 135.30it/s]\n",
      "2025-09-24 11:32:59.780 INFO in 'deeppavlov.core.trainers.nn_trainer'['nn_trainer'] at line 211: Did not improve on the ner_f1 of 93.4906\n"
     ]
    },
    {
     "name": "stdout",
     "output_type": "stream",
     "text": [
      "{\"valid\": {\"eval_examples_count\": 4088, \"metrics\": {\"ner_f1\": 92.8196, \"ner_token_f1\": 94.5536}, \"time_spent\": \"0:00:42\", \"epochs_done\": 0, \"batches_seen\": 140, \"train_examples_seen\": 1400, \"impatience\": 2, \"patience_limit\": 100}}\n"
     ]
    },
    {
     "name": "stderr",
     "output_type": "stream",
     "text": [
      "1it [00:00, 71.43it/s]s]"
     ]
    },
    {
     "name": "stdout",
     "output_type": "stream",
     "text": [
      "{\"train\": {\"eval_examples_count\": 10, \"metrics\": {\"ner_f1\": 100.0, \"ner_token_f1\": 100.0}, \"time_spent\": \"0:00:44\", \"epochs_done\": 0, \"batches_seen\": 160, \"train_examples_seen\": 1600, \"loss\": 0.1407057067961432}}\n"
     ]
    },
    {
     "name": "stderr",
     "output_type": "stream",
     "text": [
      "\n",
      "409it [00:03, 115.15it/s]\n",
      "2025-09-24 11:33:04.872 INFO in 'deeppavlov.core.trainers.nn_trainer'['nn_trainer'] at line 211: Did not improve on the ner_f1 of 93.4906\n"
     ]
    },
    {
     "name": "stdout",
     "output_type": "stream",
     "text": [
      "{\"valid\": {\"eval_examples_count\": 4088, \"metrics\": {\"ner_f1\": 93.1442, \"ner_token_f1\": 94.6584}, \"time_spent\": \"0:00:48\", \"epochs_done\": 0, \"batches_seen\": 160, \"train_examples_seen\": 1600, \"impatience\": 3, \"patience_limit\": 100}}\n"
     ]
    },
    {
     "name": "stderr",
     "output_type": "stream",
     "text": [
      "1it [00:00, 58.82it/s]s]"
     ]
    },
    {
     "name": "stdout",
     "output_type": "stream",
     "text": [
      "{\"train\": {\"eval_examples_count\": 10, \"metrics\": {\"ner_f1\": 100.0, \"ner_token_f1\": 100.0}, \"time_spent\": \"0:00:49\", \"epochs_done\": 0, \"batches_seen\": 180, \"train_examples_seen\": 1800, \"loss\": 0.1450786744710058}}\n"
     ]
    },
    {
     "name": "stderr",
     "output_type": "stream",
     "text": [
      "\n",
      "409it [00:03, 104.82it/s]\n",
      "2025-09-24 11:33:10.456 INFO in 'deeppavlov.core.trainers.nn_trainer'['nn_trainer'] at line 211: Did not improve on the ner_f1 of 93.4906\n"
     ]
    },
    {
     "name": "stdout",
     "output_type": "stream",
     "text": [
      "{\"valid\": {\"eval_examples_count\": 4088, \"metrics\": {\"ner_f1\": 92.9354, \"ner_token_f1\": 94.4849}, \"time_spent\": \"0:00:53\", \"epochs_done\": 0, \"batches_seen\": 180, \"train_examples_seen\": 1800, \"impatience\": 4, \"patience_limit\": 100}}\n"
     ]
    },
    {
     "name": "stderr",
     "output_type": "stream",
     "text": [
      "1it [00:00, 61.82it/s]s]"
     ]
    },
    {
     "name": "stdout",
     "output_type": "stream",
     "text": [
      "{\"train\": {\"eval_examples_count\": 10, \"metrics\": {\"ner_f1\": 95.2381, \"ner_token_f1\": 95.6522}, \"time_spent\": \"0:00:55\", \"epochs_done\": 0, \"batches_seen\": 200, \"train_examples_seen\": 2000, \"loss\": 0.16167191618587823}}\n"
     ]
    },
    {
     "name": "stderr",
     "output_type": "stream",
     "text": [
      "\n",
      "409it [00:04, 102.22it/s]\n",
      "2025-09-24 11:33:16.123 INFO in 'deeppavlov.core.trainers.nn_trainer'['nn_trainer'] at line 211: Did not improve on the ner_f1 of 93.4906\n"
     ]
    },
    {
     "name": "stdout",
     "output_type": "stream",
     "text": [
      "{\"valid\": {\"eval_examples_count\": 4088, \"metrics\": {\"ner_f1\": 91.8499, \"ner_token_f1\": 93.9372}, \"time_spent\": \"0:00:59\", \"epochs_done\": 0, \"batches_seen\": 200, \"train_examples_seen\": 2000, \"impatience\": 5, \"patience_limit\": 100}}\n"
     ]
    },
    {
     "name": "stderr",
     "output_type": "stream",
     "text": [
      "1it [00:00, 52.63it/s]s]"
     ]
    },
    {
     "name": "stdout",
     "output_type": "stream",
     "text": [
      "{\"train\": {\"eval_examples_count\": 10, \"metrics\": {\"ner_f1\": 100.0, \"ner_token_f1\": 100.0}, \"time_spent\": \"0:01:01\", \"epochs_done\": 0, \"batches_seen\": 220, \"train_examples_seen\": 2200, \"loss\": 0.10167392573785036}}\n"
     ]
    },
    {
     "name": "stderr",
     "output_type": "stream",
     "text": [
      "\n",
      "409it [00:04, 101.37it/s]\n",
      "2025-09-24 11:33:21.968 INFO in 'deeppavlov.core.trainers.nn_trainer'['nn_trainer'] at line 211: Did not improve on the ner_f1 of 93.4906\n"
     ]
    },
    {
     "name": "stdout",
     "output_type": "stream",
     "text": [
      "{\"valid\": {\"eval_examples_count\": 4088, \"metrics\": {\"ner_f1\": 92.3333, \"ner_token_f1\": 94.1482}, \"time_spent\": \"0:01:05\", \"epochs_done\": 0, \"batches_seen\": 220, \"train_examples_seen\": 2200, \"impatience\": 6, \"patience_limit\": 100}}\n"
     ]
    },
    {
     "name": "stderr",
     "output_type": "stream",
     "text": [
      "1it [00:00, 45.45it/s]s]"
     ]
    },
    {
     "name": "stdout",
     "output_type": "stream",
     "text": [
      "{\"train\": {\"eval_examples_count\": 10, \"metrics\": {\"ner_f1\": 100.0, \"ner_token_f1\": 100.0}, \"time_spent\": \"0:01:06\", \"epochs_done\": 0, \"batches_seen\": 240, \"train_examples_seen\": 2400, \"loss\": 0.09873041360406205}}\n"
     ]
    },
    {
     "name": "stderr",
     "output_type": "stream",
     "text": [
      "\n",
      "409it [00:04, 86.85it/s]\n",
      "2025-09-24 11:33:28.552 INFO in 'deeppavlov.core.trainers.nn_trainer'['nn_trainer'] at line 211: Did not improve on the ner_f1 of 93.4906\n"
     ]
    },
    {
     "name": "stdout",
     "output_type": "stream",
     "text": [
      "{\"valid\": {\"eval_examples_count\": 4088, \"metrics\": {\"ner_f1\": 92.5938, \"ner_token_f1\": 94.2261}, \"time_spent\": \"0:01:11\", \"epochs_done\": 0, \"batches_seen\": 240, \"train_examples_seen\": 2400, \"impatience\": 7, \"patience_limit\": 100}}\n"
     ]
    },
    {
     "name": "stderr",
     "output_type": "stream",
     "text": [
      "1it [00:00, 50.00it/s]s]"
     ]
    },
    {
     "name": "stdout",
     "output_type": "stream",
     "text": [
      "{\"train\": {\"eval_examples_count\": 10, \"metrics\": {\"ner_f1\": 100.0, \"ner_token_f1\": 100.0}, \"time_spent\": \"0:01:13\", \"epochs_done\": 0, \"batches_seen\": 260, \"train_examples_seen\": 2600, \"loss\": 0.1272867136169225}}\n"
     ]
    },
    {
     "name": "stderr",
     "output_type": "stream",
     "text": [
      "\n",
      "409it [00:04, 99.09it/s]\n",
      "2025-09-24 11:33:34.466 INFO in 'deeppavlov.core.trainers.nn_trainer'['nn_trainer'] at line 206: Improved best ner_f1 from 93.4906 to 93.6245\n",
      "2025-09-24 11:33:34.467 INFO in 'deeppavlov.core.trainers.nn_trainer'['nn_trainer'] at line 208: Saving model\n",
      "2025-09-24 11:33:34.468 INFO in 'deeppavlov.core.models.torch_model'['torch_model'] at line 175: Saving model to C:\\Users\\lexan\\OneDrive\\Documents\\hackaton_lct\\models.pth.tar.\n"
     ]
    },
    {
     "name": "stdout",
     "output_type": "stream",
     "text": [
      "{\"valid\": {\"eval_examples_count\": 4088, \"metrics\": {\"ner_f1\": 93.6245, \"ner_token_f1\": 95.0864}, \"time_spent\": \"0:01:17\", \"epochs_done\": 0, \"batches_seen\": 260, \"train_examples_seen\": 2600, \"impatience\": 0, \"patience_limit\": 100}}\n"
     ]
    },
    {
     "name": "stderr",
     "output_type": "stream",
     "text": [
      "1it [00:00, 52.57it/s]s]"
     ]
    },
    {
     "name": "stdout",
     "output_type": "stream",
     "text": [
      "{\"train\": {\"eval_examples_count\": 10, \"metrics\": {\"ner_f1\": 80.0, \"ner_token_f1\": 86.9565}, \"time_spent\": \"0:01:22\", \"epochs_done\": 0, \"batches_seen\": 280, \"train_examples_seen\": 2800, \"loss\": 0.07227073272224516}}\n"
     ]
    },
    {
     "name": "stderr",
     "output_type": "stream",
     "text": [
      "\n",
      "409it [00:04, 100.33it/s]\n",
      "2025-09-24 11:33:43.623 INFO in 'deeppavlov.core.trainers.nn_trainer'['nn_trainer'] at line 211: Did not improve on the ner_f1 of 93.6245\n"
     ]
    },
    {
     "name": "stdout",
     "output_type": "stream",
     "text": [
      "{\"valid\": {\"eval_examples_count\": 4088, \"metrics\": {\"ner_f1\": 93.4713, \"ner_token_f1\": 94.9777}, \"time_spent\": \"0:01:26\", \"epochs_done\": 0, \"batches_seen\": 280, \"train_examples_seen\": 2800, \"impatience\": 1, \"patience_limit\": 100}}\n"
     ]
    },
    {
     "name": "stderr",
     "output_type": "stream",
     "text": [
      "1it [00:00, 71.42it/s]s]"
     ]
    },
    {
     "name": "stdout",
     "output_type": "stream",
     "text": [
      "{\"train\": {\"eval_examples_count\": 10, \"metrics\": {\"ner_f1\": 84.6154, \"ner_token_f1\": 84.6154}, \"time_spent\": \"0:01:28\", \"epochs_done\": 0, \"batches_seen\": 300, \"train_examples_seen\": 3000, \"loss\": 0.061463494785130024}}\n"
     ]
    },
    {
     "name": "stderr",
     "output_type": "stream",
     "text": [
      "\n",
      "409it [00:02, 147.32it/s]\n",
      "2025-09-24 11:33:48.61 INFO in 'deeppavlov.core.trainers.nn_trainer'['nn_trainer'] at line 211: Did not improve on the ner_f1 of 93.6245\n"
     ]
    },
    {
     "name": "stdout",
     "output_type": "stream",
     "text": [
      "{\"valid\": {\"eval_examples_count\": 4088, \"metrics\": {\"ner_f1\": 92.8267, \"ner_token_f1\": 94.6023}, \"time_spent\": \"0:01:31\", \"epochs_done\": 0, \"batches_seen\": 300, \"train_examples_seen\": 3000, \"impatience\": 2, \"patience_limit\": 100}}\n"
     ]
    },
    {
     "name": "stderr",
     "output_type": "stream",
     "text": [
      "1it [00:00, 76.92it/s]s]"
     ]
    },
    {
     "name": "stdout",
     "output_type": "stream",
     "text": [
      "{\"train\": {\"eval_examples_count\": 10, \"metrics\": {\"ner_f1\": 100.0, \"ner_token_f1\": 100.0}, \"time_spent\": \"0:01:32\", \"epochs_done\": 0, \"batches_seen\": 320, \"train_examples_seen\": 3200, \"loss\": 0.11560972119332291}}\n"
     ]
    },
    {
     "name": "stderr",
     "output_type": "stream",
     "text": [
      "\n",
      "409it [00:02, 138.30it/s]\n",
      "2025-09-24 11:33:52.425 INFO in 'deeppavlov.core.trainers.nn_trainer'['nn_trainer'] at line 211: Did not improve on the ner_f1 of 93.6245\n"
     ]
    },
    {
     "name": "stdout",
     "output_type": "stream",
     "text": [
      "{\"valid\": {\"eval_examples_count\": 4088, \"metrics\": {\"ner_f1\": 92.9908, \"ner_token_f1\": 94.6233}, \"time_spent\": \"0:01:35\", \"epochs_done\": 0, \"batches_seen\": 320, \"train_examples_seen\": 3200, \"impatience\": 3, \"patience_limit\": 100}}\n"
     ]
    },
    {
     "name": "stderr",
     "output_type": "stream",
     "text": [
      "1it [00:00, 74.42it/s]s]"
     ]
    },
    {
     "name": "stdout",
     "output_type": "stream",
     "text": [
      "{\"train\": {\"eval_examples_count\": 10, \"metrics\": {\"ner_f1\": 100.0, \"ner_token_f1\": 100.0}, \"time_spent\": \"0:01:36\", \"epochs_done\": 0, \"batches_seen\": 340, \"train_examples_seen\": 3400, \"loss\": 0.05898916371515952}}\n"
     ]
    },
    {
     "name": "stderr",
     "output_type": "stream",
     "text": [
      "\n",
      "409it [00:02, 148.01it/s]\n",
      "2025-09-24 11:33:56.614 INFO in 'deeppavlov.core.trainers.nn_trainer'['nn_trainer'] at line 211: Did not improve on the ner_f1 of 93.6245\n"
     ]
    },
    {
     "name": "stdout",
     "output_type": "stream",
     "text": [
      "{\"valid\": {\"eval_examples_count\": 4088, \"metrics\": {\"ner_f1\": 93.0802, \"ner_token_f1\": 94.5611}, \"time_spent\": \"0:01:39\", \"epochs_done\": 0, \"batches_seen\": 340, \"train_examples_seen\": 3400, \"impatience\": 4, \"patience_limit\": 100}}\n"
     ]
    },
    {
     "name": "stderr",
     "output_type": "stream",
     "text": [
      "1it [00:00, 56.90it/s]s]"
     ]
    },
    {
     "name": "stdout",
     "output_type": "stream",
     "text": [
      "{\"train\": {\"eval_examples_count\": 10, \"metrics\": {\"ner_f1\": 90.9091, \"ner_token_f1\": 92.3077}, \"time_spent\": \"0:01:41\", \"epochs_done\": 0, \"batches_seen\": 360, \"train_examples_seen\": 3600, \"loss\": 0.10914586816215888}}\n"
     ]
    },
    {
     "name": "stderr",
     "output_type": "stream",
     "text": [
      "\n",
      "409it [00:02, 146.12it/s]\n",
      "2025-09-24 11:34:00.796 INFO in 'deeppavlov.core.trainers.nn_trainer'['nn_trainer'] at line 211: Did not improve on the ner_f1 of 93.6245\n"
     ]
    },
    {
     "name": "stdout",
     "output_type": "stream",
     "text": [
      "{\"valid\": {\"eval_examples_count\": 4088, \"metrics\": {\"ner_f1\": 92.3253, \"ner_token_f1\": 93.9424}, \"time_spent\": \"0:01:43\", \"epochs_done\": 0, \"batches_seen\": 360, \"train_examples_seen\": 3600, \"impatience\": 5, \"patience_limit\": 100}}\n"
     ]
    },
    {
     "name": "stderr",
     "output_type": "stream",
     "text": [
      "1it [00:00, 50.01it/s]s]"
     ]
    },
    {
     "name": "stdout",
     "output_type": "stream",
     "text": [
      "{\"train\": {\"eval_examples_count\": 10, \"metrics\": {\"ner_f1\": 100.0, \"ner_token_f1\": 100.0}, \"time_spent\": \"0:01:45\", \"epochs_done\": 0, \"batches_seen\": 380, \"train_examples_seen\": 3800, \"loss\": 0.1290788608137518}}\n"
     ]
    },
    {
     "name": "stderr",
     "output_type": "stream",
     "text": [
      "\n",
      "409it [00:02, 149.68it/s]\n",
      "2025-09-24 11:34:04.992 INFO in 'deeppavlov.core.trainers.nn_trainer'['nn_trainer'] at line 211: Did not improve on the ner_f1 of 93.6245\n"
     ]
    },
    {
     "name": "stdout",
     "output_type": "stream",
     "text": [
      "{\"valid\": {\"eval_examples_count\": 4088, \"metrics\": {\"ner_f1\": 91.4011, \"ner_token_f1\": 93.7411}, \"time_spent\": \"0:01:48\", \"epochs_done\": 0, \"batches_seen\": 380, \"train_examples_seen\": 3800, \"impatience\": 6, \"patience_limit\": 100}}\n"
     ]
    },
    {
     "name": "stderr",
     "output_type": "stream",
     "text": [
      "1it [00:00, 76.94it/s]s]"
     ]
    },
    {
     "name": "stdout",
     "output_type": "stream",
     "text": [
      "{\"train\": {\"eval_examples_count\": 10, \"metrics\": {\"ner_f1\": 86.9565, \"ner_token_f1\": 84.6154}, \"time_spent\": \"0:01:49\", \"epochs_done\": 0, \"batches_seen\": 400, \"train_examples_seen\": 4000, \"loss\": 0.10901288560125977}}\n"
     ]
    },
    {
     "name": "stderr",
     "output_type": "stream",
     "text": [
      "\n",
      "409it [00:02, 152.69it/s]\n",
      "2025-09-24 11:34:09.74 INFO in 'deeppavlov.core.trainers.nn_trainer'['nn_trainer'] at line 211: Did not improve on the ner_f1 of 93.6245\n"
     ]
    },
    {
     "name": "stdout",
     "output_type": "stream",
     "text": [
      "{\"valid\": {\"eval_examples_count\": 4088, \"metrics\": {\"ner_f1\": 93.1453, \"ner_token_f1\": 94.7519}, \"time_spent\": \"0:01:52\", \"epochs_done\": 0, \"batches_seen\": 400, \"train_examples_seen\": 4000, \"impatience\": 7, \"patience_limit\": 100}}\n"
     ]
    },
    {
     "name": "stderr",
     "output_type": "stream",
     "text": [
      "1it [00:00, 59.96it/s]s]"
     ]
    },
    {
     "name": "stdout",
     "output_type": "stream",
     "text": [
      "{\"train\": {\"eval_examples_count\": 10, \"metrics\": {\"ner_f1\": 100.0, \"ner_token_f1\": 100.0}, \"time_spent\": \"0:01:53\", \"epochs_done\": 0, \"batches_seen\": 420, \"train_examples_seen\": 4200, \"loss\": 0.12032244509318843}}\n"
     ]
    },
    {
     "name": "stderr",
     "output_type": "stream",
     "text": [
      "\n",
      "409it [00:03, 131.78it/s]\n",
      "2025-09-24 11:34:13.566 INFO in 'deeppavlov.core.trainers.nn_trainer'['nn_trainer'] at line 211: Did not improve on the ner_f1 of 93.6245\n"
     ]
    },
    {
     "name": "stdout",
     "output_type": "stream",
     "text": [
      "{\"valid\": {\"eval_examples_count\": 4088, \"metrics\": {\"ner_f1\": 92.6987, \"ner_token_f1\": 94.427}, \"time_spent\": \"0:01:56\", \"epochs_done\": 0, \"batches_seen\": 420, \"train_examples_seen\": 4200, \"impatience\": 8, \"patience_limit\": 100}}\n"
     ]
    },
    {
     "name": "stderr",
     "output_type": "stream",
     "text": [
      "1it [00:00, 71.41it/s]s]"
     ]
    },
    {
     "name": "stdout",
     "output_type": "stream",
     "text": [
      "{\"train\": {\"eval_examples_count\": 10, \"metrics\": {\"ner_f1\": 100.0, \"ner_token_f1\": 100.0}, \"time_spent\": \"0:01:58\", \"epochs_done\": 0, \"batches_seen\": 440, \"train_examples_seen\": 4400, \"loss\": 0.11943694557994604}}\n"
     ]
    },
    {
     "name": "stderr",
     "output_type": "stream",
     "text": [
      "\n",
      "409it [00:02, 148.64it/s]\n",
      "2025-09-24 11:34:17.726 INFO in 'deeppavlov.core.trainers.nn_trainer'['nn_trainer'] at line 211: Did not improve on the ner_f1 of 93.6245\n"
     ]
    },
    {
     "name": "stdout",
     "output_type": "stream",
     "text": [
      "{\"valid\": {\"eval_examples_count\": 4088, \"metrics\": {\"ner_f1\": 92.7888, \"ner_token_f1\": 94.6261}, \"time_spent\": \"0:02:00\", \"epochs_done\": 0, \"batches_seen\": 440, \"train_examples_seen\": 4400, \"impatience\": 9, \"patience_limit\": 100}}\n"
     ]
    },
    {
     "name": "stderr",
     "output_type": "stream",
     "text": [
      "1it [00:00, 71.34it/s]s]"
     ]
    },
    {
     "name": "stdout",
     "output_type": "stream",
     "text": [
      "{\"train\": {\"eval_examples_count\": 10, \"metrics\": {\"ner_f1\": 100.0, \"ner_token_f1\": 100.0}, \"time_spent\": \"0:02:02\", \"epochs_done\": 0, \"batches_seen\": 460, \"train_examples_seen\": 4600, \"loss\": 0.142250110860914}}\n"
     ]
    },
    {
     "name": "stderr",
     "output_type": "stream",
     "text": [
      "\n",
      "409it [00:02, 143.33it/s]\n",
      "2025-09-24 11:34:21.980 INFO in 'deeppavlov.core.trainers.nn_trainer'['nn_trainer'] at line 211: Did not improve on the ner_f1 of 93.6245\n"
     ]
    },
    {
     "name": "stdout",
     "output_type": "stream",
     "text": [
      "{\"valid\": {\"eval_examples_count\": 4088, \"metrics\": {\"ner_f1\": 92.6865, \"ner_token_f1\": 94.4578}, \"time_spent\": \"0:02:05\", \"epochs_done\": 0, \"batches_seen\": 460, \"train_examples_seen\": 4600, \"impatience\": 10, \"patience_limit\": 100}}\n"
     ]
    },
    {
     "name": "stderr",
     "output_type": "stream",
     "text": [
      "1it [00:00, 76.89it/s]s]"
     ]
    },
    {
     "name": "stdout",
     "output_type": "stream",
     "text": [
      "{\"train\": {\"eval_examples_count\": 10, \"metrics\": {\"ner_f1\": 85.7143, \"ner_token_f1\": 93.75}, \"time_spent\": \"0:02:06\", \"epochs_done\": 0, \"batches_seen\": 480, \"train_examples_seen\": 4800, \"loss\": 0.16953847266267985}}\n"
     ]
    },
    {
     "name": "stderr",
     "output_type": "stream",
     "text": [
      "\n",
      "409it [00:02, 146.67it/s]\n",
      "2025-09-24 11:34:26.107 INFO in 'deeppavlov.core.trainers.nn_trainer'['nn_trainer'] at line 211: Did not improve on the ner_f1 of 93.6245\n"
     ]
    },
    {
     "name": "stdout",
     "output_type": "stream",
     "text": [
      "{\"valid\": {\"eval_examples_count\": 4088, \"metrics\": {\"ner_f1\": 93.4936, \"ner_token_f1\": 94.8824}, \"time_spent\": \"0:02:09\", \"epochs_done\": 0, \"batches_seen\": 480, \"train_examples_seen\": 4800, \"impatience\": 11, \"patience_limit\": 100}}\n"
     ]
    },
    {
     "name": "stderr",
     "output_type": "stream",
     "text": [
      "1it [00:00, 76.83it/s]s]"
     ]
    },
    {
     "name": "stdout",
     "output_type": "stream",
     "text": [
      "{\"train\": {\"eval_examples_count\": 10, \"metrics\": {\"ner_f1\": 100.0, \"ner_token_f1\": 100.0}, \"time_spent\": \"0:02:10\", \"epochs_done\": 0, \"batches_seen\": 500, \"train_examples_seen\": 5000, \"loss\": 0.06366081349551678}}\n"
     ]
    },
    {
     "name": "stderr",
     "output_type": "stream",
     "text": [
      "\n",
      "409it [00:02, 150.02it/s]\n",
      "2025-09-24 11:34:30.471 INFO in 'deeppavlov.core.trainers.nn_trainer'['nn_trainer'] at line 211: Did not improve on the ner_f1 of 93.6245\n"
     ]
    },
    {
     "name": "stdout",
     "output_type": "stream",
     "text": [
      "{\"valid\": {\"eval_examples_count\": 4088, \"metrics\": {\"ner_f1\": 92.6486, \"ner_token_f1\": 94.4623}, \"time_spent\": \"0:02:13\", \"epochs_done\": 0, \"batches_seen\": 500, \"train_examples_seen\": 5000, \"impatience\": 12, \"patience_limit\": 100}}\n"
     ]
    },
    {
     "name": "stderr",
     "output_type": "stream",
     "text": [
      "1it [00:00, 66.66it/s]s]"
     ]
    },
    {
     "name": "stdout",
     "output_type": "stream",
     "text": [
      "{\"train\": {\"eval_examples_count\": 10, \"metrics\": {\"ner_f1\": 100.0, \"ner_token_f1\": 100.0}, \"time_spent\": \"0:02:15\", \"epochs_done\": 0, \"batches_seen\": 520, \"train_examples_seen\": 5200, \"loss\": 0.10782896223245189}}\n"
     ]
    },
    {
     "name": "stderr",
     "output_type": "stream",
     "text": [
      "\n",
      "409it [00:04, 100.81it/s]\n",
      "2025-09-24 11:34:35.943 INFO in 'deeppavlov.core.trainers.nn_trainer'['nn_trainer'] at line 211: Did not improve on the ner_f1 of 93.6245\n"
     ]
    },
    {
     "name": "stdout",
     "output_type": "stream",
     "text": [
      "{\"valid\": {\"eval_examples_count\": 4088, \"metrics\": {\"ner_f1\": 92.9987, \"ner_token_f1\": 94.7303}, \"time_spent\": \"0:02:19\", \"epochs_done\": 0, \"batches_seen\": 520, \"train_examples_seen\": 5200, \"impatience\": 13, \"patience_limit\": 100}}\n"
     ]
    },
    {
     "name": "stderr",
     "output_type": "stream",
     "text": [
      "1it [00:00, 54.65it/s]s]"
     ]
    },
    {
     "name": "stdout",
     "output_type": "stream",
     "text": [
      "{\"train\": {\"eval_examples_count\": 10, \"metrics\": {\"ner_f1\": 100.0, \"ner_token_f1\": 100.0}, \"time_spent\": \"0:02:20\", \"epochs_done\": 0, \"batches_seen\": 540, \"train_examples_seen\": 5400, \"loss\": 0.07214020441751927}}\n"
     ]
    },
    {
     "name": "stderr",
     "output_type": "stream",
     "text": [
      "\n",
      "409it [00:04, 100.08it/s]\n",
      "2025-09-24 11:34:41.748 INFO in 'deeppavlov.core.trainers.nn_trainer'['nn_trainer'] at line 211: Did not improve on the ner_f1 of 93.6245\n"
     ]
    },
    {
     "name": "stdout",
     "output_type": "stream",
     "text": [
      "{\"valid\": {\"eval_examples_count\": 4088, \"metrics\": {\"ner_f1\": 93.4332, \"ner_token_f1\": 95.022}, \"time_spent\": \"0:02:24\", \"epochs_done\": 0, \"batches_seen\": 540, \"train_examples_seen\": 5400, \"impatience\": 14, \"patience_limit\": 100}}\n"
     ]
    },
    {
     "name": "stderr",
     "output_type": "stream",
     "text": [
      "1it [00:00, 76.93it/s]s]"
     ]
    },
    {
     "name": "stdout",
     "output_type": "stream",
     "text": [
      "{\"train\": {\"eval_examples_count\": 10, \"metrics\": {\"ner_f1\": 90.0, \"ner_token_f1\": 90.9091}, \"time_spent\": \"0:02:26\", \"epochs_done\": 0, \"batches_seen\": 560, \"train_examples_seen\": 5600, \"loss\": 0.0550616763648577}}\n"
     ]
    },
    {
     "name": "stderr",
     "output_type": "stream",
     "text": [
      "\n",
      "409it [00:03, 133.96it/s]\n",
      "2025-09-24 11:34:46.442 INFO in 'deeppavlov.core.trainers.nn_trainer'['nn_trainer'] at line 211: Did not improve on the ner_f1 of 93.6245\n"
     ]
    },
    {
     "name": "stdout",
     "output_type": "stream",
     "text": [
      "{\"valid\": {\"eval_examples_count\": 4088, \"metrics\": {\"ner_f1\": 93.0286, \"ner_token_f1\": 94.7256}, \"time_spent\": \"0:02:29\", \"epochs_done\": 0, \"batches_seen\": 560, \"train_examples_seen\": 5600, \"impatience\": 15, \"patience_limit\": 100}}\n"
     ]
    },
    {
     "name": "stderr",
     "output_type": "stream",
     "text": [
      "1it [00:00, 51.84it/s]s]"
     ]
    },
    {
     "name": "stdout",
     "output_type": "stream",
     "text": [
      "{\"train\": {\"eval_examples_count\": 10, \"metrics\": {\"ner_f1\": 96.7742, \"ner_token_f1\": 95.2381}, \"time_spent\": \"0:02:31\", \"epochs_done\": 0, \"batches_seen\": 580, \"train_examples_seen\": 5800, \"loss\": 0.10597298757638782}}\n"
     ]
    },
    {
     "name": "stderr",
     "output_type": "stream",
     "text": [
      "\n",
      "409it [00:02, 146.22it/s]\n",
      "2025-09-24 11:34:50.752 INFO in 'deeppavlov.core.trainers.nn_trainer'['nn_trainer'] at line 211: Did not improve on the ner_f1 of 93.6245\n"
     ]
    },
    {
     "name": "stdout",
     "output_type": "stream",
     "text": [
      "{\"valid\": {\"eval_examples_count\": 4088, \"metrics\": {\"ner_f1\": 93.2559, \"ner_token_f1\": 94.7454}, \"time_spent\": \"0:02:33\", \"epochs_done\": 0, \"batches_seen\": 580, \"train_examples_seen\": 5800, \"impatience\": 16, \"patience_limit\": 100}}\n"
     ]
    },
    {
     "name": "stderr",
     "output_type": "stream",
     "text": [
      "1it [00:00, 71.42it/s]s]"
     ]
    },
    {
     "name": "stdout",
     "output_type": "stream",
     "text": [
      "{\"train\": {\"eval_examples_count\": 10, \"metrics\": {\"ner_f1\": 100.0, \"ner_token_f1\": 100.0}, \"time_spent\": \"0:02:35\", \"epochs_done\": 0, \"batches_seen\": 600, \"train_examples_seen\": 6000, \"loss\": 0.06700666738906876}}\n"
     ]
    },
    {
     "name": "stderr",
     "output_type": "stream",
     "text": [
      "\n",
      "409it [00:02, 145.74it/s]\n",
      "2025-09-24 11:34:55.23 INFO in 'deeppavlov.core.trainers.nn_trainer'['nn_trainer'] at line 211: Did not improve on the ner_f1 of 93.6245\n"
     ]
    },
    {
     "name": "stdout",
     "output_type": "stream",
     "text": [
      "{\"valid\": {\"eval_examples_count\": 4088, \"metrics\": {\"ner_f1\": 93.1612, \"ner_token_f1\": 94.8374}, \"time_spent\": \"0:02:38\", \"epochs_done\": 0, \"batches_seen\": 600, \"train_examples_seen\": 6000, \"impatience\": 17, \"patience_limit\": 100}}\n"
     ]
    },
    {
     "name": "stderr",
     "output_type": "stream",
     "text": [
      "1it [00:00, 76.91it/s]s]"
     ]
    },
    {
     "name": "stdout",
     "output_type": "stream",
     "text": [
      "{\"train\": {\"eval_examples_count\": 10, \"metrics\": {\"ner_f1\": 100.0, \"ner_token_f1\": 100.0}, \"time_spent\": \"0:02:39\", \"epochs_done\": 0, \"batches_seen\": 620, \"train_examples_seen\": 6200, \"loss\": 0.070969735016115}}\n"
     ]
    },
    {
     "name": "stderr",
     "output_type": "stream",
     "text": [
      "\n",
      "409it [00:02, 146.16it/s]\n",
      "2025-09-24 11:34:59.282 INFO in 'deeppavlov.core.trainers.nn_trainer'['nn_trainer'] at line 211: Did not improve on the ner_f1 of 93.6245\n"
     ]
    },
    {
     "name": "stdout",
     "output_type": "stream",
     "text": [
      "{\"valid\": {\"eval_examples_count\": 4088, \"metrics\": {\"ner_f1\": 92.8861, \"ner_token_f1\": 94.5083}, \"time_spent\": \"0:02:42\", \"epochs_done\": 0, \"batches_seen\": 620, \"train_examples_seen\": 6200, \"impatience\": 18, \"patience_limit\": 100}}\n"
     ]
    },
    {
     "name": "stderr",
     "output_type": "stream",
     "text": [
      "1it [00:00, 70.33it/s]s]"
     ]
    },
    {
     "name": "stdout",
     "output_type": "stream",
     "text": [
      "{\"train\": {\"eval_examples_count\": 10, \"metrics\": {\"ner_f1\": 90.9091, \"ner_token_f1\": 92.8571}, \"time_spent\": \"0:02:43\", \"epochs_done\": 0, \"batches_seen\": 640, \"train_examples_seen\": 6400, \"loss\": 0.09580753934569657}}\n"
     ]
    },
    {
     "name": "stderr",
     "output_type": "stream",
     "text": [
      "\n",
      "409it [00:02, 141.92it/s]\n",
      "2025-09-24 11:35:03.626 INFO in 'deeppavlov.core.trainers.nn_trainer'['nn_trainer'] at line 211: Did not improve on the ner_f1 of 93.6245\n"
     ]
    },
    {
     "name": "stdout",
     "output_type": "stream",
     "text": [
      "{\"valid\": {\"eval_examples_count\": 4088, \"metrics\": {\"ner_f1\": 93.128, \"ner_token_f1\": 94.7642}, \"time_spent\": \"0:02:46\", \"epochs_done\": 0, \"batches_seen\": 640, \"train_examples_seen\": 6400, \"impatience\": 19, \"patience_limit\": 100}}\n"
     ]
    },
    {
     "name": "stderr",
     "output_type": "stream",
     "text": [
      "1it [00:00, 74.03it/s]s]"
     ]
    },
    {
     "name": "stdout",
     "output_type": "stream",
     "text": [
      "{\"train\": {\"eval_examples_count\": 10, \"metrics\": {\"ner_f1\": 91.6667, \"ner_token_f1\": 92.3077}, \"time_spent\": \"0:02:48\", \"epochs_done\": 0, \"batches_seen\": 660, \"train_examples_seen\": 6600, \"loss\": 0.06419969699345529}}\n"
     ]
    },
    {
     "name": "stderr",
     "output_type": "stream",
     "text": [
      "\n",
      "409it [00:02, 144.80it/s]\n",
      "2025-09-24 11:35:07.844 INFO in 'deeppavlov.core.trainers.nn_trainer'['nn_trainer'] at line 211: Did not improve on the ner_f1 of 93.6245\n"
     ]
    },
    {
     "name": "stdout",
     "output_type": "stream",
     "text": [
      "{\"valid\": {\"eval_examples_count\": 4088, \"metrics\": {\"ner_f1\": 93.281, \"ner_token_f1\": 94.7567}, \"time_spent\": \"0:02:51\", \"epochs_done\": 0, \"batches_seen\": 660, \"train_examples_seen\": 6600, \"impatience\": 20, \"patience_limit\": 100}}\n"
     ]
    },
    {
     "name": "stderr",
     "output_type": "stream",
     "text": [
      "1it [00:00, 77.52it/s]s]"
     ]
    },
    {
     "name": "stdout",
     "output_type": "stream",
     "text": [
      "{\"train\": {\"eval_examples_count\": 10, \"metrics\": {\"ner_f1\": 95.6522, \"ner_token_f1\": 96.0}, \"time_spent\": \"0:02:52\", \"epochs_done\": 0, \"batches_seen\": 680, \"train_examples_seen\": 6800, \"loss\": 0.089678012044169}}\n"
     ]
    },
    {
     "name": "stderr",
     "output_type": "stream",
     "text": [
      "\n",
      "409it [00:02, 140.68it/s]\n",
      "2025-09-24 11:35:12.256 INFO in 'deeppavlov.core.trainers.nn_trainer'['nn_trainer'] at line 211: Did not improve on the ner_f1 of 93.6245\n"
     ]
    },
    {
     "name": "stdout",
     "output_type": "stream",
     "text": [
      "{\"valid\": {\"eval_examples_count\": 4088, \"metrics\": {\"ner_f1\": 93.1498, \"ner_token_f1\": 94.4634}, \"time_spent\": \"0:02:55\", \"epochs_done\": 0, \"batches_seen\": 680, \"train_examples_seen\": 6800, \"impatience\": 21, \"patience_limit\": 100}}\n"
     ]
    },
    {
     "name": "stderr",
     "output_type": "stream",
     "text": [
      "1it [00:00, 66.66it/s]s]"
     ]
    },
    {
     "name": "stdout",
     "output_type": "stream",
     "text": [
      "{\"train\": {\"eval_examples_count\": 10, \"metrics\": {\"ner_f1\": 100.0, \"ner_token_f1\": 100.0}, \"time_spent\": \"0:02:56\", \"epochs_done\": 0, \"batches_seen\": 700, \"train_examples_seen\": 7000, \"loss\": 0.057520582911092785}}\n"
     ]
    },
    {
     "name": "stderr",
     "output_type": "stream",
     "text": [
      "\n",
      "409it [00:02, 153.53it/s]\n",
      "2025-09-24 11:35:16.320 INFO in 'deeppavlov.core.trainers.nn_trainer'['nn_trainer'] at line 211: Did not improve on the ner_f1 of 93.6245\n"
     ]
    },
    {
     "name": "stdout",
     "output_type": "stream",
     "text": [
      "{\"valid\": {\"eval_examples_count\": 4088, \"metrics\": {\"ner_f1\": 92.456, \"ner_token_f1\": 94.3023}, \"time_spent\": \"0:02:59\", \"epochs_done\": 0, \"batches_seen\": 700, \"train_examples_seen\": 7000, \"impatience\": 22, \"patience_limit\": 100}}\n"
     ]
    },
    {
     "name": "stderr",
     "output_type": "stream",
     "text": [
      "1it [00:00, 76.91it/s]s]"
     ]
    },
    {
     "name": "stdout",
     "output_type": "stream",
     "text": [
      "{\"train\": {\"eval_examples_count\": 10, \"metrics\": {\"ner_f1\": 100.0, \"ner_token_f1\": 100.0}, \"time_spent\": \"0:03:00\", \"epochs_done\": 0, \"batches_seen\": 720, \"train_examples_seen\": 7200, \"loss\": 0.07348840431659483}}\n"
     ]
    },
    {
     "name": "stderr",
     "output_type": "stream",
     "text": [
      "\n",
      "409it [00:03, 134.89it/s]\n",
      "2025-09-24 11:35:20.784 INFO in 'deeppavlov.core.trainers.nn_trainer'['nn_trainer'] at line 211: Did not improve on the ner_f1 of 93.6245\n"
     ]
    },
    {
     "name": "stdout",
     "output_type": "stream",
     "text": [
      "{\"valid\": {\"eval_examples_count\": 4088, \"metrics\": {\"ner_f1\": 93.3911, \"ner_token_f1\": 94.9401}, \"time_spent\": \"0:03:03\", \"epochs_done\": 0, \"batches_seen\": 720, \"train_examples_seen\": 7200, \"impatience\": 23, \"patience_limit\": 100}}\n"
     ]
    },
    {
     "name": "stderr",
     "output_type": "stream",
     "text": [
      "1it [00:00, 71.43it/s]s]"
     ]
    },
    {
     "name": "stdout",
     "output_type": "stream",
     "text": [
      "{\"train\": {\"eval_examples_count\": 10, \"metrics\": {\"ner_f1\": 80.0, \"ner_token_f1\": 88.0}, \"time_spent\": \"0:03:05\", \"epochs_done\": 0, \"batches_seen\": 740, \"train_examples_seen\": 7400, \"loss\": 0.11314179927576333}}\n"
     ]
    },
    {
     "name": "stderr",
     "output_type": "stream",
     "text": [
      "\n",
      "409it [00:02, 149.03it/s]\n",
      "2025-09-24 11:35:25.35 INFO in 'deeppavlov.core.trainers.nn_trainer'['nn_trainer'] at line 211: Did not improve on the ner_f1 of 93.6245\n"
     ]
    },
    {
     "name": "stdout",
     "output_type": "stream",
     "text": [
      "{\"valid\": {\"eval_examples_count\": 4088, \"metrics\": {\"ner_f1\": 93.1221, \"ner_token_f1\": 94.6693}, \"time_spent\": \"0:03:08\", \"epochs_done\": 0, \"batches_seen\": 740, \"train_examples_seen\": 7400, \"impatience\": 24, \"patience_limit\": 100}}\n"
     ]
    },
    {
     "name": "stderr",
     "output_type": "stream",
     "text": [
      "1it [00:00, 76.89it/s]s]"
     ]
    },
    {
     "name": "stdout",
     "output_type": "stream",
     "text": [
      "{\"train\": {\"eval_examples_count\": 10, \"metrics\": {\"ner_f1\": 76.1905, \"ner_token_f1\": 83.3333}, \"time_spent\": \"0:03:09\", \"epochs_done\": 0, \"batches_seen\": 760, \"train_examples_seen\": 7600, \"loss\": 0.12507930661085992}}\n"
     ]
    },
    {
     "name": "stderr",
     "output_type": "stream",
     "text": [
      "\n",
      "409it [00:03, 127.14it/s]\n",
      "2025-09-24 11:35:29.680 INFO in 'deeppavlov.core.trainers.nn_trainer'['nn_trainer'] at line 211: Did not improve on the ner_f1 of 93.6245\n"
     ]
    },
    {
     "name": "stdout",
     "output_type": "stream",
     "text": [
      "{\"valid\": {\"eval_examples_count\": 4088, \"metrics\": {\"ner_f1\": 92.5039, \"ner_token_f1\": 94.3792}, \"time_spent\": \"0:03:12\", \"epochs_done\": 0, \"batches_seen\": 760, \"train_examples_seen\": 7600, \"impatience\": 25, \"patience_limit\": 100}}\n"
     ]
    },
    {
     "name": "stderr",
     "output_type": "stream",
     "text": [
      "1it [00:00, 76.92it/s]s]"
     ]
    },
    {
     "name": "stdout",
     "output_type": "stream",
     "text": [
      "{\"train\": {\"eval_examples_count\": 10, \"metrics\": {\"ner_f1\": 85.7143, \"ner_token_f1\": 90.9091}, \"time_spent\": \"0:03:14\", \"epochs_done\": 0, \"batches_seen\": 780, \"train_examples_seen\": 7800, \"loss\": 0.07560464733396657}}\n"
     ]
    },
    {
     "name": "stderr",
     "output_type": "stream",
     "text": [
      "\n",
      "409it [00:02, 142.92it/s]\n",
      "2025-09-24 11:35:33.984 INFO in 'deeppavlov.core.trainers.nn_trainer'['nn_trainer'] at line 211: Did not improve on the ner_f1 of 93.6245\n"
     ]
    },
    {
     "name": "stdout",
     "output_type": "stream",
     "text": [
      "{\"valid\": {\"eval_examples_count\": 4088, \"metrics\": {\"ner_f1\": 93.1467, \"ner_token_f1\": 94.7302}, \"time_spent\": \"0:03:17\", \"epochs_done\": 0, \"batches_seen\": 780, \"train_examples_seen\": 7800, \"impatience\": 26, \"patience_limit\": 100}}\n"
     ]
    },
    {
     "name": "stderr",
     "output_type": "stream",
     "text": [
      "1it [00:00, 71.44it/s]s]"
     ]
    },
    {
     "name": "stdout",
     "output_type": "stream",
     "text": [
      "{\"train\": {\"eval_examples_count\": 10, \"metrics\": {\"ner_f1\": 92.3077, \"ner_token_f1\": 94.1176}, \"time_spent\": \"0:03:18\", \"epochs_done\": 0, \"batches_seen\": 800, \"train_examples_seen\": 8000, \"loss\": 0.11617535158875399}}\n"
     ]
    },
    {
     "name": "stderr",
     "output_type": "stream",
     "text": [
      "\n",
      "409it [00:02, 141.99it/s]\n",
      "2025-09-24 11:35:38.344 INFO in 'deeppavlov.core.trainers.nn_trainer'['nn_trainer'] at line 211: Did not improve on the ner_f1 of 93.6245\n"
     ]
    },
    {
     "name": "stdout",
     "output_type": "stream",
     "text": [
      "{\"valid\": {\"eval_examples_count\": 4088, \"metrics\": {\"ner_f1\": 91.9255, \"ner_token_f1\": 93.7472}, \"time_spent\": \"0:03:21\", \"epochs_done\": 0, \"batches_seen\": 800, \"train_examples_seen\": 8000, \"impatience\": 27, \"patience_limit\": 100}}\n"
     ]
    },
    {
     "name": "stderr",
     "output_type": "stream",
     "text": [
      "1it [00:00, 76.90it/s]s]"
     ]
    },
    {
     "name": "stdout",
     "output_type": "stream",
     "text": [
      "{\"train\": {\"eval_examples_count\": 10, \"metrics\": {\"ner_f1\": 100.0, \"ner_token_f1\": 100.0}, \"time_spent\": \"0:03:22\", \"epochs_done\": 0, \"batches_seen\": 820, \"train_examples_seen\": 8200, \"loss\": 0.15541801896179094}}\n"
     ]
    },
    {
     "name": "stderr",
     "output_type": "stream",
     "text": [
      "\n",
      "409it [00:02, 146.78it/s]\n",
      "2025-09-24 11:35:42.535 INFO in 'deeppavlov.core.trainers.nn_trainer'['nn_trainer'] at line 211: Did not improve on the ner_f1 of 93.6245\n"
     ]
    },
    {
     "name": "stdout",
     "output_type": "stream",
     "text": [
      "{\"valid\": {\"eval_examples_count\": 4088, \"metrics\": {\"ner_f1\": 93.0995, \"ner_token_f1\": 94.6138}, \"time_spent\": \"0:03:25\", \"epochs_done\": 0, \"batches_seen\": 820, \"train_examples_seen\": 8200, \"impatience\": 28, \"patience_limit\": 100}}\n"
     ]
    },
    {
     "name": "stderr",
     "output_type": "stream",
     "text": [
      "1it [00:00, 76.92it/s]s]"
     ]
    },
    {
     "name": "stdout",
     "output_type": "stream",
     "text": [
      "{\"train\": {\"eval_examples_count\": 10, \"metrics\": {\"ner_f1\": 100.0, \"ner_token_f1\": 100.0}, \"time_spent\": \"0:03:27\", \"epochs_done\": 0, \"batches_seen\": 840, \"train_examples_seen\": 8400, \"loss\": 0.07390934184659273}}\n"
     ]
    },
    {
     "name": "stderr",
     "output_type": "stream",
     "text": [
      "\n",
      "409it [00:03, 129.44it/s]\n",
      "2025-09-24 11:35:47.117 INFO in 'deeppavlov.core.trainers.nn_trainer'['nn_trainer'] at line 211: Did not improve on the ner_f1 of 93.6245\n"
     ]
    },
    {
     "name": "stdout",
     "output_type": "stream",
     "text": [
      "{\"valid\": {\"eval_examples_count\": 4088, \"metrics\": {\"ner_f1\": 93.4121, \"ner_token_f1\": 94.9025}, \"time_spent\": \"0:03:30\", \"epochs_done\": 0, \"batches_seen\": 840, \"train_examples_seen\": 8400, \"impatience\": 29, \"patience_limit\": 100}}\n"
     ]
    },
    {
     "name": "stderr",
     "output_type": "stream",
     "text": [
      "1it [00:00, 73.55it/s]s]"
     ]
    },
    {
     "name": "stdout",
     "output_type": "stream",
     "text": [
      "{\"train\": {\"eval_examples_count\": 10, \"metrics\": {\"ner_f1\": 96.0, \"ner_token_f1\": 96.5517}, \"time_spent\": \"0:03:31\", \"epochs_done\": 0, \"batches_seen\": 860, \"train_examples_seen\": 8600, \"loss\": 0.09778095325455069}}\n"
     ]
    },
    {
     "name": "stderr",
     "output_type": "stream",
     "text": [
      "\n",
      "409it [00:02, 156.48it/s]\n",
      "2025-09-24 11:35:51.141 INFO in 'deeppavlov.core.trainers.nn_trainer'['nn_trainer'] at line 211: Did not improve on the ner_f1 of 93.6245\n",
      "2025-09-24 11:35:51.142 INFO in 'deeppavlov.core.models.torch_model'['torch_model'] at line 206: ----------Current LR is decreased in 1.5 times----------\n"
     ]
    },
    {
     "name": "stdout",
     "output_type": "stream",
     "text": [
      "{\"valid\": {\"eval_examples_count\": 4088, \"metrics\": {\"ner_f1\": 93.0407, \"ner_token_f1\": 94.4825}, \"time_spent\": \"0:03:34\", \"epochs_done\": 0, \"batches_seen\": 860, \"train_examples_seen\": 8600, \"impatience\": 30, \"patience_limit\": 100}}\n"
     ]
    },
    {
     "name": "stderr",
     "output_type": "stream",
     "text": [
      "1it [00:00, 75.55it/s]s]"
     ]
    },
    {
     "name": "stdout",
     "output_type": "stream",
     "text": [
      "{\"train\": {\"eval_examples_count\": 10, \"metrics\": {\"ner_f1\": 100.0, \"ner_token_f1\": 100.0}, \"time_spent\": \"0:03:37\", \"epochs_done\": 0, \"batches_seen\": 880, \"train_examples_seen\": 8800, \"loss\": 0.07792166471481324}}\n"
     ]
    },
    {
     "name": "stderr",
     "output_type": "stream",
     "text": [
      "\n",
      "409it [00:03, 125.84it/s]\n",
      "2025-09-24 11:35:57.146 INFO in 'deeppavlov.core.trainers.nn_trainer'['nn_trainer'] at line 211: Did not improve on the ner_f1 of 93.6245\n"
     ]
    },
    {
     "name": "stdout",
     "output_type": "stream",
     "text": [
      "{\"valid\": {\"eval_examples_count\": 4088, \"metrics\": {\"ner_f1\": 93.2156, \"ner_token_f1\": 94.6677}, \"time_spent\": \"0:03:40\", \"epochs_done\": 0, \"batches_seen\": 880, \"train_examples_seen\": 8800, \"impatience\": 31, \"patience_limit\": 100}}\n"
     ]
    },
    {
     "name": "stderr",
     "output_type": "stream",
     "text": [
      "1it [00:00, 66.67it/s]s]"
     ]
    },
    {
     "name": "stdout",
     "output_type": "stream",
     "text": [
      "{\"train\": {\"eval_examples_count\": 10, \"metrics\": {\"ner_f1\": 81.8182, \"ner_token_f1\": 86.9565}, \"time_spent\": \"0:03:41\", \"epochs_done\": 0, \"batches_seen\": 900, \"train_examples_seen\": 9000, \"loss\": 0.1251508292974904}}\n"
     ]
    },
    {
     "name": "stderr",
     "output_type": "stream",
     "text": [
      "\n",
      "409it [00:02, 149.51it/s]\n",
      "2025-09-24 11:36:01.272 INFO in 'deeppavlov.core.trainers.nn_trainer'['nn_trainer'] at line 211: Did not improve on the ner_f1 of 93.6245\n"
     ]
    },
    {
     "name": "stdout",
     "output_type": "stream",
     "text": [
      "{\"valid\": {\"eval_examples_count\": 4088, \"metrics\": {\"ner_f1\": 92.9737, \"ner_token_f1\": 94.31}, \"time_spent\": \"0:03:44\", \"epochs_done\": 0, \"batches_seen\": 900, \"train_examples_seen\": 9000, \"impatience\": 32, \"patience_limit\": 100}}\n"
     ]
    },
    {
     "name": "stderr",
     "output_type": "stream",
     "text": [
      "1it [00:00, 71.31it/s]s]"
     ]
    },
    {
     "name": "stdout",
     "output_type": "stream",
     "text": [
      "{\"train\": {\"eval_examples_count\": 10, \"metrics\": {\"ner_f1\": 100.0, \"ner_token_f1\": 100.0}, \"time_spent\": \"0:03:45\", \"epochs_done\": 0, \"batches_seen\": 920, \"train_examples_seen\": 9200, \"loss\": 0.125935390626546}}\n"
     ]
    },
    {
     "name": "stderr",
     "output_type": "stream",
     "text": [
      "\n",
      "409it [00:02, 139.31it/s]\n",
      "2025-09-24 11:36:05.700 INFO in 'deeppavlov.core.trainers.nn_trainer'['nn_trainer'] at line 211: Did not improve on the ner_f1 of 93.6245\n"
     ]
    },
    {
     "name": "stdout",
     "output_type": "stream",
     "text": [
      "{\"valid\": {\"eval_examples_count\": 4088, \"metrics\": {\"ner_f1\": 92.785, \"ner_token_f1\": 94.1934}, \"time_spent\": \"0:03:48\", \"epochs_done\": 0, \"batches_seen\": 920, \"train_examples_seen\": 9200, \"impatience\": 33, \"patience_limit\": 100}}\n"
     ]
    },
    {
     "name": "stderr",
     "output_type": "stream",
     "text": [
      "1it [00:00, 76.93it/s]s]"
     ]
    },
    {
     "name": "stdout",
     "output_type": "stream",
     "text": [
      "{\"train\": {\"eval_examples_count\": 10, \"metrics\": {\"ner_f1\": 100.0, \"ner_token_f1\": 100.0}, \"time_spent\": \"0:03:50\", \"epochs_done\": 0, \"batches_seen\": 940, \"train_examples_seen\": 9400, \"loss\": 0.10491872145794331}}\n"
     ]
    },
    {
     "name": "stderr",
     "output_type": "stream",
     "text": [
      "\n",
      "409it [00:03, 133.39it/s]\n",
      "2025-09-24 11:36:10.141 INFO in 'deeppavlov.core.trainers.nn_trainer'['nn_trainer'] at line 211: Did not improve on the ner_f1 of 93.6245\n"
     ]
    },
    {
     "name": "stdout",
     "output_type": "stream",
     "text": [
      "{\"valid\": {\"eval_examples_count\": 4088, \"metrics\": {\"ner_f1\": 93.2751, \"ner_token_f1\": 94.7539}, \"time_spent\": \"0:03:53\", \"epochs_done\": 0, \"batches_seen\": 940, \"train_examples_seen\": 9400, \"impatience\": 34, \"patience_limit\": 100}}\n"
     ]
    },
    {
     "name": "stderr",
     "output_type": "stream",
     "text": [
      "1it [00:00, 71.32it/s]s]"
     ]
    },
    {
     "name": "stdout",
     "output_type": "stream",
     "text": [
      "{\"train\": {\"eval_examples_count\": 10, \"metrics\": {\"ner_f1\": 100.0, \"ner_token_f1\": 100.0}, \"time_spent\": \"0:03:54\", \"epochs_done\": 0, \"batches_seen\": 960, \"train_examples_seen\": 9600, \"loss\": 0.08764593927189708}}\n"
     ]
    },
    {
     "name": "stderr",
     "output_type": "stream",
     "text": [
      "\n",
      "409it [00:02, 149.62it/s]\n",
      "2025-09-24 11:36:14.339 INFO in 'deeppavlov.core.trainers.nn_trainer'['nn_trainer'] at line 211: Did not improve on the ner_f1 of 93.6245\n"
     ]
    },
    {
     "name": "stdout",
     "output_type": "stream",
     "text": [
      "{\"valid\": {\"eval_examples_count\": 4088, \"metrics\": {\"ner_f1\": 93.4041, \"ner_token_f1\": 94.7473}, \"time_spent\": \"0:03:57\", \"epochs_done\": 0, \"batches_seen\": 960, \"train_examples_seen\": 9600, \"impatience\": 35, \"patience_limit\": 100}}\n"
     ]
    },
    {
     "name": "stderr",
     "output_type": "stream",
     "text": [
      "1it [00:00, 73.22it/s]s]"
     ]
    },
    {
     "name": "stdout",
     "output_type": "stream",
     "text": [
      "{\"train\": {\"eval_examples_count\": 10, \"metrics\": {\"ner_f1\": 100.0, \"ner_token_f1\": 100.0}, \"time_spent\": \"0:03:58\", \"epochs_done\": 0, \"batches_seen\": 980, \"train_examples_seen\": 9800, \"loss\": 0.08424088241299614}}\n"
     ]
    },
    {
     "name": "stderr",
     "output_type": "stream",
     "text": [
      "\n",
      "409it [00:02, 140.41it/s]\n",
      "2025-09-24 11:36:18.776 INFO in 'deeppavlov.core.trainers.nn_trainer'['nn_trainer'] at line 211: Did not improve on the ner_f1 of 93.6245\n"
     ]
    },
    {
     "name": "stdout",
     "output_type": "stream",
     "text": [
      "{\"valid\": {\"eval_examples_count\": 4088, \"metrics\": {\"ner_f1\": 93.3361, \"ner_token_f1\": 94.7017}, \"time_spent\": \"0:04:01\", \"epochs_done\": 0, \"batches_seen\": 980, \"train_examples_seen\": 9800, \"impatience\": 36, \"patience_limit\": 100}}\n"
     ]
    },
    {
     "name": "stderr",
     "output_type": "stream",
     "text": [
      "1it [00:00, 45.44it/s]s]"
     ]
    },
    {
     "name": "stdout",
     "output_type": "stream",
     "text": [
      "{\"train\": {\"eval_examples_count\": 10, \"metrics\": {\"ner_f1\": 86.9565, \"ner_token_f1\": 92.3077}, \"time_spent\": \"0:04:03\", \"epochs_done\": 0, \"batches_seen\": 1000, \"train_examples_seen\": 10000, \"loss\": 0.06512453728355468}}\n"
     ]
    },
    {
     "name": "stderr",
     "output_type": "stream",
     "text": [
      "\n",
      "409it [00:03, 133.22it/s]\n",
      "2025-09-24 11:36:23.271 INFO in 'deeppavlov.core.trainers.nn_trainer'['nn_trainer'] at line 211: Did not improve on the ner_f1 of 93.6245\n"
     ]
    },
    {
     "name": "stdout",
     "output_type": "stream",
     "text": [
      "{\"valid\": {\"eval_examples_count\": 4088, \"metrics\": {\"ner_f1\": 92.4359, \"ner_token_f1\": 94.2095}, \"time_spent\": \"0:04:06\", \"epochs_done\": 0, \"batches_seen\": 1000, \"train_examples_seen\": 10000, \"impatience\": 37, \"patience_limit\": 100}}\n"
     ]
    },
    {
     "name": "stderr",
     "output_type": "stream",
     "text": [
      "1it [00:00, 66.84it/s]/s]"
     ]
    },
    {
     "name": "stdout",
     "output_type": "stream",
     "text": [
      "{\"train\": {\"eval_examples_count\": 10, \"metrics\": {\"ner_f1\": 100.0, \"ner_token_f1\": 100.0}, \"time_spent\": \"0:04:07\", \"epochs_done\": 0, \"batches_seen\": 1020, \"train_examples_seen\": 10200, \"loss\": 0.1395577418152243}}\n"
     ]
    },
    {
     "name": "stderr",
     "output_type": "stream",
     "text": [
      "\n",
      "409it [00:02, 138.24it/s]\n",
      "2025-09-24 11:36:27.648 INFO in 'deeppavlov.core.trainers.nn_trainer'['nn_trainer'] at line 211: Did not improve on the ner_f1 of 93.6245\n"
     ]
    },
    {
     "name": "stdout",
     "output_type": "stream",
     "text": [
      "{\"valid\": {\"eval_examples_count\": 4088, \"metrics\": {\"ner_f1\": 91.6168, \"ner_token_f1\": 93.7539}, \"time_spent\": \"0:04:10\", \"epochs_done\": 0, \"batches_seen\": 1020, \"train_examples_seen\": 10200, \"impatience\": 38, \"patience_limit\": 100}}\n"
     ]
    },
    {
     "name": "stderr",
     "output_type": "stream",
     "text": [
      "1it [00:00, 71.38it/s]/s]"
     ]
    },
    {
     "name": "stdout",
     "output_type": "stream",
     "text": [
      "{\"train\": {\"eval_examples_count\": 10, \"metrics\": {\"ner_f1\": 100.0, \"ner_token_f1\": 100.0}, \"time_spent\": \"0:04:12\", \"epochs_done\": 0, \"batches_seen\": 1040, \"train_examples_seen\": 10400, \"loss\": 0.14216521338094026}}\n"
     ]
    },
    {
     "name": "stderr",
     "output_type": "stream",
     "text": [
      "\n",
      "409it [00:02, 138.47it/s]\n",
      "2025-09-24 11:36:32.86 INFO in 'deeppavlov.core.trainers.nn_trainer'['nn_trainer'] at line 211: Did not improve on the ner_f1 of 93.6245\n"
     ]
    },
    {
     "name": "stdout",
     "output_type": "stream",
     "text": [
      "{\"valid\": {\"eval_examples_count\": 4088, \"metrics\": {\"ner_f1\": 93.393, \"ner_token_f1\": 94.8755}, \"time_spent\": \"0:04:15\", \"epochs_done\": 0, \"batches_seen\": 1040, \"train_examples_seen\": 10400, \"impatience\": 39, \"patience_limit\": 100}}\n"
     ]
    },
    {
     "name": "stderr",
     "output_type": "stream",
     "text": [
      "1it [00:00, 66.66it/s]/s]"
     ]
    },
    {
     "name": "stdout",
     "output_type": "stream",
     "text": [
      "{\"train\": {\"eval_examples_count\": 10, \"metrics\": {\"ner_f1\": 100.0, \"ner_token_f1\": 100.0}, \"time_spent\": \"0:04:16\", \"epochs_done\": 0, \"batches_seen\": 1060, \"train_examples_seen\": 10600, \"loss\": 0.13834779039025308}}\n"
     ]
    },
    {
     "name": "stderr",
     "output_type": "stream",
     "text": [
      "\n",
      "409it [00:02, 146.60it/s]\n",
      "2025-09-24 11:36:36.438 INFO in 'deeppavlov.core.trainers.nn_trainer'['nn_trainer'] at line 211: Did not improve on the ner_f1 of 93.6245\n"
     ]
    },
    {
     "name": "stdout",
     "output_type": "stream",
     "text": [
      "{\"valid\": {\"eval_examples_count\": 4088, \"metrics\": {\"ner_f1\": 93.1124, \"ner_token_f1\": 94.6548}, \"time_spent\": \"0:04:19\", \"epochs_done\": 0, \"batches_seen\": 1060, \"train_examples_seen\": 10600, \"impatience\": 40, \"patience_limit\": 100}}\n"
     ]
    },
    {
     "name": "stderr",
     "output_type": "stream",
     "text": [
      "1it [00:00, 76.92it/s]/s]"
     ]
    },
    {
     "name": "stdout",
     "output_type": "stream",
     "text": [
      "{\"train\": {\"eval_examples_count\": 10, \"metrics\": {\"ner_f1\": 86.9565, \"ner_token_f1\": 93.3333}, \"time_spent\": \"0:04:20\", \"epochs_done\": 0, \"batches_seen\": 1080, \"train_examples_seen\": 10800, \"loss\": 0.13929041954106652}}\n"
     ]
    },
    {
     "name": "stderr",
     "output_type": "stream",
     "text": [
      "\n",
      "409it [00:02, 153.82it/s]\n",
      "2025-09-24 11:36:40.501 INFO in 'deeppavlov.core.trainers.nn_trainer'['nn_trainer'] at line 211: Did not improve on the ner_f1 of 93.6245\n"
     ]
    },
    {
     "name": "stdout",
     "output_type": "stream",
     "text": [
      "{\"valid\": {\"eval_examples_count\": 4088, \"metrics\": {\"ner_f1\": 93.2852, \"ner_token_f1\": 94.782}, \"time_spent\": \"0:04:23\", \"epochs_done\": 0, \"batches_seen\": 1080, \"train_examples_seen\": 10800, \"impatience\": 41, \"patience_limit\": 100}}\n"
     ]
    },
    {
     "name": "stderr",
     "output_type": "stream",
     "text": [
      "1it [00:00, 76.93it/s]/s]"
     ]
    },
    {
     "name": "stdout",
     "output_type": "stream",
     "text": [
      "{\"train\": {\"eval_examples_count\": 10, \"metrics\": {\"ner_f1\": 100.0, \"ner_token_f1\": 100.0}, \"time_spent\": \"0:04:24\", \"epochs_done\": 0, \"batches_seen\": 1100, \"train_examples_seen\": 11000, \"loss\": 0.07827059304108844}}\n"
     ]
    },
    {
     "name": "stderr",
     "output_type": "stream",
     "text": [
      "\n",
      "409it [00:02, 137.68it/s]\n",
      "2025-09-24 11:36:44.820 INFO in 'deeppavlov.core.trainers.nn_trainer'['nn_trainer'] at line 211: Did not improve on the ner_f1 of 93.6245\n"
     ]
    },
    {
     "name": "stdout",
     "output_type": "stream",
     "text": [
      "{\"valid\": {\"eval_examples_count\": 4088, \"metrics\": {\"ner_f1\": 93.4299, \"ner_token_f1\": 94.9553}, \"time_spent\": \"0:04:27\", \"epochs_done\": 0, \"batches_seen\": 1100, \"train_examples_seen\": 11000, \"impatience\": 42, \"patience_limit\": 100}}\n"
     ]
    },
    {
     "name": "stderr",
     "output_type": "stream",
     "text": [
      "1it [00:00, 43.48it/s]/s]"
     ]
    },
    {
     "name": "stdout",
     "output_type": "stream",
     "text": [
      "{\"train\": {\"eval_examples_count\": 10, \"metrics\": {\"ner_f1\": 83.3333, \"ner_token_f1\": 88.0}, \"time_spent\": \"0:04:29\", \"epochs_done\": 0, \"batches_seen\": 1120, \"train_examples_seen\": 11200, \"loss\": 0.105155418231152}}\n"
     ]
    },
    {
     "name": "stderr",
     "output_type": "stream",
     "text": [
      "\n",
      "409it [00:02, 146.16it/s]\n",
      "2025-09-24 11:36:49.63 INFO in 'deeppavlov.core.trainers.nn_trainer'['nn_trainer'] at line 211: Did not improve on the ner_f1 of 93.6245\n"
     ]
    },
    {
     "name": "stdout",
     "output_type": "stream",
     "text": [
      "{\"valid\": {\"eval_examples_count\": 4088, \"metrics\": {\"ner_f1\": 93.2323, \"ner_token_f1\": 94.8104}, \"time_spent\": \"0:04:32\", \"epochs_done\": 0, \"batches_seen\": 1120, \"train_examples_seen\": 11200, \"impatience\": 43, \"patience_limit\": 100}}\n"
     ]
    },
    {
     "name": "stderr",
     "output_type": "stream",
     "text": [
      "1it [00:00, 83.34it/s]/s]"
     ]
    },
    {
     "name": "stdout",
     "output_type": "stream",
     "text": [
      "{\"train\": {\"eval_examples_count\": 10, \"metrics\": {\"ner_f1\": 76.9231, \"ner_token_f1\": 84.8485}, \"time_spent\": \"0:04:33\", \"epochs_done\": 0, \"batches_seen\": 1140, \"train_examples_seen\": 11400, \"loss\": 0.06974844224750995}}\n"
     ]
    },
    {
     "name": "stderr",
     "output_type": "stream",
     "text": [
      "\n",
      "409it [00:02, 140.46it/s]\n",
      "2025-09-24 11:36:53.378 INFO in 'deeppavlov.core.trainers.nn_trainer'['nn_trainer'] at line 211: Did not improve on the ner_f1 of 93.6245\n"
     ]
    },
    {
     "name": "stdout",
     "output_type": "stream",
     "text": [
      "{\"valid\": {\"eval_examples_count\": 4088, \"metrics\": {\"ner_f1\": 92.4767, \"ner_token_f1\": 94.2141}, \"time_spent\": \"0:04:36\", \"epochs_done\": 0, \"batches_seen\": 1140, \"train_examples_seen\": 11400, \"impatience\": 44, \"patience_limit\": 100}}\n"
     ]
    },
    {
     "name": "stderr",
     "output_type": "stream",
     "text": [
      "1it [00:00, 76.94it/s]/s]"
     ]
    },
    {
     "name": "stdout",
     "output_type": "stream",
     "text": [
      "{\"train\": {\"eval_examples_count\": 10, \"metrics\": {\"ner_f1\": 78.2609, \"ner_token_f1\": 84.6154}, \"time_spent\": \"0:04:37\", \"epochs_done\": 0, \"batches_seen\": 1160, \"train_examples_seen\": 11600, \"loss\": 0.08543244991451501}}\n"
     ]
    },
    {
     "name": "stderr",
     "output_type": "stream",
     "text": [
      "\n",
      "409it [00:02, 139.28it/s]\n",
      "2025-09-24 11:36:57.719 INFO in 'deeppavlov.core.trainers.nn_trainer'['nn_trainer'] at line 211: Did not improve on the ner_f1 of 93.6245\n"
     ]
    },
    {
     "name": "stdout",
     "output_type": "stream",
     "text": [
      "{\"valid\": {\"eval_examples_count\": 4088, \"metrics\": {\"ner_f1\": 93.5307, \"ner_token_f1\": 94.9893}, \"time_spent\": \"0:04:40\", \"epochs_done\": 0, \"batches_seen\": 1160, \"train_examples_seen\": 11600, \"impatience\": 45, \"patience_limit\": 100}}\n"
     ]
    },
    {
     "name": "stderr",
     "output_type": "stream",
     "text": [
      "1it [00:00, 66.62it/s]/s]"
     ]
    },
    {
     "name": "stdout",
     "output_type": "stream",
     "text": [
      "{\"train\": {\"eval_examples_count\": 10, \"metrics\": {\"ner_f1\": 96.0, \"ner_token_f1\": 96.2963}, \"time_spent\": \"0:04:42\", \"epochs_done\": 0, \"batches_seen\": 1180, \"train_examples_seen\": 11800, \"loss\": 0.08021661404054611}}\n"
     ]
    },
    {
     "name": "stderr",
     "output_type": "stream",
     "text": [
      "\n",
      "409it [00:02, 137.87it/s]\n",
      "2025-09-24 11:37:02.95 INFO in 'deeppavlov.core.trainers.nn_trainer'['nn_trainer'] at line 211: Did not improve on the ner_f1 of 93.6245\n"
     ]
    },
    {
     "name": "stdout",
     "output_type": "stream",
     "text": [
      "{\"valid\": {\"eval_examples_count\": 4088, \"metrics\": {\"ner_f1\": 93.5692, \"ner_token_f1\": 94.9874}, \"time_spent\": \"0:04:45\", \"epochs_done\": 0, \"batches_seen\": 1180, \"train_examples_seen\": 11800, \"impatience\": 46, \"patience_limit\": 100}}\n"
     ]
    },
    {
     "name": "stderr",
     "output_type": "stream",
     "text": [
      "1it [00:00, 45.44it/s]/s]"
     ]
    },
    {
     "name": "stdout",
     "output_type": "stream",
     "text": [
      "{\"train\": {\"eval_examples_count\": 10, \"metrics\": {\"ner_f1\": 91.6667, \"ner_token_f1\": 92.8571}, \"time_spent\": \"0:04:46\", \"epochs_done\": 0, \"batches_seen\": 1200, \"train_examples_seen\": 12000, \"loss\": 0.07725503716501407}}\n"
     ]
    },
    {
     "name": "stderr",
     "output_type": "stream",
     "text": [
      "\n",
      "409it [00:02, 137.98it/s]\n",
      "2025-09-24 11:37:06.602 INFO in 'deeppavlov.core.trainers.nn_trainer'['nn_trainer'] at line 211: Did not improve on the ner_f1 of 93.6245\n"
     ]
    },
    {
     "name": "stdout",
     "output_type": "stream",
     "text": [
      "{\"valid\": {\"eval_examples_count\": 4088, \"metrics\": {\"ner_f1\": 93.2917, \"ner_token_f1\": 94.8126}, \"time_spent\": \"0:04:49\", \"epochs_done\": 0, \"batches_seen\": 1200, \"train_examples_seen\": 12000, \"impatience\": 47, \"patience_limit\": 100}}\n"
     ]
    },
    {
     "name": "stderr",
     "output_type": "stream",
     "text": [
      "1it [00:00, 76.92it/s]/s]"
     ]
    },
    {
     "name": "stdout",
     "output_type": "stream",
     "text": [
      "{\"train\": {\"eval_examples_count\": 10, \"metrics\": {\"ner_f1\": 95.6522, \"ner_token_f1\": 96.0}, \"time_spent\": \"0:04:51\", \"epochs_done\": 0, \"batches_seen\": 1220, \"train_examples_seen\": 12200, \"loss\": 0.06344020004034974}}\n"
     ]
    },
    {
     "name": "stderr",
     "output_type": "stream",
     "text": [
      "\n",
      "409it [00:02, 139.76it/s]\n",
      "2025-09-24 11:37:10.949 INFO in 'deeppavlov.core.trainers.nn_trainer'['nn_trainer'] at line 211: Did not improve on the ner_f1 of 93.6245\n"
     ]
    },
    {
     "name": "stdout",
     "output_type": "stream",
     "text": [
      "{\"valid\": {\"eval_examples_count\": 4088, \"metrics\": {\"ner_f1\": 93.112, \"ner_token_f1\": 94.7283}, \"time_spent\": \"0:04:54\", \"epochs_done\": 0, \"batches_seen\": 1220, \"train_examples_seen\": 12200, \"impatience\": 48, \"patience_limit\": 100}}\n"
     ]
    },
    {
     "name": "stderr",
     "output_type": "stream",
     "text": [
      "1it [00:00, 62.49it/s]/s]"
     ]
    },
    {
     "name": "stdout",
     "output_type": "stream",
     "text": [
      "{\"train\": {\"eval_examples_count\": 10, \"metrics\": {\"ner_f1\": 84.6154, \"ner_token_f1\": 85.7143}, \"time_spent\": \"0:04:55\", \"epochs_done\": 0, \"batches_seen\": 1240, \"train_examples_seen\": 12400, \"loss\": 0.05509434248087928}}\n"
     ]
    },
    {
     "name": "stderr",
     "output_type": "stream",
     "text": [
      "\n",
      "409it [00:02, 147.70it/s]\n",
      "2025-09-24 11:37:15.215 INFO in 'deeppavlov.core.trainers.nn_trainer'['nn_trainer'] at line 211: Did not improve on the ner_f1 of 93.6245\n"
     ]
    },
    {
     "name": "stdout",
     "output_type": "stream",
     "text": [
      "{\"valid\": {\"eval_examples_count\": 4088, \"metrics\": {\"ner_f1\": 93.1894, \"ner_token_f1\": 94.7406}, \"time_spent\": \"0:04:58\", \"epochs_done\": 0, \"batches_seen\": 1240, \"train_examples_seen\": 12400, \"impatience\": 49, \"patience_limit\": 100}}\n"
     ]
    },
    {
     "name": "stderr",
     "output_type": "stream",
     "text": [
      "1it [00:00, 76.91it/s]/s]"
     ]
    },
    {
     "name": "stdout",
     "output_type": "stream",
     "text": [
      "{\"train\": {\"eval_examples_count\": 10, \"metrics\": {\"ner_f1\": 100.0, \"ner_token_f1\": 100.0}, \"time_spent\": \"0:04:59\", \"epochs_done\": 0, \"batches_seen\": 1260, \"train_examples_seen\": 12600, \"loss\": 0.06497325344826095}}\n"
     ]
    },
    {
     "name": "stderr",
     "output_type": "stream",
     "text": [
      "\n",
      "409it [00:02, 148.50it/s]\n",
      "2025-09-24 11:37:19.332 INFO in 'deeppavlov.core.trainers.nn_trainer'['nn_trainer'] at line 211: Did not improve on the ner_f1 of 93.6245\n"
     ]
    },
    {
     "name": "stdout",
     "output_type": "stream",
     "text": [
      "{\"valid\": {\"eval_examples_count\": 4088, \"metrics\": {\"ner_f1\": 92.1381, \"ner_token_f1\": 93.921}, \"time_spent\": \"0:05:02\", \"epochs_done\": 0, \"batches_seen\": 1260, \"train_examples_seen\": 12600, \"impatience\": 50, \"patience_limit\": 100}}\n"
     ]
    },
    {
     "name": "stderr",
     "output_type": "stream",
     "text": [
      "1it [00:00, 52.64it/s]/s]"
     ]
    },
    {
     "name": "stdout",
     "output_type": "stream",
     "text": [
      "{\"train\": {\"eval_examples_count\": 10, \"metrics\": {\"ner_f1\": 100.0, \"ner_token_f1\": 100.0}, \"time_spent\": \"0:05:03\", \"epochs_done\": 0, \"batches_seen\": 1280, \"train_examples_seen\": 12800, \"loss\": 0.12890637430828064}}\n"
     ]
    },
    {
     "name": "stderr",
     "output_type": "stream",
     "text": [
      "\n",
      "409it [00:02, 150.05it/s]\n",
      "2025-09-24 11:37:23.450 INFO in 'deeppavlov.core.trainers.nn_trainer'['nn_trainer'] at line 211: Did not improve on the ner_f1 of 93.6245\n"
     ]
    },
    {
     "name": "stdout",
     "output_type": "stream",
     "text": [
      "{\"valid\": {\"eval_examples_count\": 4088, \"metrics\": {\"ner_f1\": 93.001, \"ner_token_f1\": 94.5081}, \"time_spent\": \"0:05:06\", \"epochs_done\": 0, \"batches_seen\": 1280, \"train_examples_seen\": 12800, \"impatience\": 51, \"patience_limit\": 100}}\n"
     ]
    },
    {
     "name": "stderr",
     "output_type": "stream",
     "text": [
      "1it [00:00, 71.43it/s]/s]"
     ]
    },
    {
     "name": "stdout",
     "output_type": "stream",
     "text": [
      "{\"train\": {\"eval_examples_count\": 10, \"metrics\": {\"ner_f1\": 100.0, \"ner_token_f1\": 100.0}, \"time_spent\": \"0:05:07\", \"epochs_done\": 0, \"batches_seen\": 1300, \"train_examples_seen\": 13000, \"loss\": 0.10188587816664949}}\n"
     ]
    },
    {
     "name": "stderr",
     "output_type": "stream",
     "text": [
      "\n",
      "409it [00:02, 146.43it/s]\n",
      "2025-09-24 11:37:27.589 INFO in 'deeppavlov.core.trainers.nn_trainer'['nn_trainer'] at line 211: Did not improve on the ner_f1 of 93.6245\n"
     ]
    },
    {
     "name": "stdout",
     "output_type": "stream",
     "text": [
      "{\"valid\": {\"eval_examples_count\": 4088, \"metrics\": {\"ner_f1\": 92.7329, \"ner_token_f1\": 94.4906}, \"time_spent\": \"0:05:10\", \"epochs_done\": 0, \"batches_seen\": 1300, \"train_examples_seen\": 13000, \"impatience\": 52, \"patience_limit\": 100}}\n"
     ]
    },
    {
     "name": "stderr",
     "output_type": "stream",
     "text": [
      "1it [00:00, 68.92it/s]/s]"
     ]
    },
    {
     "name": "stdout",
     "output_type": "stream",
     "text": [
      "{\"train\": {\"eval_examples_count\": 10, \"metrics\": {\"ner_f1\": 85.7143, \"ner_token_f1\": 80.0}, \"time_spent\": \"0:05:12\", \"epochs_done\": 0, \"batches_seen\": 1320, \"train_examples_seen\": 13200, \"loss\": 0.07700292724184692}}\n"
     ]
    },
    {
     "name": "stderr",
     "output_type": "stream",
     "text": [
      "\n",
      "409it [00:02, 156.40it/s]\n",
      "2025-09-24 11:37:31.587 INFO in 'deeppavlov.core.trainers.nn_trainer'['nn_trainer'] at line 211: Did not improve on the ner_f1 of 93.6245\n"
     ]
    },
    {
     "name": "stdout",
     "output_type": "stream",
     "text": [
      "{\"valid\": {\"eval_examples_count\": 4088, \"metrics\": {\"ner_f1\": 93.1658, \"ner_token_f1\": 94.567}, \"time_spent\": \"0:05:14\", \"epochs_done\": 0, \"batches_seen\": 1320, \"train_examples_seen\": 13200, \"impatience\": 53, \"patience_limit\": 100}}\n"
     ]
    },
    {
     "name": "stderr",
     "output_type": "stream",
     "text": [
      "1it [00:00, 71.41it/s]/s]"
     ]
    },
    {
     "name": "stdout",
     "output_type": "stream",
     "text": [
      "{\"train\": {\"eval_examples_count\": 10, \"metrics\": {\"ner_f1\": 81.4815, \"ner_token_f1\": 93.3333}, \"time_spent\": \"0:05:16\", \"epochs_done\": 0, \"batches_seen\": 1340, \"train_examples_seen\": 13400, \"loss\": 0.0992080754134804}}\n"
     ]
    },
    {
     "name": "stderr",
     "output_type": "stream",
     "text": [
      "\n",
      "409it [00:02, 139.81it/s]\n",
      "2025-09-24 11:37:35.880 INFO in 'deeppavlov.core.trainers.nn_trainer'['nn_trainer'] at line 211: Did not improve on the ner_f1 of 93.6245\n"
     ]
    },
    {
     "name": "stdout",
     "output_type": "stream",
     "text": [
      "{\"valid\": {\"eval_examples_count\": 4088, \"metrics\": {\"ner_f1\": 93.357, \"ner_token_f1\": 94.6459}, \"time_spent\": \"0:05:19\", \"epochs_done\": 0, \"batches_seen\": 1340, \"train_examples_seen\": 13400, \"impatience\": 54, \"patience_limit\": 100}}\n"
     ]
    },
    {
     "name": "stderr",
     "output_type": "stream",
     "text": [
      "1it [00:00, 71.43it/s]/s]"
     ]
    },
    {
     "name": "stdout",
     "output_type": "stream",
     "text": [
      "{\"train\": {\"eval_examples_count\": 10, \"metrics\": {\"ner_f1\": 94.7368, \"ner_token_f1\": 95.6522}, \"time_spent\": \"0:05:20\", \"epochs_done\": 0, \"batches_seen\": 1360, \"train_examples_seen\": 13600, \"loss\": 0.0855042195878923}}\n"
     ]
    },
    {
     "name": "stderr",
     "output_type": "stream",
     "text": [
      "\n",
      "409it [00:02, 139.99it/s]\n",
      "2025-09-24 11:37:40.310 INFO in 'deeppavlov.core.trainers.nn_trainer'['nn_trainer'] at line 206: Improved best ner_f1 from 93.6245 to 93.659\n",
      "2025-09-24 11:37:40.311 INFO in 'deeppavlov.core.trainers.nn_trainer'['nn_trainer'] at line 208: Saving model\n",
      "2025-09-24 11:37:40.312 INFO in 'deeppavlov.core.models.torch_model'['torch_model'] at line 175: Saving model to C:\\Users\\lexan\\OneDrive\\Documents\\hackaton_lct\\models.pth.tar.\n"
     ]
    },
    {
     "name": "stdout",
     "output_type": "stream",
     "text": [
      "{\"valid\": {\"eval_examples_count\": 4088, \"metrics\": {\"ner_f1\": 93.659, \"ner_token_f1\": 94.9942}, \"time_spent\": \"0:05:23\", \"epochs_done\": 0, \"batches_seen\": 1360, \"train_examples_seen\": 13600, \"impatience\": 0, \"patience_limit\": 100}}\n"
     ]
    },
    {
     "name": "stderr",
     "output_type": "stream",
     "text": [
      "1it [00:00, 76.88it/s]/s]"
     ]
    },
    {
     "name": "stdout",
     "output_type": "stream",
     "text": [
      "{\"train\": {\"eval_examples_count\": 10, \"metrics\": {\"ner_f1\": 92.3077, \"ner_token_f1\": 96.7742}, \"time_spent\": \"0:05:27\", \"epochs_done\": 0, \"batches_seen\": 1380, \"train_examples_seen\": 13800, \"loss\": 0.1317519351025112}}\n"
     ]
    },
    {
     "name": "stderr",
     "output_type": "stream",
     "text": [
      "\n",
      "409it [00:02, 147.03it/s]\n",
      "2025-09-24 11:37:47.442 INFO in 'deeppavlov.core.trainers.nn_trainer'['nn_trainer'] at line 211: Did not improve on the ner_f1 of 93.659\n"
     ]
    },
    {
     "name": "stdout",
     "output_type": "stream",
     "text": [
      "{\"valid\": {\"eval_examples_count\": 4088, \"metrics\": {\"ner_f1\": 93.6153, \"ner_token_f1\": 95.0952}, \"time_spent\": \"0:05:30\", \"epochs_done\": 0, \"batches_seen\": 1380, \"train_examples_seen\": 13800, \"impatience\": 1, \"patience_limit\": 100}}\n"
     ]
    },
    {
     "name": "stderr",
     "output_type": "stream",
     "text": [
      "1it [00:00, 66.65it/s]/s]"
     ]
    },
    {
     "name": "stdout",
     "output_type": "stream",
     "text": [
      "{\"train\": {\"eval_examples_count\": 10, \"metrics\": {\"ner_f1\": 100.0, \"ner_token_f1\": 100.0}, \"time_spent\": \"0:05:31\", \"epochs_done\": 0, \"batches_seen\": 1400, \"train_examples_seen\": 14000, \"loss\": 0.08189833525102586}}\n"
     ]
    },
    {
     "name": "stderr",
     "output_type": "stream",
     "text": [
      "\n",
      "409it [00:02, 146.96it/s]\n",
      "2025-09-24 11:37:51.607 INFO in 'deeppavlov.core.trainers.nn_trainer'['nn_trainer'] at line 206: Improved best ner_f1 from 93.659 to 93.678\n",
      "2025-09-24 11:37:51.608 INFO in 'deeppavlov.core.trainers.nn_trainer'['nn_trainer'] at line 208: Saving model\n",
      "2025-09-24 11:37:51.609 INFO in 'deeppavlov.core.models.torch_model'['torch_model'] at line 175: Saving model to C:\\Users\\lexan\\OneDrive\\Documents\\hackaton_lct\\models.pth.tar.\n"
     ]
    },
    {
     "name": "stdout",
     "output_type": "stream",
     "text": [
      "{\"valid\": {\"eval_examples_count\": 4088, \"metrics\": {\"ner_f1\": 93.678, \"ner_token_f1\": 94.973}, \"time_spent\": \"0:05:34\", \"epochs_done\": 0, \"batches_seen\": 1400, \"train_examples_seen\": 14000, \"impatience\": 0, \"patience_limit\": 100}}\n"
     ]
    },
    {
     "name": "stderr",
     "output_type": "stream",
     "text": [
      "1it [00:00, 76.91it/s]/s]"
     ]
    },
    {
     "name": "stdout",
     "output_type": "stream",
     "text": [
      "{\"train\": {\"eval_examples_count\": 10, \"metrics\": {\"ner_f1\": 100.0, \"ner_token_f1\": 100.0}, \"time_spent\": \"0:05:39\", \"epochs_done\": 0, \"batches_seen\": 1420, \"train_examples_seen\": 14200, \"loss\": 0.035018319520168005}}\n"
     ]
    },
    {
     "name": "stderr",
     "output_type": "stream",
     "text": [
      "\n",
      "407it [00:02, 145.96it/s]\n",
      "1419it [05:37,  4.20it/s]\n",
      "2025-09-24 11:37:58.978 INFO in 'deeppavlov.core.trainers.nn_trainer'['nn_trainer'] at line 336: Stopped training\n",
      "Some weights of the model checkpoint at DeepPavlov/rubert-base-cased were not used when initializing BertForTokenClassification: ['cls.predictions.transform.dense.bias', 'cls.predictions.transform.LayerNorm.weight', 'cls.predictions.transform.dense.weight', 'cls.seq_relationship.weight', 'cls.predictions.decoder.weight', 'cls.seq_relationship.bias', 'cls.predictions.bias', 'cls.predictions.transform.LayerNorm.bias', 'cls.predictions.decoder.bias']\n",
      "- This IS expected if you are initializing BertForTokenClassification from the checkpoint of a model trained on another task or with another architecture (e.g. initializing a BertForSequenceClassification model from a BertForPreTraining model).\n",
      "- This IS NOT expected if you are initializing BertForTokenClassification from the checkpoint of a model that you expect to be exactly identical (initializing a BertForSequenceClassification model from a BertForSequenceClassification model).\n",
      "Some weights of BertForTokenClassification were not initialized from the model checkpoint at DeepPavlov/rubert-base-cased and are newly initialized: ['classifier.bias', 'classifier.weight']\n",
      "You should probably TRAIN this model on a down-stream task to be able to use it for predictions and inference.\n",
      "409it [00:03, 132.95it/s]\n"
     ]
    },
    {
     "name": "stdout",
     "output_type": "stream",
     "text": [
      "{\"valid\": {\"eval_examples_count\": 4088, \"metrics\": {\"ner_f1\": 93.678, \"ner_token_f1\": 94.973}, \"time_spent\": \"0:00:04\"}}\n"
     ]
    },
    {
     "name": "stderr",
     "output_type": "stream",
     "text": [
      "409it [00:02, 149.00it/s]"
     ]
    },
    {
     "name": "stdout",
     "output_type": "stream",
     "text": [
      "{\"test\": {\"eval_examples_count\": 4088, \"metrics\": {\"ner_f1\": 93.0397, \"ner_token_f1\": 94.5657}, \"time_spent\": \"0:00:03\"}}\n"
     ]
    },
    {
     "name": "stderr",
     "output_type": "stream",
     "text": [
      "\n",
      "Some weights of the model checkpoint at DeepPavlov/rubert-base-cased were not used when initializing BertForTokenClassification: ['cls.predictions.transform.dense.bias', 'cls.predictions.transform.LayerNorm.weight', 'cls.predictions.transform.dense.weight', 'cls.seq_relationship.weight', 'cls.predictions.decoder.weight', 'cls.seq_relationship.bias', 'cls.predictions.bias', 'cls.predictions.transform.LayerNorm.bias', 'cls.predictions.decoder.bias']\n",
      "- This IS expected if you are initializing BertForTokenClassification from the checkpoint of a model trained on another task or with another architecture (e.g. initializing a BertForSequenceClassification model from a BertForPreTraining model).\n",
      "- This IS NOT expected if you are initializing BertForTokenClassification from the checkpoint of a model that you expect to be exactly identical (initializing a BertForSequenceClassification model from a BertForSequenceClassification model).\n",
      "Some weights of BertForTokenClassification were not initialized from the model checkpoint at DeepPavlov/rubert-base-cased and are newly initialized: ['classifier.bias', 'classifier.weight']\n",
      "You should probably TRAIN this model on a down-stream task to be able to use it for predictions and inference.\n"
     ]
    }
   ],
   "source": [
    "\n",
    "ner_model = train_model(model_config, download=True)"
   ]
  },
  {
   "cell_type": "code",
   "execution_count": 26,
   "id": "c25a8b85",
   "metadata": {},
   "outputs": [
    {
     "data": {
      "text/plain": [
       "{'dataset_reader': {'class_name': 'conll2003_reader',\n",
       "  'data_path': '../datasets/conll/',\n",
       "  'dataset_name': 'collection3',\n",
       "  'provide_pos': False,\n",
       "  'provide_chunk': False,\n",
       "  'iobes': True},\n",
       " 'dataset_iterator': {'class_name': 'data_learning_iterator'},\n",
       " 'chainer': {'in': ['x'],\n",
       "  'in_y': ['y'],\n",
       "  'pipe': [{'class_name': 'torch_transformers_ner_preprocessor',\n",
       "    'vocab_file': 'DeepPavlov/rubert-base-cased',\n",
       "    'do_lower_case': False,\n",
       "    'max_seq_length': 512,\n",
       "    'max_subword_length': 15,\n",
       "    'token_masking_prob': 0.0,\n",
       "    'in': ['x'],\n",
       "    'out': ['x_tokens',\n",
       "     'x_subword_tokens',\n",
       "     'x_subword_tok_ids',\n",
       "     'startofword_markers',\n",
       "     'attention_mask',\n",
       "     'tokens_offsets']},\n",
       "   {'id': 'tag_vocab',\n",
       "    'class_name': 'simple_vocab',\n",
       "    'unk_token': ['O'],\n",
       "    'pad_with_zeros': True,\n",
       "    'save_path': '../models/tag.dict',\n",
       "    'load_path': '../models/tag.dict',\n",
       "    'fit_on': ['y'],\n",
       "    'in': ['y'],\n",
       "    'out': ['y_ind']},\n",
       "   {'class_name': 'torch_transformers_sequence_tagger',\n",
       "    'n_tags': '#tag_vocab.len',\n",
       "    'pretrained_bert': 'DeepPavlov/rubert-base-cased',\n",
       "    'attention_probs_keep_prob': 0.5,\n",
       "    'encoder_layer_ids': [-1],\n",
       "    'optimizer': 'AdamW',\n",
       "    'optimizer_parameters': {'lr': 2e-05,\n",
       "     'weight_decay': 1e-06,\n",
       "     'betas': [0.9, 0.999],\n",
       "     'eps': 1e-06},\n",
       "    'clip_norm': 1.0,\n",
       "    'min_learning_rate': 1e-07,\n",
       "    'learning_rate_drop_patience': 30,\n",
       "    'learning_rate_drop_div': 1.5,\n",
       "    'load_before_drop': True,\n",
       "    'save_path': '../models',\n",
       "    'load_path': '../models',\n",
       "    'in': ['x_subword_tok_ids', 'attention_mask', 'startofword_markers'],\n",
       "    'in_y': ['y_ind'],\n",
       "    'out': ['y_pred_ind', 'probas']},\n",
       "   {'ref': 'tag_vocab', 'in': ['y_pred_ind'], 'out': ['y_pred']}],\n",
       "  'out': ['x_tokens', 'y_pred']},\n",
       " 'train': {'epochs': 30,\n",
       "  'batch_size': 10,\n",
       "  'metrics': [{'name': 'ner_f1', 'inputs': ['y', 'y_pred']},\n",
       "   {'name': 'ner_token_f1', 'inputs': ['y', 'y_pred']}],\n",
       "  'validation_patience': 100,\n",
       "  'val_every_n_batches': 20,\n",
       "  'log_every_n_batches': 20,\n",
       "  'show_examples': False,\n",
       "  'pytest_max_batches': 2,\n",
       "  'pytest_batch_size': 8,\n",
       "  'evaluation_targets': ['valid', 'test'],\n",
       "  'class_name': 'torch_trainer'},\n",
       " 'metadata': {'variables': {'ROOT_PATH': '~/.deeppavlov',\n",
       "   'DOWNLOADS_PATH': '~/.deeppavlov/downloads',\n",
       "   'MODELS_PATH': '~/.deeppavlov/models',\n",
       "   'TRANSFORMER': 'DeepPavlov/rubert-base-cased',\n",
       "   'MODEL_PATH': '../models'},\n",
       "  'requirements': ['c:\\\\Users\\\\lexan\\\\miniconda3\\\\envs\\\\dp310\\\\lib\\\\site-packages\\\\deeppavlov/requirements/pytorch.txt',\n",
       "   'c:\\\\Users\\\\lexan\\\\miniconda3\\\\envs\\\\dp310\\\\lib\\\\site-packages\\\\deeppavlov/requirements/torchcrf.txt',\n",
       "   'c:\\\\Users\\\\lexan\\\\miniconda3\\\\envs\\\\dp310\\\\lib\\\\site-packages\\\\deeppavlov/requirements/protobuf.txt',\n",
       "   'c:\\\\Users\\\\lexan\\\\miniconda3\\\\envs\\\\dp310\\\\lib\\\\site-packages\\\\deeppavlov/requirements/sentencepiece.txt',\n",
       "   'c:\\\\Users\\\\lexan\\\\miniconda3\\\\envs\\\\dp310\\\\lib\\\\site-packages\\\\deeppavlov/requirements/transformers.txt']}}"
      ]
     },
     "execution_count": 26,
     "metadata": {},
     "output_type": "execute_result"
    }
   ],
   "source": [
    "model_config"
   ]
  },
  {
   "cell_type": "code",
   "execution_count": null,
   "id": "d5e399f2",
   "metadata": {},
   "outputs": [],
   "source": []
  },
  {
   "cell_type": "code",
   "execution_count": 3,
   "id": "ca8fc0e0",
   "metadata": {},
   "outputs": [
    {
     "name": "stderr",
     "output_type": "stream",
     "text": [
      "c:\\Users\\lexan\\miniconda3\\envs\\dp310\\lib\\site-packages\\tqdm\\auto.py:22: TqdmWarning: IProgress not found. Please update jupyter and ipywidgets. See https://ipywidgets.readthedocs.io/en/stable/user_install.html\n",
      "  from .autonotebook import tqdm as notebook_tqdm\n",
      "c:\\Users\\lexan\\miniconda3\\envs\\dp310\\lib\\site-packages\\huggingface_hub\\file_download.py:945: FutureWarning: `resume_download` is deprecated and will be removed in version 1.0.0. Downloads always resume when possible. If you want to force a new download, use `force_download=True`.\n",
      "  warnings.warn(\n",
      "Some weights of the model checkpoint at DeepPavlov/rubert-base-cased were not used when initializing BertForTokenClassification: ['cls.seq_relationship.bias', 'cls.seq_relationship.weight', 'cls.predictions.decoder.bias', 'cls.predictions.decoder.weight', 'cls.predictions.transform.dense.weight', 'cls.predictions.bias', 'cls.predictions.transform.dense.bias', 'cls.predictions.transform.LayerNorm.weight', 'cls.predictions.transform.LayerNorm.bias']\n",
      "- This IS expected if you are initializing BertForTokenClassification from the checkpoint of a model trained on another task or with another architecture (e.g. initializing a BertForSequenceClassification model from a BertForPreTraining model).\n",
      "- This IS NOT expected if you are initializing BertForTokenClassification from the checkpoint of a model that you expect to be exactly identical (initializing a BertForSequenceClassification model from a BertForSequenceClassification model).\n",
      "Some weights of BertForTokenClassification were not initialized from the model checkpoint at DeepPavlov/rubert-base-cased and are newly initialized: ['classifier.weight', 'classifier.bias']\n",
      "You should probably TRAIN this model on a down-stream task to be able to use it for predictions and inference.\n"
     ]
    }
   ],
   "source": [
    "from deeppavlov import build_model\n",
    "\n",
    "ner_model = build_model(model_config, download=False)"
   ]
  },
  {
   "cell_type": "code",
   "execution_count": 19,
   "id": "e346a202",
   "metadata": {},
   "outputs": [
    {
     "data": {
      "text/plain": [
       "[[['artfruit', 'нектари']], [['S-BRAND', 'S-TYPE']]]"
      ]
     },
     "execution_count": 19,
     "metadata": {},
     "output_type": "execute_result"
    }
   ],
   "source": [
    "ner_model(['artfruit нектари'])"
   ]
  },
  {
   "cell_type": "code",
   "execution_count": null,
   "id": "3d4d8fee",
   "metadata": {},
   "outputs": [],
   "source": []
  }
 ],
 "metadata": {
  "kernelspec": {
   "display_name": "dp310",
   "language": "python",
   "name": "python3"
  },
  "language_info": {
   "codemirror_mode": {
    "name": "ipython",
    "version": 3
   },
   "file_extension": ".py",
   "mimetype": "text/x-python",
   "name": "python",
   "nbconvert_exporter": "python",
   "pygments_lexer": "ipython3",
   "version": "3.10.18"
  }
 },
 "nbformat": 4,
 "nbformat_minor": 5
}
