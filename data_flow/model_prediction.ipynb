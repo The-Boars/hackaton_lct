{
 "cells": [
  {
   "cell_type": "code",
   "execution_count": 1,
   "id": "85d10f66",
   "metadata": {},
   "outputs": [
    {
     "name": "stdout",
     "output_type": "stream",
     "text": [
      "~/.deeppavlov/downloads/collection3/\n"
     ]
    },
    {
     "name": "stderr",
     "output_type": "stream",
     "text": [
      "c:\\Users\\lexan\\miniconda3\\envs\\dp310\\lib\\site-packages\\tqdm\\auto.py:22: TqdmWarning: IProgress not found. Please update jupyter and ipywidgets. See https://ipywidgets.readthedocs.io/en/stable/user_install.html\n",
      "  from .autonotebook import tqdm as notebook_tqdm\n",
      "c:\\Users\\lexan\\miniconda3\\envs\\dp310\\lib\\site-packages\\huggingface_hub\\file_download.py:945: FutureWarning: `resume_download` is deprecated and will be removed in version 1.0.0. Downloads always resume when possible. If you want to force a new download, use `force_download=True`.\n",
      "  warnings.warn(\n",
      "Some weights of the model checkpoint at DeepPavlov/rubert-base-cased were not used when initializing BertForTokenClassification: ['cls.predictions.transform.dense.weight', 'cls.seq_relationship.bias', 'cls.predictions.decoder.weight', 'cls.predictions.bias', 'cls.predictions.transform.dense.bias', 'cls.predictions.decoder.bias', 'cls.seq_relationship.weight', 'cls.predictions.transform.LayerNorm.bias', 'cls.predictions.transform.LayerNorm.weight']\n",
      "- This IS expected if you are initializing BertForTokenClassification from the checkpoint of a model trained on another task or with another architecture (e.g. initializing a BertForSequenceClassification model from a BertForPreTraining model).\n",
      "- This IS NOT expected if you are initializing BertForTokenClassification from the checkpoint of a model that you expect to be exactly identical (initializing a BertForSequenceClassification model from a BertForSequenceClassification model).\n",
      "Some weights of BertForTokenClassification were not initialized from the model checkpoint at DeepPavlov/rubert-base-cased and are newly initialized: ['classifier.bias', 'classifier.weight']\n",
      "You should probably TRAIN this model on a down-stream task to be able to use it for predictions and inference.\n"
     ]
    }
   ],
   "source": [
    "from deeppavlov import train_model, build_model \n",
    "from deeppavlov.core.commands.utils import parse_config\n",
    "\n",
    "PROJECT_DIR = '..'\n",
    "\n",
    "model_config = parse_config('ner_collection3_bert')\n",
    "\n",
    "# dataset that the model was trained on\n",
    "print(model_config['dataset_reader']['data_path'])\n",
    "\n",
    "model_config['dataset_reader']['data_path'] = PROJECT_DIR + '/datasets/conll/'\n",
    "\n",
    "del model_config['metadata']['download']\n",
    "\n",
    "model_config['metadata']['variables']['MODEL_PATH'] = PROJECT_DIR + '/models'\n",
    "\n",
    "model_config['chainer']['pipe'][1]['save_path'] = PROJECT_DIR + '/models/tag.dict'\n",
    "model_config['chainer']['pipe'][1]['load_path'] = PROJECT_DIR + '/models/tag.dict'\n",
    "\n",
    "model_config['chainer']['pipe'][2]['save_path'] = PROJECT_DIR + '/models'\n",
    "model_config['chainer']['pipe'][2]['load_path'] = PROJECT_DIR + '/models'\n",
    "\n",
    "ner_model = build_model(model_config, download=False)"
   ]
  },
  {
   "cell_type": "code",
   "execution_count": 11,
   "id": "7f26511a",
   "metadata": {},
   "outputs": [
    {
     "data": {
      "text/plain": [
       "[[['стаканы', 'рюм']], [['B-TYPE', 'E-TYPE']]]"
      ]
     },
     "execution_count": 11,
     "metadata": {},
     "output_type": "execute_result"
    }
   ],
   "source": [
    "ner_model(['стаканы рюм'])"
   ]
  },
  {
   "cell_type": "code",
   "execution_count": 2,
   "id": "a3e781de",
   "metadata": {},
   "outputs": [
    {
     "name": "stdout",
     "output_type": "stream",
     "text": [
      "Saved predictions to C:\\Users\\lexan\\OneDrive\\Documents\\hackaton_lct\\datasets\\submission.csv\n"
     ]
    }
   ],
   "source": [
    "import re\n",
    "from pathlib import Path\n",
    "\n",
    "import pandas as pd\n",
    "\n",
    "SUBMISSION_PATH = Path(PROJECT_DIR) / 'datasets' / 'submission_raw.csv'\n",
    "OUTPUT_PATH = Path(PROJECT_DIR) / 'datasets' / 'submission.csv'\n",
    "\n",
    "TOKEN_PATTERN = re.compile(r'\\S+')\n",
    "\n",
    "def normalize_tag(tag: str) -> str:\n",
    "    if not isinstance(tag, str):\n",
    "        return 'O'\n",
    "    tag = tag.strip()\n",
    "    if not tag:\n",
    "        return 'O'\n",
    "    upper_tag = tag.upper()\n",
    "    if upper_tag == 'O':\n",
    "        return 'O'\n",
    "    prefix = upper_tag[:2]\n",
    "    if prefix == 'S-':\n",
    "        return 'B-' + tag[2:]\n",
    "    if prefix == 'E-':\n",
    "        return 'I-' + tag[2:]\n",
    "    if prefix in ('B-', 'I-'):\n",
    "        return prefix + tag[2:]\n",
    "    return tag\n",
    "\n",
    "def is_tag(value) -> bool:\n",
    "    if not isinstance(value, str):\n",
    "        return False\n",
    "    candidate = value.strip().upper()\n",
    "    if not candidate:\n",
    "        return False\n",
    "    if candidate == 'O':\n",
    "        return True\n",
    "    return len(candidate) >= 3 and candidate[1] == '-' and candidate[0] in {'B', 'I', 'S', 'E'}\n",
    "\n",
    "def looks_like_sequence(seq, predicate) -> bool:\n",
    "    if not isinstance(seq, (list, tuple)) or not seq:\n",
    "        return False\n",
    "    return all(predicate(item) for item in seq)\n",
    "\n",
    "def looks_like_tag_sequence(seq) -> bool:\n",
    "    return looks_like_sequence(seq, is_tag)\n",
    "\n",
    "def looks_like_token_sequence(seq) -> bool:\n",
    "    return looks_like_sequence(seq, lambda item: isinstance(item, str) and not is_tag(item))\n",
    "\n",
    "def extract_tokens_and_tags(prediction) -> tuple[list[str], list[str]]:\n",
    "    if isinstance(prediction, tuple):\n",
    "        prediction = list(prediction)\n",
    "    if not isinstance(prediction, list):\n",
    "        raise ValueError(f'Unexpected model output type: {type(prediction)}')\n",
    "    tokens: list[str] = []\n",
    "    tags: list[str] = []\n",
    "\n",
    "    def traverse(node):\n",
    "        nonlocal tokens, tags\n",
    "        if isinstance(node, tuple):\n",
    "            node = list(node)\n",
    "        if isinstance(node, list):\n",
    "            if not tokens and looks_like_token_sequence(node):\n",
    "                tokens = [str(item) for item in node]\n",
    "            if not tags and looks_like_tag_sequence(node):\n",
    "                tags = [normalize_tag(str(item)) for item in node]\n",
    "            if tokens and tags:\n",
    "                return\n",
    "            for child in node:\n",
    "                traverse(child)\n",
    "\n",
    "    traverse(prediction)\n",
    "    if not tags:\n",
    "        raise ValueError(f'Unable to extract tag sequence from model output: {prediction}')\n",
    "    return tokens, tags\n",
    "\n",
    "def compute_annotation(text: str, tokens: list[str], tags: list[str]) -> list[tuple[int, int, str]]:\n",
    "    if not tags:\n",
    "        return []\n",
    "    if tokens:\n",
    "        effective_len = min(len(tokens), len(tags))\n",
    "        tokens = tokens[:effective_len]\n",
    "        tags = tags[:effective_len]\n",
    "    annotation: list[tuple[int, int, str]] = []\n",
    "    if tokens:\n",
    "        cursor = 0\n",
    "        fallback = False\n",
    "        for token, tag in zip(tokens, tags):\n",
    "            token = token or ''\n",
    "            if not tag:\n",
    "                cursor += len(token)\n",
    "                continue\n",
    "            start = text.find(token, cursor)\n",
    "            if start == -1:\n",
    "                fallback = True\n",
    "                break\n",
    "            end = start + len(token)\n",
    "            annotation.append((start, end, tag))\n",
    "            cursor = end\n",
    "        if fallback:\n",
    "            annotation = []\n",
    "    if not annotation:\n",
    "        matches = list(TOKEN_PATTERN.finditer(text))\n",
    "        effective_len = min(len(matches), len(tags))\n",
    "        for match, tag in zip(matches[:effective_len], tags[:effective_len]):\n",
    "            if not tag:\n",
    "                continue\n",
    "            annotation.append((match.start(), match.end(), tag))\n",
    "    return annotation\n",
    "\n",
    "submission_df = pd.read_csv(SUBMISSION_PATH, sep=';', encoding='utf-8')\n",
    "annotations = []\n",
    "for sample in submission_df['sample']:\n",
    "    text = '' if pd.isna(sample) else str(sample)\n",
    "    model_output = ner_model([text])\n",
    "    tokens, tags = extract_tokens_and_tags(model_output)\n",
    "    annotations.append(compute_annotation(text, tokens, tags))\n",
    "\n",
    "submission_df['annotation'] = [str(ann) for ann in annotations]\n",
    "submission_df[['sample', 'annotation']].to_csv(OUTPUT_PATH, sep=';', encoding='utf-8', index=False)\n",
    "print(f'Saved predictions to {OUTPUT_PATH.resolve()}')\n",
    "\n"
   ]
  },
  {
   "cell_type": "code",
   "execution_count": 7,
   "id": "891117ef",
   "metadata": {},
   "outputs": [],
   "source": [
    "import pandas as pd\n",
    "\n",
    "submission = pd.read_csv('../datasets/submission.csv', sep=';')\n"
   ]
  },
  {
   "cell_type": "code",
   "execution_count": null,
   "id": "71d90309",
   "metadata": {},
   "outputs": [
    {
     "data": {
      "text/plain": [
       "\"\\nНапиши код, который пройдется по всем столбца 'sample' в submission, применит ner_model к каждому из них.\\nНа выходе из ner_model получается список строк с типами сущностей. Нужно преобразовать это в новый формат.\\nВо-первых, нужно заменить все S- на B-, а все E- на I-.\\nВо-вторых, нужно сделать аннотацию формата [(индекс начала сущности, индекс конца сущности, строка типа),] йогурты питьевы\\t[(0, 7, 'B-TYPE'), (8, 15, 'I-TYPE')]\\n\""
      ]
     },
     "execution_count": 9,
     "metadata": {},
     "output_type": "execute_result"
    }
   ],
   "source": [
    "'''\n",
    "Напиши код, который пройдется по всем столбца 'sample' в submission, применит ner_model к каждому из них.\n",
    "На выходе из ner_model получается список строк с типами сущностей. Нужно преобразовать это в новый формат.\n",
    "Во-первых, нужно заменить все S- на B-, а все E- на I-.\n",
    "Во-вторых, нужно сделать аннотацию формата [(индекс начала сущности, индекс конца сущности, строка типа),] \n",
    "Например, для строки \"йогурты питьевы\" аннотация будет [(0, 7, 'B-TYPE'), (8, 15, 'I-TYPE')], индексы начала и конца сущности работают как срезы в питоне - включительно-исключительно.\n",
    "То есть, 0 индекс это буква \"й\", 7 индекс - это пробел после слова \"йогурты\", но пробел в саму сущность не входит.\n",
    "В новый файл submission_final.csv нужно в том же порядке записывать столбцы sample и annotation (аннотации уже в новом формате)\n",
    "'''"
   ]
  }
 ],
 "metadata": {
  "kernelspec": {
   "display_name": "dp310",
   "language": "python",
   "name": "python3"
  },
  "language_info": {
   "codemirror_mode": {
    "name": "ipython",
    "version": 3
   },
   "file_extension": ".py",
   "mimetype": "text/x-python",
   "name": "python",
   "nbconvert_exporter": "python",
   "pygments_lexer": "ipython3",
   "version": "3.10.18"
  }
 },
 "nbformat": 4,
 "nbformat_minor": 5
}
