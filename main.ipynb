{
 "cells": [
  {
   "cell_type": "code",
   "id": "cd93e80c",
   "metadata": {
    "ExecuteTime": {
     "end_time": "2025-09-26T19:13:21.610427Z",
     "start_time": "2025-09-26T19:13:20.773593Z"
    }
   },
   "source": [
    "from app.model import ModelPredictor\n",
    "\n",
    "predictor = ModelPredictor(project_dir='./', model_name='model-78')"
   ],
   "outputs": [
    {
     "ename": "ModuleNotFoundError",
     "evalue": "No module named 'torchcrf'",
     "output_type": "error",
     "traceback": [
      "\u001B[1;31m---------------------------------------------------------------------------\u001B[0m",
      "\u001B[1;31mModuleNotFoundError\u001B[0m                       Traceback (most recent call last)",
      "Cell \u001B[1;32mIn[5], line 3\u001B[0m\n\u001B[0;32m      1\u001B[0m \u001B[38;5;28;01mfrom\u001B[39;00m\u001B[38;5;250m \u001B[39m\u001B[38;5;21;01mapp\u001B[39;00m\u001B[38;5;21;01m.\u001B[39;00m\u001B[38;5;21;01mmodel\u001B[39;00m\u001B[38;5;250m \u001B[39m\u001B[38;5;28;01mimport\u001B[39;00m ModelPredictor\n\u001B[1;32m----> 3\u001B[0m predictor \u001B[38;5;241m=\u001B[39m \u001B[43mModelPredictor\u001B[49m\u001B[43m(\u001B[49m\u001B[43mproject_dir\u001B[49m\u001B[38;5;241;43m=\u001B[39;49m\u001B[38;5;124;43m'\u001B[39;49m\u001B[38;5;124;43m./\u001B[39;49m\u001B[38;5;124;43m'\u001B[39;49m\u001B[43m,\u001B[49m\u001B[43m \u001B[49m\u001B[43mmodel_name\u001B[49m\u001B[38;5;241;43m=\u001B[39;49m\u001B[38;5;124;43m'\u001B[39;49m\u001B[38;5;124;43mmodel-78\u001B[39;49m\u001B[38;5;124;43m'\u001B[39;49m\u001B[43m)\u001B[49m\n",
      "File \u001B[1;32m~\\PycharmProjects\\PythonProject\\hackaton-lct\\app\\model.py:18\u001B[0m, in \u001B[0;36mModelPredictor.__init__\u001B[1;34m(self, project_dir, model_name)\u001B[0m\n\u001B[0;32m     15\u001B[0m model_config \u001B[38;5;241m=\u001B[39m parse_config(\u001B[38;5;124m'\u001B[39m\u001B[38;5;124mner_collection3_bert\u001B[39m\u001B[38;5;124m'\u001B[39m)\n\u001B[0;32m     16\u001B[0m model_config \u001B[38;5;241m=\u001B[39m \u001B[38;5;28mself\u001B[39m\u001B[38;5;241m.\u001B[39m__config_change__(model_config)\n\u001B[1;32m---> 18\u001B[0m \u001B[38;5;28mself\u001B[39m\u001B[38;5;241m.\u001B[39mner_model \u001B[38;5;241m=\u001B[39m \u001B[43mbuild_model\u001B[49m\u001B[43m(\u001B[49m\u001B[43mmodel_config\u001B[49m\u001B[43m,\u001B[49m\u001B[43m \u001B[49m\u001B[43mdownload\u001B[49m\u001B[38;5;241;43m=\u001B[39;49m\u001B[38;5;28;43;01mFalse\u001B[39;49;00m\u001B[43m)\u001B[49m\n",
      "File \u001B[1;32m~\\miniconda3\\envs\\PythonProject\\lib\\site-packages\\deeppavlov\\core\\commands\\infer.py:55\u001B[0m, in \u001B[0;36mbuild_model\u001B[1;34m(config, mode, load_trained, install, download)\u001B[0m\n\u001B[0;32m     51\u001B[0m     \u001B[38;5;28;01mexcept\u001B[39;00m \u001B[38;5;167;01mKeyError\u001B[39;00m:\n\u001B[0;32m     52\u001B[0m         log\u001B[38;5;241m.\u001B[39mwarning(\u001B[38;5;124m'\u001B[39m\u001B[38;5;124mNo \u001B[39m\u001B[38;5;124m\"\u001B[39m\u001B[38;5;124msave_path\u001B[39m\u001B[38;5;124m\"\u001B[39m\u001B[38;5;124m parameter for the \u001B[39m\u001B[38;5;132;01m{}\u001B[39;00m\u001B[38;5;124m component, so \u001B[39m\u001B[38;5;124m\"\u001B[39m\u001B[38;5;124mload_path\u001B[39m\u001B[38;5;124m\"\u001B[39m\u001B[38;5;124m will not be renewed\u001B[39m\u001B[38;5;124m'\u001B[39m\n\u001B[0;32m     53\u001B[0m                     \u001B[38;5;241m.\u001B[39mformat(component_config\u001B[38;5;241m.\u001B[39mget(\u001B[38;5;124m'\u001B[39m\u001B[38;5;124mclass_name\u001B[39m\u001B[38;5;124m'\u001B[39m, component_config\u001B[38;5;241m.\u001B[39mget(\u001B[38;5;124m'\u001B[39m\u001B[38;5;124mref\u001B[39m\u001B[38;5;124m'\u001B[39m, \u001B[38;5;124m'\u001B[39m\u001B[38;5;124mUNKNOWN\u001B[39m\u001B[38;5;124m'\u001B[39m))))\n\u001B[1;32m---> 55\u001B[0m component \u001B[38;5;241m=\u001B[39m \u001B[43mfrom_params\u001B[49m\u001B[43m(\u001B[49m\u001B[43mcomponent_config\u001B[49m\u001B[43m,\u001B[49m\u001B[43m \u001B[49m\u001B[43mmode\u001B[49m\u001B[38;5;241;43m=\u001B[39;49m\u001B[43mmode\u001B[49m\u001B[43m)\u001B[49m\n\u001B[0;32m     57\u001B[0m \u001B[38;5;28;01mif\u001B[39;00m \u001B[38;5;124m'\u001B[39m\u001B[38;5;124mid\u001B[39m\u001B[38;5;124m'\u001B[39m \u001B[38;5;129;01min\u001B[39;00m component_config:\n\u001B[0;32m     58\u001B[0m     model\u001B[38;5;241m.\u001B[39m_components_dict[component_config[\u001B[38;5;124m'\u001B[39m\u001B[38;5;124mid\u001B[39m\u001B[38;5;124m'\u001B[39m]] \u001B[38;5;241m=\u001B[39m component\n",
      "File \u001B[1;32m~\\miniconda3\\envs\\PythonProject\\lib\\site-packages\\deeppavlov\\core\\common\\params.py:92\u001B[0m, in \u001B[0;36mfrom_params\u001B[1;34m(params, mode, **kwargs)\u001B[0m\n\u001B[0;32m     90\u001B[0m     log\u001B[38;5;241m.\u001B[39mexception(e)\n\u001B[0;32m     91\u001B[0m     \u001B[38;5;28;01mraise\u001B[39;00m e\n\u001B[1;32m---> 92\u001B[0m obj \u001B[38;5;241m=\u001B[39m \u001B[43mget_model\u001B[49m\u001B[43m(\u001B[49m\u001B[43mcls_name\u001B[49m\u001B[43m)\u001B[49m\n\u001B[0;32m     94\u001B[0m \u001B[38;5;28;01mif\u001B[39;00m inspect\u001B[38;5;241m.\u001B[39misclass(obj):\n\u001B[0;32m     95\u001B[0m     \u001B[38;5;66;03m# find the submodels params recursively\u001B[39;00m\n\u001B[0;32m     96\u001B[0m     config_params \u001B[38;5;241m=\u001B[39m {k: _init_param(v, mode) \u001B[38;5;28;01mfor\u001B[39;00m k, v \u001B[38;5;129;01min\u001B[39;00m config_params\u001B[38;5;241m.\u001B[39mitems()}\n",
      "File \u001B[1;32m~\\miniconda3\\envs\\PythonProject\\lib\\site-packages\\deeppavlov\\core\\common\\registry.py:74\u001B[0m, in \u001B[0;36mget_model\u001B[1;34m(name)\u001B[0m\n\u001B[0;32m     72\u001B[0m         \u001B[38;5;28;01mraise\u001B[39;00m ConfigError(\u001B[38;5;124m\"\u001B[39m\u001B[38;5;124mModel \u001B[39m\u001B[38;5;132;01m{}\u001B[39;00m\u001B[38;5;124m is not registered.\u001B[39m\u001B[38;5;124m\"\u001B[39m\u001B[38;5;241m.\u001B[39mformat(name))\n\u001B[0;32m     73\u001B[0m     \u001B[38;5;28;01mreturn\u001B[39;00m cls_from_str(name)\n\u001B[1;32m---> 74\u001B[0m \u001B[38;5;28;01mreturn\u001B[39;00m \u001B[43mcls_from_str\u001B[49m\u001B[43m(\u001B[49m\u001B[43m_REGISTRY\u001B[49m\u001B[43m[\u001B[49m\u001B[43mname\u001B[49m\u001B[43m]\u001B[49m\u001B[43m)\u001B[49m\n",
      "File \u001B[1;32m~\\miniconda3\\envs\\PythonProject\\lib\\site-packages\\deeppavlov\\core\\common\\registry.py:42\u001B[0m, in \u001B[0;36mcls_from_str\u001B[1;34m(name)\u001B[0m\n\u001B[0;32m     38\u001B[0m \u001B[38;5;28;01mexcept\u001B[39;00m \u001B[38;5;167;01mValueError\u001B[39;00m:\n\u001B[0;32m     39\u001B[0m     \u001B[38;5;28;01mraise\u001B[39;00m ConfigError(\u001B[38;5;124m'\u001B[39m\u001B[38;5;124mExpected class description in a `module.submodules:ClassName` form, but got `\u001B[39m\u001B[38;5;132;01m{}\u001B[39;00m\u001B[38;5;124m`\u001B[39m\u001B[38;5;124m'\u001B[39m\n\u001B[0;32m     40\u001B[0m                       \u001B[38;5;241m.\u001B[39mformat(name))\n\u001B[1;32m---> 42\u001B[0m \u001B[38;5;28;01mreturn\u001B[39;00m \u001B[38;5;28mgetattr\u001B[39m(\u001B[43mimportlib\u001B[49m\u001B[38;5;241;43m.\u001B[39;49m\u001B[43mimport_module\u001B[49m\u001B[43m(\u001B[49m\u001B[43mmodule_name\u001B[49m\u001B[43m)\u001B[49m, cls_name)\n",
      "File \u001B[1;32m~\\miniconda3\\envs\\PythonProject\\lib\\importlib\\__init__.py:126\u001B[0m, in \u001B[0;36mimport_module\u001B[1;34m(name, package)\u001B[0m\n\u001B[0;32m    124\u001B[0m             \u001B[38;5;28;01mbreak\u001B[39;00m\n\u001B[0;32m    125\u001B[0m         level \u001B[38;5;241m+\u001B[39m\u001B[38;5;241m=\u001B[39m \u001B[38;5;241m1\u001B[39m\n\u001B[1;32m--> 126\u001B[0m \u001B[38;5;28;01mreturn\u001B[39;00m \u001B[43m_bootstrap\u001B[49m\u001B[38;5;241;43m.\u001B[39;49m\u001B[43m_gcd_import\u001B[49m\u001B[43m(\u001B[49m\u001B[43mname\u001B[49m\u001B[43m[\u001B[49m\u001B[43mlevel\u001B[49m\u001B[43m:\u001B[49m\u001B[43m]\u001B[49m\u001B[43m,\u001B[49m\u001B[43m \u001B[49m\u001B[43mpackage\u001B[49m\u001B[43m,\u001B[49m\u001B[43m \u001B[49m\u001B[43mlevel\u001B[49m\u001B[43m)\u001B[49m\n",
      "File \u001B[1;32m<frozen importlib._bootstrap>:1050\u001B[0m, in \u001B[0;36m_gcd_import\u001B[1;34m(name, package, level)\u001B[0m\n",
      "File \u001B[1;32m<frozen importlib._bootstrap>:1027\u001B[0m, in \u001B[0;36m_find_and_load\u001B[1;34m(name, import_)\u001B[0m\n",
      "File \u001B[1;32m<frozen importlib._bootstrap>:1006\u001B[0m, in \u001B[0;36m_find_and_load_unlocked\u001B[1;34m(name, import_)\u001B[0m\n",
      "File \u001B[1;32m<frozen importlib._bootstrap>:688\u001B[0m, in \u001B[0;36m_load_unlocked\u001B[1;34m(spec)\u001B[0m\n",
      "File \u001B[1;32m<frozen importlib._bootstrap_external>:883\u001B[0m, in \u001B[0;36mexec_module\u001B[1;34m(self, module)\u001B[0m\n",
      "File \u001B[1;32m<frozen importlib._bootstrap>:241\u001B[0m, in \u001B[0;36m_call_with_frames_removed\u001B[1;34m(f, *args, **kwds)\u001B[0m\n",
      "File \u001B[1;32m~\\miniconda3\\envs\\PythonProject\\lib\\site-packages\\deeppavlov\\models\\torch_bert\\torch_transformers_sequence_tagger.py:27\u001B[0m\n\u001B[0;32m     25\u001B[0m \u001B[38;5;28;01mfrom\u001B[39;00m\u001B[38;5;250m \u001B[39m\u001B[38;5;21;01mdeeppavlov\u001B[39;00m\u001B[38;5;21;01m.\u001B[39;00m\u001B[38;5;21;01mcore\u001B[39;00m\u001B[38;5;21;01m.\u001B[39;00m\u001B[38;5;21;01mcommon\u001B[39;00m\u001B[38;5;21;01m.\u001B[39;00m\u001B[38;5;21;01mregistry\u001B[39;00m\u001B[38;5;250m \u001B[39m\u001B[38;5;28;01mimport\u001B[39;00m register\n\u001B[0;32m     26\u001B[0m \u001B[38;5;28;01mfrom\u001B[39;00m\u001B[38;5;250m \u001B[39m\u001B[38;5;21;01mdeeppavlov\u001B[39;00m\u001B[38;5;21;01m.\u001B[39;00m\u001B[38;5;21;01mcore\u001B[39;00m\u001B[38;5;21;01m.\u001B[39;00m\u001B[38;5;21;01mmodels\u001B[39;00m\u001B[38;5;21;01m.\u001B[39;00m\u001B[38;5;21;01mtorch_model\u001B[39;00m\u001B[38;5;250m \u001B[39m\u001B[38;5;28;01mimport\u001B[39;00m TorchModel\n\u001B[1;32m---> 27\u001B[0m \u001B[38;5;28;01mfrom\u001B[39;00m\u001B[38;5;250m \u001B[39m\u001B[38;5;21;01mdeeppavlov\u001B[39;00m\u001B[38;5;21;01m.\u001B[39;00m\u001B[38;5;21;01mmodels\u001B[39;00m\u001B[38;5;21;01m.\u001B[39;00m\u001B[38;5;21;01mtorch_bert\u001B[39;00m\u001B[38;5;21;01m.\u001B[39;00m\u001B[38;5;21;01mcrf\u001B[39;00m\u001B[38;5;250m \u001B[39m\u001B[38;5;28;01mimport\u001B[39;00m CRF\n\u001B[0;32m     29\u001B[0m log \u001B[38;5;241m=\u001B[39m getLogger(\u001B[38;5;18m__name__\u001B[39m)\n\u001B[0;32m     32\u001B[0m \u001B[38;5;28;01mdef\u001B[39;00m\u001B[38;5;250m \u001B[39m\u001B[38;5;21mtoken_from_subtoken\u001B[39m(units: torch\u001B[38;5;241m.\u001B[39mTensor, mask: torch\u001B[38;5;241m.\u001B[39mTensor) \u001B[38;5;241m-\u001B[39m\u001B[38;5;241m>\u001B[39m torch\u001B[38;5;241m.\u001B[39mTensor:\n",
      "File \u001B[1;32m~\\miniconda3\\envs\\PythonProject\\lib\\site-packages\\deeppavlov\\models\\torch_bert\\crf.py:4\u001B[0m\n\u001B[0;32m      2\u001B[0m \u001B[38;5;28;01mimport\u001B[39;00m\u001B[38;5;250m \u001B[39m\u001B[38;5;21;01mtorch\u001B[39;00m\n\u001B[0;32m      3\u001B[0m \u001B[38;5;28;01mfrom\u001B[39;00m\u001B[38;5;250m \u001B[39m\u001B[38;5;21;01mtorch\u001B[39;00m\u001B[38;5;250m \u001B[39m\u001B[38;5;28;01mimport\u001B[39;00m nn\n\u001B[1;32m----> 4\u001B[0m \u001B[38;5;28;01mfrom\u001B[39;00m\u001B[38;5;250m \u001B[39m\u001B[38;5;21;01mtorchcrf\u001B[39;00m\u001B[38;5;250m \u001B[39m\u001B[38;5;28;01mimport\u001B[39;00m CRF \u001B[38;5;28;01mas\u001B[39;00m CRFbase\n\u001B[0;32m      7\u001B[0m \u001B[38;5;28;01mclass\u001B[39;00m\u001B[38;5;250m \u001B[39m\u001B[38;5;21;01mCRF\u001B[39;00m(CRFbase):\n\u001B[0;32m      8\u001B[0m \u001B[38;5;250m    \u001B[39m\u001B[38;5;124;03m\"\"\"Class with Conditional Random Field from PyTorch-CRF library\u001B[39;00m\n\u001B[0;32m      9\u001B[0m \u001B[38;5;124;03m       with modified training function\u001B[39;00m\n\u001B[0;32m     10\u001B[0m \u001B[38;5;124;03m    \"\"\"\u001B[39;00m\n",
      "\u001B[1;31mModuleNotFoundError\u001B[0m: No module named 'torchcrf'"
     ]
    }
   ],
   "execution_count": 5
  },
  {
   "metadata": {
    "ExecuteTime": {
     "end_time": "2025-09-26T19:13:00.277192Z",
     "start_time": "2025-09-26T19:12:34.615941Z"
    }
   },
   "cell_type": "code",
   "source": "!python -m deeppavlov install ner_ontonotes_bert\n",
   "id": "7e11cc734e6d80d1",
   "outputs": [
    {
     "name": "stdout",
     "output_type": "stream",
     "text": [
      "Ignoring transformers: markers 'python_version < \"3.8\"' don't match your environment\n",
      "Requirement already satisfied: transformers==4.30.0 in c:\\users\\art20\\miniconda3\\envs\\pythonproject\\lib\\site-packages (4.30.0)\n",
      "Requirement already satisfied: filelock in c:\\users\\art20\\miniconda3\\envs\\pythonproject\\lib\\site-packages (from transformers==4.30.0) (3.9.1)\n",
      "Requirement already satisfied: huggingface-hub<1.0,>=0.14.1 in c:\\users\\art20\\miniconda3\\envs\\pythonproject\\lib\\site-packages (from transformers==4.30.0) (0.35.1)\n",
      "Requirement already satisfied: numpy>=1.17 in c:\\users\\art20\\miniconda3\\envs\\pythonproject\\lib\\site-packages (from transformers==4.30.0) (1.23.5)\n",
      "Requirement already satisfied: packaging>=20.0 in c:\\users\\art20\\miniconda3\\envs\\pythonproject\\lib\\site-packages (from transformers==4.30.0) (25.0)\n",
      "Requirement already satisfied: pyyaml>=5.1 in c:\\users\\art20\\miniconda3\\envs\\pythonproject\\lib\\site-packages (from transformers==4.30.0) (6.0.2)\n",
      "Requirement already satisfied: regex!=2019.12.17 in c:\\users\\art20\\miniconda3\\envs\\pythonproject\\lib\\site-packages (from transformers==4.30.0) (2025.9.18)\n",
      "Requirement already satisfied: requests in c:\\users\\art20\\miniconda3\\envs\\pythonproject\\lib\\site-packages (from transformers==4.30.0) (2.32.5)\n",
      "Requirement already satisfied: tokenizers!=0.11.3,<0.14,>=0.11.1 in c:\\users\\art20\\miniconda3\\envs\\pythonproject\\lib\\site-packages (from transformers==4.30.0) (0.13.3)\n",
      "Requirement already satisfied: safetensors>=0.3.1 in c:\\users\\art20\\miniconda3\\envs\\pythonproject\\lib\\site-packages (from transformers==4.30.0) (0.6.2)\n",
      "Requirement already satisfied: tqdm>=4.27 in c:\\users\\art20\\miniconda3\\envs\\pythonproject\\lib\\site-packages (from transformers==4.30.0) (4.64.1)\n",
      "Requirement already satisfied: fsspec>=2023.5.0 in c:\\users\\art20\\miniconda3\\envs\\pythonproject\\lib\\site-packages (from huggingface-hub<1.0,>=0.14.1->transformers==4.30.0) (2024.6.1)\n",
      "Requirement already satisfied: typing-extensions>=3.7.4.3 in c:\\users\\art20\\miniconda3\\envs\\pythonproject\\lib\\site-packages (from huggingface-hub<1.0,>=0.14.1->transformers==4.30.0) (4.15.0)\n",
      "Requirement already satisfied: colorama in c:\\users\\art20\\miniconda3\\envs\\pythonproject\\lib\\site-packages (from tqdm>=4.27->transformers==4.30.0) (0.4.6)\n",
      "Requirement already satisfied: charset_normalizer<4,>=2 in c:\\users\\art20\\miniconda3\\envs\\pythonproject\\lib\\site-packages (from requests->transformers==4.30.0) (3.3.2)\n",
      "Requirement already satisfied: idna<4,>=2.5 in c:\\users\\art20\\miniconda3\\envs\\pythonproject\\lib\\site-packages (from requests->transformers==4.30.0) (3.10)\n",
      "Requirement already satisfied: urllib3<3,>=1.21.1 in c:\\users\\art20\\miniconda3\\envs\\pythonproject\\lib\\site-packages (from requests->transformers==4.30.0) (2.5.0)\n",
      "Requirement already satisfied: certifi>=2017.4.17 in c:\\users\\art20\\miniconda3\\envs\\pythonproject\\lib\\site-packages (from requests->transformers==4.30.0) (2025.8.3)\n",
      "Requirement already satisfied: torch<1.14.0,>=1.6.0 in c:\\users\\art20\\miniconda3\\envs\\pythonproject\\lib\\site-packages (1.13.1)\n",
      "Requirement already satisfied: typing-extensions in c:\\users\\art20\\miniconda3\\envs\\pythonproject\\lib\\site-packages (from torch<1.14.0,>=1.6.0) (4.15.0)\n",
      "Requirement already satisfied: sentencepiece==0.2.0 in c:\\users\\art20\\miniconda3\\envs\\pythonproject\\lib\\site-packages (0.2.0)\n",
      "Requirement already satisfied: protobuf<=3.20 in c:\\users\\art20\\miniconda3\\envs\\pythonproject\\lib\\site-packages (3.20.0)\n",
      "Requirement already satisfied: pytorch-crf==0.7.* in c:\\users\\art20\\miniconda3\\envs\\pythonproject\\lib\\site-packages (0.7.2)\n"
     ]
    },
    {
     "name": "stderr",
     "output_type": "stream",
     "text": [
      "C:\\Users\\art20\\miniconda3\\envs\\PythonProject\\lib\\site-packages\\requests\\__init__.py:86: RequestsDependencyWarning: Unable to find acceptable character detection dependency (chardet or charset_normalizer).\n",
      "  warnings.warn(\n"
     ]
    }
   ],
   "execution_count": 4
  },
  {
   "cell_type": "code",
   "id": "de776b8c",
   "metadata": {},
   "source": [
    "predictor._postprocess('йогурты питьевы') # внутри она пустая пока, сделал на случай добавления постобработки в дальнейшем"
   ],
   "outputs": [],
   "execution_count": null
  },
  {
   "cell_type": "code",
   "id": "2b1f670c",
   "metadata": {},
   "source": [
    "predictor.get_response('йогурты питьевы')"
   ],
   "outputs": [],
   "execution_count": null
  }
 ],
 "metadata": {
  "kernelspec": {
   "display_name": "dp310",
   "language": "python",
   "name": "python3"
  },
  "language_info": {
   "codemirror_mode": {
    "name": "ipython",
    "version": 3
   },
   "file_extension": ".py",
   "mimetype": "text/x-python",
   "name": "python",
   "nbconvert_exporter": "python",
   "pygments_lexer": "ipython3",
   "version": "3.10.18"
  }
 },
 "nbformat": 4,
 "nbformat_minor": 5
}
